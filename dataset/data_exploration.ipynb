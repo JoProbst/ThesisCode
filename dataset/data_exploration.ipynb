{
 "cells": [
  {
   "cell_type": "code",
   "execution_count": 1,
   "metadata": {},
   "outputs": [
    {
     "name": "stderr",
     "output_type": "stream",
     "text": [
      "PyTerrier 0.9.2 has loaded Terrier 5.8 (built by craigm on 2023-11-01 18:05) and terrier-helper 0.0.8\n",
      "\n",
      "No etc/terrier.properties, using terrier.default.properties for bootstrap configuration.\n"
     ]
    }
   ],
   "source": [
    "import pandas as pd\n",
    "import pyterrier as pt\n",
    "import matplotlib.pyplot as plt\n",
    "import seaborn as sns\n",
    "# read csvs without header, column names are qid, sep, uuid, score\n",
    "if not pt.started():\n",
    "    pt.init()\n",
    "qrels = pt.io.read_qrels(\"assessments/qrels.txt\") # type: ignore\n",
    "qcred = pt.io.read_qrels(\"assessments/qcredibility.txt\") # type: ignore\n",
    "qread = pt.io.read_qrels(\"assessments/qreadability.txt\") # type: ignore\n"
   ]
  },
  {
   "cell_type": "code",
   "execution_count": 2,
   "metadata": {},
   "outputs": [],
   "source": [
    "import xml.etree.ElementTree as ET\n",
    "import pandas as pd\n",
    "\n",
    "def load_topics(path, clean_query=False):\n",
    "    with open(path) as f:\n",
    "        root = ET.fromstring(f.read())\n",
    "    topic_dict = {}\n",
    "    for topic in root.findall(\"topic\"):\n",
    "        topic_id = topic.findtext(\"id\")\n",
    "        topic_query = topic.findtext(\"query\")\n",
    "        if topic_id and topic_query:\n",
    "            topic_dict[topic_id] = topic_query.strip()\n",
    "    topics = pd.DataFrame(topic_dict.items(), columns=[\"qid\", \"query\"]) \n",
    "    if clean_query:\n",
    "        topics[\"query\"] = topics[\"query\"].str.lower().replace(r'\\W+', ' ', regex=True)\n",
    "    return topics"
   ]
  },
  {
   "cell_type": "code",
   "execution_count": 3,
   "metadata": {},
   "outputs": [],
   "source": [
    "plot_folder = \"plots/\""
   ]
  },
  {
   "cell_type": "code",
   "execution_count": 4,
   "metadata": {},
   "outputs": [],
   "source": [
    "all_queries_df = load_topics(\"./topics/topics.txt\", clean_query=False)"
   ]
  },
  {
   "cell_type": "code",
   "execution_count": 5,
   "metadata": {},
   "outputs": [
    {
     "ename": "ValueError",
     "evalue": "Could not interpret input 'is_question'",
     "output_type": "error",
     "traceback": [
      "\u001b[0;31m---------------------------------------------------------------------------\u001b[0m",
      "\u001b[0;31mValueError\u001b[0m                                Traceback (most recent call last)",
      "\u001b[1;32m/home/jonas/Documents/ThesisCode/dataset/data_exploration.ipynb Cell 5\u001b[0m line \u001b[0;36m8\n\u001b[1;32m      <a href='vscode-notebook-cell:/home/jonas/Documents/ThesisCode/dataset/data_exploration.ipynb#W4sZmlsZQ%3D%3D?line=4'>5</a>\u001b[0m plt\u001b[39m.\u001b[39mtitle(\u001b[39m\"\u001b[39m\u001b[39mNumber of Words per Query, Grouped by Query Type\u001b[39m\u001b[39m\"\u001b[39m, fontsize\u001b[39m=\u001b[39m\u001b[39m15\u001b[39m)\n\u001b[1;32m      <a href='vscode-notebook-cell:/home/jonas/Documents/ThesisCode/dataset/data_exploration.ipynb#W4sZmlsZQ%3D%3D?line=6'>7</a>\u001b[0m \u001b[39m# Create the boxplot with enhanced median line visibility\u001b[39;00m\n\u001b[0;32m----> <a href='vscode-notebook-cell:/home/jonas/Documents/ThesisCode/dataset/data_exploration.ipynb#W4sZmlsZQ%3D%3D?line=7'>8</a>\u001b[0m ax \u001b[39m=\u001b[39m sns\u001b[39m.\u001b[39;49mboxplot(x\u001b[39m=\u001b[39;49m\u001b[39m\"\u001b[39;49m\u001b[39mis_question\u001b[39;49m\u001b[39m\"\u001b[39;49m, y\u001b[39m=\u001b[39;49m\u001b[39m\"\u001b[39;49m\u001b[39mnum_words\u001b[39;49m\u001b[39m\"\u001b[39;49m, data\u001b[39m=\u001b[39;49mall_queries_df, \n\u001b[1;32m      <a href='vscode-notebook-cell:/home/jonas/Documents/ThesisCode/dataset/data_exploration.ipynb#W4sZmlsZQ%3D%3D?line=8'>9</a>\u001b[0m                  medianprops\u001b[39m=\u001b[39;49m\u001b[39mdict\u001b[39;49m(color\u001b[39m=\u001b[39;49m\u001b[39m\"\u001b[39;49m\u001b[39mred\u001b[39;49m\u001b[39m\"\u001b[39;49m, linewidth\u001b[39m=\u001b[39;49m\u001b[39m1\u001b[39;49m))\n\u001b[1;32m     <a href='vscode-notebook-cell:/home/jonas/Documents/ThesisCode/dataset/data_exploration.ipynb#W4sZmlsZQ%3D%3D?line=10'>11</a>\u001b[0m \u001b[39m# Create a custom legend for the median line\u001b[39;00m\n\u001b[1;32m     <a href='vscode-notebook-cell:/home/jonas/Documents/ThesisCode/dataset/data_exploration.ipynb#W4sZmlsZQ%3D%3D?line=11'>12</a>\u001b[0m \u001b[39mfrom\u001b[39;00m \u001b[39mmatplotlib\u001b[39;00m\u001b[39m.\u001b[39;00m\u001b[39mlines\u001b[39;00m \u001b[39mimport\u001b[39;00m Line2D\n",
      "File \u001b[0;32m~/miniconda3/envs/faiss/lib/python3.8/site-packages/seaborn/categorical.py:2231\u001b[0m, in \u001b[0;36mboxplot\u001b[0;34m(data, x, y, hue, order, hue_order, orient, color, palette, saturation, width, dodge, fliersize, linewidth, whis, ax, **kwargs)\u001b[0m\n\u001b[1;32m   2224\u001b[0m \u001b[39mdef\u001b[39;00m \u001b[39mboxplot\u001b[39m(\n\u001b[1;32m   2225\u001b[0m     data\u001b[39m=\u001b[39m\u001b[39mNone\u001b[39;00m, \u001b[39m*\u001b[39m, x\u001b[39m=\u001b[39m\u001b[39mNone\u001b[39;00m, y\u001b[39m=\u001b[39m\u001b[39mNone\u001b[39;00m, hue\u001b[39m=\u001b[39m\u001b[39mNone\u001b[39;00m, order\u001b[39m=\u001b[39m\u001b[39mNone\u001b[39;00m, hue_order\u001b[39m=\u001b[39m\u001b[39mNone\u001b[39;00m,\n\u001b[1;32m   2226\u001b[0m     orient\u001b[39m=\u001b[39m\u001b[39mNone\u001b[39;00m, color\u001b[39m=\u001b[39m\u001b[39mNone\u001b[39;00m, palette\u001b[39m=\u001b[39m\u001b[39mNone\u001b[39;00m, saturation\u001b[39m=\u001b[39m\u001b[39m.75\u001b[39m, width\u001b[39m=\u001b[39m\u001b[39m.8\u001b[39m,\n\u001b[1;32m   2227\u001b[0m     dodge\u001b[39m=\u001b[39m\u001b[39mTrue\u001b[39;00m, fliersize\u001b[39m=\u001b[39m\u001b[39m5\u001b[39m, linewidth\u001b[39m=\u001b[39m\u001b[39mNone\u001b[39;00m, whis\u001b[39m=\u001b[39m\u001b[39m1.5\u001b[39m, ax\u001b[39m=\u001b[39m\u001b[39mNone\u001b[39;00m,\n\u001b[1;32m   2228\u001b[0m     \u001b[39m*\u001b[39m\u001b[39m*\u001b[39mkwargs\n\u001b[1;32m   2229\u001b[0m ):\n\u001b[0;32m-> 2231\u001b[0m     plotter \u001b[39m=\u001b[39m _BoxPlotter(x, y, hue, data, order, hue_order,\n\u001b[1;32m   2232\u001b[0m                           orient, color, palette, saturation,\n\u001b[1;32m   2233\u001b[0m                           width, dodge, fliersize, linewidth)\n\u001b[1;32m   2235\u001b[0m     \u001b[39mif\u001b[39;00m ax \u001b[39mis\u001b[39;00m \u001b[39mNone\u001b[39;00m:\n\u001b[1;32m   2236\u001b[0m         ax \u001b[39m=\u001b[39m plt\u001b[39m.\u001b[39mgca()\n",
      "File \u001b[0;32m~/miniconda3/envs/faiss/lib/python3.8/site-packages/seaborn/categorical.py:785\u001b[0m, in \u001b[0;36m_BoxPlotter.__init__\u001b[0;34m(self, x, y, hue, data, order, hue_order, orient, color, palette, saturation, width, dodge, fliersize, linewidth)\u001b[0m\n\u001b[1;32m    781\u001b[0m \u001b[39mdef\u001b[39;00m \u001b[39m__init__\u001b[39m(\u001b[39mself\u001b[39m, x, y, hue, data, order, hue_order,\n\u001b[1;32m    782\u001b[0m              orient, color, palette, saturation,\n\u001b[1;32m    783\u001b[0m              width, dodge, fliersize, linewidth):\n\u001b[0;32m--> 785\u001b[0m     \u001b[39mself\u001b[39;49m\u001b[39m.\u001b[39;49mestablish_variables(x, y, hue, data, orient, order, hue_order)\n\u001b[1;32m    786\u001b[0m     \u001b[39mself\u001b[39m\u001b[39m.\u001b[39mestablish_colors(color, palette, saturation)\n\u001b[1;32m    788\u001b[0m     \u001b[39mself\u001b[39m\u001b[39m.\u001b[39mdodge \u001b[39m=\u001b[39m dodge\n",
      "File \u001b[0;32m~/miniconda3/envs/faiss/lib/python3.8/site-packages/seaborn/categorical.py:541\u001b[0m, in \u001b[0;36m_CategoricalPlotter.establish_variables\u001b[0;34m(self, x, y, hue, data, orient, order, hue_order, units)\u001b[0m\n\u001b[1;32m    539\u001b[0m     \u001b[39mif\u001b[39;00m \u001b[39misinstance\u001b[39m(var, \u001b[39mstr\u001b[39m):\n\u001b[1;32m    540\u001b[0m         err \u001b[39m=\u001b[39m \u001b[39mf\u001b[39m\u001b[39m\"\u001b[39m\u001b[39mCould not interpret input \u001b[39m\u001b[39m'\u001b[39m\u001b[39m{\u001b[39;00mvar\u001b[39m}\u001b[39;00m\u001b[39m'\u001b[39m\u001b[39m\"\u001b[39m\n\u001b[0;32m--> 541\u001b[0m         \u001b[39mraise\u001b[39;00m \u001b[39mValueError\u001b[39;00m(err)\n\u001b[1;32m    543\u001b[0m \u001b[39m# Figure out the plotting orientation\u001b[39;00m\n\u001b[1;32m    544\u001b[0m orient \u001b[39m=\u001b[39m infer_orient(\n\u001b[1;32m    545\u001b[0m     x, y, orient, require_numeric\u001b[39m=\u001b[39m\u001b[39mself\u001b[39m\u001b[39m.\u001b[39mrequire_numeric\n\u001b[1;32m    546\u001b[0m )\n",
      "\u001b[0;31mValueError\u001b[0m: Could not interpret input 'is_question'"
     ]
    },
    {
     "data": {
      "image/png": "[encoded data removed]",
      "text/plain": [
       "<Figure size 800x400 with 1 Axes>"
      ]
     },
     "metadata": {},
     "output_type": "display_data"
    }
   ],
   "source": []
  },
  {
   "cell_type": "code",
   "execution_count": null,
   "metadata": {},
   "outputs": [],
   "source": [
    "all_passages = pd.read_csv(\"Webdoc/data/txt_min_length_50.tsv\", sep=\"\\t\")"
   ]
  },
  {
   "cell_type": "code",
   "execution_count": null,
   "metadata": {},
   "outputs": [],
   "source": [
    "# Add word count column\n",
    "all_passages[\"num_words\"] = all_passages[\"text\"].str.split().str.len()"
   ]
  },
  {
   "cell_type": "code",
   "execution_count": null,
   "metadata": {},
   "outputs": [
    {
     "data": {
      "text/plain": [
       "count     6692.000000\n",
       "mean      2901.171698\n",
       "std       5062.994769\n",
       "min         18.000000\n",
       "25%        788.000000\n",
       "50%       1354.000000\n",
       "75%       2881.000000\n",
       "max      79920.000000\n",
       "Name: num_words, dtype: float64"
      ]
     },
     "execution_count": 181,
     "metadata": {},
     "output_type": "execute_result"
    }
   ],
   "source": [
    "all_passages[\"num_words\"].describe()"
   ]
  },
  {
   "cell_type": "code",
   "execution_count": null,
   "metadata": {},
   "outputs": [
    {
     "data": {
      "image/png": "[encoded data removed]",
      "text/plain": [
       "<Figure size 800x400 with 1 Axes>"
      ]
     },
     "metadata": {},
     "output_type": "display_data"
    }
   ],
   "source": [
    "# plot word count distribution\n",
    "# exclude outliers with more than N words\n",
    "plt.figure(figsize=(8, 4))\n",
    "plt.title(\"Number of Words per Document\", fontsize=15)\n",
    "sns.histplot(all_passages[all_passages[\"num_words\"] < 15000][\"num_words\"], bins=100)\n",
    "plt.xlabel(\"Number of Words\", fontsize=12)\n",
    "plt.ylabel(\"Number of Documents\", fontsize=12)\n",
    "plt.savefig(plot_folder + \"num_words_per_passage.png\", bbox_inches='tight', dpi=300)\n",
    "plt.show()\n"
   ]
  },
  {
   "cell_type": "code",
   "execution_count": null,
   "metadata": {},
   "outputs": [
    {
     "data": {
      "text/plain": [
       "0.017931858936043037"
      ]
     },
     "execution_count": 205,
     "metadata": {},
     "output_type": "execute_result"
    }
   ],
   "source": [
    "# How many outlies are there?\n",
    "all_passages[all_passages[\"num_words\"] > 15000].shape[0]/all_passages.shape[0]\n"
   ]
  },
  {
   "cell_type": "code",
   "execution_count": null,
   "metadata": {},
   "outputs": [],
   "source": [
    "# drop all qrels, qcred, qread that are not in all_passages docid\n",
    "qrels = qrels[qrels[\"docno\"].isin(all_passages[\"docid\"])]\n",
    "qcred = qcred[qcred[\"docno\"].isin(all_passages[\"docid\"])]\n",
    "qread = qread[qread[\"docno\"].isin(all_passages[\"docid\"])]"
   ]
  },
  {
   "cell_type": "code",
   "execution_count": null,
   "metadata": {},
   "outputs": [],
   "source": [
    "# merge qrels, qcred, qread \n",
    "qrels_cred = pd.merge(qrels, qcred, on=[\"qid\", \"docno\"], suffixes=(\"_rel\", \"_cred\"))\n",
    "qrels_cred_read = pd.merge(qrels_cred, qread, on=[\"qid\", \"docno\"])\n",
    "# rename columns\n",
    "qrels_cred_read.columns = [\"qid\", \"docno\", \"rel\", \"cred\", \"read\"]\n",
    "qrels_cred_read.to_csv(\"assessments/qrels_cred_read.txt\", sep=\" \", index=False)"
   ]
  },
  {
   "cell_type": "code",
   "execution_count": null,
   "metadata": {},
   "outputs": [
    {
     "data": {
      "text/html": [
       "<div>\n",
       "<style scoped>\n",
       "    .dataframe tbody tr th:only-of-type {\n",
       "        vertical-align: middle;\n",
       "    }\n",
       "\n",
       "    .dataframe tbody tr th {\n",
       "        vertical-align: top;\n",
       "    }\n",
       "\n",
       "    .dataframe thead th {\n",
       "        text-align: right;\n",
       "    }\n",
       "</style>\n",
       "<table border=\"1\" class=\"dataframe\">\n",
       "  <thead>\n",
       "    <tr style=\"text-align: right;\">\n",
       "      <th></th>\n",
       "      <th>rel</th>\n",
       "      <th>cred</th>\n",
       "      <th>read</th>\n",
       "    </tr>\n",
       "  </thead>\n",
       "  <tbody>\n",
       "    <tr>\n",
       "      <th>count</th>\n",
       "      <td>8902.000000</td>\n",
       "      <td>8902.000000</td>\n",
       "      <td>8902.000000</td>\n",
       "    </tr>\n",
       "    <tr>\n",
       "      <th>mean</th>\n",
       "      <td>0.767693</td>\n",
       "      <td>1.543698</td>\n",
       "      <td>1.396652</td>\n",
       "    </tr>\n",
       "    <tr>\n",
       "      <th>std</th>\n",
       "      <td>0.813850</td>\n",
       "      <td>0.733773</td>\n",
       "      <td>0.712324</td>\n",
       "    </tr>\n",
       "    <tr>\n",
       "      <th>min</th>\n",
       "      <td>0.000000</td>\n",
       "      <td>0.000000</td>\n",
       "      <td>0.000000</td>\n",
       "    </tr>\n",
       "    <tr>\n",
       "      <th>25%</th>\n",
       "      <td>0.000000</td>\n",
       "      <td>1.000000</td>\n",
       "      <td>1.000000</td>\n",
       "    </tr>\n",
       "    <tr>\n",
       "      <th>50%</th>\n",
       "      <td>1.000000</td>\n",
       "      <td>2.000000</td>\n",
       "      <td>2.000000</td>\n",
       "    </tr>\n",
       "    <tr>\n",
       "      <th>75%</th>\n",
       "      <td>1.000000</td>\n",
       "      <td>2.000000</td>\n",
       "      <td>2.000000</td>\n",
       "    </tr>\n",
       "    <tr>\n",
       "      <th>max</th>\n",
       "      <td>2.000000</td>\n",
       "      <td>3.000000</td>\n",
       "      <td>2.000000</td>\n",
       "    </tr>\n",
       "  </tbody>\n",
       "</table>\n",
       "</div>"
      ],
      "text/plain": [
       "               rel         cred         read\n",
       "count  8902.000000  8902.000000  8902.000000\n",
       "mean      0.767693     1.543698     1.396652\n",
       "std       0.813850     0.733773     0.712324\n",
       "min       0.000000     0.000000     0.000000\n",
       "25%       0.000000     1.000000     1.000000\n",
       "50%       1.000000     2.000000     2.000000\n",
       "75%       1.000000     2.000000     2.000000\n",
       "max       2.000000     3.000000     2.000000"
      ]
     },
     "execution_count": 244,
     "metadata": {},
     "output_type": "execute_result"
    }
   ],
   "source": [
    "qrels_cred_read.describe()"
   ]
  },
  {
   "cell_type": "code",
   "execution_count": null,
   "metadata": {},
   "outputs": [
    {
     "data": {
      "image/png": "[encoded data removed]",
      "text/plain": [
       "<Figure size 800x400 with 2 Axes>"
      ]
     },
     "metadata": {},
     "output_type": "display_data"
    }
   ],
   "source": [
    "# Correlation Heatmap between Relevance, Credibility and Readability\n",
    "plt.figure(figsize=(8, 4))\n",
    "plt.title(\"Correlation Heatmap between Relevance, Credibility and Readability\", fontsize=15)\n",
    "sns.heatmap(qrels_cred_read[[\"rel\", \"cred\", \"read\"]].corr(), annot=True, cmap=\"Blues\")\n",
    "plt.savefig(plot_folder + \"correlation_heatmap.png\", bbox_inches='tight', dpi=300)\n",
    "plt.show()"
   ]
  },
  {
   "cell_type": "code",
   "execution_count": null,
   "metadata": {},
   "outputs": [
    {
     "data": {
      "text/html": [
       "<div>\n",
       "<style scoped>\n",
       "    .dataframe tbody tr th:only-of-type {\n",
       "        vertical-align: middle;\n",
       "    }\n",
       "\n",
       "    .dataframe tbody tr th {\n",
       "        vertical-align: top;\n",
       "    }\n",
       "\n",
       "    .dataframe thead th {\n",
       "        text-align: right;\n",
       "    }\n",
       "</style>\n",
       "<table border=\"1\" class=\"dataframe\">\n",
       "  <thead>\n",
       "    <tr style=\"text-align: right;\">\n",
       "      <th></th>\n",
       "      <th>qid</th>\n",
       "      <th>docno</th>\n",
       "      <th>rel</th>\n",
       "      <th>cred</th>\n",
       "      <th>read</th>\n",
       "      <th>num_docs</th>\n",
       "      <th>avg_rel</th>\n",
       "      <th>avg_cred</th>\n",
       "      <th>avg_read</th>\n",
       "    </tr>\n",
       "  </thead>\n",
       "  <tbody>\n",
       "    <tr>\n",
       "      <th>0</th>\n",
       "      <td>1</td>\n",
       "      <td>a6195d99-f7d7-43ec-907c-435cb7a62ee7</td>\n",
       "      <td>2</td>\n",
       "      <td>2</td>\n",
       "      <td>2</td>\n",
       "      <td>244</td>\n",
       "      <td>1.065574</td>\n",
       "      <td>1.17623</td>\n",
       "      <td>1.586066</td>\n",
       "    </tr>\n",
       "    <tr>\n",
       "      <th>1</th>\n",
       "      <td>1</td>\n",
       "      <td>80fd9af1-c9b6-4d82-b62a-fe16d5b9d76f</td>\n",
       "      <td>1</td>\n",
       "      <td>1</td>\n",
       "      <td>1</td>\n",
       "      <td>244</td>\n",
       "      <td>1.065574</td>\n",
       "      <td>1.17623</td>\n",
       "      <td>1.586066</td>\n",
       "    </tr>\n",
       "    <tr>\n",
       "      <th>2</th>\n",
       "      <td>1</td>\n",
       "      <td>4a8c5d85-b2d0-43bc-83f4-c1acfe0b3481</td>\n",
       "      <td>2</td>\n",
       "      <td>2</td>\n",
       "      <td>2</td>\n",
       "      <td>244</td>\n",
       "      <td>1.065574</td>\n",
       "      <td>1.17623</td>\n",
       "      <td>1.586066</td>\n",
       "    </tr>\n",
       "    <tr>\n",
       "      <th>3</th>\n",
       "      <td>1</td>\n",
       "      <td>22990a4b-6a9f-4e00-9e72-aef0fbee202b</td>\n",
       "      <td>0</td>\n",
       "      <td>2</td>\n",
       "      <td>2</td>\n",
       "      <td>244</td>\n",
       "      <td>1.065574</td>\n",
       "      <td>1.17623</td>\n",
       "      <td>1.586066</td>\n",
       "    </tr>\n",
       "    <tr>\n",
       "      <th>4</th>\n",
       "      <td>1</td>\n",
       "      <td>fd6ddab2-e4d9-4151-9972-256f5be6eb21</td>\n",
       "      <td>1</td>\n",
       "      <td>2</td>\n",
       "      <td>2</td>\n",
       "      <td>244</td>\n",
       "      <td>1.065574</td>\n",
       "      <td>1.17623</td>\n",
       "      <td>1.586066</td>\n",
       "    </tr>\n",
       "  </tbody>\n",
       "</table>\n",
       "</div>"
      ],
      "text/plain": [
       "  qid                                 docno  rel  cred  read  num_docs  \\\n",
       "0   1  a6195d99-f7d7-43ec-907c-435cb7a62ee7    2     2     2       244   \n",
       "1   1  80fd9af1-c9b6-4d82-b62a-fe16d5b9d76f    1     1     1       244   \n",
       "2   1  4a8c5d85-b2d0-43bc-83f4-c1acfe0b3481    2     2     2       244   \n",
       "3   1  22990a4b-6a9f-4e00-9e72-aef0fbee202b    0     2     2       244   \n",
       "4   1  fd6ddab2-e4d9-4151-9972-256f5be6eb21    1     2     2       244   \n",
       "\n",
       "    avg_rel  avg_cred  avg_read  \n",
       "0  1.065574   1.17623  1.586066  \n",
       "1  1.065574   1.17623  1.586066  \n",
       "2  1.065574   1.17623  1.586066  \n",
       "3  1.065574   1.17623  1.586066  \n",
       "4  1.065574   1.17623  1.586066  "
      ]
     },
     "execution_count": 206,
     "metadata": {},
     "output_type": "execute_result"
    }
   ],
   "source": [
    "# for all qids, calculate the average rel, cred, read, add new column with number of docs per qid\n",
    "\n",
    "qrels_cred_read[\"num_docs\"] = qrels_cred_read.groupby(\"qid\")[\"qid\"].transform(\"count\")\n",
    "qrels_cred_read[\"avg_rel\"] = qrels_cred_read.groupby(\"qid\")[\"rel\"].transform(\"mean\")\n",
    "qrels_cred_read[\"avg_cred\"] = qrels_cred_read.groupby(\"qid\")[\"cred\"].transform(\"mean\")\n",
    "qrels_cred_read[\"avg_read\"] = qrels_cred_read.groupby(\"qid\")[\"read\"].transform(\"mean\")\n",
    "\n",
    "qrels_cred_read.head()"
   ]
  },
  {
   "cell_type": "code",
   "execution_count": null,
   "metadata": {},
   "outputs": [
    {
     "data": {
      "text/html": [
       "<div>\n",
       "<style scoped>\n",
       "    .dataframe tbody tr th:only-of-type {\n",
       "        vertical-align: middle;\n",
       "    }\n",
       "\n",
       "    .dataframe tbody tr th {\n",
       "        vertical-align: top;\n",
       "    }\n",
       "\n",
       "    .dataframe thead th {\n",
       "        text-align: right;\n",
       "    }\n",
       "</style>\n",
       "<table border=\"1\" class=\"dataframe\">\n",
       "  <thead>\n",
       "    <tr style=\"text-align: right;\">\n",
       "      <th></th>\n",
       "      <th>Unnamed: 0</th>\n",
       "      <th>url</th>\n",
       "      <th>timestamp</th>\n",
       "      <th>charset</th>\n",
       "      <th>domain</th>\n",
       "      <th>uri</th>\n",
       "      <th>filename</th>\n",
       "      <th>offset</th>\n",
       "      <th>length</th>\n",
       "      <th>digest</th>\n",
       "    </tr>\n",
       "  </thead>\n",
       "  <tbody>\n",
       "    <tr>\n",
       "      <th>0</th>\n",
       "      <td>743139</td>\n",
       "      <td>https://jhu.pure.elsevier.com/en/publications/...</td>\n",
       "      <td>20210116034145</td>\n",
       "      <td>UTF-8</td>\n",
       "      <td>jhu.pure.elsevier.com</td>\n",
       "      <td>a6195d99-f7d7-43ec-907c-435cb7a62ee7</td>\n",
       "      <td>crawl-data/CC-MAIN-2021-04/segments/1610703499...</td>\n",
       "      <td>405618795</td>\n",
       "      <td>9181</td>\n",
       "      <td>PD4OJTGSKE66SPZVH7Q66C7EGTZAD4TO</td>\n",
       "    </tr>\n",
       "    <tr>\n",
       "      <th>1</th>\n",
       "      <td>96552</td>\n",
       "      <td>https://www.medpagetoday.com/neurology/alzheim...</td>\n",
       "      <td>20210117033815</td>\n",
       "      <td>UTF-8</td>\n",
       "      <td>www.medpagetoday.com</td>\n",
       "      <td>80fd9af1-c9b6-4d82-b62a-fe16d5b9d76f</td>\n",
       "      <td>crawl-data/CC-MAIN-2021-04/segments/1610703509...</td>\n",
       "      <td>880993939</td>\n",
       "      <td>19659</td>\n",
       "      <td>LLEMLJ24KJV2DM5FGPQPYMDAWVA3WKZQ</td>\n",
       "    </tr>\n",
       "    <tr>\n",
       "      <th>2</th>\n",
       "      <td>961415</td>\n",
       "      <td>https://www.omicsonline.org/journal-health-car...</td>\n",
       "      <td>20210124192047</td>\n",
       "      <td>UTF-8</td>\n",
       "      <td>www.omicsonline.org</td>\n",
       "      <td>4a8c5d85-b2d0-43bc-83f4-c1acfe0b3481</td>\n",
       "      <td>crawl-data/CC-MAIN-2021-04/segments/1610703550...</td>\n",
       "      <td>917958124</td>\n",
       "      <td>18815</td>\n",
       "      <td>LXAYVR3PTS7SUHXFUB4DOQKCEX4FATIJ</td>\n",
       "    </tr>\n",
       "    <tr>\n",
       "      <th>3</th>\n",
       "      <td>266966</td>\n",
       "      <td>https://www.nap.edu/read/1222/chapter/33</td>\n",
       "      <td>20210123090508</td>\n",
       "      <td>UTF-8</td>\n",
       "      <td>www.nap.edu</td>\n",
       "      <td>22990a4b-6a9f-4e00-9e72-aef0fbee202b</td>\n",
       "      <td>crawl-data/CC-MAIN-2021-04/segments/1610703536...</td>\n",
       "      <td>920962674</td>\n",
       "      <td>152297</td>\n",
       "      <td>3KWCY54WZJZ4GG4PABZRP2DF7KOZKJ2V</td>\n",
       "    </tr>\n",
       "    <tr>\n",
       "      <th>4</th>\n",
       "      <td>2875493</td>\n",
       "      <td>https://www.verywellmind.com/maybe-its-not-dep...</td>\n",
       "      <td>20210128062202</td>\n",
       "      <td>UTF-8</td>\n",
       "      <td>www.verywellmind.com</td>\n",
       "      <td>fd6ddab2-e4d9-4151-9972-256f5be6eb21</td>\n",
       "      <td>crawl-data/CC-MAIN-2021-04/segments/1610704835...</td>\n",
       "      <td>1041034535</td>\n",
       "      <td>50300</td>\n",
       "      <td>OSNY3LOK2AGPNRGM4RPDO27WD3IB5YG5</td>\n",
       "    </tr>\n",
       "    <tr>\n",
       "      <th>...</th>\n",
       "      <td>...</td>\n",
       "      <td>...</td>\n",
       "      <td>...</td>\n",
       "      <td>...</td>\n",
       "      <td>...</td>\n",
       "      <td>...</td>\n",
       "      <td>...</td>\n",
       "      <td>...</td>\n",
       "      <td>...</td>\n",
       "      <td>...</td>\n",
       "    </tr>\n",
       "    <tr>\n",
       "      <th>6759</th>\n",
       "      <td>33409</td>\n",
       "      <td>https://quizlet.com/63316052/mm-23-flash-cards/</td>\n",
       "      <td>20210121203122</td>\n",
       "      <td>UTF-8</td>\n",
       "      <td>quizlet.com</td>\n",
       "      <td>4bcdbe2c-c65c-4ccf-b09d-607d29c6ff5b</td>\n",
       "      <td>crawl-data/CC-MAIN-2021-04/segments/1610703527...</td>\n",
       "      <td>522563191</td>\n",
       "      <td>72658</td>\n",
       "      <td>7RIHJ6BHE7KWZG43CNASGDD4TFDSX3HM</td>\n",
       "    </tr>\n",
       "    <tr>\n",
       "      <th>6760</th>\n",
       "      <td>935711</td>\n",
       "      <td>https://www.uspharmacist.com/article/what-phar...</td>\n",
       "      <td>20210126062309</td>\n",
       "      <td>UTF-8</td>\n",
       "      <td>uspharmacist.com</td>\n",
       "      <td>c3597cec-764e-4d79-b738-209363b7b9a5</td>\n",
       "      <td>crawl-data/CC-MAIN-2021-04/segments/1610704798...</td>\n",
       "      <td>1026135999</td>\n",
       "      <td>17893</td>\n",
       "      <td>TTQCUA6HR7HA7XBU46KUWYPVM7XN5RQU</td>\n",
       "    </tr>\n",
       "    <tr>\n",
       "      <th>6761</th>\n",
       "      <td>672158</td>\n",
       "      <td>https://quizlet.com/339743793/skin-flash-cards/</td>\n",
       "      <td>20210122013153</td>\n",
       "      <td>UTF-8</td>\n",
       "      <td>quizlet.com</td>\n",
       "      <td>ac57ae51-3d04-483b-a56f-6379f12f41e8</td>\n",
       "      <td>crawl-data/CC-MAIN-2021-04/segments/1610703528...</td>\n",
       "      <td>523024819</td>\n",
       "      <td>57052</td>\n",
       "      <td>XVRQF6FYSEVTCAFJMD2THSVI5LBUPOLH</td>\n",
       "    </tr>\n",
       "    <tr>\n",
       "      <th>6762</th>\n",
       "      <td>2855240</td>\n",
       "      <td>https://www.mayoclinic.org/diseases-conditions...</td>\n",
       "      <td>20210119221556</td>\n",
       "      <td>UTF-8</td>\n",
       "      <td>www.mayoclinic.org</td>\n",
       "      <td>ff31591b-0f36-460f-932b-f57422d0ee62</td>\n",
       "      <td>crawl-data/CC-MAIN-2021-04/segments/1610703519...</td>\n",
       "      <td>887810494</td>\n",
       "      <td>7135</td>\n",
       "      <td>ILVPQ6FWRJVSN2WGOUC7C7OZ3CAGF2UB</td>\n",
       "    </tr>\n",
       "    <tr>\n",
       "      <th>6763</th>\n",
       "      <td>112699</td>\n",
       "      <td>https://www.studymode.com/essays/Skin-Disorder...</td>\n",
       "      <td>20210119172948</td>\n",
       "      <td>UTF-8</td>\n",
       "      <td>www.studymode.com</td>\n",
       "      <td>17912579-67a2-469c-a0c7-6ff1e48eba13</td>\n",
       "      <td>crawl-data/CC-MAIN-2021-04/segments/1610703519...</td>\n",
       "      <td>998898001</td>\n",
       "      <td>26848</td>\n",
       "      <td>VAJSXHADSAQQUYYVD6YKQHGJICZQTNYE</td>\n",
       "    </tr>\n",
       "  </tbody>\n",
       "</table>\n",
       "<p>6764 rows × 10 columns</p>\n",
       "</div>"
      ],
      "text/plain": [
       "      Unnamed: 0                                                url  \\\n",
       "0         743139  https://jhu.pure.elsevier.com/en/publications/...   \n",
       "1          96552  https://www.medpagetoday.com/neurology/alzheim...   \n",
       "2         961415  https://www.omicsonline.org/journal-health-car...   \n",
       "3         266966           https://www.nap.edu/read/1222/chapter/33   \n",
       "4        2875493  https://www.verywellmind.com/maybe-its-not-dep...   \n",
       "...          ...                                                ...   \n",
       "6759       33409    https://quizlet.com/63316052/mm-23-flash-cards/   \n",
       "6760      935711  https://www.uspharmacist.com/article/what-phar...   \n",
       "6761      672158    https://quizlet.com/339743793/skin-flash-cards/   \n",
       "6762     2855240  https://www.mayoclinic.org/diseases-conditions...   \n",
       "6763      112699  https://www.studymode.com/essays/Skin-Disorder...   \n",
       "\n",
       "           timestamp charset                 domain  \\\n",
       "0     20210116034145   UTF-8  jhu.pure.elsevier.com   \n",
       "1     20210117033815   UTF-8   www.medpagetoday.com   \n",
       "2     20210124192047   UTF-8    www.omicsonline.org   \n",
       "3     20210123090508   UTF-8            www.nap.edu   \n",
       "4     20210128062202   UTF-8   www.verywellmind.com   \n",
       "...              ...     ...                    ...   \n",
       "6759  20210121203122   UTF-8            quizlet.com   \n",
       "6760  20210126062309   UTF-8       uspharmacist.com   \n",
       "6761  20210122013153   UTF-8            quizlet.com   \n",
       "6762  20210119221556   UTF-8     www.mayoclinic.org   \n",
       "6763  20210119172948   UTF-8      www.studymode.com   \n",
       "\n",
       "                                       uri  \\\n",
       "0     a6195d99-f7d7-43ec-907c-435cb7a62ee7   \n",
       "1     80fd9af1-c9b6-4d82-b62a-fe16d5b9d76f   \n",
       "2     4a8c5d85-b2d0-43bc-83f4-c1acfe0b3481   \n",
       "3     22990a4b-6a9f-4e00-9e72-aef0fbee202b   \n",
       "4     fd6ddab2-e4d9-4151-9972-256f5be6eb21   \n",
       "...                                    ...   \n",
       "6759  4bcdbe2c-c65c-4ccf-b09d-607d29c6ff5b   \n",
       "6760  c3597cec-764e-4d79-b738-209363b7b9a5   \n",
       "6761  ac57ae51-3d04-483b-a56f-6379f12f41e8   \n",
       "6762  ff31591b-0f36-460f-932b-f57422d0ee62   \n",
       "6763  17912579-67a2-469c-a0c7-6ff1e48eba13   \n",
       "\n",
       "                                               filename      offset  length  \\\n",
       "0     crawl-data/CC-MAIN-2021-04/segments/1610703499...   405618795    9181   \n",
       "1     crawl-data/CC-MAIN-2021-04/segments/1610703509...   880993939   19659   \n",
       "2     crawl-data/CC-MAIN-2021-04/segments/1610703550...   917958124   18815   \n",
       "3     crawl-data/CC-MAIN-2021-04/segments/1610703536...   920962674  152297   \n",
       "4     crawl-data/CC-MAIN-2021-04/segments/1610704835...  1041034535   50300   \n",
       "...                                                 ...         ...     ...   \n",
       "6759  crawl-data/CC-MAIN-2021-04/segments/1610703527...   522563191   72658   \n",
       "6760  crawl-data/CC-MAIN-2021-04/segments/1610704798...  1026135999   17893   \n",
       "6761  crawl-data/CC-MAIN-2021-04/segments/1610703528...   523024819   57052   \n",
       "6762  crawl-data/CC-MAIN-2021-04/segments/1610703519...   887810494    7135   \n",
       "6763  crawl-data/CC-MAIN-2021-04/segments/1610703519...   998898001   26848   \n",
       "\n",
       "                                digest  \n",
       "0     PD4OJTGSKE66SPZVH7Q66C7EGTZAD4TO  \n",
       "1     LLEMLJ24KJV2DM5FGPQPYMDAWVA3WKZQ  \n",
       "2     LXAYVR3PTS7SUHXFUB4DOQKCEX4FATIJ  \n",
       "3     3KWCY54WZJZ4GG4PABZRP2DF7KOZKJ2V  \n",
       "4     OSNY3LOK2AGPNRGM4RPDO27WD3IB5YG5  \n",
       "...                                ...  \n",
       "6759  7RIHJ6BHE7KWZG43CNASGDD4TFDSX3HM  \n",
       "6760  TTQCUA6HR7HA7XBU46KUWYPVM7XN5RQU  \n",
       "6761  XVRQF6FYSEVTCAFJMD2THSVI5LBUPOLH  \n",
       "6762  ILVPQ6FWRJVSN2WGOUC7C7OZ3CAGF2UB  \n",
       "6763  VAJSXHADSAQQUYYVD6YKQHGJICZQTNYE  \n",
       "\n",
       "[6764 rows x 10 columns]"
      ]
     },
     "execution_count": 221,
     "metadata": {},
     "output_type": "execute_result"
    }
   ],
   "source": [
    "assesed_docs_df = pd.read_csv(\"Webdoc/data/assessed_docs.csv\")\n",
    "assesed_docs_df"
   ]
  },
  {
   "cell_type": "code",
   "execution_count": null,
   "metadata": {},
   "outputs": [],
   "source": [
    "# number of unique domains\n",
    "number_unique_domains = assesed_docs_df[\"domain\"].nunique()\n",
    "# add domain column to qrels_cred_read\n",
    "qrels_cred_read = pd.merge(qrels_cred_read, assesed_docs_df[[\"uri\", \"domain\"]], left_on=\"docno\", right_on=\"uri\")\n",
    "# drop uri column\n",
    "qrels_cred_read = qrels_cred_read.drop(columns=[\"uri\"])\n"
   ]
  },
  {
   "cell_type": "code",
   "execution_count": null,
   "metadata": {},
   "outputs": [
    {
     "data": {
      "text/html": [
       "<div>\n",
       "<style scoped>\n",
       "    .dataframe tbody tr th:only-of-type {\n",
       "        vertical-align: middle;\n",
       "    }\n",
       "\n",
       "    .dataframe tbody tr th {\n",
       "        vertical-align: top;\n",
       "    }\n",
       "\n",
       "    .dataframe thead th {\n",
       "        text-align: right;\n",
       "    }\n",
       "</style>\n",
       "<table border=\"1\" class=\"dataframe\">\n",
       "  <thead>\n",
       "    <tr style=\"text-align: right;\">\n",
       "      <th></th>\n",
       "      <th>rel</th>\n",
       "      <th>cred</th>\n",
       "      <th>read</th>\n",
       "    </tr>\n",
       "  </thead>\n",
       "  <tbody>\n",
       "    <tr>\n",
       "      <th>count</th>\n",
       "      <td>8902.000000</td>\n",
       "      <td>8902.000000</td>\n",
       "      <td>8902.000000</td>\n",
       "    </tr>\n",
       "    <tr>\n",
       "      <th>mean</th>\n",
       "      <td>0.767693</td>\n",
       "      <td>1.543698</td>\n",
       "      <td>1.396652</td>\n",
       "    </tr>\n",
       "    <tr>\n",
       "      <th>std</th>\n",
       "      <td>0.813850</td>\n",
       "      <td>0.733773</td>\n",
       "      <td>0.712324</td>\n",
       "    </tr>\n",
       "    <tr>\n",
       "      <th>min</th>\n",
       "      <td>0.000000</td>\n",
       "      <td>0.000000</td>\n",
       "      <td>0.000000</td>\n",
       "    </tr>\n",
       "    <tr>\n",
       "      <th>25%</th>\n",
       "      <td>0.000000</td>\n",
       "      <td>1.000000</td>\n",
       "      <td>1.000000</td>\n",
       "    </tr>\n",
       "    <tr>\n",
       "      <th>50%</th>\n",
       "      <td>1.000000</td>\n",
       "      <td>2.000000</td>\n",
       "      <td>2.000000</td>\n",
       "    </tr>\n",
       "    <tr>\n",
       "      <th>75%</th>\n",
       "      <td>1.000000</td>\n",
       "      <td>2.000000</td>\n",
       "      <td>2.000000</td>\n",
       "    </tr>\n",
       "    <tr>\n",
       "      <th>max</th>\n",
       "      <td>2.000000</td>\n",
       "      <td>3.000000</td>\n",
       "      <td>2.000000</td>\n",
       "    </tr>\n",
       "  </tbody>\n",
       "</table>\n",
       "</div>"
      ],
      "text/plain": [
       "               rel         cred         read\n",
       "count  8902.000000  8902.000000  8902.000000\n",
       "mean      0.767693     1.543698     1.396652\n",
       "std       0.813850     0.733773     0.712324\n",
       "min       0.000000     0.000000     0.000000\n",
       "25%       0.000000     1.000000     1.000000\n",
       "50%       1.000000     2.000000     2.000000\n",
       "75%       1.000000     2.000000     2.000000\n",
       "max       2.000000     3.000000     2.000000"
      ]
     },
     "execution_count": 242,
     "metadata": {},
     "output_type": "execute_result"
    }
   ],
   "source": [
    "qrels_cred_read.describe()"
   ]
  },
  {
   "cell_type": "code",
   "execution_count": null,
   "metadata": {},
   "outputs": [
    {
     "name": "stdout",
     "output_type": "stream",
     "text": [
      "domain\n",
      "www.healthline.com           883\n",
      "www.nationalmssociety.org    861\n",
      "www.ms.org.au                645\n",
      "jhu.pure.elsevier.com        250\n",
      "www.msif.org                 247\n",
      "my.clevelandclinic.org       231\n",
      "www.emedicinehealth.com      190\n",
      "www.news-medical.net         179\n",
      "www.psychologytoday.com      162\n",
      "www.mymsaa.org               159\n",
      "Name: domain, dtype: int64\n"
     ]
    }
   ],
   "source": [
    "# domains ordered by number of docs\n",
    "popular_domains = qrels_cred_read.groupby(\"domain\")[\"domain\"].count().sort_values(ascending=False)\n",
    "# print domain names\n",
    "print(popular_domains.head(10))"
   ]
  },
  {
   "cell_type": "code",
   "execution_count": null,
   "metadata": {},
   "outputs": [
    {
     "name": "stdout",
     "output_type": "stream",
     "text": [
      "133\n"
     ]
    }
   ],
   "source": [
    "# number of domains that show up rarely\n",
    "print(popular_domains[popular_domains <= 10].count())"
   ]
  },
  {
   "cell_type": "code",
   "execution_count": null,
   "metadata": {},
   "outputs": [
    {
     "name": "stdout",
     "output_type": "stream",
     "text": [
      "44\n"
     ]
    }
   ],
   "source": [
    "print(popular_domains[popular_domains == 1].count())"
   ]
  },
  {
   "cell_type": "code",
   "execution_count": null,
   "metadata": {},
   "outputs": [
    {
     "name": "stdout",
     "output_type": "stream",
     "text": [
      "count    234.000000\n",
      "mean      38.042735\n",
      "std       99.468492\n",
      "min        1.000000\n",
      "25%        2.000000\n",
      "50%        7.000000\n",
      "75%       26.000000\n",
      "max      883.000000\n",
      "Name: domain, dtype: float64\n"
     ]
    }
   ],
   "source": [
    "# unique domains\n",
    "print(popular_domains.describe())"
   ]
  },
  {
   "cell_type": "code",
   "execution_count": null,
   "metadata": {},
   "outputs": [
    {
     "data": {
      "text/html": [
       "<div>\n",
       "<style scoped>\n",
       "    .dataframe tbody tr th:only-of-type {\n",
       "        vertical-align: middle;\n",
       "    }\n",
       "\n",
       "    .dataframe tbody tr th {\n",
       "        vertical-align: top;\n",
       "    }\n",
       "\n",
       "    .dataframe thead th {\n",
       "        text-align: right;\n",
       "    }\n",
       "</style>\n",
       "<table border=\"1\" class=\"dataframe\">\n",
       "  <thead>\n",
       "    <tr style=\"text-align: right;\">\n",
       "      <th></th>\n",
       "      <th>qid</th>\n",
       "      <th>docno</th>\n",
       "      <th>rel</th>\n",
       "      <th>cred</th>\n",
       "      <th>read</th>\n",
       "      <th>num_docs</th>\n",
       "      <th>avg_rel</th>\n",
       "      <th>avg_cred</th>\n",
       "      <th>avg_read</th>\n",
       "      <th>uri</th>\n",
       "      <th>domain</th>\n",
       "    </tr>\n",
       "  </thead>\n",
       "  <tbody>\n",
       "    <tr>\n",
       "      <th>0</th>\n",
       "      <td>1</td>\n",
       "      <td>a6195d99-f7d7-43ec-907c-435cb7a62ee7</td>\n",
       "      <td>2</td>\n",
       "      <td>2</td>\n",
       "      <td>2</td>\n",
       "      <td>244</td>\n",
       "      <td>1.065574</td>\n",
       "      <td>1.176230</td>\n",
       "      <td>1.586066</td>\n",
       "      <td>a6195d99-f7d7-43ec-907c-435cb7a62ee7</td>\n",
       "      <td>jhu.pure.elsevier.com</td>\n",
       "    </tr>\n",
       "    <tr>\n",
       "      <th>1</th>\n",
       "      <td>1</td>\n",
       "      <td>80fd9af1-c9b6-4d82-b62a-fe16d5b9d76f</td>\n",
       "      <td>1</td>\n",
       "      <td>1</td>\n",
       "      <td>1</td>\n",
       "      <td>244</td>\n",
       "      <td>1.065574</td>\n",
       "      <td>1.176230</td>\n",
       "      <td>1.586066</td>\n",
       "      <td>80fd9af1-c9b6-4d82-b62a-fe16d5b9d76f</td>\n",
       "      <td>www.medpagetoday.com</td>\n",
       "    </tr>\n",
       "    <tr>\n",
       "      <th>2</th>\n",
       "      <td>1</td>\n",
       "      <td>4a8c5d85-b2d0-43bc-83f4-c1acfe0b3481</td>\n",
       "      <td>2</td>\n",
       "      <td>2</td>\n",
       "      <td>2</td>\n",
       "      <td>244</td>\n",
       "      <td>1.065574</td>\n",
       "      <td>1.176230</td>\n",
       "      <td>1.586066</td>\n",
       "      <td>4a8c5d85-b2d0-43bc-83f4-c1acfe0b3481</td>\n",
       "      <td>www.omicsonline.org</td>\n",
       "    </tr>\n",
       "    <tr>\n",
       "      <th>3</th>\n",
       "      <td>52</td>\n",
       "      <td>4a8c5d85-b2d0-43bc-83f4-c1acfe0b3481</td>\n",
       "      <td>0</td>\n",
       "      <td>2</td>\n",
       "      <td>0</td>\n",
       "      <td>189</td>\n",
       "      <td>0.724868</td>\n",
       "      <td>1.783069</td>\n",
       "      <td>1.095238</td>\n",
       "      <td>4a8c5d85-b2d0-43bc-83f4-c1acfe0b3481</td>\n",
       "      <td>www.omicsonline.org</td>\n",
       "    </tr>\n",
       "    <tr>\n",
       "      <th>4</th>\n",
       "      <td>1</td>\n",
       "      <td>22990a4b-6a9f-4e00-9e72-aef0fbee202b</td>\n",
       "      <td>0</td>\n",
       "      <td>2</td>\n",
       "      <td>2</td>\n",
       "      <td>244</td>\n",
       "      <td>1.065574</td>\n",
       "      <td>1.176230</td>\n",
       "      <td>1.586066</td>\n",
       "      <td>22990a4b-6a9f-4e00-9e72-aef0fbee202b</td>\n",
       "      <td>www.nap.edu</td>\n",
       "    </tr>\n",
       "  </tbody>\n",
       "</table>\n",
       "</div>"
      ],
      "text/plain": [
       "  qid                                 docno  rel  cred  read  num_docs  \\\n",
       "0   1  a6195d99-f7d7-43ec-907c-435cb7a62ee7    2     2     2       244   \n",
       "1   1  80fd9af1-c9b6-4d82-b62a-fe16d5b9d76f    1     1     1       244   \n",
       "2   1  4a8c5d85-b2d0-43bc-83f4-c1acfe0b3481    2     2     2       244   \n",
       "3  52  4a8c5d85-b2d0-43bc-83f4-c1acfe0b3481    0     2     0       189   \n",
       "4   1  22990a4b-6a9f-4e00-9e72-aef0fbee202b    0     2     2       244   \n",
       "\n",
       "    avg_rel  avg_cred  avg_read                                   uri  \\\n",
       "0  1.065574  1.176230  1.586066  a6195d99-f7d7-43ec-907c-435cb7a62ee7   \n",
       "1  1.065574  1.176230  1.586066  80fd9af1-c9b6-4d82-b62a-fe16d5b9d76f   \n",
       "2  1.065574  1.176230  1.586066  4a8c5d85-b2d0-43bc-83f4-c1acfe0b3481   \n",
       "3  0.724868  1.783069  1.095238  4a8c5d85-b2d0-43bc-83f4-c1acfe0b3481   \n",
       "4  1.065574  1.176230  1.586066  22990a4b-6a9f-4e00-9e72-aef0fbee202b   \n",
       "\n",
       "                  domain  \n",
       "0  jhu.pure.elsevier.com  \n",
       "1   www.medpagetoday.com  \n",
       "2    www.omicsonline.org  \n",
       "3    www.omicsonline.org  \n",
       "4            www.nap.edu  "
      ]
     },
     "execution_count": 215,
     "metadata": {},
     "output_type": "execute_result"
    }
   ],
   "source": [
    "qrels_cred_read.head()"
   ]
  },
  {
   "cell_type": "code",
   "execution_count": null,
   "metadata": {},
   "outputs": [],
   "source": [
    "# get average rel, cred, read per qid\n",
    "query_stats = qrels_cred_read.groupby(\"qid\", as_index=False).agg({\"avg_rel\": \"mean\", \"avg_cred\": \"mean\", \"avg_read\": \"mean\", \"num_docs\": \"mean\"})\n",
    "# get stats for \n",
    "query_stats.describe()"
   ]
  },
  {
   "cell_type": "code",
   "execution_count": null,
   "metadata": {},
   "outputs": [],
   "source": [
    "from scipy.stats import kendalltau\n",
    "# for each query with query id qid, get list of documents with relevance score\n",
    "def get_relevant_docs(qs, qid):\n",
    "    qs = qs[qs[\"qid\"] == qid][[\"docno\", \"label\"]].values.tolist()\n",
    "    # sort by relevance score descending, then by docno ascending\n",
    "    qs = sorted(qs, key=lambda x: (-x[1], x[0]))\n",
    "    return [x[0] for x in qs]\n",
    "    \n",
    "relevant_docs = [] \n",
    "for qid in all_queries_df[\"qid\"]:\n",
    "    doc_dict = {}\n",
    "    doc_dict[\"qid\"] = qid\n",
    "    doc_dict[\"relevance\"] = get_relevant_docs(qrels, qid)\n",
    "    doc_dict[\"credibility\"] = get_relevant_docs(qcred, qid)\n",
    "    doc_dict[\"readability\"] = get_relevant_docs(qread, qid)\n",
    "    # calculate kendale's tau for relevance and credibility and relevance and readability\n",
    "    doc_dict[\"rel_cred_tau\"] = kendalltau(doc_dict[\"relevance\"], doc_dict[\"credibility\"])\n",
    "    doc_dict[\"rel_read_tau\"] = kendalltau(doc_dict[\"relevance\"], doc_dict[\"readability\"])\n",
    "    doc_dict[\"cred_read_tau\"] = kendalltau(doc_dict[\"credibility\"], doc_dict[\"readability\"])\n",
    "    relevant_docs.append(doc_dict)\n"
   ]
  },
  {
   "cell_type": "code",
   "execution_count": null,
   "metadata": {},
   "outputs": [],
   "source": [
    "# get the average kendall's tau for relevance and credibility and relevance and readability\n",
    "rel_cred_tau = [x[\"rel_cred_tau\"][0] for x in relevant_docs]\n",
    "rel_read_tau = [x[\"rel_read_tau\"][0] for x in relevant_docs]\n",
    "cred_read_tau = [x[\"cred_read_tau\"][0] for x in relevant_docs]\n",
    "# drop nan values\n",
    "rel_cred_tau = [x for x in rel_cred_tau if str(x) != 'nan']\n",
    "rel_read_tau = [x for x in rel_read_tau if str(x) != 'nan']\n",
    "cred_read_tau = [x for x in cred_read_tau if str(x) != 'nan']\n",
    "\n",
    "def calculate_relevant_statistics(tau_list):\n",
    "    mean = sum(tau_list) / len(tau_list)\n",
    "    std = (sum([(x - mean)**2 for x in tau_list]) / len(tau_list))**0.5\n",
    "    return mean, std\n",
    "\n",
    "credibility_mean, credibility_std = calculate_relevant_statistics(rel_cred_tau)\n",
    "readability_mean, readability_std = calculate_relevant_statistics(rel_read_tau)\n",
    "credibility_readability_mean, credibility_readability_std = calculate_relevant_statistics(cred_read_tau)\n",
    "\n",
    "print(\"Kendall's Tau Statistics\")\n",
    "print(f\"relevance credibility mean: {credibility_mean}, std: {credibility_std}\")\n",
    "print(f\"relevance readability mean: {readability_mean}, std: {readability_std}\")\n",
    "print(f\"credibility readability mean: {credibility_readability_mean}, std: {credibility_readability_std}\")\n"
   ]
  },
  {
   "cell_type": "code",
   "execution_count": null,
   "metadata": {},
   "outputs": [],
   "source": [
    "# new dataframe with qid, number_of_relevant_docs, number_of_credible_docs, number_of_readable_docs, and tau values\n",
    "relevant_docs_df = pd.DataFrame(relevant_docs)\n",
    "relevant_docs_df[\"number_of_docs\"] = relevant_docs_df[\"relevance\"].apply(lambda x: len(x))\n",
    "relevant_docs_df[\"rel_cred_tau\"] = relevant_docs_df[\"rel_cred_tau\"].apply(lambda x: x[0])\n",
    "relevant_docs_df[\"rel_read_tau\"] = relevant_docs_df[\"rel_read_tau\"].apply(lambda x: x[0])\n",
    "relevant_docs_df[\"cred_read_tau\"] = relevant_docs_df[\"cred_read_tau\"].apply(lambda x: x[0])\n",
    "# remove relevance, credibility, readability columns\n",
    "relevant_docs_df = relevant_docs_df.drop(columns=[\"relevance\", \"credibility\", \"readability\"])\n",
    "# sort by number of docs descending\n",
    "relevant_docs_df = relevant_docs_df.sort_values(by=[\"number_of_docs\"], ascending=True)\n",
    "# drop rows with nan values\n",
    "relevant_docs_df = relevant_docs_df.dropna()\n",
    "# get rows with qids in 1, 77, 108, 132, 133\n",
    "relevant_docs_df[relevant_docs_df[\"qid\"].isin([\"1\", \"77\", \"108\", \"132\", \"133\"])]"
   ]
  },
  {
   "cell_type": "code",
   "execution_count": null,
   "metadata": {},
   "outputs": [],
   "source": [
    "# other statistics that could be interesting to look at:\n",
    "# number of relevant docs that are credible\n",
    "# number of relevant docs that are readable\n",
    "\n"
   ]
  },
  {
   "cell_type": "code",
   "execution_count": null,
   "metadata": {},
   "outputs": [],
   "source": [
    "# check for relation between number of docs and tau values\n",
    "import matplotlib.pyplot as plt\n",
    "import seaborn as sns\n",
    "sns.set_theme(style=\"whitegrid\")\n",
    "\n",
    "# include line of best fit\n",
    "def plot_tau_vs_number_of_docs(tau_list, number_of_docs_list, tau_name):\n",
    "    plt.figure(figsize=(10, 10))\n",
    "    sns.regplot(x=number_of_docs_list, y=tau_list)\n",
    "    plt.scatter(number_of_docs_list, tau_list)\n",
    "    plt.xlabel(\"Number of Documents\")\n",
    "    plt.ylabel(tau_name)\n",
    "    plt.title(f\"{tau_name} vs Number of Documents\")\n",
    "    plt.show()\n",
    "\n",
    "plot_tau_vs_number_of_docs(relevant_docs_df[\"rel_cred_tau\"], relevant_docs_df[\"number_of_docs\"], \"Relevance Credibility Tau\")\n",
    "plot_tau_vs_number_of_docs(relevant_docs_df[\"rel_read_tau\"], relevant_docs_df[\"number_of_docs\"], \"Relevance Readability Tau\")\n",
    "plot_tau_vs_number_of_docs(relevant_docs_df[\"cred_read_tau\"], relevant_docs_df[\"number_of_docs\"], \"Credibility Readability Tau\")"
   ]
  },
  {
   "cell_type": "code",
   "execution_count": null,
   "metadata": {},
   "outputs": [],
   "source": [
    "# get query text from queries dataframe\n",
    "def get_query_text(qid):\n",
    "    return all_queries_df[all_queries_df[\"qid\"] == qid][\"query\"].values[0]\n",
    "\n",
    "get_query_text(\"1\")"
   ]
  },
  {
   "cell_type": "code",
   "execution_count": null,
   "metadata": {},
   "outputs": [],
   "source": [
    "\n",
    "\n",
    "# print out the queries with the highest and lowest tau values\n",
    "def print_queries_with_highest_and_lowest_tau(tau_list, number_of_docs_list, tau_name, queries, n):\n",
    "    # sort by tau value\n",
    "    tau_list, number_of_docs_list, queries = zip(*sorted(zip(tau_list, number_of_docs_list, queries), reverse=True))\n",
    "    print(f\"Queries with highest {tau_name}\")\n",
    "    for i in range(n):\n",
    "        print(f\"Query {queries[i]}: {tau_name} {tau_list[i]}, number of docs {number_of_docs_list[i]}\")\n",
    "        print(f\"Query text: {get_query_text(queries[i])}\")\n",
    "        print()\n",
    "    print(\"*\"*50)\n",
    "    print(f\"Queries with lowest {tau_name}\")\n",
    "    for i in range(n):\n",
    "        print(f\"Query {queries[-i-1]}: {tau_name} {tau_list[-i-1]}, number of docs {number_of_docs_list[-i-1]}\")\n",
    "        print(f\"Query text: {get_query_text(queries[-i-1])}\")\n",
    "        print() \n",
    "\n",
    "print_queries_with_highest_and_lowest_tau(relevant_docs_df[\"rel_cred_tau\"], relevant_docs_df[\"number_of_docs\"], \"Relevance Credibility Tau\", relevant_docs_df[\"qid\"], 5)"
   ]
  },
  {
   "cell_type": "code",
   "execution_count": null,
   "metadata": {},
   "outputs": [],
   "source": []
  },
  {
   "cell_type": "code",
   "execution_count": null,
   "metadata": {},
   "outputs": [],
   "source": [
    "passages_with_qrels = pd.merge(all_passages, qrels, left_on=\"docid\", right_on=\"docno\")"
   ]
  },
  {
   "cell_type": "code",
   "execution_count": null,
   "metadata": {},
   "outputs": [],
   "source": [
    "passages_with_qread = pd.merge(all_passages, qread, left_on=\"docid\", right_on=\"docno\")"
   ]
  },
  {
   "cell_type": "code",
   "execution_count": null,
   "metadata": {},
   "outputs": [],
   "source": [
    "passages_with_qcred = pd.merge(all_passages, qcred, left_on=\"docid\", right_on=\"docno\")"
   ]
  },
  {
   "cell_type": "code",
   "execution_count": null,
   "metadata": {},
   "outputs": [],
   "source": [
    "passages_with_qcred.head()"
   ]
  },
  {
   "cell_type": "code",
   "execution_count": null,
   "metadata": {},
   "outputs": [],
   "source": [
    "# merge qrels, qcred, qread to one dataframe with columns qid, uuid, qrel, qcred, qread\n",
    "qmerge = qrels.merge(qcred, on=[\"qid\", \"docno\"], how=\"left\")\n",
    "qmerge = qmerge.merge(qread, on=[\"qid\", \"docno\"], how=\"left\")\n",
    "qmerge = qmerge.rename(columns={\"docno\": \"uuid\", \"label_x\": \"qrel\", \"label_y\": \"qcred\", \"label\": \"qread\"})"
   ]
  },
  {
   "cell_type": "code",
   "execution_count": null,
   "metadata": {},
   "outputs": [],
   "source": [
    "# filter qmerge for uuids which are in all_passages\n",
    "qmerge = qmerge[qmerge.uuid.isin(all_passages.docid)]"
   ]
  },
  {
   "cell_type": "code",
   "execution_count": null,
   "metadata": {},
   "outputs": [],
   "source": [
    "qmerge.head()"
   ]
  },
  {
   "cell_type": "code",
   "execution_count": null,
   "metadata": {},
   "outputs": [],
   "source": [
    "# get number of unique uuids\n",
    "print(len(qmerge.uuid.unique()))\n",
    "# get all duplicate uuids and print them, incuding the number of duplicates and the values in the columns as list\n",
    "duplicates = qmerge[qmerge.uuid.duplicated(keep=False)].groupby(\"uuid\").agg({\"uuid\": \"count\", \"qrel\": list, \"qcred\": list, \"qread\": list, \"qid\": list}).rename(columns={\"uuid\": \"count\"}).sort_values(\"count\", ascending=False)\n",
    "\n",
    "# visualize duplicates\n",
    "duplicates.head()\n",
    "print(len(duplicates))\n",
    "\n",
    "print(\"total number of uuids \", len(qmerge))"
   ]
  },
  {
   "cell_type": "code",
   "execution_count": null,
   "metadata": {},
   "outputs": [],
   "source": [
    "duplicates.head()"
   ]
  },
  {
   "cell_type": "code",
   "execution_count": null,
   "metadata": {},
   "outputs": [],
   "source": [
    "# plot first duplicate uuid and compare the values of qrel, qcred, qread using a seaborn heatmap\n",
    "import seaborn as sns\n",
    "import matplotlib.pyplot as plt\n",
    "\n",
    "dup = duplicates.iloc[1]\n",
    "# expand the lists in the columns to columns\n",
    "dup = dup.apply(pd.Series).T\n",
    "dup"
   ]
  },
  {
   "cell_type": "code",
   "execution_count": null,
   "metadata": {},
   "outputs": [],
   "source": [
    "# add column to duplicates with cred_diff and read_diff, containing the maximum difference between the values in the list\n",
    "duplicates[\"cred_diff\"] = duplicates[\"qcred\"].apply(lambda x: max(x) - min(x))\n",
    "duplicates[\"read_diff\"] = duplicates[\"qread\"].apply(lambda x: max(x) - min(x))\n",
    "# get duplicates with cred_diff == 0 and read_diff == 0\n",
    "duplicates[(duplicates[\"cred_diff\"] == 0) & (duplicates[\"read_diff\"] == 0)]"
   ]
  },
  {
   "cell_type": "code",
   "execution_count": null,
   "metadata": {},
   "outputs": [],
   "source": [
    "# get duplicates with diffs higher than 0 and calculate the mean of the diffs\n",
    "duplicates[(duplicates[\"cred_diff\"] > 0) & (duplicates[\"read_diff\"] > 0)].mean()"
   ]
  },
  {
   "cell_type": "code",
   "execution_count": null,
   "metadata": {},
   "outputs": [],
   "source": [
    "# generate separate heatmap for qrel 0,1 and 2, showing qcred and qread on the x and y axis. Usa a nice color scheme and annotate the cells with the number of passages in each cell.\n",
    "\n",
    "import seaborn as sns\n",
    "import matplotlib.pyplot as plt\n",
    "\n",
    "qmerge[\"qrel\"] = qmerge[\"qrel\"].astype(int)\n",
    "qmerge[\"qcred\"] = qmerge[\"qcred\"].astype(int)\n",
    "qmerge[\"qread\"] = qmerge[\"qread\"].astype(int)\n",
    "\n",
    "# generate 3 heatmaps next to each other\n",
    "fig, axes = plt.subplots(1, 3, figsize=(15, 5))\n",
    "\n",
    "# heatmap for qrels. colormap should have same intensity for all qrels\n",
    "cmap = sns.color_palette(\"Blues\", as_cmap=True)\n",
    "vmin = qmerge.groupby([\"qrel\", \"qcred\", \"qread\"]).size().min()\n",
    "vmax = qmerge.groupby([\"qrel\", \"qcred\", \"qread\"]).size().max()\n",
    "for rel in [0,1,2]:\n",
    "    qrel = qmerge[qmerge.qrel == rel]\n",
    "    sns.heatmap(qrel.groupby([\"qcred\", \"qread\"]).size().unstack(), annot=True, fmt=\"d\", ax=axes[rel], cmap=cmap, vmin=vmin, vmax=vmax)\n",
    "    axes[rel].set_title(f\"qrel {rel}\" + \"\\n Total: \" + str(len(qrel)))\n"
   ]
  },
  {
   "cell_type": "code",
   "execution_count": null,
   "metadata": {},
   "outputs": [],
   "source": [
    "def get_text_from_uuid(uuid):\n",
    "    return all_passages[all_passages.docid == uuid].text.values[0]\n",
    "\n",
    "def get_query_from_qid(qid):\n",
    "    return all_queries_df[all_queries_df.qid == qid]['query'].values[0]\n",
    "\n",
    "get_text_from_uuid(\"fc1fd012-c7d3-4ed2-ae3b-ed795426759c\")"
   ]
  },
  {
   "cell_type": "code",
   "execution_count": null,
   "metadata": {},
   "outputs": [],
   "source": [
    "for qid in list(dup['qid'].values):\n",
    "    print(get_query_from_qid(str(qid)))"
   ]
  },
  {
   "cell_type": "code",
   "execution_count": null,
   "metadata": {},
   "outputs": [],
   "source": [
    "# new df with cols qid, qrel_0, qrel_1, qrel_2, qcred_0, qcred_1, qcred_2, qread_0, qread_1, qread_2\n",
    "# uuid is dropped, qrel_0 contains the number of uuids with qrel=0 for each qid\n",
    "qagg = qmerge.groupby([\"qid\"]).agg({\"qrel\": [lambda x: (x==0).sum(), lambda x: (x==1).sum(), lambda x: (x==2).sum()],\n",
    "                                        \"qcred\": [lambda x: (x==0).sum(), lambda x: (x==1).sum(), lambda x: (x==2).sum(), lambda x: (x==3).sum()],\n",
    "                                        \"qread\": [lambda x: (x==0).sum(), lambda x: (x==1).sum(), lambda x: (x==2).sum()],\n",
    "                                        \"uuid\": \"count\"})\n",
    "qagg.columns = [\"qrel_0\", \"qrel_1\", \"qrel_2\", \"qcred_0\", \"qcred_1\", \"qcred_2\", \"qcred_3\", \"qread_0\", \"qread_1\", \"qread_2\", \"uuid_count\"]\n",
    "qagg = qagg.reset_index()\n",
    "# order dataframe by qid, qid as integer\n",
    "qagg = qagg.sort_values(by=[\"qid\"], key=lambda x: x.astype(int))"
   ]
  },
  {
   "cell_type": "code",
   "execution_count": 6,
   "metadata": {},
   "outputs": [
    {
     "ename": "NameError",
     "evalue": "name 'qagg' is not defined",
     "output_type": "error",
     "traceback": [
      "\u001b[0;31m---------------------------------------------------------------------------\u001b[0m",
      "\u001b[0;31mNameError\u001b[0m                                 Traceback (most recent call last)",
      "\u001b[1;32m/home/jonas/Documents/ThesisCode/dataset/data_exploration.ipynb Cell 49\u001b[0m line \u001b[0;36m1\n\u001b[1;32m     <a href='vscode-notebook-cell:/home/jonas/Documents/ThesisCode/dataset/data_exploration.ipynb#X66sZmlsZQ%3D%3D?line=13'>14</a>\u001b[0m colors \u001b[39m=\u001b[39m [\u001b[39m\"\u001b[39m\u001b[39m#1f77b4\u001b[39m\u001b[39m\"\u001b[39m, \u001b[39m\"\u001b[39m\u001b[39m#2ca02c\u001b[39m\u001b[39m\"\u001b[39m, \u001b[39m\"\u001b[39m\u001b[39m#d62728\u001b[39m\u001b[39m\"\u001b[39m, \u001b[39m\"\u001b[39m\u001b[39m#ff7f0e\u001b[39m\u001b[39m\"\u001b[39m]\n\u001b[1;32m     <a href='vscode-notebook-cell:/home/jonas/Documents/ThesisCode/dataset/data_exploration.ipynb#X66sZmlsZQ%3D%3D?line=15'>16</a>\u001b[0m bottom \u001b[39m=\u001b[39m np\u001b[39m.\u001b[39mzeros(\u001b[39m50\u001b[39m)\n\u001b[1;32m     <a href='vscode-notebook-cell:/home/jonas/Documents/ThesisCode/dataset/data_exploration.ipynb#X66sZmlsZQ%3D%3D?line=17'>18</a>\u001b[0m weight_counts_qrels \u001b[39m=\u001b[39m {\n\u001b[0;32m---> <a href='vscode-notebook-cell:/home/jonas/Documents/ThesisCode/dataset/data_exploration.ipynb#X66sZmlsZQ%3D%3D?line=18'>19</a>\u001b[0m     \u001b[39m\"\u001b[39m\u001b[39mqrel0\u001b[39m\u001b[39m\"\u001b[39m: qagg\u001b[39m.\u001b[39mqrel_0,\n\u001b[1;32m     <a href='vscode-notebook-cell:/home/jonas/Documents/ThesisCode/dataset/data_exploration.ipynb#X66sZmlsZQ%3D%3D?line=19'>20</a>\u001b[0m     \u001b[39m\"\u001b[39m\u001b[39mqrel1\u001b[39m\u001b[39m\"\u001b[39m: qagg\u001b[39m.\u001b[39mqrel_1,\n\u001b[1;32m     <a href='vscode-notebook-cell:/home/jonas/Documents/ThesisCode/dataset/data_exploration.ipynb#X66sZmlsZQ%3D%3D?line=20'>21</a>\u001b[0m     \u001b[39m\"\u001b[39m\u001b[39mqrel2\u001b[39m\u001b[39m\"\u001b[39m: qagg\u001b[39m.\u001b[39mqrel_2\n\u001b[1;32m     <a href='vscode-notebook-cell:/home/jonas/Documents/ThesisCode/dataset/data_exploration.ipynb#X66sZmlsZQ%3D%3D?line=21'>22</a>\u001b[0m }\n\u001b[1;32m     <a href='vscode-notebook-cell:/home/jonas/Documents/ThesisCode/dataset/data_exploration.ipynb#X66sZmlsZQ%3D%3D?line=23'>24</a>\u001b[0m weight_counts_qcred \u001b[39m=\u001b[39m {\n\u001b[1;32m     <a href='vscode-notebook-cell:/home/jonas/Documents/ThesisCode/dataset/data_exploration.ipynb#X66sZmlsZQ%3D%3D?line=24'>25</a>\u001b[0m     \u001b[39m\"\u001b[39m\u001b[39mqcred0\u001b[39m\u001b[39m\"\u001b[39m: qagg\u001b[39m.\u001b[39mqcred_0,\n\u001b[1;32m     <a href='vscode-notebook-cell:/home/jonas/Documents/ThesisCode/dataset/data_exploration.ipynb#X66sZmlsZQ%3D%3D?line=25'>26</a>\u001b[0m     \u001b[39m\"\u001b[39m\u001b[39mqcred1\u001b[39m\u001b[39m\"\u001b[39m: qagg\u001b[39m.\u001b[39mqcred_1,\n\u001b[1;32m     <a href='vscode-notebook-cell:/home/jonas/Documents/ThesisCode/dataset/data_exploration.ipynb#X66sZmlsZQ%3D%3D?line=26'>27</a>\u001b[0m     \u001b[39m\"\u001b[39m\u001b[39mqcred2\u001b[39m\u001b[39m\"\u001b[39m: qagg\u001b[39m.\u001b[39mqcred_2,\n\u001b[1;32m     <a href='vscode-notebook-cell:/home/jonas/Documents/ThesisCode/dataset/data_exploration.ipynb#X66sZmlsZQ%3D%3D?line=27'>28</a>\u001b[0m     \u001b[39m\"\u001b[39m\u001b[39mqcred3\u001b[39m\u001b[39m\"\u001b[39m: qagg\u001b[39m.\u001b[39mqcred_3\n\u001b[1;32m     <a href='vscode-notebook-cell:/home/jonas/Documents/ThesisCode/dataset/data_exploration.ipynb#X66sZmlsZQ%3D%3D?line=28'>29</a>\u001b[0m }\n\u001b[1;32m     <a href='vscode-notebook-cell:/home/jonas/Documents/ThesisCode/dataset/data_exploration.ipynb#X66sZmlsZQ%3D%3D?line=29'>30</a>\u001b[0m weight_counts_qread \u001b[39m=\u001b[39m {\n\u001b[1;32m     <a href='vscode-notebook-cell:/home/jonas/Documents/ThesisCode/dataset/data_exploration.ipynb#X66sZmlsZQ%3D%3D?line=30'>31</a>\u001b[0m     \u001b[39m\"\u001b[39m\u001b[39mqread0\u001b[39m\u001b[39m\"\u001b[39m: qagg\u001b[39m.\u001b[39mqread_0,\n\u001b[1;32m     <a href='vscode-notebook-cell:/home/jonas/Documents/ThesisCode/dataset/data_exploration.ipynb#X66sZmlsZQ%3D%3D?line=31'>32</a>\u001b[0m     \u001b[39m\"\u001b[39m\u001b[39mqread1\u001b[39m\u001b[39m\"\u001b[39m: qagg\u001b[39m.\u001b[39mqread_1,\n\u001b[1;32m     <a href='vscode-notebook-cell:/home/jonas/Documents/ThesisCode/dataset/data_exploration.ipynb#X66sZmlsZQ%3D%3D?line=32'>33</a>\u001b[0m     \u001b[39m\"\u001b[39m\u001b[39mqread2\u001b[39m\u001b[39m\"\u001b[39m: qagg\u001b[39m.\u001b[39mqread_2\n\u001b[1;32m     <a href='vscode-notebook-cell:/home/jonas/Documents/ThesisCode/dataset/data_exploration.ipynb#X66sZmlsZQ%3D%3D?line=33'>34</a>\u001b[0m }\n",
      "\u001b[0;31mNameError\u001b[0m: name 'qagg' is not defined"
     ]
    },
    {
     "data": {
      "image/png": "[encoded data removed]",
      "text/plain": [
       "<Figure size 4500x1000 with 1 Axes>"
      ]
     },
     "metadata": {},
     "output_type": "display_data"
    }
   ],
   "source": [
    "# visualize the table as a bar chart. qrels, qcred, qread are plotted in separate bars, to in total 3 bars per qid.\n",
    "# The different values (qrel_0, qrel_1, qrel2) of qrels, qcred, qread are stacked on top of each other.\n",
    "import numpy as np\n",
    "import matplotlib.pyplot as plt\n",
    "\n",
    "# increase figure size\n",
    "plt.rcParams['figure.figsize'] = [45, 10]\n",
    "\n",
    "fig, ax = plt.subplots()\n",
    "# set width of bar\n",
    "width = 0.25\n",
    "\n",
    "# 4 colors blue green red yellow\n",
    "colors = [\"#1f77b4\", \"#2ca02c\", \"#d62728\", \"#ff7f0e\"]\n",
    "\n",
    "bottom = np.zeros(50)\n",
    "\n",
    "weight_counts_qrels = {\n",
    "    \"qrel0\": qagg.qrel_0,\n",
    "    \"qrel1\": qagg.qrel_1,\n",
    "    \"qrel2\": qagg.qrel_2\n",
    "}\n",
    "\n",
    "weight_counts_qcred = {\n",
    "    \"qcred0\": qagg.qcred_0,\n",
    "    \"qcred1\": qagg.qcred_1,\n",
    "    \"qcred2\": qagg.qcred_2,\n",
    "    \"qcred3\": qagg.qcred_3\n",
    "}\n",
    "weight_counts_qread = {\n",
    "    \"qread0\": qagg.qread_0,\n",
    "    \"qread1\": qagg.qread_1,\n",
    "    \"qread2\": qagg.qread_2\n",
    "}\n",
    "\n",
    "all_weight_counts = [weight_counts_qrels, weight_counts_qcred, weight_counts_qread]\n",
    "\n",
    "x = np.arange(50)\n",
    "for idx, all_weight in enumerate(all_weight_counts):\n",
    "    bottom = np.zeros(50)\n",
    "    color_index = 0\n",
    "    for boolean, weight_count in all_weight.items():\n",
    "        p = ax.bar(x + idx*0.25, weight_count, width, label=boolean, bottom=bottom, color=colors[color_index])\n",
    "        bottom += weight_count\n",
    "        color_index += 1\n",
    "\n",
    "# Add some text for labels, title and custom x-axis tick labels, etc.\n",
    "\n",
    "plt.xlabel('qid')\n",
    "plt.ylabel('count')\n",
    "plt.title('Counts of qrels, qcred, qread per qid')\n",
    "plt.xticks(x + width, qagg.qid)\n",
    "# Create legend & Show graphic\n",
    "plt.legend()\n",
    "plt.show()\n"
   ]
  }
 ],
 "metadata": {
  "kernelspec": {
   "display_name": "Python 3 (ipykernel)",
   "language": "python",
   "name": "python3"
  },
  "language_info": {
   "codemirror_mode": {
    "name": "ipython",
    "version": 3
   },
   "file_extension": ".py",
   "mimetype": "text/x-python",
   "name": "python",
   "nbconvert_exporter": "python",
   "pygments_lexer": "ipython3",
   "version": "3.8.18"
  }
 },
 "nbformat": 4,
 "nbformat_minor": 2
}
