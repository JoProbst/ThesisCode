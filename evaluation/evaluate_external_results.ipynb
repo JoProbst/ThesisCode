{
 "cells": [
  {
   "cell_type": "code",
   "execution_count": 1,
   "metadata": {},
   "outputs": [
    {
     "name": "stderr",
     "output_type": "stream",
     "text": [
      "PyTerrier 0.9.2 has loaded Terrier 5.8 (built by craigm on 2023-11-01 18:05) and terrier-helper 0.0.8\n",
      "\n",
      "No etc/terrier.properties, using terrier.default.properties for bootstrap configuration.\n"
     ]
    }
   ],
   "source": [
    "# notebook to evaluate the information retrieval results from an external system (i.e. not pyterrier)\n",
    "import pyterrier as pt\n",
    "if not pt.started():\n",
    "    pt.init()\n"
   ]
  },
  {
   "cell_type": "code",
   "execution_count": 2,
   "metadata": {},
   "outputs": [],
   "source": [
    "\n",
    "import xml.etree.ElementTree as ET\n",
    "import pandas as pd\n",
    "\n",
    "def load_topics(path):\n",
    "    with open(path) as f:\n",
    "        root = ET.fromstring(f.read())\n",
    "    topic_dict = {}\n",
    "    for topic in root.findall(\"topic\"):\n",
    "        topic_id = topic.findtext(\"id\")\n",
    "        topic_query = topic.findtext(\"query\")\n",
    "        if topic_id and topic_query:\n",
    "            topic_dict[topic_id] = topic_query.strip().lower()\n",
    "    topics = pd.DataFrame(topic_dict.items(), columns=[\"qid\", \"query\"]) \n",
    "    topics[\"query\"] = topics[\"query\"].str.replace(r'\\W+', ' ', regex=True)\n",
    "    return topics"
   ]
  },
  {
   "cell_type": "code",
   "execution_count": 4,
   "metadata": {},
   "outputs": [],
   "source": [
    "topics = load_topics(\"../dataset/topics/topics.txt\")\n",
    "qrels = pt.io.read_qrels(\"../dataset/assessments/qrels.txt\") # type: ignore\n",
    "qcred = pt.io.read_qrels(\"../dataset/assessments/qcredibility.txt\") # type: ignore\n",
    "qread = pt.io.read_qrels(\"../dataset/assessments/qreadability.txt\") # type: ignore\n",
    "\n",
    "all_qs = [(\"qrels\", qrels), (\"qcred\", qcred), (\"qread\", qread)]"
   ]
  },
  {
   "cell_type": "code",
   "execution_count": 5,
   "metadata": {},
   "outputs": [],
   "source": [
    "all_passages = pd.read_csv(\"../dataset/Webdoc/data/txt_min_length_50.tsv\", sep=\"\\t\")"
   ]
  },
  {
   "cell_type": "code",
   "execution_count": 6,
   "metadata": {},
   "outputs": [],
   "source": [
    "qrels_in_passages = qrels.merge(all_passages, left_on=\"docno\", right_on=\"docid\", how=\"inner\")\n",
    "# count the number of documents per query and return new dataframe\n",
    "number_if_documents_per_query = qrels_in_passages.groupby(\"qid\", as_index=False).count()[[\"qid\", \"docno\"]]"
   ]
  },
  {
   "cell_type": "code",
   "execution_count": 7,
   "metadata": {},
   "outputs": [],
   "source": [
    "import pyterrier as pt\n",
    "\n",
    "def run_experiment(pipeline, simple_name, topics, qrels, eval_metrics=[\"map\", \"bpref\", \"ndcg_cut_10\"]):\n",
    "    experiments = []\n",
    "    for name, q in qrels:\n",
    "        # change pipeline name to include the name of the query\n",
    "\n",
    "        exp = pt.Experiment([pipeline], topics, q, eval_metrics, names=[name + '_' + simple_name], perquery=False)\n",
    "        experiments.append(exp)\n",
    "    return pd.concat(experiments, axis=0)"
   ]
  },
  {
   "cell_type": "code",
   "execution_count": 8,
   "metadata": {},
   "outputs": [
    {
     "name": "stdout",
     "output_type": "stream",
     "text": [
      "['colbert-pubmed-bert-rankings.csv', 'colbertv2.0', 'colbert-pubmed-bert-over_50-rankings.csv', 'colbertv2.0-over_50-rankings.csv', 'colbert-pubmed-bert-rankings_at_10.csv', 'colbert-pubmed-bert', 'colbert-pubmed-bert-rankings_at_10-paras_over_50.csv', 'rankings.csv']\n"
     ]
    },
    {
     "ename": "NameError",
     "evalue": "name 'simple_name' is not defined",
     "output_type": "error",
     "traceback": [
      "\u001b[0;31m---------------------------------------------------------------------------\u001b[0m",
      "\u001b[0;31mNameError\u001b[0m                                 Traceback (most recent call last)",
      "\u001b[1;32m/home/jonas/Documents/thesis/ThesisCode/evaluation/evaluate_external_results.ipynb Cell 7\u001b[0m line \u001b[0;36m1\n\u001b[1;32m      <a href='vscode-notebook-cell:/home/jonas/Documents/thesis/ThesisCode/evaluation/evaluate_external_results.ipynb#X11sZmlsZQ%3D%3D?line=8'>9</a>\u001b[0m \u001b[39mimport\u001b[39;00m \u001b[39mos\u001b[39;00m\n\u001b[1;32m     <a href='vscode-notebook-cell:/home/jonas/Documents/thesis/ThesisCode/evaluation/evaluate_external_results.ipynb#X11sZmlsZQ%3D%3D?line=10'>11</a>\u001b[0m all_results \u001b[39m=\u001b[39m []\n\u001b[0;32m---> <a href='vscode-notebook-cell:/home/jonas/Documents/thesis/ThesisCode/evaluation/evaluate_external_results.ipynb#X11sZmlsZQ%3D%3D?line=11'>12</a>\u001b[0m \u001b[39mfor\u001b[39;00m path \u001b[39min\u001b[39;00m glob\u001b[39m.\u001b[39mglob(\u001b[39mf\u001b[39m\u001b[39m\"\u001b[39m\u001b[39mrankings/\u001b[39m\u001b[39m{\u001b[39;00msimple_name\u001b[39m}\u001b[39;00m\u001b[39m/*.csv\u001b[39m\u001b[39m\"\u001b[39m):\n\u001b[1;32m     <a href='vscode-notebook-cell:/home/jonas/Documents/thesis/ThesisCode/evaluation/evaluate_external_results.ipynb#X11sZmlsZQ%3D%3D?line=12'>13</a>\u001b[0m     results \u001b[39m=\u001b[39m pd\u001b[39m.\u001b[39mread_csv(path)\n\u001b[1;32m     <a href='vscode-notebook-cell:/home/jonas/Documents/thesis/ThesisCode/evaluation/evaluate_external_results.ipynb#X11sZmlsZQ%3D%3D?line=13'>14</a>\u001b[0m     all_results\u001b[39m.\u001b[39mappend(results)\n",
      "\u001b[0;31mNameError\u001b[0m: name 'simple_name' is not defined"
     ]
    }
   ],
   "source": [
    "# load all ranking per query files in rankings/simple_name/\n",
    "import glob\n",
    "import os\n",
    "# list all subdirectories in rankings/\n",
    "ranking_candidates = os.listdir(\"rankings\")\n",
    "# make sure only directories are considered\n",
    "ranking_candidates = [candidate for candidate in ranking_candidates if os.path.isdir(f\"rankings/{candidate}\")]\n",
    "\n",
    "\n",
    "all_results = []\n",
    "for path in glob.glob(f\"rankings/{simple_name}/*.csv\"):\n",
    "    results = pd.read_csv(path)\n",
    "    all_results.append(results)\n",
    "all_results = pd.concat(all_results, axis=0)"
   ]
  },
  {
   "cell_type": "code",
   "execution_count": null,
   "metadata": {},
   "outputs": [],
   "source": [
    "\n",
    "results = run_experiment(all_results,simple_name, topics, all_qs, [\"map\", \"bpref\", \"ndcg_cut_10\"])\n",
    "results.to_csv(\"results/\" + simple_name + \"_results.csv\")"
   ]
  },
  {
   "cell_type": "code",
   "execution_count": null,
   "metadata": {},
   "outputs": [
    {
     "data": {
      "text/html": [
       "<div>\n",
       "<style scoped>\n",
       "    .dataframe tbody tr th:only-of-type {\n",
       "        vertical-align: middle;\n",
       "    }\n",
       "\n",
       "    .dataframe tbody tr th {\n",
       "        vertical-align: top;\n",
       "    }\n",
       "\n",
       "    .dataframe thead th {\n",
       "        text-align: right;\n",
       "    }\n",
       "</style>\n",
       "<table border=\"1\" class=\"dataframe\">\n",
       "  <thead>\n",
       "    <tr style=\"text-align: right;\">\n",
       "      <th></th>\n",
       "      <th>name</th>\n",
       "      <th>map</th>\n",
       "      <th>bpref</th>\n",
       "      <th>ndcg_cut_10</th>\n",
       "    </tr>\n",
       "  </thead>\n",
       "  <tbody>\n",
       "    <tr>\n",
       "      <th>0</th>\n",
       "      <td>qrels_colbert-v2-per-query</td>\n",
       "      <td>0.330816</td>\n",
       "      <td>0.346085</td>\n",
       "      <td>0.649604</td>\n",
       "    </tr>\n",
       "    <tr>\n",
       "      <th>0</th>\n",
       "      <td>qcred_colbert-v2-per-query</td>\n",
       "      <td>0.473128</td>\n",
       "      <td>0.466647</td>\n",
       "      <td>0.634022</td>\n",
       "    </tr>\n",
       "    <tr>\n",
       "      <th>0</th>\n",
       "      <td>qread_colbert-v2-per-query</td>\n",
       "      <td>0.407758</td>\n",
       "      <td>0.379656</td>\n",
       "      <td>0.799140</td>\n",
       "    </tr>\n",
       "  </tbody>\n",
       "</table>\n",
       "</div>"
      ],
      "text/plain": [
       "                         name       map     bpref  ndcg_cut_10\n",
       "0  qrels_colbert-v2-per-query  0.330816  0.346085     0.649604\n",
       "0  qcred_colbert-v2-per-query  0.473128  0.466647     0.634022\n",
       "0  qread_colbert-v2-per-query  0.407758  0.379656     0.799140"
      ]
     },
     "execution_count": 18,
     "metadata": {},
     "output_type": "execute_result"
    }
   ],
   "source": [
    "results"
   ]
  },
  {
   "cell_type": "code",
   "execution_count": null,
   "metadata": {},
   "outputs": [
    {
     "ename": "KeyError",
     "evalue": "'qid'",
     "output_type": "error",
     "traceback": [
      "\u001b[0;31m---------------------------------------------------------------------------\u001b[0m",
      "\u001b[0;31mKeyError\u001b[0m                                  Traceback (most recent call last)",
      "File \u001b[0;32m~/miniconda3/envs/faiss/lib/python3.8/site-packages/pandas/core/indexes/base.py:3629\u001b[0m, in \u001b[0;36mIndex.get_loc\u001b[0;34m(self, key, method, tolerance)\u001b[0m\n\u001b[1;32m   3628\u001b[0m \u001b[39mtry\u001b[39;00m:\n\u001b[0;32m-> 3629\u001b[0m     \u001b[39mreturn\u001b[39;00m \u001b[39mself\u001b[39;49m\u001b[39m.\u001b[39;49m_engine\u001b[39m.\u001b[39;49mget_loc(casted_key)\n\u001b[1;32m   3630\u001b[0m \u001b[39mexcept\u001b[39;00m \u001b[39mKeyError\u001b[39;00m \u001b[39mas\u001b[39;00m err:\n",
      "File \u001b[0;32m~/miniconda3/envs/faiss/lib/python3.8/site-packages/pandas/_libs/index.pyx:136\u001b[0m, in \u001b[0;36mpandas._libs.index.IndexEngine.get_loc\u001b[0;34m()\u001b[0m\n",
      "File \u001b[0;32m~/miniconda3/envs/faiss/lib/python3.8/site-packages/pandas/_libs/index.pyx:163\u001b[0m, in \u001b[0;36mpandas._libs.index.IndexEngine.get_loc\u001b[0;34m()\u001b[0m\n",
      "File \u001b[0;32mpandas/_libs/hashtable_class_helper.pxi:5198\u001b[0m, in \u001b[0;36mpandas._libs.hashtable.PyObjectHashTable.get_item\u001b[0;34m()\u001b[0m\n",
      "File \u001b[0;32mpandas/_libs/hashtable_class_helper.pxi:5206\u001b[0m, in \u001b[0;36mpandas._libs.hashtable.PyObjectHashTable.get_item\u001b[0;34m()\u001b[0m\n",
      "\u001b[0;31mKeyError\u001b[0m: 'qid'",
      "\nThe above exception was the direct cause of the following exception:\n",
      "\u001b[0;31mKeyError\u001b[0m                                  Traceback (most recent call last)",
      "Cell \u001b[0;32mIn[17], line 12\u001b[0m\n\u001b[1;32m      9\u001b[0m results \u001b[39m=\u001b[39m pd\u001b[39m.\u001b[39mread_csv(\u001b[39m\"\u001b[39m\u001b[39mresults/\u001b[39m\u001b[39m\"\u001b[39m \u001b[39m+\u001b[39m simple_name \u001b[39m+\u001b[39m \u001b[39m\"\u001b[39m\u001b[39m_results.csv\u001b[39m\u001b[39m\"\u001b[39m)\n\u001b[1;32m     10\u001b[0m \u001b[39m# results = results[results[\"measure\"] == \"ndcg_cut_10\"]\u001b[39;00m\n\u001b[0;32m---> 12\u001b[0m results[\u001b[39m\"\u001b[39m\u001b[39mqid\u001b[39m\u001b[39m\"\u001b[39m] \u001b[39m=\u001b[39m results[\u001b[39m\"\u001b[39;49m\u001b[39mqid\u001b[39;49m\u001b[39m\"\u001b[39;49m]\u001b[39m.\u001b[39mastype(\u001b[39mstr\u001b[39m)\n\u001b[1;32m     13\u001b[0m \u001b[39m# add number of documents per query to qid\u001b[39;00m\n\u001b[1;32m     14\u001b[0m results \u001b[39m=\u001b[39m results\u001b[39m.\u001b[39mmerge(number_if_documents_per_query, on\u001b[39m=\u001b[39m\u001b[39m\"\u001b[39m\u001b[39mqid\u001b[39m\u001b[39m\"\u001b[39m)\n",
      "File \u001b[0;32m~/miniconda3/envs/faiss/lib/python3.8/site-packages/pandas/core/frame.py:3505\u001b[0m, in \u001b[0;36mDataFrame.__getitem__\u001b[0;34m(self, key)\u001b[0m\n\u001b[1;32m   3503\u001b[0m \u001b[39mif\u001b[39;00m \u001b[39mself\u001b[39m\u001b[39m.\u001b[39mcolumns\u001b[39m.\u001b[39mnlevels \u001b[39m>\u001b[39m \u001b[39m1\u001b[39m:\n\u001b[1;32m   3504\u001b[0m     \u001b[39mreturn\u001b[39;00m \u001b[39mself\u001b[39m\u001b[39m.\u001b[39m_getitem_multilevel(key)\n\u001b[0;32m-> 3505\u001b[0m indexer \u001b[39m=\u001b[39m \u001b[39mself\u001b[39;49m\u001b[39m.\u001b[39;49mcolumns\u001b[39m.\u001b[39;49mget_loc(key)\n\u001b[1;32m   3506\u001b[0m \u001b[39mif\u001b[39;00m is_integer(indexer):\n\u001b[1;32m   3507\u001b[0m     indexer \u001b[39m=\u001b[39m [indexer]\n",
      "File \u001b[0;32m~/miniconda3/envs/faiss/lib/python3.8/site-packages/pandas/core/indexes/base.py:3631\u001b[0m, in \u001b[0;36mIndex.get_loc\u001b[0;34m(self, key, method, tolerance)\u001b[0m\n\u001b[1;32m   3629\u001b[0m     \u001b[39mreturn\u001b[39;00m \u001b[39mself\u001b[39m\u001b[39m.\u001b[39m_engine\u001b[39m.\u001b[39mget_loc(casted_key)\n\u001b[1;32m   3630\u001b[0m \u001b[39mexcept\u001b[39;00m \u001b[39mKeyError\u001b[39;00m \u001b[39mas\u001b[39;00m err:\n\u001b[0;32m-> 3631\u001b[0m     \u001b[39mraise\u001b[39;00m \u001b[39mKeyError\u001b[39;00m(key) \u001b[39mfrom\u001b[39;00m \u001b[39merr\u001b[39;00m\n\u001b[1;32m   3632\u001b[0m \u001b[39mexcept\u001b[39;00m \u001b[39mTypeError\u001b[39;00m:\n\u001b[1;32m   3633\u001b[0m     \u001b[39m# If we have a listlike key, _check_indexing_error will raise\u001b[39;00m\n\u001b[1;32m   3634\u001b[0m     \u001b[39m#  InvalidIndexError. Otherwise we fall through and re-raise\u001b[39;00m\n\u001b[1;32m   3635\u001b[0m     \u001b[39m#  the TypeError.\u001b[39;00m\n\u001b[1;32m   3636\u001b[0m     \u001b[39mself\u001b[39m\u001b[39m.\u001b[39m_check_indexing_error(key)\n",
      "\u001b[0;31mKeyError\u001b[0m: 'qid'"
     ]
    }
   ],
   "source": [
    "# visualize ndcg@10 for each query\n",
    "import matplotlib.pyplot as plt\n",
    "import seaborn as sns\n",
    "sns.set_theme(style=\"whitegrid\")\n",
    "# increase plot size\n",
    "plt.rcParams['figure.figsize'] = [25, 10]\n",
    "sns.set_style(\"ticks\")\n",
    "\n",
    "results = pd.read_csv(\"results/\" + simple_name + \"_results.csv\")\n",
    "# results = results[results[\"measure\"] == \"ndcg_cut_10\"]\n",
    "\n",
    "results[\"qid\"] = results[\"qid\"].astype(str)\n",
    "# add number of documents per query to qid\n",
    "results = results.merge(number_if_documents_per_query, on=\"qid\")\n",
    "\n",
    "results = results.sort_values(by=\"docno\", ascending=True)\n",
    "\n",
    "results['qid_label'] = results['qid'] + \"\\n(\" + results['docno'].astype(str) + \")\"\n",
    "# plot all ndcg@10 values for each query and for each score in  barplots\n",
    "# add x-axis label\n",
    "p = sns.barplot(x=\"qid_label\", y=\"value\", hue=\"name\", data=results)\n",
    "p.set(xlabel='Query ID (number of evaluated documents)', ylabel='ndcg@10')"
   ]
  },
  {
   "cell_type": "code",
   "execution_count": null,
   "metadata": {},
   "outputs": [
    {
     "data": {
      "text/html": [
       "<div>\n",
       "<style scoped>\n",
       "    .dataframe tbody tr th:only-of-type {\n",
       "        vertical-align: middle;\n",
       "    }\n",
       "\n",
       "    .dataframe tbody tr th {\n",
       "        vertical-align: top;\n",
       "    }\n",
       "\n",
       "    .dataframe thead th {\n",
       "        text-align: right;\n",
       "    }\n",
       "</style>\n",
       "<table border=\"1\" class=\"dataframe\">\n",
       "  <thead>\n",
       "    <tr style=\"text-align: right;\">\n",
       "      <th></th>\n",
       "      <th>name</th>\n",
       "      <th>map</th>\n",
       "      <th>bpref</th>\n",
       "      <th>ndcg_cut_10</th>\n",
       "    </tr>\n",
       "  </thead>\n",
       "  <tbody>\n",
       "    <tr>\n",
       "      <th>0</th>\n",
       "      <td>qrels_colbert-pubmed-bert-rankings_at_10-paras...</td>\n",
       "      <td>0.003569</td>\n",
       "      <td>0.007963</td>\n",
       "      <td>0.079914</td>\n",
       "    </tr>\n",
       "    <tr>\n",
       "      <th>0</th>\n",
       "      <td>qcred_colbert-pubmed-bert-rankings_at_10-paras...</td>\n",
       "      <td>0.003599</td>\n",
       "      <td>0.007787</td>\n",
       "      <td>0.094078</td>\n",
       "    </tr>\n",
       "    <tr>\n",
       "      <th>0</th>\n",
       "      <td>qread_colbert-pubmed-bert-rankings_at_10-paras...</td>\n",
       "      <td>0.003266</td>\n",
       "      <td>0.006953</td>\n",
       "      <td>0.122413</td>\n",
       "    </tr>\n",
       "  </tbody>\n",
       "</table>\n",
       "</div>"
      ],
      "text/plain": [
       "                                                name       map     bpref  \\\n",
       "0  qrels_colbert-pubmed-bert-rankings_at_10-paras...  0.003569  0.007963   \n",
       "0  qcred_colbert-pubmed-bert-rankings_at_10-paras...  0.003599  0.007787   \n",
       "0  qread_colbert-pubmed-bert-rankings_at_10-paras...  0.003266  0.006953   \n",
       "\n",
       "   ndcg_cut_10  \n",
       "0     0.079914  \n",
       "0     0.094078  \n",
       "0     0.122413  "
      ]
     },
     "execution_count": 17,
     "metadata": {},
     "output_type": "execute_result"
    }
   ],
   "source": [
    "results.head()"
   ]
  }
 ],
 "metadata": {
  "kernelspec": {
   "display_name": "faiss",
   "language": "python",
   "name": "python3"
  },
  "language_info": {
   "codemirror_mode": {
    "name": "ipython",
    "version": 3
   },
   "file_extension": ".py",
   "mimetype": "text/x-python",
   "name": "python",
   "nbconvert_exporter": "python",
   "pygments_lexer": "ipython3",
   "version": "3.11.3"
  },
  "orig_nbformat": 4
 },
 "nbformat": 4,
 "nbformat_minor": 2
}
