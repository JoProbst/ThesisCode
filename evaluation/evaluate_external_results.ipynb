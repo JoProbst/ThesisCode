{
 "cells": [
  {
   "cell_type": "code",
   "execution_count": 1,
   "metadata": {},
   "outputs": [
    {
     "name": "stderr",
     "output_type": "stream",
     "text": [
      "PyTerrier 0.9.2 has loaded Terrier 5.7 (built by craigm on 2022-11-10 18:30) and terrier-helper 0.0.7\n",
      "\n",
      "No etc/terrier.properties, using terrier.default.properties for bootstrap configuration.\n"
     ]
    }
   ],
   "source": [
    "# notebook to evaluate the information retrieval results from an external system (i.e. not pyterrier)\n",
    "import pyterrier as pt\n",
    "if not pt.started():\n",
    "    pt.init()\n"
   ]
  },
  {
   "cell_type": "code",
   "execution_count": 2,
   "metadata": {},
   "outputs": [],
   "source": [
    "\n",
    "import xml.etree.ElementTree as ET\n",
    "import pandas as pd\n",
    "\n",
    "def load_topics(path):\n",
    "    with open(path) as f:\n",
    "        root = ET.fromstring(f.read())\n",
    "    topic_dict = {}\n",
    "    for topic in root.findall(\"topic\"):\n",
    "        topic_id = topic.findtext(\"id\")\n",
    "        topic_query = topic.findtext(\"query\")\n",
    "        if topic_id and topic_query:\n",
    "            topic_dict[topic_id] = topic_query.strip().lower()\n",
    "    topics = pd.DataFrame(topic_dict.items(), columns=[\"qid\", \"query\"]) \n",
    "    topics[\"query\"] = topics[\"query\"].str.replace(r'\\W+', ' ', regex=True)\n",
    "    return topics"
   ]
  },
  {
   "cell_type": "code",
   "execution_count": 5,
   "metadata": {},
   "outputs": [],
   "source": [
    "topics = load_topics(\"../data/topics/topics.txt\")\n",
    "qrels = pt.io.read_qrels(\"../data/assessments/qrels.txt\") # type: ignore\n",
    "qcred = pt.io.read_qrels(\"../data/assessments/qcredibility.txt\") # type: ignore\n",
    "qread = pt.io.read_qrels(\"../data/assessments/qreadability.txt\") # type: ignore\n",
    "\n",
    "all_qs = [(\"qrels\", qrels), (\"qcred\", qcred), (\"qread\", qread)]"
   ]
  },
  {
   "cell_type": "code",
   "execution_count": 37,
   "metadata": {},
   "outputs": [
    {
     "data": {
      "text/html": [
       "<div>\n",
       "<style scoped>\n",
       "    .dataframe tbody tr th:only-of-type {\n",
       "        vertical-align: middle;\n",
       "    }\n",
       "\n",
       "    .dataframe tbody tr th {\n",
       "        vertical-align: top;\n",
       "    }\n",
       "\n",
       "    .dataframe thead th {\n",
       "        text-align: right;\n",
       "    }\n",
       "</style>\n",
       "<table border=\"1\" class=\"dataframe\">\n",
       "  <thead>\n",
       "    <tr style=\"text-align: right;\">\n",
       "      <th></th>\n",
       "      <th>qid</th>\n",
       "      <th>docno</th>\n",
       "      <th>label</th>\n",
       "    </tr>\n",
       "  </thead>\n",
       "  <tbody>\n",
       "    <tr>\n",
       "      <th>0</th>\n",
       "      <td>1</td>\n",
       "      <td>a6195d99-f7d7-43ec-907c-435cb7a62ee7</td>\n",
       "      <td>2</td>\n",
       "    </tr>\n",
       "    <tr>\n",
       "      <th>1</th>\n",
       "      <td>1</td>\n",
       "      <td>80fd9af1-c9b6-4d82-b62a-fe16d5b9d76f</td>\n",
       "      <td>1</td>\n",
       "    </tr>\n",
       "    <tr>\n",
       "      <th>2</th>\n",
       "      <td>1</td>\n",
       "      <td>4a8c5d85-b2d0-43bc-83f4-c1acfe0b3481</td>\n",
       "      <td>2</td>\n",
       "    </tr>\n",
       "    <tr>\n",
       "      <th>3</th>\n",
       "      <td>1</td>\n",
       "      <td>22990a4b-6a9f-4e00-9e72-aef0fbee202b</td>\n",
       "      <td>0</td>\n",
       "    </tr>\n",
       "    <tr>\n",
       "      <th>4</th>\n",
       "      <td>1</td>\n",
       "      <td>fd6ddab2-e4d9-4151-9972-256f5be6eb21</td>\n",
       "      <td>1</td>\n",
       "    </tr>\n",
       "    <tr>\n",
       "      <th>...</th>\n",
       "      <td>...</td>\n",
       "      <td>...</td>\n",
       "      <td>...</td>\n",
       "    </tr>\n",
       "    <tr>\n",
       "      <th>12495</th>\n",
       "      <td>132</td>\n",
       "      <td>122cd674-3897-5129-bf7a-5cc639995bf9</td>\n",
       "      <td>1</td>\n",
       "    </tr>\n",
       "    <tr>\n",
       "      <th>12496</th>\n",
       "      <td>132</td>\n",
       "      <td>1a9a9729-5ab3-5444-af62-77e69ace6b74</td>\n",
       "      <td>0</td>\n",
       "    </tr>\n",
       "    <tr>\n",
       "      <th>12497</th>\n",
       "      <td>132</td>\n",
       "      <td>17912579-67a2-469c-a0c7-6ff1e48eba13</td>\n",
       "      <td>1</td>\n",
       "    </tr>\n",
       "    <tr>\n",
       "      <th>12498</th>\n",
       "      <td>132</td>\n",
       "      <td>b80cb282-487e-5197-9391-96513c8eaced</td>\n",
       "      <td>1</td>\n",
       "    </tr>\n",
       "    <tr>\n",
       "      <th>12499</th>\n",
       "      <td>132</td>\n",
       "      <td>0aa0684a-526f-54c8-9020-de29def93f58</td>\n",
       "      <td>0</td>\n",
       "    </tr>\n",
       "  </tbody>\n",
       "</table>\n",
       "<p>12500 rows × 3 columns</p>\n",
       "</div>"
      ],
      "text/plain": [
       "       qid                                 docno  label\n",
       "0        1  a6195d99-f7d7-43ec-907c-435cb7a62ee7      2\n",
       "1        1  80fd9af1-c9b6-4d82-b62a-fe16d5b9d76f      1\n",
       "2        1  4a8c5d85-b2d0-43bc-83f4-c1acfe0b3481      2\n",
       "3        1  22990a4b-6a9f-4e00-9e72-aef0fbee202b      0\n",
       "4        1  fd6ddab2-e4d9-4151-9972-256f5be6eb21      1\n",
       "...    ...                                   ...    ...\n",
       "12495  132  122cd674-3897-5129-bf7a-5cc639995bf9      1\n",
       "12496  132  1a9a9729-5ab3-5444-af62-77e69ace6b74      0\n",
       "12497  132  17912579-67a2-469c-a0c7-6ff1e48eba13      1\n",
       "12498  132  b80cb282-487e-5197-9391-96513c8eaced      1\n",
       "12499  132  0aa0684a-526f-54c8-9020-de29def93f58      0\n",
       "\n",
       "[12500 rows x 3 columns]"
      ]
     },
     "execution_count": 37,
     "metadata": {},
     "output_type": "execute_result"
    }
   ],
   "source": [
    "qrels"
   ]
  },
  {
   "cell_type": "code",
   "execution_count": 6,
   "metadata": {},
   "outputs": [],
   "source": [
    "import pyterrier as pt\n",
    "\n",
    "def run_experiment(pipeline, simple_name, topics, qrels, eval_metrics=[\"map\", \"bpref\", \"ndcg_cut_10\"]):\n",
    "    experiments = []\n",
    "    for name, q in qrels:\n",
    "        # change pipeline name to include the name of the query\n",
    "\n",
    "        exp = pt.Experiment([pipeline], topics, q, eval_metrics, names=[name + '_' + simple_name])\n",
    "        experiments.append(exp)\n",
    "    return pd.concat(experiments, axis=0)"
   ]
  },
  {
   "cell_type": "code",
   "execution_count": 39,
   "metadata": {},
   "outputs": [],
   "source": [
    "# load results without index\n",
    "retrieval = pd.read_csv(\"rankings/colbert-pubmed-bert-rankings.csv\")\n",
    "simple_name = \"colbert-pubmed-bert\""
   ]
  },
  {
   "cell_type": "code",
   "execution_count": 40,
   "metadata": {},
   "outputs": [],
   "source": [
    "\n",
    "results = run_experiment(retrieval[retrieval['rank'] < 250],simple_name, topics, all_qs, [\"map\", \"bpref\", \"ndcg_cut_10\"])\n",
    "results.to_csv(\"results/\" + simple_name + \"_results.csv\")"
   ]
  }
 ],
 "metadata": {
  "kernelspec": {
   "display_name": "faiss",
   "language": "python",
   "name": "python3"
  },
  "language_info": {
   "codemirror_mode": {
    "name": "ipython",
    "version": 3
   },
   "file_extension": ".py",
   "mimetype": "text/x-python",
   "name": "python",
   "nbconvert_exporter": "python",
   "pygments_lexer": "ipython3",
   "version": "3.8.16"
  },
  "orig_nbformat": 4
 },
 "nbformat": 4,
 "nbformat_minor": 2
}
