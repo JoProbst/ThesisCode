{
 "cells": [
  {
   "cell_type": "code",
   "execution_count": 1,
   "metadata": {},
   "outputs": [],
   "source": [
    "\n",
    "file_path = 'CHS-2021/topics/topics.txt'\n",
    "\n",
    "with open(file_path, 'r') as f:\n",
    "    topics = f.read()\n",
    "\n",
    "topics = topics.split('<topic>')\n",
    "topics = topics[1:]\n",
    "\n",
    "topic_dict = {}\n",
    "for topic in topics:\n",
    "    topic_id = int(topic.split('<id>')[1].split('</id>')[0])\n",
    "    topic_query = topic.split('<query>')[1].split('</query>')[0].strip()\n",
    "    topic_dict[topic_id] = topic_query"
   ]
  },
  {
   "cell_type": "code",
   "execution_count": 11,
   "metadata": {},
   "outputs": [],
   "source": [
    "import pandas as pd\n",
    "df = pd.DataFrame.from_dict(topic_dict, orient='index', columns=['query'])\n",
    "# add empty answers column\n",
    "df['answers'] = ''\n",
    "\n",
    "df['query'] = df['query']\n",
    "df.to_csv('answers/queries.csv', index=True)"
   ]
  },
  {
   "cell_type": "code",
   "execution_count": 3,
   "metadata": {},
   "outputs": [
    {
     "data": {
      "application/vnd.jupyter.widget-view+json": {
       "model_id": "79b05d0b24dc467e9e56650c4591935b",
       "version_major": 2,
       "version_minor": 0
      },
      "text/plain": [
       "Downloading (…)model.bin.index.json:   0%|          | 0.00/16.9k [00:00<?, ?B/s]"
      ]
     },
     "metadata": {},
     "output_type": "display_data"
    },
    {
     "data": {
      "application/vnd.jupyter.widget-view+json": {
       "model_id": "faf60c2aa4884b3591f2a0e3d3816e0d",
       "version_major": 2,
       "version_minor": 0
      },
      "text/plain": [
       "Downloading shards:   0%|          | 0/2 [00:00<?, ?it/s]"
      ]
     },
     "metadata": {},
     "output_type": "display_data"
    },
    {
     "data": {
      "application/vnd.jupyter.widget-view+json": {
       "model_id": "1b79b356b7b94094924d54fcaaacadab",
       "version_major": 2,
       "version_minor": 0
      },
      "text/plain": [
       "Downloading (…)l-00001-of-00002.bin:   0%|          | 0.00/9.95G [00:00<?, ?B/s]"
      ]
     },
     "metadata": {},
     "output_type": "display_data"
    },
    {
     "ename": "KeyboardInterrupt",
     "evalue": "",
     "output_type": "error",
     "traceback": [
      "\u001b[0;31m---------------------------------------------------------------------------\u001b[0m",
      "\u001b[0;31mKeyboardInterrupt\u001b[0m                         Traceback (most recent call last)",
      "Cell \u001b[0;32mIn[3], line 8\u001b[0m\n\u001b[1;32m      5\u001b[0m model \u001b[39m=\u001b[39m \u001b[39m\"\u001b[39m\u001b[39mtiiuae/falcon-7b-instruct\u001b[39m\u001b[39m\"\u001b[39m\n\u001b[1;32m      7\u001b[0m tokenizer \u001b[39m=\u001b[39m AutoTokenizer\u001b[39m.\u001b[39mfrom_pretrained(model)\n\u001b[0;32m----> 8\u001b[0m pipeline \u001b[39m=\u001b[39m transformers\u001b[39m.\u001b[39;49mpipeline(\n\u001b[1;32m      9\u001b[0m     \u001b[39m\"\u001b[39;49m\u001b[39mtext-generation\u001b[39;49m\u001b[39m\"\u001b[39;49m,\n\u001b[1;32m     10\u001b[0m     model\u001b[39m=\u001b[39;49mmodel,\n\u001b[1;32m     11\u001b[0m     tokenizer\u001b[39m=\u001b[39;49mtokenizer,\n\u001b[1;32m     12\u001b[0m     torch_dtype\u001b[39m=\u001b[39;49mtorch\u001b[39m.\u001b[39;49mbfloat16,\n\u001b[1;32m     13\u001b[0m     trust_remote_code\u001b[39m=\u001b[39;49m\u001b[39mTrue\u001b[39;49;00m,\n\u001b[1;32m     14\u001b[0m     device_map\u001b[39m=\u001b[39;49m\u001b[39m\"\u001b[39;49m\u001b[39mauto\u001b[39;49m\u001b[39m\"\u001b[39;49m,\n\u001b[1;32m     15\u001b[0m )\n\u001b[1;32m     16\u001b[0m sequences \u001b[39m=\u001b[39m pipeline(\n\u001b[1;32m     17\u001b[0m    \u001b[39m\"\u001b[39m\u001b[39mGirafatron is obsessed with giraffes, the most glorious animal on the face of this Earth. Giraftron believes all other animals are irrelevant when compared to the glorious majesty of the giraffe.\u001b[39m\u001b[39m\\n\u001b[39;00m\u001b[39mDaniel: Hello, Girafatron!\u001b[39m\u001b[39m\\n\u001b[39;00m\u001b[39mGirafatron:\u001b[39m\u001b[39m\"\u001b[39m,\n\u001b[1;32m     18\u001b[0m     max_length\u001b[39m=\u001b[39m\u001b[39m200\u001b[39m,\n\u001b[0;32m   (...)\u001b[0m\n\u001b[1;32m     22\u001b[0m     eos_token_id\u001b[39m=\u001b[39mtokenizer\u001b[39m.\u001b[39meos_token_id,\n\u001b[1;32m     23\u001b[0m )\n\u001b[1;32m     24\u001b[0m \u001b[39mfor\u001b[39;00m seq \u001b[39min\u001b[39;00m sequences:\n",
      "File \u001b[0;32m~/miniconda3/envs/transformers/lib/python3.9/site-packages/transformers/pipelines/__init__.py:788\u001b[0m, in \u001b[0;36mpipeline\u001b[0;34m(task, model, config, tokenizer, feature_extractor, image_processor, framework, revision, use_fast, use_auth_token, device, device_map, torch_dtype, trust_remote_code, model_kwargs, pipeline_class, **kwargs)\u001b[0m\n\u001b[1;32m    784\u001b[0m \u001b[39m# Infer the framework from the model\u001b[39;00m\n\u001b[1;32m    785\u001b[0m \u001b[39m# Forced if framework already defined, inferred if it's None\u001b[39;00m\n\u001b[1;32m    786\u001b[0m \u001b[39m# Will load the correct model if possible\u001b[39;00m\n\u001b[1;32m    787\u001b[0m model_classes \u001b[39m=\u001b[39m {\u001b[39m\"\u001b[39m\u001b[39mtf\u001b[39m\u001b[39m\"\u001b[39m: targeted_task[\u001b[39m\"\u001b[39m\u001b[39mtf\u001b[39m\u001b[39m\"\u001b[39m], \u001b[39m\"\u001b[39m\u001b[39mpt\u001b[39m\u001b[39m\"\u001b[39m: targeted_task[\u001b[39m\"\u001b[39m\u001b[39mpt\u001b[39m\u001b[39m\"\u001b[39m]}\n\u001b[0;32m--> 788\u001b[0m framework, model \u001b[39m=\u001b[39m infer_framework_load_model(\n\u001b[1;32m    789\u001b[0m     model,\n\u001b[1;32m    790\u001b[0m     model_classes\u001b[39m=\u001b[39;49mmodel_classes,\n\u001b[1;32m    791\u001b[0m     config\u001b[39m=\u001b[39;49mconfig,\n\u001b[1;32m    792\u001b[0m     framework\u001b[39m=\u001b[39;49mframework,\n\u001b[1;32m    793\u001b[0m     task\u001b[39m=\u001b[39;49mtask,\n\u001b[1;32m    794\u001b[0m     \u001b[39m*\u001b[39;49m\u001b[39m*\u001b[39;49mhub_kwargs,\n\u001b[1;32m    795\u001b[0m     \u001b[39m*\u001b[39;49m\u001b[39m*\u001b[39;49mmodel_kwargs,\n\u001b[1;32m    796\u001b[0m )\n\u001b[1;32m    798\u001b[0m model_config \u001b[39m=\u001b[39m model\u001b[39m.\u001b[39mconfig\n\u001b[1;32m    799\u001b[0m hub_kwargs[\u001b[39m\"\u001b[39m\u001b[39m_commit_hash\u001b[39m\u001b[39m\"\u001b[39m] \u001b[39m=\u001b[39m model\u001b[39m.\u001b[39mconfig\u001b[39m.\u001b[39m_commit_hash\n",
      "File \u001b[0;32m~/miniconda3/envs/transformers/lib/python3.9/site-packages/transformers/pipelines/base.py:270\u001b[0m, in \u001b[0;36minfer_framework_load_model\u001b[0;34m(model, config, model_classes, task, framework, **model_kwargs)\u001b[0m\n\u001b[1;32m    264\u001b[0m     logger\u001b[39m.\u001b[39mwarning(\n\u001b[1;32m    265\u001b[0m         \u001b[39m\"\u001b[39m\u001b[39mModel might be a PyTorch model (ending with `.bin`) but PyTorch is not available. \u001b[39m\u001b[39m\"\u001b[39m\n\u001b[1;32m    266\u001b[0m         \u001b[39m\"\u001b[39m\u001b[39mTrying to load the model with Tensorflow.\u001b[39m\u001b[39m\"\u001b[39m\n\u001b[1;32m    267\u001b[0m     )\n\u001b[1;32m    269\u001b[0m \u001b[39mtry\u001b[39;00m:\n\u001b[0;32m--> 270\u001b[0m     model \u001b[39m=\u001b[39m model_class\u001b[39m.\u001b[39;49mfrom_pretrained(model, \u001b[39m*\u001b[39;49m\u001b[39m*\u001b[39;49mkwargs)\n\u001b[1;32m    271\u001b[0m     \u001b[39mif\u001b[39;00m \u001b[39mhasattr\u001b[39m(model, \u001b[39m\"\u001b[39m\u001b[39meval\u001b[39m\u001b[39m\"\u001b[39m):\n\u001b[1;32m    272\u001b[0m         model \u001b[39m=\u001b[39m model\u001b[39m.\u001b[39meval()\n",
      "File \u001b[0;32m~/miniconda3/envs/transformers/lib/python3.9/site-packages/transformers/models/auto/auto_factory.py:462\u001b[0m, in \u001b[0;36m_BaseAutoModelClass.from_pretrained\u001b[0;34m(cls, pretrained_model_name_or_path, *model_args, **kwargs)\u001b[0m\n\u001b[1;32m    458\u001b[0m     class_ref \u001b[39m=\u001b[39m config\u001b[39m.\u001b[39mauto_map[\u001b[39mcls\u001b[39m\u001b[39m.\u001b[39m\u001b[39m__name__\u001b[39m]\n\u001b[1;32m    459\u001b[0m     model_class \u001b[39m=\u001b[39m get_class_from_dynamic_module(\n\u001b[1;32m    460\u001b[0m         class_ref, pretrained_model_name_or_path, \u001b[39m*\u001b[39m\u001b[39m*\u001b[39mhub_kwargs, \u001b[39m*\u001b[39m\u001b[39m*\u001b[39mkwargs\n\u001b[1;32m    461\u001b[0m     )\n\u001b[0;32m--> 462\u001b[0m     \u001b[39mreturn\u001b[39;00m model_class\u001b[39m.\u001b[39;49mfrom_pretrained(\n\u001b[1;32m    463\u001b[0m         pretrained_model_name_or_path, \u001b[39m*\u001b[39;49mmodel_args, config\u001b[39m=\u001b[39;49mconfig, \u001b[39m*\u001b[39;49m\u001b[39m*\u001b[39;49mhub_kwargs, \u001b[39m*\u001b[39;49m\u001b[39m*\u001b[39;49mkwargs\n\u001b[1;32m    464\u001b[0m     )\n\u001b[1;32m    465\u001b[0m \u001b[39melif\u001b[39;00m \u001b[39mtype\u001b[39m(config) \u001b[39min\u001b[39;00m \u001b[39mcls\u001b[39m\u001b[39m.\u001b[39m_model_mapping\u001b[39m.\u001b[39mkeys():\n\u001b[1;32m    466\u001b[0m     model_class \u001b[39m=\u001b[39m _get_model_class(config, \u001b[39mcls\u001b[39m\u001b[39m.\u001b[39m_model_mapping)\n",
      "File \u001b[0;32m~/miniconda3/envs/transformers/lib/python3.9/site-packages/transformers/modeling_utils.py:2523\u001b[0m, in \u001b[0;36mPreTrainedModel.from_pretrained\u001b[0;34m(cls, pretrained_model_name_or_path, *model_args, **kwargs)\u001b[0m\n\u001b[1;32m   2520\u001b[0m \u001b[39m# We'll need to download and cache each checkpoint shard if the checkpoint is sharded.\u001b[39;00m\n\u001b[1;32m   2521\u001b[0m \u001b[39mif\u001b[39;00m is_sharded:\n\u001b[1;32m   2522\u001b[0m     \u001b[39m# rsolved_archive_file becomes a list of files that point to the different checkpoint shards in this case.\u001b[39;00m\n\u001b[0;32m-> 2523\u001b[0m     resolved_archive_file, sharded_metadata \u001b[39m=\u001b[39m get_checkpoint_shard_files(\n\u001b[1;32m   2524\u001b[0m         pretrained_model_name_or_path,\n\u001b[1;32m   2525\u001b[0m         resolved_archive_file,\n\u001b[1;32m   2526\u001b[0m         cache_dir\u001b[39m=\u001b[39;49mcache_dir,\n\u001b[1;32m   2527\u001b[0m         force_download\u001b[39m=\u001b[39;49mforce_download,\n\u001b[1;32m   2528\u001b[0m         proxies\u001b[39m=\u001b[39;49mproxies,\n\u001b[1;32m   2529\u001b[0m         resume_download\u001b[39m=\u001b[39;49mresume_download,\n\u001b[1;32m   2530\u001b[0m         local_files_only\u001b[39m=\u001b[39;49mlocal_files_only,\n\u001b[1;32m   2531\u001b[0m         use_auth_token\u001b[39m=\u001b[39;49muse_auth_token,\n\u001b[1;32m   2532\u001b[0m         user_agent\u001b[39m=\u001b[39;49muser_agent,\n\u001b[1;32m   2533\u001b[0m         revision\u001b[39m=\u001b[39;49mrevision,\n\u001b[1;32m   2534\u001b[0m         subfolder\u001b[39m=\u001b[39;49msubfolder,\n\u001b[1;32m   2535\u001b[0m         _commit_hash\u001b[39m=\u001b[39;49mcommit_hash,\n\u001b[1;32m   2536\u001b[0m     )\n\u001b[1;32m   2538\u001b[0m \u001b[39m# load pt weights early so that we know which dtype to init the model under\u001b[39;00m\n\u001b[1;32m   2539\u001b[0m \u001b[39mif\u001b[39;00m from_pt:\n",
      "File \u001b[0;32m~/miniconda3/envs/transformers/lib/python3.9/site-packages/transformers/utils/hub.py:934\u001b[0m, in \u001b[0;36mget_checkpoint_shard_files\u001b[0;34m(pretrained_model_name_or_path, index_filename, cache_dir, force_download, proxies, resume_download, local_files_only, use_auth_token, user_agent, revision, subfolder, _commit_hash)\u001b[0m\n\u001b[1;32m    931\u001b[0m \u001b[39mfor\u001b[39;00m shard_filename \u001b[39min\u001b[39;00m tqdm(shard_filenames, desc\u001b[39m=\u001b[39m\u001b[39m\"\u001b[39m\u001b[39mDownloading shards\u001b[39m\u001b[39m\"\u001b[39m, disable\u001b[39m=\u001b[39m\u001b[39mnot\u001b[39;00m show_progress_bar):\n\u001b[1;32m    932\u001b[0m     \u001b[39mtry\u001b[39;00m:\n\u001b[1;32m    933\u001b[0m         \u001b[39m# Load from URL\u001b[39;00m\n\u001b[0;32m--> 934\u001b[0m         cached_filename \u001b[39m=\u001b[39m cached_file(\n\u001b[1;32m    935\u001b[0m             pretrained_model_name_or_path,\n\u001b[1;32m    936\u001b[0m             shard_filename,\n\u001b[1;32m    937\u001b[0m             cache_dir\u001b[39m=\u001b[39;49mcache_dir,\n\u001b[1;32m    938\u001b[0m             force_download\u001b[39m=\u001b[39;49mforce_download,\n\u001b[1;32m    939\u001b[0m             proxies\u001b[39m=\u001b[39;49mproxies,\n\u001b[1;32m    940\u001b[0m             resume_download\u001b[39m=\u001b[39;49mresume_download,\n\u001b[1;32m    941\u001b[0m             local_files_only\u001b[39m=\u001b[39;49mlocal_files_only,\n\u001b[1;32m    942\u001b[0m             use_auth_token\u001b[39m=\u001b[39;49muse_auth_token,\n\u001b[1;32m    943\u001b[0m             user_agent\u001b[39m=\u001b[39;49muser_agent,\n\u001b[1;32m    944\u001b[0m             revision\u001b[39m=\u001b[39;49mrevision,\n\u001b[1;32m    945\u001b[0m             subfolder\u001b[39m=\u001b[39;49msubfolder,\n\u001b[1;32m    946\u001b[0m             _commit_hash\u001b[39m=\u001b[39;49m_commit_hash,\n\u001b[1;32m    947\u001b[0m         )\n\u001b[1;32m    948\u001b[0m     \u001b[39m# We have already dealt with RepositoryNotFoundError and RevisionNotFoundError when getting the index, so\u001b[39;00m\n\u001b[1;32m    949\u001b[0m     \u001b[39m# we don't have to catch them here.\u001b[39;00m\n\u001b[1;32m    950\u001b[0m     \u001b[39mexcept\u001b[39;00m EntryNotFoundError:\n",
      "File \u001b[0;32m~/miniconda3/envs/transformers/lib/python3.9/site-packages/transformers/utils/hub.py:417\u001b[0m, in \u001b[0;36mcached_file\u001b[0;34m(path_or_repo_id, filename, cache_dir, force_download, resume_download, proxies, use_auth_token, revision, local_files_only, subfolder, repo_type, user_agent, _raise_exceptions_for_missing_entries, _raise_exceptions_for_connection_errors, _commit_hash)\u001b[0m\n\u001b[1;32m    414\u001b[0m user_agent \u001b[39m=\u001b[39m http_user_agent(user_agent)\n\u001b[1;32m    415\u001b[0m \u001b[39mtry\u001b[39;00m:\n\u001b[1;32m    416\u001b[0m     \u001b[39m# Load from URL or cache if already cached\u001b[39;00m\n\u001b[0;32m--> 417\u001b[0m     resolved_file \u001b[39m=\u001b[39m hf_hub_download(\n\u001b[1;32m    418\u001b[0m         path_or_repo_id,\n\u001b[1;32m    419\u001b[0m         filename,\n\u001b[1;32m    420\u001b[0m         subfolder\u001b[39m=\u001b[39;49m\u001b[39mNone\u001b[39;49;00m \u001b[39mif\u001b[39;49;00m \u001b[39mlen\u001b[39;49m(subfolder) \u001b[39m==\u001b[39;49m \u001b[39m0\u001b[39;49m \u001b[39melse\u001b[39;49;00m subfolder,\n\u001b[1;32m    421\u001b[0m         repo_type\u001b[39m=\u001b[39;49mrepo_type,\n\u001b[1;32m    422\u001b[0m         revision\u001b[39m=\u001b[39;49mrevision,\n\u001b[1;32m    423\u001b[0m         cache_dir\u001b[39m=\u001b[39;49mcache_dir,\n\u001b[1;32m    424\u001b[0m         user_agent\u001b[39m=\u001b[39;49muser_agent,\n\u001b[1;32m    425\u001b[0m         force_download\u001b[39m=\u001b[39;49mforce_download,\n\u001b[1;32m    426\u001b[0m         proxies\u001b[39m=\u001b[39;49mproxies,\n\u001b[1;32m    427\u001b[0m         resume_download\u001b[39m=\u001b[39;49mresume_download,\n\u001b[1;32m    428\u001b[0m         use_auth_token\u001b[39m=\u001b[39;49muse_auth_token,\n\u001b[1;32m    429\u001b[0m         local_files_only\u001b[39m=\u001b[39;49mlocal_files_only,\n\u001b[1;32m    430\u001b[0m     )\n\u001b[1;32m    432\u001b[0m \u001b[39mexcept\u001b[39;00m RepositoryNotFoundError:\n\u001b[1;32m    433\u001b[0m     \u001b[39mraise\u001b[39;00m \u001b[39mEnvironmentError\u001b[39;00m(\n\u001b[1;32m    434\u001b[0m         \u001b[39mf\u001b[39m\u001b[39m\"\u001b[39m\u001b[39m{\u001b[39;00mpath_or_repo_id\u001b[39m}\u001b[39;00m\u001b[39m is not a local folder and is not a valid model identifier \u001b[39m\u001b[39m\"\u001b[39m\n\u001b[1;32m    435\u001b[0m         \u001b[39m\"\u001b[39m\u001b[39mlisted on \u001b[39m\u001b[39m'\u001b[39m\u001b[39mhttps://huggingface.co/models\u001b[39m\u001b[39m'\u001b[39m\u001b[39m\\n\u001b[39;00m\u001b[39mIf this is a private repository, make sure to \u001b[39m\u001b[39m\"\u001b[39m\n\u001b[1;32m    436\u001b[0m         \u001b[39m\"\u001b[39m\u001b[39mpass a token having permission to this repo with `use_auth_token` or log in with \u001b[39m\u001b[39m\"\u001b[39m\n\u001b[1;32m    437\u001b[0m         \u001b[39m\"\u001b[39m\u001b[39m`huggingface-cli login` and pass `use_auth_token=True`.\u001b[39m\u001b[39m\"\u001b[39m\n\u001b[1;32m    438\u001b[0m     )\n",
      "File \u001b[0;32m~/miniconda3/envs/transformers/lib/python3.9/site-packages/huggingface_hub/utils/_validators.py:118\u001b[0m, in \u001b[0;36mvalidate_hf_hub_args.<locals>._inner_fn\u001b[0;34m(*args, **kwargs)\u001b[0m\n\u001b[1;32m    115\u001b[0m \u001b[39mif\u001b[39;00m check_use_auth_token:\n\u001b[1;32m    116\u001b[0m     kwargs \u001b[39m=\u001b[39m smoothly_deprecate_use_auth_token(fn_name\u001b[39m=\u001b[39mfn\u001b[39m.\u001b[39m\u001b[39m__name__\u001b[39m, has_token\u001b[39m=\u001b[39mhas_token, kwargs\u001b[39m=\u001b[39mkwargs)\n\u001b[0;32m--> 118\u001b[0m \u001b[39mreturn\u001b[39;00m fn(\u001b[39m*\u001b[39;49margs, \u001b[39m*\u001b[39;49m\u001b[39m*\u001b[39;49mkwargs)\n",
      "File \u001b[0;32m~/miniconda3/envs/transformers/lib/python3.9/site-packages/huggingface_hub/file_download.py:1364\u001b[0m, in \u001b[0;36mhf_hub_download\u001b[0;34m(repo_id, filename, subfolder, repo_type, revision, library_name, library_version, cache_dir, local_dir, local_dir_use_symlinks, user_agent, force_download, force_filename, proxies, etag_timeout, resume_download, token, local_files_only, legacy_cache_layout)\u001b[0m\n\u001b[1;32m   1361\u001b[0m \u001b[39mwith\u001b[39;00m temp_file_manager() \u001b[39mas\u001b[39;00m temp_file:\n\u001b[1;32m   1362\u001b[0m     logger\u001b[39m.\u001b[39minfo(\u001b[39m\"\u001b[39m\u001b[39mdownloading \u001b[39m\u001b[39m%s\u001b[39;00m\u001b[39m to \u001b[39m\u001b[39m%s\u001b[39;00m\u001b[39m\"\u001b[39m, url, temp_file\u001b[39m.\u001b[39mname)\n\u001b[0;32m-> 1364\u001b[0m     http_get(\n\u001b[1;32m   1365\u001b[0m         url_to_download,\n\u001b[1;32m   1366\u001b[0m         temp_file,\n\u001b[1;32m   1367\u001b[0m         proxies\u001b[39m=\u001b[39;49mproxies,\n\u001b[1;32m   1368\u001b[0m         resume_size\u001b[39m=\u001b[39;49mresume_size,\n\u001b[1;32m   1369\u001b[0m         headers\u001b[39m=\u001b[39;49mheaders,\n\u001b[1;32m   1370\u001b[0m         expected_size\u001b[39m=\u001b[39;49mexpected_size,\n\u001b[1;32m   1371\u001b[0m     )\n\u001b[1;32m   1373\u001b[0m \u001b[39mif\u001b[39;00m local_dir \u001b[39mis\u001b[39;00m \u001b[39mNone\u001b[39;00m:\n\u001b[1;32m   1374\u001b[0m     logger\u001b[39m.\u001b[39minfo(\u001b[39mf\u001b[39m\u001b[39m\"\u001b[39m\u001b[39mStoring \u001b[39m\u001b[39m{\u001b[39;00murl\u001b[39m}\u001b[39;00m\u001b[39m in cache at \u001b[39m\u001b[39m{\u001b[39;00mblob_path\u001b[39m}\u001b[39;00m\u001b[39m\"\u001b[39m)\n",
      "File \u001b[0;32m~/miniconda3/envs/transformers/lib/python3.9/site-packages/huggingface_hub/file_download.py:541\u001b[0m, in \u001b[0;36mhttp_get\u001b[0;34m(url, temp_file, proxies, resume_size, headers, timeout, max_retries, expected_size)\u001b[0m\n\u001b[1;32m    531\u001b[0m     displayed_name \u001b[39m=\u001b[39m \u001b[39mf\u001b[39m\u001b[39m\"\u001b[39m\u001b[39m(…)\u001b[39m\u001b[39m{\u001b[39;00mdisplayed_name[\u001b[39m-\u001b[39m\u001b[39m20\u001b[39m:]\u001b[39m}\u001b[39;00m\u001b[39m\"\u001b[39m\n\u001b[1;32m    533\u001b[0m progress \u001b[39m=\u001b[39m tqdm(\n\u001b[1;32m    534\u001b[0m     unit\u001b[39m=\u001b[39m\u001b[39m\"\u001b[39m\u001b[39mB\u001b[39m\u001b[39m\"\u001b[39m,\n\u001b[1;32m    535\u001b[0m     unit_scale\u001b[39m=\u001b[39m\u001b[39mTrue\u001b[39;00m,\n\u001b[0;32m   (...)\u001b[0m\n\u001b[1;32m    539\u001b[0m     disable\u001b[39m=\u001b[39m\u001b[39mbool\u001b[39m(logger\u001b[39m.\u001b[39mgetEffectiveLevel() \u001b[39m==\u001b[39m logging\u001b[39m.\u001b[39mNOTSET),\n\u001b[1;32m    540\u001b[0m )\n\u001b[0;32m--> 541\u001b[0m \u001b[39mfor\u001b[39;00m chunk \u001b[39min\u001b[39;00m r\u001b[39m.\u001b[39miter_content(chunk_size\u001b[39m=\u001b[39m\u001b[39m10\u001b[39m \u001b[39m*\u001b[39m \u001b[39m1024\u001b[39m \u001b[39m*\u001b[39m \u001b[39m1024\u001b[39m):\n\u001b[1;32m    542\u001b[0m     \u001b[39mif\u001b[39;00m chunk:  \u001b[39m# filter out keep-alive new chunks\u001b[39;00m\n\u001b[1;32m    543\u001b[0m         progress\u001b[39m.\u001b[39mupdate(\u001b[39mlen\u001b[39m(chunk))\n",
      "File \u001b[0;32m~/miniconda3/envs/transformers/lib/python3.9/site-packages/requests/models.py:816\u001b[0m, in \u001b[0;36mResponse.iter_content.<locals>.generate\u001b[0;34m()\u001b[0m\n\u001b[1;32m    814\u001b[0m \u001b[39mif\u001b[39;00m \u001b[39mhasattr\u001b[39m(\u001b[39mself\u001b[39m\u001b[39m.\u001b[39mraw, \u001b[39m\"\u001b[39m\u001b[39mstream\u001b[39m\u001b[39m\"\u001b[39m):\n\u001b[1;32m    815\u001b[0m     \u001b[39mtry\u001b[39;00m:\n\u001b[0;32m--> 816\u001b[0m         \u001b[39myield from\u001b[39;00m \u001b[39mself\u001b[39m\u001b[39m.\u001b[39mraw\u001b[39m.\u001b[39mstream(chunk_size, decode_content\u001b[39m=\u001b[39m\u001b[39mTrue\u001b[39;00m)\n\u001b[1;32m    817\u001b[0m     \u001b[39mexcept\u001b[39;00m ProtocolError \u001b[39mas\u001b[39;00m e:\n\u001b[1;32m    818\u001b[0m         \u001b[39mraise\u001b[39;00m ChunkedEncodingError(e)\n",
      "File \u001b[0;32m~/miniconda3/envs/transformers/lib/python3.9/site-packages/urllib3/response.py:628\u001b[0m, in \u001b[0;36mHTTPResponse.stream\u001b[0;34m(self, amt, decode_content)\u001b[0m\n\u001b[1;32m    626\u001b[0m \u001b[39melse\u001b[39;00m:\n\u001b[1;32m    627\u001b[0m     \u001b[39mwhile\u001b[39;00m \u001b[39mnot\u001b[39;00m is_fp_closed(\u001b[39mself\u001b[39m\u001b[39m.\u001b[39m_fp):\n\u001b[0;32m--> 628\u001b[0m         data \u001b[39m=\u001b[39m \u001b[39mself\u001b[39;49m\u001b[39m.\u001b[39;49mread(amt\u001b[39m=\u001b[39;49mamt, decode_content\u001b[39m=\u001b[39;49mdecode_content)\n\u001b[1;32m    630\u001b[0m         \u001b[39mif\u001b[39;00m data:\n\u001b[1;32m    631\u001b[0m             \u001b[39myield\u001b[39;00m data\n",
      "File \u001b[0;32m~/miniconda3/envs/transformers/lib/python3.9/site-packages/urllib3/response.py:567\u001b[0m, in \u001b[0;36mHTTPResponse.read\u001b[0;34m(self, amt, decode_content, cache_content)\u001b[0m\n\u001b[1;32m    564\u001b[0m fp_closed \u001b[39m=\u001b[39m \u001b[39mgetattr\u001b[39m(\u001b[39mself\u001b[39m\u001b[39m.\u001b[39m_fp, \u001b[39m\"\u001b[39m\u001b[39mclosed\u001b[39m\u001b[39m\"\u001b[39m, \u001b[39mFalse\u001b[39;00m)\n\u001b[1;32m    566\u001b[0m \u001b[39mwith\u001b[39;00m \u001b[39mself\u001b[39m\u001b[39m.\u001b[39m_error_catcher():\n\u001b[0;32m--> 567\u001b[0m     data \u001b[39m=\u001b[39m \u001b[39mself\u001b[39;49m\u001b[39m.\u001b[39;49m_fp_read(amt) \u001b[39mif\u001b[39;00m \u001b[39mnot\u001b[39;00m fp_closed \u001b[39melse\u001b[39;00m \u001b[39mb\u001b[39m\u001b[39m\"\u001b[39m\u001b[39m\"\u001b[39m\n\u001b[1;32m    568\u001b[0m     \u001b[39mif\u001b[39;00m amt \u001b[39mis\u001b[39;00m \u001b[39mNone\u001b[39;00m:\n\u001b[1;32m    569\u001b[0m         flush_decoder \u001b[39m=\u001b[39m \u001b[39mTrue\u001b[39;00m\n",
      "File \u001b[0;32m~/miniconda3/envs/transformers/lib/python3.9/site-packages/urllib3/response.py:525\u001b[0m, in \u001b[0;36mHTTPResponse._fp_read\u001b[0;34m(self, amt)\u001b[0m\n\u001b[1;32m    523\u001b[0m \u001b[39melse\u001b[39;00m:\n\u001b[1;32m    524\u001b[0m     chunk_amt \u001b[39m=\u001b[39m max_chunk_amt\n\u001b[0;32m--> 525\u001b[0m data \u001b[39m=\u001b[39m \u001b[39mself\u001b[39;49m\u001b[39m.\u001b[39;49m_fp\u001b[39m.\u001b[39;49mread(chunk_amt)\n\u001b[1;32m    526\u001b[0m \u001b[39mif\u001b[39;00m \u001b[39mnot\u001b[39;00m data:\n\u001b[1;32m    527\u001b[0m     \u001b[39mbreak\u001b[39;00m\n",
      "File \u001b[0;32m~/miniconda3/envs/transformers/lib/python3.9/http/client.py:463\u001b[0m, in \u001b[0;36mHTTPResponse.read\u001b[0;34m(self, amt)\u001b[0m\n\u001b[1;32m    460\u001b[0m \u001b[39mif\u001b[39;00m amt \u001b[39mis\u001b[39;00m \u001b[39mnot\u001b[39;00m \u001b[39mNone\u001b[39;00m:\n\u001b[1;32m    461\u001b[0m     \u001b[39m# Amount is given, implement using readinto\u001b[39;00m\n\u001b[1;32m    462\u001b[0m     b \u001b[39m=\u001b[39m \u001b[39mbytearray\u001b[39m(amt)\n\u001b[0;32m--> 463\u001b[0m     n \u001b[39m=\u001b[39m \u001b[39mself\u001b[39;49m\u001b[39m.\u001b[39;49mreadinto(b)\n\u001b[1;32m    464\u001b[0m     \u001b[39mreturn\u001b[39;00m \u001b[39mmemoryview\u001b[39m(b)[:n]\u001b[39m.\u001b[39mtobytes()\n\u001b[1;32m    465\u001b[0m \u001b[39melse\u001b[39;00m:\n\u001b[1;32m    466\u001b[0m     \u001b[39m# Amount is not given (unbounded read) so we must check self.length\u001b[39;00m\n\u001b[1;32m    467\u001b[0m     \u001b[39m# and self.chunked\u001b[39;00m\n",
      "File \u001b[0;32m~/miniconda3/envs/transformers/lib/python3.9/http/client.py:507\u001b[0m, in \u001b[0;36mHTTPResponse.readinto\u001b[0;34m(self, b)\u001b[0m\n\u001b[1;32m    502\u001b[0m         b \u001b[39m=\u001b[39m \u001b[39mmemoryview\u001b[39m(b)[\u001b[39m0\u001b[39m:\u001b[39mself\u001b[39m\u001b[39m.\u001b[39mlength]\n\u001b[1;32m    504\u001b[0m \u001b[39m# we do not use _safe_read() here because this may be a .will_close\u001b[39;00m\n\u001b[1;32m    505\u001b[0m \u001b[39m# connection, and the user is reading more bytes than will be provided\u001b[39;00m\n\u001b[1;32m    506\u001b[0m \u001b[39m# (for example, reading in 1k chunks)\u001b[39;00m\n\u001b[0;32m--> 507\u001b[0m n \u001b[39m=\u001b[39m \u001b[39mself\u001b[39;49m\u001b[39m.\u001b[39;49mfp\u001b[39m.\u001b[39;49mreadinto(b)\n\u001b[1;32m    508\u001b[0m \u001b[39mif\u001b[39;00m \u001b[39mnot\u001b[39;00m n \u001b[39mand\u001b[39;00m b:\n\u001b[1;32m    509\u001b[0m     \u001b[39m# Ideally, we would raise IncompleteRead if the content-length\u001b[39;00m\n\u001b[1;32m    510\u001b[0m     \u001b[39m# wasn't satisfied, but it might break compatibility.\u001b[39;00m\n\u001b[1;32m    511\u001b[0m     \u001b[39mself\u001b[39m\u001b[39m.\u001b[39m_close_conn()\n",
      "File \u001b[0;32m~/miniconda3/envs/transformers/lib/python3.9/socket.py:704\u001b[0m, in \u001b[0;36mSocketIO.readinto\u001b[0;34m(self, b)\u001b[0m\n\u001b[1;32m    702\u001b[0m \u001b[39mwhile\u001b[39;00m \u001b[39mTrue\u001b[39;00m:\n\u001b[1;32m    703\u001b[0m     \u001b[39mtry\u001b[39;00m:\n\u001b[0;32m--> 704\u001b[0m         \u001b[39mreturn\u001b[39;00m \u001b[39mself\u001b[39;49m\u001b[39m.\u001b[39;49m_sock\u001b[39m.\u001b[39;49mrecv_into(b)\n\u001b[1;32m    705\u001b[0m     \u001b[39mexcept\u001b[39;00m timeout:\n\u001b[1;32m    706\u001b[0m         \u001b[39mself\u001b[39m\u001b[39m.\u001b[39m_timeout_occurred \u001b[39m=\u001b[39m \u001b[39mTrue\u001b[39;00m\n",
      "File \u001b[0;32m~/miniconda3/envs/transformers/lib/python3.9/ssl.py:1242\u001b[0m, in \u001b[0;36mSSLSocket.recv_into\u001b[0;34m(self, buffer, nbytes, flags)\u001b[0m\n\u001b[1;32m   1238\u001b[0m     \u001b[39mif\u001b[39;00m flags \u001b[39m!=\u001b[39m \u001b[39m0\u001b[39m:\n\u001b[1;32m   1239\u001b[0m         \u001b[39mraise\u001b[39;00m \u001b[39mValueError\u001b[39;00m(\n\u001b[1;32m   1240\u001b[0m           \u001b[39m\"\u001b[39m\u001b[39mnon-zero flags not allowed in calls to recv_into() on \u001b[39m\u001b[39m%s\u001b[39;00m\u001b[39m\"\u001b[39m \u001b[39m%\u001b[39m\n\u001b[1;32m   1241\u001b[0m           \u001b[39mself\u001b[39m\u001b[39m.\u001b[39m\u001b[39m__class__\u001b[39m)\n\u001b[0;32m-> 1242\u001b[0m     \u001b[39mreturn\u001b[39;00m \u001b[39mself\u001b[39;49m\u001b[39m.\u001b[39;49mread(nbytes, buffer)\n\u001b[1;32m   1243\u001b[0m \u001b[39melse\u001b[39;00m:\n\u001b[1;32m   1244\u001b[0m     \u001b[39mreturn\u001b[39;00m \u001b[39msuper\u001b[39m()\u001b[39m.\u001b[39mrecv_into(buffer, nbytes, flags)\n",
      "File \u001b[0;32m~/miniconda3/envs/transformers/lib/python3.9/ssl.py:1100\u001b[0m, in \u001b[0;36mSSLSocket.read\u001b[0;34m(self, len, buffer)\u001b[0m\n\u001b[1;32m   1098\u001b[0m \u001b[39mtry\u001b[39;00m:\n\u001b[1;32m   1099\u001b[0m     \u001b[39mif\u001b[39;00m buffer \u001b[39mis\u001b[39;00m \u001b[39mnot\u001b[39;00m \u001b[39mNone\u001b[39;00m:\n\u001b[0;32m-> 1100\u001b[0m         \u001b[39mreturn\u001b[39;00m \u001b[39mself\u001b[39;49m\u001b[39m.\u001b[39;49m_sslobj\u001b[39m.\u001b[39;49mread(\u001b[39mlen\u001b[39;49m, buffer)\n\u001b[1;32m   1101\u001b[0m     \u001b[39melse\u001b[39;00m:\n\u001b[1;32m   1102\u001b[0m         \u001b[39mreturn\u001b[39;00m \u001b[39mself\u001b[39m\u001b[39m.\u001b[39m_sslobj\u001b[39m.\u001b[39mread(\u001b[39mlen\u001b[39m)\n",
      "\u001b[0;31mKeyboardInterrupt\u001b[0m: "
     ]
    }
   ],
   "source": [
    "\n",
    "from transformers import AutoTokenizer, AutoModelForCausalLM\n",
    "import transformers\n",
    "import torch\n",
    "\n",
    "model = \"tiiuae/falcon-7b-instruct\"\n",
    "\n",
    "tokenizer = AutoTokenizer.from_pretrained(model)\n",
    "pipeline = transformers.pipeline(\n",
    "    \"text-generation\",\n",
    "    model=model,\n",
    "    tokenizer=tokenizer,\n",
    "    torch_dtype=torch.bfloat16,\n",
    "    trust_remote_code=True,\n",
    "    device_map=\"auto\",\n",
    ")\n",
    "sequences = pipeline(\n",
    "   \"Girafatron is obsessed with giraffes, the most glorious animal on the face of this Earth. Giraftron believes all other animals are irrelevant when compared to the glorious majesty of the giraffe.\\nDaniel: Hello, Girafatron!\\nGirafatron:\",\n",
    "    max_length=200,\n",
    "    do_sample=True,\n",
    "    top_k=10,\n",
    "    num_return_sequences=1,\n",
    "    eos_token_id=tokenizer.eos_token_id,\n",
    ")\n",
    "for seq in sequences:\n",
    "    print(f\"Result: {seq['generated_text']}\")   "
   ]
  },
  {
   "cell_type": "code",
   "execution_count": 37,
   "metadata": {},
   "outputs": [
    {
     "name": "stderr",
     "output_type": "stream",
     "text": [
      "/home/jonas/miniconda3/envs/transformers/lib/python3.9/site-packages/transformers/generation/utils.py:1219: UserWarning: You have modified the pretrained model configuration to control generation. This is a deprecated strategy to control generation and will be removed soon, in a future version. Please use a generation configuration file (see https://huggingface.co/docs/transformers/main_classes/text_generation)\n",
      "  warnings.warn(\n",
      "Setting `pad_token_id` to `eos_token_id`:50256 for open-end generation.\n"
     ]
    },
    {
     "name": "stdout",
     "output_type": "stream",
     "text": [
      "1 What are the most common chronic diseases? What effects do chronic diseases have for the society and the individual?\n"
     ]
    },
    {
     "name": "stderr",
     "output_type": "stream",
     "text": [
      "Setting `pad_token_id` to `eos_token_id`:50256 for open-end generation.\n"
     ]
    },
    {
     "name": "stdout",
     "output_type": "stream",
     "text": [
      "Posted by BK on Wednesday, October 7 2013 at 8:30 am | Permalink\n",
      "8 best apps daily activity exercise diabetes\n"
     ]
    },
    {
     "name": "stderr",
     "output_type": "stream",
     "text": [
      "Setting `pad_token_id` to `eos_token_id`:50256 for open-end generation.\n"
     ]
    },
    {
     "name": "stdout",
     "output_type": "stream",
     "text": [
      "1. You may want to consider switching with a different health plan by making your current one work better for you, or even make it simpler so that only the latest app works best when needed as explained in this blog post 2. If I'm not sure of my food on Tuesday morning at 4 am and can't find anything online, then maybe add some coffeeintentionally from here but still have an idea! See what i had there?\n",
      "22 my risk for developing type 2 diabetes\n"
     ]
    },
    {
     "name": "stderr",
     "output_type": "stream",
     "text": [
      "Setting `pad_token_id` to `eos_token_id`:50256 for open-end generation.\n"
     ]
    },
    {
     "name": "stdout",
     "output_type": "stream",
     "text": [
      "As this is an interesting and potentially lifesaving issue, my recommendation would be to always test with a low dose of insulin before making any changes. I also recommend giving your body at least one small meal that you can take once each day (if possible). Remember the first time in life - if all else fails then try again later... especially on days when it's not cold outside yet!Popular post: http://vitrillewongertspost.blogspot…\n",
      "35 Is a ketogenic / keto diet suitable for people with diabetes?\n"
     ]
    },
    {
     "name": "stderr",
     "output_type": "stream",
     "text": [
      "Setting `pad_token_id` to `eos_token_id`:50256 for open-end generation.\n"
     ]
    },
    {
     "name": "stdout",
     "output_type": "stream",
     "text": [
      ". The Keto Diet – Ketogenesis and the Effect of Carbohydrate/Fat Intake on Plasma Protein (KP) in Adult Women, 2004–2005. New England Journal General Med Sci 59 : 1037-1048 View In Article Scopus [67] 24121917 sharing google Scholar Crossref, Medline\n",
      "45 Can diabetes be cured?\n"
     ]
    },
    {
     "name": "stderr",
     "output_type": "stream",
     "text": [
      "Setting `pad_token_id` to `eos_token_id`:50256 for open-end generation.\n"
     ]
    },
    {
     "name": "stdout",
     "output_type": "stream",
     "text": [
      "We've tried at least three treatments for it, traction-based treatment and the ability to take part in a variety of training programs. The first two was called BioDiet Therapy (bioluminescence), which has been done on many animals by Dr. Kohn since 1995: there is no longer any need or risk associated with this therapy; biodick works much more quickly than previous therapies because its intensity seems relatively safe as long they are maintained while being continuously administrated every once in awhile - you don't feel like taking one dose over your whole life...and that's okay! This approach also doesn' t benefit from too strong an emphasis when trying some specific typesa drugs [such 'therapeutic aids', but such medications can only work so far], especially if certain individuals show symptoms including fatigue/dryness etc., not just heart failure & respiratory problems.\"The second option involves using acetaminophen (\"acetylcholamine\") before surgery,\" says David Pyle, President at National Institute On Aging : \"I recommend use immediately after medical consultation... I have known patients who used all four injections combined -- both oral versions had similar outcomes resulting mainly in mild back pain during each injection although my experience showed none were able stop their stomach acid buildup. Additionally topical corticosteroids should either remain completely sterile without medication other than aspirin applied prior insertion into tissues containing liver tissue until needed then remove them.\"There might still be complications following transplantation due early bleeding where even though these may result locally under anesthesia we're hopeful through proper surgical intervention will eliminate most side effects related charred parts / lesions left untreated within weeks\"David describes how he went about deciding what his last thought would look towards next time around--the possibility of recreating himself again based off research results rather closely followed up against alternative methods simply makes sense!\"This really helps me remember those years thinking recently something bad must go away...\"Gosh geez folks now want our bodies intact!! Our body needs constant attention!!!! Thank goodness i am well cared....what im saying out loud!!! People already know why u did..to begin making changes.....when ur face starts feeling sad ive seen countless people get angry........that doesnt mean omg thats wrong......we NEED MORE GAMES TO HELP YOU KNOW OUR MOST IMPORTANT THING IS WE CANNOT STOP WALKER SCENES BECAUSE THERE WILL BE ANYTIME YOUR EYE STOPS AND LET THIS PROCEED WITH THE SAME WAY EVERY TWO YEAR INSTEAD OF LEARNING ABOUT IT BUT IF THAT DOES HAPPENS THEN WHY DID U DO ONE FOR ME PLEASE SEE MY FACE??? It sounds eerily familiar.........But try walking outside often enough times..it does make things worse everyday!! When someone stops eating food yowls grow yellowish.......then others eat red meat alot,...this happened multiple occasions inside home woothing down stairs leading doors suddenly slammed shut....never gets better bc never wants nothing new!!!!! Now she asks doin her friends ask him dont put anything else behind pictures cause hes gonna cry??\n",
      "51 What is holistic medicine and what does it include?\n"
     ]
    },
    {
     "name": "stderr",
     "output_type": "stream",
     "text": [
      "Setting `pad_token_id` to `eos_token_id`:50256 for open-end generation.\n"
     ]
    },
    {
     "name": "stdout",
     "output_type": "stream",
     "text": [
      "The only way to decide with certainty whether you will have physical or mental health problems, according the US-funded National Institute of Mental Health (NIMH), appears beyond scientific criteria. According that study, there are 4 million U_S = 1m(1) x 20(-4)=3mg/kg^2; this translates into a 7 mg dose divided by 13 days' worth of risk for each month's use: on average your \"physical\" exposure could drop from 18 weeks without any visible complications down to 16 months per year at current levels if left unaddressed in most cases.\" This means 5 times as many people die every day after an infection than before,\" said Dr. David Parnell, MD emeritus neurosurgeon associated clinical director at NIPHS who was lead author of the report entitled Clinical Nutrition Perspectives 2016. In other words a lot less would be needed due mostly because all our nutrition choices come directly out of us — not through foods found inside – but also via natural nutrients like fruit bars along with vitamins A-C which provide vitamin C even though we don't eat them much here… So more dietary options might just put further strain over long term nutritional quality too!\" There seems to always be some sort about eating healthy outside food … however how seriously must those weighing their own personal medical needs take feeding back up right now?\" These factors need to become part enough when making decisions accordingly based off these findings!\n",
      "\n",
      ", Sargent & Ekins 2012 ) What should I do first thing 2015? By taking one last look around where something goes wrong while consuming nutritious meals such dieting can help resolve symptoms early - especially later during pregnancy It has been proven time since humans evolved 'healthier diets', probably well above 100 % plant matter intake recommended under conditions experienced prior human beings had developed naturally so they were able consume high amounts of animal products being absorbed daily From my experience reading articles describing new discoveries concerning different aspects contained within echolocation technologies make me think lots oftenof animals ingest large quantitiesbiotics The best known type of nutrient source used today may involve red blood cells called endocannabinoids As green leafy vegetables grow stronger faster then wheaten fibre eaten raw They require certain ingredients both old fashioned fresh produce processed organic sources Some vegetable brands contains flavonols Doses typically depend upon growth factor level Most vegans get low carb calories Low protein ones tend primarily gobs Of refined carbohydrates contain higher glycemic load And amino acids mainly present throughout tryptophan For example gluten helps decrease lactose production You'll find information online regarding supplements An additional topic explored extensively including antioxidant effects produced following supplementation involves antioxidantsA review explains why supplement consumption causes cancerAs others say Vitamin B12 protects against diabetes Cancer prevention prevents age related damageHow far away things truly really startIt definitely looks very crazy doing simple tasks When talking stress reduction solutions talk frankly If everything passes Well done Simple task # 2 doesn�t seem possible Or simply won���s conclusion Yes Don���� ��me! Let �������� i want To Go...to Find My Path Into That Great Place...And Where Do All Things Begin??My goal Was trying out various self improvement strategies Why did exercise work better Better performance No More Loss Than Hunger Nothing Seems Wrong But Does Work Much Happened Good Conditioner Helpful Behavior Will Make Everything Worry Just Give Up One Step Faster Easy Start Can Slow Your Heart Rate Increase Strength Improve Focus Quick Release Energy Balance Exercise Increases Intensity Reduces Lapse Response Changes Positive Thinking Makes We Quit Trying Fast Learning Strongness Creates Bigger Feelings How Often Have Any Day Not Enough Sleep Too Many Calories Less Tasteless Love Isn´nt Always Satisfied Yet Very Sometimes Felt Like Leaving Something Behind Another person experiences feelings Only Small Amount Would Never Become Full On Once Upon Now Then Afterwards Withdrawal At least Three Days Keep Me going Motivation Works Quite Successfully Overwhelming Body Weight Gain Physically Healthy Self Control Doesn`T Matter Physical Fitness Really Has Its Benefits Even Without Restriction Alcoholic beverages Are great BUT NOT NEEDED Drinking Water Getting Started Feeling Relaxed\n",
      "52 What are the most common mental health problems? How can I prevent or manage the most common mental health problems?\n"
     ]
    },
    {
     "name": "stderr",
     "output_type": "stream",
     "text": [
      "Setting `pad_token_id` to `eos_token_id`:50256 for open-end generation.\n"
     ]
    },
    {
     "name": "stdout",
     "output_type": "stream",
     "text": [
      "Cognitive difficulties include anxiety, depression and post traumatic stress disorder. Cognitive behavioral therapy (PET) is an effective treatment of these issues for nearly half a century now that involves many individuals experiencing chronic impairment in their cognitive functioning such as poor self-control behaviors rather than impaired social skills like teamwork ability/ideological judgement etc. The goal here would be to develop specific therapies which target those impairments on some level regardless whether they're real life psychological disorders caused by physical illness at work due only to substance abuse addiction with daily interactions between families over alcoholic beverages while working hard during school hours being physically sick.. There's much more room there but it could also mean one needs medical attention if you've had long term dementia without any symptoms whatsoever...\n",
      "53 what is psychotherapy?\n"
     ]
    },
    {
     "name": "stderr",
     "output_type": "stream",
     "text": [
      "Setting `pad_token_id` to `eos_token_id`:50256 for open-end generation.\n"
     ]
    },
    {
     "name": "stdout",
     "output_type": "stream",
     "text": [
      "It's a series of experiments by psychologists that assess people, including patients. When these sorts (and the different kinds) approach to therapy are not available in most other countries we see more and better success results for health professionals than do our own data or even personalised clinical trials—which does make it clear how important therapeutic interventions really ought be if they were going towards improving healthcare outcomes around diseases like cancer. But this question has also opened up quite another case where there isn't any evidence at all about what effective therapies should involve from an assessment point-of–view as far back into early medical thought through such studies on children who had been treated with drugs developed independently after World War II but ended years later thanks entirelyto post war experience because psychiatrists took their chances hereby using brain scans rather now very little information concerning normal behaviours which would have given birth just months ago when new treatments began being discovered worldwide: child development clinics/dental centres etc. So perhaps 'brain tests' mean nothing! We need some convincing explanations so long otherwise one wonders; Is Psyche right - though can you think straight whether neuroscience could ever prove real without giving us ideas...\n",
      "54 What does multiple sclerosis diagnosis include? What does it change?\n"
     ]
    },
    {
     "name": "stderr",
     "output_type": "stream",
     "text": [
      "Setting `pad_token_id` to `eos_token_id`:50256 for open-end generation.\n"
     ]
    },
    {
     "name": "stdout",
     "output_type": "stream",
     "text": [
      "A: It's important to understand that there are specific symptoms. For instance, the pain associated with one type of muscle infection appears as if they were caused by other types of disease (like arthritis). Additionally, some conditions may not be common at all and require treatment quickly for survival due just a few weeks after injury or even months later on death—such as diabetes mellitus [i]. A number more examples could go into these findings but suffice them to illustrate which parts lead from most people in certain cases down-regulation versus up/down regulation is simply too hard to draw straight away without further research; so once you start working around what constitutes symptom development then any individual side effect will appear quite different than others! Also note this can often take many years before \"the severity\" changes drastically when compared between individuals regardless — I would like to stress here right off where we started!!\n",
      "\n",
      "I see no reason why anyone should have difficulty getting better resolution because none of your patients seems healthy enough anymore!!! There has been much criticism today regarding MRSA infections being treated worse rather than safer overall based upon anecdotal evidence vs fact alone….and unfortunately very little empirical support exists out there…until now...so let me share my story……my wife had recently gone through chemotherapy chemo & her husband left several days early!!!! We needed another dose while he was still undergoing his fourth week..So....a friend told us about how she got their first injection almost 3 hrs prior using antibiotics 2nd day......then went thru an MRI.....never again did anything wrong.......it felt really good i guess................but soon realizing whats going on im rushed back home -bought medication....im ill worry whether thats ok ive found nothing..this next night doesnt feel safe,we're having lots blood tests done only 5 mos ago.when coming close to ending our fight yesterday morning...everybody feels fine........our body looks totally normal except during meds :c 6 hours old!that doesn't help its real painful sometimes 1 hour post surgery / last 4days sickness +2 lbs lb weight loss $2500 plus tax = 60% lower cost!!trying to get myself checked twice everyday 7 times daily??how do u treat him?after trying every single method above …theyre already healing…..letting give x time rest.........all three sides slowly return together over 20 minute periods 9 minutes full recovery 10 mins sleep 11mins cardio 12min yoga 13 min walk 14Min sit 15min bike 16malt running 18time intensive exercise 1930mg total energy consumption per workout 30g carbs calories intake wnt 40 grams protein dose 200 micro g fat *per kgkg*1 pound leaner obese >40 year olds <2500*** Weight gained ~400lb ***Weight gain reduced 95 % 8yr=8~13wk−5 yr −500k+4yrs max diet 75diet 80mmol dexamethasone 85 mg 0 mmOstral diuretics 120 tablets 50 ml saline 70 gram liquid water 48 milligrams vitamin C **caloric dense carbohydrate** Low carb foods high fibre fats low glycemic load poor insulin sensitivity sildenafil 90 mcG sucrose 130ml milk 100mcMv sugar pure corn starch 150 cL phytic acid 500 mL bismuth oleic acids 1000mL calcium phosphate 400microSAs lactate oxalates 300μmol potassium citrate 250ng sodium selenium sulfite 1200 micronized leucine 350 mDIA thiopental fluid magnesium stearan hydroxide 3000CALPATE nisodium iodides tretinoin 5000 μg uracectomy triatomassamide 10000 million IU creatinsyl ester beta blocker zinc oxide 800 pmotriene 2560nalm metformatin eugenics 1500 peprazole amelioration 1600 METHYL group lysergic rhizothiazolinones 2500 mmol Triton XR drug LTA benzophenoniacid calbindranidine branched chain adenosumaran hydrochlorinated biphenethylammonia clindamycin haloperidiol tricyclicityl chloride phenoxyfloramic Acid methionines chelfolate chlorhexahydrofoliate ethinyl palmitoylic turcarinic acetic compound pentavalent fluoride propylene alcohol acetaldehyde salivary ammoniac drink syrups alkylated form nitrous Oxime salt sulfur dioxide toxic solute Sulphur hexane hydrogen cyanobenzolic alkaline ether fosfamine tartaroxazine terpenes sulphuration toxinuria superoxide dismutase vanilloid reducer transaminases cysteogen activator receptor kappa B12 N-(3-[6)-enedioxymethyl)cycloproponic aromatic dimers pyramided diphenyltryptophosphorylate alpha lipolygen synthrene D\n",
      "55 How to manage multiple sclerosis?\n"
     ]
    },
    {
     "name": "stderr",
     "output_type": "stream",
     "text": [
      "Setting `pad_token_id` to `eos_token_id`:50256 for open-end generation.\n"
     ]
    },
    {
     "name": "stdout",
     "output_type": "stream",
     "text": [
      "The symptoms are different. In some cases, the patient has no memory or signs of muscle weakness; in others, they only show abnormal movements that suggest chronic disease (i., e,. stroke). These effects often appear after many years and usually not cause any physical complaints. The most common type may be persistent disability with difficulty talking about difficult problems like arthritis, headaches, depression, anxiety, irritable bowel syndrome, etc.; these include a variety other disorders such as dysthymia when muscles form too tightly due either back pain caused by fatigue following injury -- so we recommend you have at least three months' rest between treatments for those who experience recurrent episodes.\"\n",
      "57 multiple sclerosis stages phases\n"
     ]
    },
    {
     "name": "stderr",
     "output_type": "stream",
     "text": [
      "Setting `pad_token_id` to `eos_token_id`:50256 for open-end generation.\n"
     ]
    },
    {
     "name": "stdout",
     "output_type": "stream",
     "text": [
      "1) Glaucoma: A chronic inflammation of the lining brain (see below). 2. Parkinson's disease: The neuroinflammation associated with peripheral neurones, or PNEs; see also Dementia and Down syndrome 3.- Alzheimer's Disease 4.) Cholangioblastoma cells : Nerve cell dysfunction related to neurological diseases such as stroke due in part at risk for cardiovascular death 5.). Cancerous tumors are known because they form when a tumor grows outside its protective walls through direct damage from chemotherapy. In most cases malignant cancer is never reported after an initial diagnosis, especially if multiple SRCS have been identified 6.) Neuroblastomas  :- Brain-derived neurotrophic factor receptor I receptors 1), which inhibit astrocytic production by neutrophils - Neutropenias & Glandinoids\n",
      "\n",
      "2)- Leptin(which influences energy metabolism/energy utilization via uptake into adipocytes )...and all three act on these same neurons!! All over your body you will find this amazing fact that we've covered many times already.. You can still get some fat around here but just don't sweat it any more either! Donate Some Money To Your Local Animal Shelter If there Are Animals Near Where No One Has Been There has gone beyond animal sheltering too much!! That way no one gets sick!!! How do animals like us survive without humans? Well let me show how i did them research\n",
      "58 Risk to develop multiple sclerosis\n"
     ]
    },
    {
     "name": "stderr",
     "output_type": "stream",
     "text": [
      "Setting `pad_token_id` to `eos_token_id`:50256 for open-end generation.\n"
     ]
    },
    {
     "name": "stdout",
     "output_type": "stream",
     "text": [
      ", with only sporadic episodes in the last 10 years. When treated scripted treatment is given during remission it has no effect on outcome and can reduce or even eliminate disease (Wierzbicka 1990). Patients without progressive dementia have a significant reduction of their life expectancies who may benefit from these drugs as well but other factors such an increase either affect patient's ability for self-improvement that might diminish they symptoms than others; often patients are not aware due them lack sufficient physical stamina etc.... A study by Gee et al found: \"In healthy controls [treated] individuals were less susceptible against MS,\" he said \"...this suggests increased susceptibility over time.\" But another clinical use would be reducing risk when medication prescribed seems effective at treating chronic illnesses so we must consider this concept before prescribing any more treatments - like antipsychotics? Another group involved reported adverse effects after placebo drug had failed trials based on studies showing effectiveness vs antipharmacological approach where there was still insufficient data... It doesn't appear until very recently however many people do experience withdrawal syndrome... This means some things need taking : Antitropianic medications should also take consideration including those used long term among seniors receiving disability assistance while high doses require follow up between therapy sessions because older clients will suffer problems which could lead directly into acute maladaptive behaviors rather then mental health issues if left untreated Bipolar disorder The majority believe antidepressants cause bipolar depression.. As someone mentioned above I feel depressed sometimes.. How much help does psychiatrist make me choose my medicine? My doctor wants him to talk about what his understanding i'm dealing n all research needs careful review, read your paper http://www1journals.org/medcentral/2011c013450p3a03b97 Some important advice What you know Now For questions related To give our members insight In general 'A bit' goes OK There seemed nothing quite right If psychiatry really did produce something nice You just want everyone interested\n",
      "59 long-term effects likelihood multiple sclerosis\n"
     ]
    },
    {
     "ename": "KeyboardInterrupt",
     "evalue": "",
     "output_type": "error",
     "traceback": [
      "\u001b[0;31m---------------------------------------------------------------------------\u001b[0m",
      "\u001b[0;31mKeyboardInterrupt\u001b[0m                         Traceback (most recent call last)",
      "Cell \u001b[0;32mIn[37], line 9\u001b[0m\n\u001b[1;32m      7\u001b[0m \u001b[39mprint\u001b[39m(topic_id, topic_query)\n\u001b[1;32m      8\u001b[0m topic_query \u001b[39m=\u001b[39m topic_query \u001b[39m+\u001b[39m \u001b[39m'\u001b[39m\u001b[39m\\n\u001b[39;00m\u001b[39m'\u001b[39m\n\u001b[0;32m----> 9\u001b[0m output_dict[topic_id] \u001b[39m=\u001b[39m generator(topic_query, max_length\u001b[39m=\u001b[39;49m\u001b[39m1000\u001b[39;49m, num_return_sequences\u001b[39m=\u001b[39;49m\u001b[39m1\u001b[39;49m, do_sample\u001b[39m=\u001b[39;49m\u001b[39mTrue\u001b[39;49;00m, temperature\u001b[39m=\u001b[39;49m\u001b[39m0.9\u001b[39;49m, repetition_penalty\u001b[39m=\u001b[39;49m\u001b[39m1.2\u001b[39;49m)\n\u001b[1;32m     10\u001b[0m out_text \u001b[39m=\u001b[39m output_dict[topic_id][\u001b[39m0\u001b[39m][\u001b[39m'\u001b[39m\u001b[39mgenerated_text\u001b[39m\u001b[39m'\u001b[39m]\u001b[39m.\u001b[39mreplace(topic_query, \u001b[39m'\u001b[39m\u001b[39m'\u001b[39m)\u001b[39m.\u001b[39mstrip()\n\u001b[1;32m     11\u001b[0m \u001b[39mprint\u001b[39m(out_text)\n",
      "File \u001b[0;32m~/miniconda3/envs/transformers/lib/python3.9/site-packages/transformers/pipelines/text_generation.py:209\u001b[0m, in \u001b[0;36mTextGenerationPipeline.__call__\u001b[0;34m(self, text_inputs, **kwargs)\u001b[0m\n\u001b[1;32m    168\u001b[0m \u001b[39mdef\u001b[39;00m \u001b[39m__call__\u001b[39m(\u001b[39mself\u001b[39m, text_inputs, \u001b[39m*\u001b[39m\u001b[39m*\u001b[39mkwargs):\n\u001b[1;32m    169\u001b[0m     \u001b[39m\"\"\"\u001b[39;00m\n\u001b[1;32m    170\u001b[0m \u001b[39m    Complete the prompt(s) given as inputs.\u001b[39;00m\n\u001b[1;32m    171\u001b[0m \n\u001b[0;32m   (...)\u001b[0m\n\u001b[1;32m    207\u001b[0m \u001b[39m          ids of the generated text.\u001b[39;00m\n\u001b[1;32m    208\u001b[0m \u001b[39m    \"\"\"\u001b[39;00m\n\u001b[0;32m--> 209\u001b[0m     \u001b[39mreturn\u001b[39;00m \u001b[39msuper\u001b[39;49m()\u001b[39m.\u001b[39;49m\u001b[39m__call__\u001b[39;49m(text_inputs, \u001b[39m*\u001b[39;49m\u001b[39m*\u001b[39;49mkwargs)\n",
      "File \u001b[0;32m~/miniconda3/envs/transformers/lib/python3.9/site-packages/transformers/pipelines/base.py:1109\u001b[0m, in \u001b[0;36mPipeline.__call__\u001b[0;34m(self, inputs, num_workers, batch_size, *args, **kwargs)\u001b[0m\n\u001b[1;32m   1101\u001b[0m     \u001b[39mreturn\u001b[39;00m \u001b[39mnext\u001b[39m(\n\u001b[1;32m   1102\u001b[0m         \u001b[39miter\u001b[39m(\n\u001b[1;32m   1103\u001b[0m             \u001b[39mself\u001b[39m\u001b[39m.\u001b[39mget_iterator(\n\u001b[0;32m   (...)\u001b[0m\n\u001b[1;32m   1106\u001b[0m         )\n\u001b[1;32m   1107\u001b[0m     )\n\u001b[1;32m   1108\u001b[0m \u001b[39melse\u001b[39;00m:\n\u001b[0;32m-> 1109\u001b[0m     \u001b[39mreturn\u001b[39;00m \u001b[39mself\u001b[39;49m\u001b[39m.\u001b[39;49mrun_single(inputs, preprocess_params, forward_params, postprocess_params)\n",
      "File \u001b[0;32m~/miniconda3/envs/transformers/lib/python3.9/site-packages/transformers/pipelines/base.py:1116\u001b[0m, in \u001b[0;36mPipeline.run_single\u001b[0;34m(self, inputs, preprocess_params, forward_params, postprocess_params)\u001b[0m\n\u001b[1;32m   1114\u001b[0m \u001b[39mdef\u001b[39;00m \u001b[39mrun_single\u001b[39m(\u001b[39mself\u001b[39m, inputs, preprocess_params, forward_params, postprocess_params):\n\u001b[1;32m   1115\u001b[0m     model_inputs \u001b[39m=\u001b[39m \u001b[39mself\u001b[39m\u001b[39m.\u001b[39mpreprocess(inputs, \u001b[39m*\u001b[39m\u001b[39m*\u001b[39mpreprocess_params)\n\u001b[0;32m-> 1116\u001b[0m     model_outputs \u001b[39m=\u001b[39m \u001b[39mself\u001b[39;49m\u001b[39m.\u001b[39;49mforward(model_inputs, \u001b[39m*\u001b[39;49m\u001b[39m*\u001b[39;49mforward_params)\n\u001b[1;32m   1117\u001b[0m     outputs \u001b[39m=\u001b[39m \u001b[39mself\u001b[39m\u001b[39m.\u001b[39mpostprocess(model_outputs, \u001b[39m*\u001b[39m\u001b[39m*\u001b[39mpostprocess_params)\n\u001b[1;32m   1118\u001b[0m     \u001b[39mreturn\u001b[39;00m outputs\n",
      "File \u001b[0;32m~/miniconda3/envs/transformers/lib/python3.9/site-packages/transformers/pipelines/base.py:1015\u001b[0m, in \u001b[0;36mPipeline.forward\u001b[0;34m(self, model_inputs, **forward_params)\u001b[0m\n\u001b[1;32m   1013\u001b[0m     \u001b[39mwith\u001b[39;00m inference_context():\n\u001b[1;32m   1014\u001b[0m         model_inputs \u001b[39m=\u001b[39m \u001b[39mself\u001b[39m\u001b[39m.\u001b[39m_ensure_tensor_on_device(model_inputs, device\u001b[39m=\u001b[39m\u001b[39mself\u001b[39m\u001b[39m.\u001b[39mdevice)\n\u001b[0;32m-> 1015\u001b[0m         model_outputs \u001b[39m=\u001b[39m \u001b[39mself\u001b[39;49m\u001b[39m.\u001b[39;49m_forward(model_inputs, \u001b[39m*\u001b[39;49m\u001b[39m*\u001b[39;49mforward_params)\n\u001b[1;32m   1016\u001b[0m         model_outputs \u001b[39m=\u001b[39m \u001b[39mself\u001b[39m\u001b[39m.\u001b[39m_ensure_tensor_on_device(model_outputs, device\u001b[39m=\u001b[39mtorch\u001b[39m.\u001b[39mdevice(\u001b[39m\"\u001b[39m\u001b[39mcpu\u001b[39m\u001b[39m\"\u001b[39m))\n\u001b[1;32m   1017\u001b[0m \u001b[39melse\u001b[39;00m:\n",
      "File \u001b[0;32m~/miniconda3/envs/transformers/lib/python3.9/site-packages/transformers/pipelines/text_generation.py:251\u001b[0m, in \u001b[0;36mTextGenerationPipeline._forward\u001b[0;34m(self, model_inputs, **generate_kwargs)\u001b[0m\n\u001b[1;32m    249\u001b[0m prompt_text \u001b[39m=\u001b[39m model_inputs\u001b[39m.\u001b[39mpop(\u001b[39m\"\u001b[39m\u001b[39mprompt_text\u001b[39m\u001b[39m\"\u001b[39m)\n\u001b[1;32m    250\u001b[0m \u001b[39m# BS x SL\u001b[39;00m\n\u001b[0;32m--> 251\u001b[0m generated_sequence \u001b[39m=\u001b[39m \u001b[39mself\u001b[39;49m\u001b[39m.\u001b[39;49mmodel\u001b[39m.\u001b[39;49mgenerate(input_ids\u001b[39m=\u001b[39;49minput_ids, attention_mask\u001b[39m=\u001b[39;49mattention_mask, \u001b[39m*\u001b[39;49m\u001b[39m*\u001b[39;49mgenerate_kwargs)\n\u001b[1;32m    252\u001b[0m out_b \u001b[39m=\u001b[39m generated_sequence\u001b[39m.\u001b[39mshape[\u001b[39m0\u001b[39m]\n\u001b[1;32m    253\u001b[0m \u001b[39mif\u001b[39;00m \u001b[39mself\u001b[39m\u001b[39m.\u001b[39mframework \u001b[39m==\u001b[39m \u001b[39m\"\u001b[39m\u001b[39mpt\u001b[39m\u001b[39m\"\u001b[39m:\n",
      "File \u001b[0;32m~/miniconda3/envs/transformers/lib/python3.9/site-packages/torch/utils/_contextlib.py:115\u001b[0m, in \u001b[0;36mcontext_decorator.<locals>.decorate_context\u001b[0;34m(*args, **kwargs)\u001b[0m\n\u001b[1;32m    112\u001b[0m \u001b[39m@functools\u001b[39m\u001b[39m.\u001b[39mwraps(func)\n\u001b[1;32m    113\u001b[0m \u001b[39mdef\u001b[39;00m \u001b[39mdecorate_context\u001b[39m(\u001b[39m*\u001b[39margs, \u001b[39m*\u001b[39m\u001b[39m*\u001b[39mkwargs):\n\u001b[1;32m    114\u001b[0m     \u001b[39mwith\u001b[39;00m ctx_factory():\n\u001b[0;32m--> 115\u001b[0m         \u001b[39mreturn\u001b[39;00m func(\u001b[39m*\u001b[39;49margs, \u001b[39m*\u001b[39;49m\u001b[39m*\u001b[39;49mkwargs)\n",
      "File \u001b[0;32m~/miniconda3/envs/transformers/lib/python3.9/site-packages/transformers/generation/utils.py:1485\u001b[0m, in \u001b[0;36mGenerationMixin.generate\u001b[0;34m(self, inputs, generation_config, logits_processor, stopping_criteria, prefix_allowed_tokens_fn, synced_gpus, streamer, **kwargs)\u001b[0m\n\u001b[1;32m   1477\u001b[0m     input_ids, model_kwargs \u001b[39m=\u001b[39m \u001b[39mself\u001b[39m\u001b[39m.\u001b[39m_expand_inputs_for_generation(\n\u001b[1;32m   1478\u001b[0m         input_ids\u001b[39m=\u001b[39minput_ids,\n\u001b[1;32m   1479\u001b[0m         expand_size\u001b[39m=\u001b[39mgeneration_config\u001b[39m.\u001b[39mnum_return_sequences,\n\u001b[1;32m   1480\u001b[0m         is_encoder_decoder\u001b[39m=\u001b[39m\u001b[39mself\u001b[39m\u001b[39m.\u001b[39mconfig\u001b[39m.\u001b[39mis_encoder_decoder,\n\u001b[1;32m   1481\u001b[0m         \u001b[39m*\u001b[39m\u001b[39m*\u001b[39mmodel_kwargs,\n\u001b[1;32m   1482\u001b[0m     )\n\u001b[1;32m   1484\u001b[0m     \u001b[39m# 13. run sample\u001b[39;00m\n\u001b[0;32m-> 1485\u001b[0m     \u001b[39mreturn\u001b[39;00m \u001b[39mself\u001b[39;49m\u001b[39m.\u001b[39;49msample(\n\u001b[1;32m   1486\u001b[0m         input_ids,\n\u001b[1;32m   1487\u001b[0m         logits_processor\u001b[39m=\u001b[39;49mlogits_processor,\n\u001b[1;32m   1488\u001b[0m         logits_warper\u001b[39m=\u001b[39;49mlogits_warper,\n\u001b[1;32m   1489\u001b[0m         stopping_criteria\u001b[39m=\u001b[39;49mstopping_criteria,\n\u001b[1;32m   1490\u001b[0m         pad_token_id\u001b[39m=\u001b[39;49mgeneration_config\u001b[39m.\u001b[39;49mpad_token_id,\n\u001b[1;32m   1491\u001b[0m         eos_token_id\u001b[39m=\u001b[39;49mgeneration_config\u001b[39m.\u001b[39;49meos_token_id,\n\u001b[1;32m   1492\u001b[0m         output_scores\u001b[39m=\u001b[39;49mgeneration_config\u001b[39m.\u001b[39;49moutput_scores,\n\u001b[1;32m   1493\u001b[0m         return_dict_in_generate\u001b[39m=\u001b[39;49mgeneration_config\u001b[39m.\u001b[39;49mreturn_dict_in_generate,\n\u001b[1;32m   1494\u001b[0m         synced_gpus\u001b[39m=\u001b[39;49msynced_gpus,\n\u001b[1;32m   1495\u001b[0m         streamer\u001b[39m=\u001b[39;49mstreamer,\n\u001b[1;32m   1496\u001b[0m         \u001b[39m*\u001b[39;49m\u001b[39m*\u001b[39;49mmodel_kwargs,\n\u001b[1;32m   1497\u001b[0m     )\n\u001b[1;32m   1499\u001b[0m \u001b[39melif\u001b[39;00m is_beam_gen_mode:\n\u001b[1;32m   1500\u001b[0m     \u001b[39mif\u001b[39;00m generation_config\u001b[39m.\u001b[39mnum_return_sequences \u001b[39m>\u001b[39m generation_config\u001b[39m.\u001b[39mnum_beams:\n",
      "File \u001b[0;32m~/miniconda3/envs/transformers/lib/python3.9/site-packages/transformers/generation/utils.py:2524\u001b[0m, in \u001b[0;36mGenerationMixin.sample\u001b[0;34m(self, input_ids, logits_processor, stopping_criteria, logits_warper, max_length, pad_token_id, eos_token_id, output_attentions, output_hidden_states, output_scores, return_dict_in_generate, synced_gpus, streamer, **model_kwargs)\u001b[0m\n\u001b[1;32m   2521\u001b[0m model_inputs \u001b[39m=\u001b[39m \u001b[39mself\u001b[39m\u001b[39m.\u001b[39mprepare_inputs_for_generation(input_ids, \u001b[39m*\u001b[39m\u001b[39m*\u001b[39mmodel_kwargs)\n\u001b[1;32m   2523\u001b[0m \u001b[39m# forward pass to get next token\u001b[39;00m\n\u001b[0;32m-> 2524\u001b[0m outputs \u001b[39m=\u001b[39m \u001b[39mself\u001b[39;49m(\n\u001b[1;32m   2525\u001b[0m     \u001b[39m*\u001b[39;49m\u001b[39m*\u001b[39;49mmodel_inputs,\n\u001b[1;32m   2526\u001b[0m     return_dict\u001b[39m=\u001b[39;49m\u001b[39mTrue\u001b[39;49;00m,\n\u001b[1;32m   2527\u001b[0m     output_attentions\u001b[39m=\u001b[39;49moutput_attentions,\n\u001b[1;32m   2528\u001b[0m     output_hidden_states\u001b[39m=\u001b[39;49moutput_hidden_states,\n\u001b[1;32m   2529\u001b[0m )\n\u001b[1;32m   2531\u001b[0m \u001b[39mif\u001b[39;00m synced_gpus \u001b[39mand\u001b[39;00m this_peer_finished:\n\u001b[1;32m   2532\u001b[0m     \u001b[39mcontinue\u001b[39;00m  \u001b[39m# don't waste resources running the code we don't need\u001b[39;00m\n",
      "File \u001b[0;32m~/miniconda3/envs/transformers/lib/python3.9/site-packages/torch/nn/modules/module.py:1501\u001b[0m, in \u001b[0;36mModule._call_impl\u001b[0;34m(self, *args, **kwargs)\u001b[0m\n\u001b[1;32m   1496\u001b[0m \u001b[39m# If we don't have any hooks, we want to skip the rest of the logic in\u001b[39;00m\n\u001b[1;32m   1497\u001b[0m \u001b[39m# this function, and just call forward.\u001b[39;00m\n\u001b[1;32m   1498\u001b[0m \u001b[39mif\u001b[39;00m \u001b[39mnot\u001b[39;00m (\u001b[39mself\u001b[39m\u001b[39m.\u001b[39m_backward_hooks \u001b[39mor\u001b[39;00m \u001b[39mself\u001b[39m\u001b[39m.\u001b[39m_backward_pre_hooks \u001b[39mor\u001b[39;00m \u001b[39mself\u001b[39m\u001b[39m.\u001b[39m_forward_hooks \u001b[39mor\u001b[39;00m \u001b[39mself\u001b[39m\u001b[39m.\u001b[39m_forward_pre_hooks\n\u001b[1;32m   1499\u001b[0m         \u001b[39mor\u001b[39;00m _global_backward_pre_hooks \u001b[39mor\u001b[39;00m _global_backward_hooks\n\u001b[1;32m   1500\u001b[0m         \u001b[39mor\u001b[39;00m _global_forward_hooks \u001b[39mor\u001b[39;00m _global_forward_pre_hooks):\n\u001b[0;32m-> 1501\u001b[0m     \u001b[39mreturn\u001b[39;00m forward_call(\u001b[39m*\u001b[39;49margs, \u001b[39m*\u001b[39;49m\u001b[39m*\u001b[39;49mkwargs)\n\u001b[1;32m   1502\u001b[0m \u001b[39m# Do not call functions when jit is used\u001b[39;00m\n\u001b[1;32m   1503\u001b[0m full_backward_hooks, non_full_backward_hooks \u001b[39m=\u001b[39m [], []\n",
      "File \u001b[0;32m~/miniconda3/envs/transformers/lib/python3.9/site-packages/transformers/models/gpt2/modeling_gpt2.py:1075\u001b[0m, in \u001b[0;36mGPT2LMHeadModel.forward\u001b[0;34m(self, input_ids, past_key_values, attention_mask, token_type_ids, position_ids, head_mask, inputs_embeds, encoder_hidden_states, encoder_attention_mask, labels, use_cache, output_attentions, output_hidden_states, return_dict)\u001b[0m\n\u001b[1;32m   1067\u001b[0m \u001b[39mr\u001b[39m\u001b[39m\"\"\"\u001b[39;00m\n\u001b[1;32m   1068\u001b[0m \u001b[39mlabels (`torch.LongTensor` of shape `(batch_size, sequence_length)`, *optional*):\u001b[39;00m\n\u001b[1;32m   1069\u001b[0m \u001b[39m    Labels for language modeling. Note that the labels **are shifted** inside the model, i.e. you can set\u001b[39;00m\n\u001b[1;32m   1070\u001b[0m \u001b[39m    `labels = input_ids` Indices are selected in `[-100, 0, ..., config.vocab_size]` All labels set to `-100`\u001b[39;00m\n\u001b[1;32m   1071\u001b[0m \u001b[39m    are ignored (masked), the loss is only computed for labels in `[0, ..., config.vocab_size]`\u001b[39;00m\n\u001b[1;32m   1072\u001b[0m \u001b[39m\"\"\"\u001b[39;00m\n\u001b[1;32m   1073\u001b[0m return_dict \u001b[39m=\u001b[39m return_dict \u001b[39mif\u001b[39;00m return_dict \u001b[39mis\u001b[39;00m \u001b[39mnot\u001b[39;00m \u001b[39mNone\u001b[39;00m \u001b[39melse\u001b[39;00m \u001b[39mself\u001b[39m\u001b[39m.\u001b[39mconfig\u001b[39m.\u001b[39muse_return_dict\n\u001b[0;32m-> 1075\u001b[0m transformer_outputs \u001b[39m=\u001b[39m \u001b[39mself\u001b[39;49m\u001b[39m.\u001b[39;49mtransformer(\n\u001b[1;32m   1076\u001b[0m     input_ids,\n\u001b[1;32m   1077\u001b[0m     past_key_values\u001b[39m=\u001b[39;49mpast_key_values,\n\u001b[1;32m   1078\u001b[0m     attention_mask\u001b[39m=\u001b[39;49mattention_mask,\n\u001b[1;32m   1079\u001b[0m     token_type_ids\u001b[39m=\u001b[39;49mtoken_type_ids,\n\u001b[1;32m   1080\u001b[0m     position_ids\u001b[39m=\u001b[39;49mposition_ids,\n\u001b[1;32m   1081\u001b[0m     head_mask\u001b[39m=\u001b[39;49mhead_mask,\n\u001b[1;32m   1082\u001b[0m     inputs_embeds\u001b[39m=\u001b[39;49minputs_embeds,\n\u001b[1;32m   1083\u001b[0m     encoder_hidden_states\u001b[39m=\u001b[39;49mencoder_hidden_states,\n\u001b[1;32m   1084\u001b[0m     encoder_attention_mask\u001b[39m=\u001b[39;49mencoder_attention_mask,\n\u001b[1;32m   1085\u001b[0m     use_cache\u001b[39m=\u001b[39;49muse_cache,\n\u001b[1;32m   1086\u001b[0m     output_attentions\u001b[39m=\u001b[39;49moutput_attentions,\n\u001b[1;32m   1087\u001b[0m     output_hidden_states\u001b[39m=\u001b[39;49moutput_hidden_states,\n\u001b[1;32m   1088\u001b[0m     return_dict\u001b[39m=\u001b[39;49mreturn_dict,\n\u001b[1;32m   1089\u001b[0m )\n\u001b[1;32m   1090\u001b[0m hidden_states \u001b[39m=\u001b[39m transformer_outputs[\u001b[39m0\u001b[39m]\n\u001b[1;32m   1092\u001b[0m \u001b[39m# Set device for model parallelism\u001b[39;00m\n",
      "File \u001b[0;32m~/miniconda3/envs/transformers/lib/python3.9/site-packages/torch/nn/modules/module.py:1501\u001b[0m, in \u001b[0;36mModule._call_impl\u001b[0;34m(self, *args, **kwargs)\u001b[0m\n\u001b[1;32m   1496\u001b[0m \u001b[39m# If we don't have any hooks, we want to skip the rest of the logic in\u001b[39;00m\n\u001b[1;32m   1497\u001b[0m \u001b[39m# this function, and just call forward.\u001b[39;00m\n\u001b[1;32m   1498\u001b[0m \u001b[39mif\u001b[39;00m \u001b[39mnot\u001b[39;00m (\u001b[39mself\u001b[39m\u001b[39m.\u001b[39m_backward_hooks \u001b[39mor\u001b[39;00m \u001b[39mself\u001b[39m\u001b[39m.\u001b[39m_backward_pre_hooks \u001b[39mor\u001b[39;00m \u001b[39mself\u001b[39m\u001b[39m.\u001b[39m_forward_hooks \u001b[39mor\u001b[39;00m \u001b[39mself\u001b[39m\u001b[39m.\u001b[39m_forward_pre_hooks\n\u001b[1;32m   1499\u001b[0m         \u001b[39mor\u001b[39;00m _global_backward_pre_hooks \u001b[39mor\u001b[39;00m _global_backward_hooks\n\u001b[1;32m   1500\u001b[0m         \u001b[39mor\u001b[39;00m _global_forward_hooks \u001b[39mor\u001b[39;00m _global_forward_pre_hooks):\n\u001b[0;32m-> 1501\u001b[0m     \u001b[39mreturn\u001b[39;00m forward_call(\u001b[39m*\u001b[39;49margs, \u001b[39m*\u001b[39;49m\u001b[39m*\u001b[39;49mkwargs)\n\u001b[1;32m   1502\u001b[0m \u001b[39m# Do not call functions when jit is used\u001b[39;00m\n\u001b[1;32m   1503\u001b[0m full_backward_hooks, non_full_backward_hooks \u001b[39m=\u001b[39m [], []\n",
      "File \u001b[0;32m~/miniconda3/envs/transformers/lib/python3.9/site-packages/transformers/models/gpt2/modeling_gpt2.py:899\u001b[0m, in \u001b[0;36mGPT2Model.forward\u001b[0;34m(self, input_ids, past_key_values, attention_mask, token_type_ids, position_ids, head_mask, inputs_embeds, encoder_hidden_states, encoder_attention_mask, use_cache, output_attentions, output_hidden_states, return_dict)\u001b[0m\n\u001b[1;32m    889\u001b[0m     outputs \u001b[39m=\u001b[39m torch\u001b[39m.\u001b[39mutils\u001b[39m.\u001b[39mcheckpoint\u001b[39m.\u001b[39mcheckpoint(\n\u001b[1;32m    890\u001b[0m         create_custom_forward(block),\n\u001b[1;32m    891\u001b[0m         hidden_states,\n\u001b[0;32m   (...)\u001b[0m\n\u001b[1;32m    896\u001b[0m         encoder_attention_mask,\n\u001b[1;32m    897\u001b[0m     )\n\u001b[1;32m    898\u001b[0m \u001b[39melse\u001b[39;00m:\n\u001b[0;32m--> 899\u001b[0m     outputs \u001b[39m=\u001b[39m block(\n\u001b[1;32m    900\u001b[0m         hidden_states,\n\u001b[1;32m    901\u001b[0m         layer_past\u001b[39m=\u001b[39;49mlayer_past,\n\u001b[1;32m    902\u001b[0m         attention_mask\u001b[39m=\u001b[39;49mattention_mask,\n\u001b[1;32m    903\u001b[0m         head_mask\u001b[39m=\u001b[39;49mhead_mask[i],\n\u001b[1;32m    904\u001b[0m         encoder_hidden_states\u001b[39m=\u001b[39;49mencoder_hidden_states,\n\u001b[1;32m    905\u001b[0m         encoder_attention_mask\u001b[39m=\u001b[39;49mencoder_attention_mask,\n\u001b[1;32m    906\u001b[0m         use_cache\u001b[39m=\u001b[39;49muse_cache,\n\u001b[1;32m    907\u001b[0m         output_attentions\u001b[39m=\u001b[39;49moutput_attentions,\n\u001b[1;32m    908\u001b[0m     )\n\u001b[1;32m    910\u001b[0m hidden_states \u001b[39m=\u001b[39m outputs[\u001b[39m0\u001b[39m]\n\u001b[1;32m    911\u001b[0m \u001b[39mif\u001b[39;00m use_cache \u001b[39mis\u001b[39;00m \u001b[39mTrue\u001b[39;00m:\n",
      "File \u001b[0;32m~/miniconda3/envs/transformers/lib/python3.9/site-packages/torch/nn/modules/module.py:1501\u001b[0m, in \u001b[0;36mModule._call_impl\u001b[0;34m(self, *args, **kwargs)\u001b[0m\n\u001b[1;32m   1496\u001b[0m \u001b[39m# If we don't have any hooks, we want to skip the rest of the logic in\u001b[39;00m\n\u001b[1;32m   1497\u001b[0m \u001b[39m# this function, and just call forward.\u001b[39;00m\n\u001b[1;32m   1498\u001b[0m \u001b[39mif\u001b[39;00m \u001b[39mnot\u001b[39;00m (\u001b[39mself\u001b[39m\u001b[39m.\u001b[39m_backward_hooks \u001b[39mor\u001b[39;00m \u001b[39mself\u001b[39m\u001b[39m.\u001b[39m_backward_pre_hooks \u001b[39mor\u001b[39;00m \u001b[39mself\u001b[39m\u001b[39m.\u001b[39m_forward_hooks \u001b[39mor\u001b[39;00m \u001b[39mself\u001b[39m\u001b[39m.\u001b[39m_forward_pre_hooks\n\u001b[1;32m   1499\u001b[0m         \u001b[39mor\u001b[39;00m _global_backward_pre_hooks \u001b[39mor\u001b[39;00m _global_backward_hooks\n\u001b[1;32m   1500\u001b[0m         \u001b[39mor\u001b[39;00m _global_forward_hooks \u001b[39mor\u001b[39;00m _global_forward_pre_hooks):\n\u001b[0;32m-> 1501\u001b[0m     \u001b[39mreturn\u001b[39;00m forward_call(\u001b[39m*\u001b[39;49margs, \u001b[39m*\u001b[39;49m\u001b[39m*\u001b[39;49mkwargs)\n\u001b[1;32m   1502\u001b[0m \u001b[39m# Do not call functions when jit is used\u001b[39;00m\n\u001b[1;32m   1503\u001b[0m full_backward_hooks, non_full_backward_hooks \u001b[39m=\u001b[39m [], []\n",
      "File \u001b[0;32m~/miniconda3/envs/transformers/lib/python3.9/site-packages/transformers/models/gpt2/modeling_gpt2.py:426\u001b[0m, in \u001b[0;36mGPT2Block.forward\u001b[0;34m(self, hidden_states, layer_past, attention_mask, head_mask, encoder_hidden_states, encoder_attention_mask, use_cache, output_attentions)\u001b[0m\n\u001b[1;32m    424\u001b[0m residual \u001b[39m=\u001b[39m hidden_states\n\u001b[1;32m    425\u001b[0m hidden_states \u001b[39m=\u001b[39m \u001b[39mself\u001b[39m\u001b[39m.\u001b[39mln_2(hidden_states)\n\u001b[0;32m--> 426\u001b[0m feed_forward_hidden_states \u001b[39m=\u001b[39m \u001b[39mself\u001b[39;49m\u001b[39m.\u001b[39;49mmlp(hidden_states)\n\u001b[1;32m    427\u001b[0m \u001b[39m# residual connection\u001b[39;00m\n\u001b[1;32m    428\u001b[0m hidden_states \u001b[39m=\u001b[39m residual \u001b[39m+\u001b[39m feed_forward_hidden_states\n",
      "File \u001b[0;32m~/miniconda3/envs/transformers/lib/python3.9/site-packages/torch/nn/modules/module.py:1501\u001b[0m, in \u001b[0;36mModule._call_impl\u001b[0;34m(self, *args, **kwargs)\u001b[0m\n\u001b[1;32m   1496\u001b[0m \u001b[39m# If we don't have any hooks, we want to skip the rest of the logic in\u001b[39;00m\n\u001b[1;32m   1497\u001b[0m \u001b[39m# this function, and just call forward.\u001b[39;00m\n\u001b[1;32m   1498\u001b[0m \u001b[39mif\u001b[39;00m \u001b[39mnot\u001b[39;00m (\u001b[39mself\u001b[39m\u001b[39m.\u001b[39m_backward_hooks \u001b[39mor\u001b[39;00m \u001b[39mself\u001b[39m\u001b[39m.\u001b[39m_backward_pre_hooks \u001b[39mor\u001b[39;00m \u001b[39mself\u001b[39m\u001b[39m.\u001b[39m_forward_hooks \u001b[39mor\u001b[39;00m \u001b[39mself\u001b[39m\u001b[39m.\u001b[39m_forward_pre_hooks\n\u001b[1;32m   1499\u001b[0m         \u001b[39mor\u001b[39;00m _global_backward_pre_hooks \u001b[39mor\u001b[39;00m _global_backward_hooks\n\u001b[1;32m   1500\u001b[0m         \u001b[39mor\u001b[39;00m _global_forward_hooks \u001b[39mor\u001b[39;00m _global_forward_pre_hooks):\n\u001b[0;32m-> 1501\u001b[0m     \u001b[39mreturn\u001b[39;00m forward_call(\u001b[39m*\u001b[39;49margs, \u001b[39m*\u001b[39;49m\u001b[39m*\u001b[39;49mkwargs)\n\u001b[1;32m   1502\u001b[0m \u001b[39m# Do not call functions when jit is used\u001b[39;00m\n\u001b[1;32m   1503\u001b[0m full_backward_hooks, non_full_backward_hooks \u001b[39m=\u001b[39m [], []\n",
      "File \u001b[0;32m~/miniconda3/envs/transformers/lib/python3.9/site-packages/transformers/models/gpt2/modeling_gpt2.py:355\u001b[0m, in \u001b[0;36mGPT2MLP.forward\u001b[0;34m(self, hidden_states)\u001b[0m\n\u001b[1;32m    353\u001b[0m hidden_states \u001b[39m=\u001b[39m \u001b[39mself\u001b[39m\u001b[39m.\u001b[39mc_fc(hidden_states)\n\u001b[1;32m    354\u001b[0m hidden_states \u001b[39m=\u001b[39m \u001b[39mself\u001b[39m\u001b[39m.\u001b[39mact(hidden_states)\n\u001b[0;32m--> 355\u001b[0m hidden_states \u001b[39m=\u001b[39m \u001b[39mself\u001b[39;49m\u001b[39m.\u001b[39;49mc_proj(hidden_states)\n\u001b[1;32m    356\u001b[0m hidden_states \u001b[39m=\u001b[39m \u001b[39mself\u001b[39m\u001b[39m.\u001b[39mdropout(hidden_states)\n\u001b[1;32m    357\u001b[0m \u001b[39mreturn\u001b[39;00m hidden_states\n",
      "File \u001b[0;32m~/miniconda3/envs/transformers/lib/python3.9/site-packages/torch/nn/modules/module.py:1501\u001b[0m, in \u001b[0;36mModule._call_impl\u001b[0;34m(self, *args, **kwargs)\u001b[0m\n\u001b[1;32m   1496\u001b[0m \u001b[39m# If we don't have any hooks, we want to skip the rest of the logic in\u001b[39;00m\n\u001b[1;32m   1497\u001b[0m \u001b[39m# this function, and just call forward.\u001b[39;00m\n\u001b[1;32m   1498\u001b[0m \u001b[39mif\u001b[39;00m \u001b[39mnot\u001b[39;00m (\u001b[39mself\u001b[39m\u001b[39m.\u001b[39m_backward_hooks \u001b[39mor\u001b[39;00m \u001b[39mself\u001b[39m\u001b[39m.\u001b[39m_backward_pre_hooks \u001b[39mor\u001b[39;00m \u001b[39mself\u001b[39m\u001b[39m.\u001b[39m_forward_hooks \u001b[39mor\u001b[39;00m \u001b[39mself\u001b[39m\u001b[39m.\u001b[39m_forward_pre_hooks\n\u001b[1;32m   1499\u001b[0m         \u001b[39mor\u001b[39;00m _global_backward_pre_hooks \u001b[39mor\u001b[39;00m _global_backward_hooks\n\u001b[1;32m   1500\u001b[0m         \u001b[39mor\u001b[39;00m _global_forward_hooks \u001b[39mor\u001b[39;00m _global_forward_pre_hooks):\n\u001b[0;32m-> 1501\u001b[0m     \u001b[39mreturn\u001b[39;00m forward_call(\u001b[39m*\u001b[39;49margs, \u001b[39m*\u001b[39;49m\u001b[39m*\u001b[39;49mkwargs)\n\u001b[1;32m   1502\u001b[0m \u001b[39m# Do not call functions when jit is used\u001b[39;00m\n\u001b[1;32m   1503\u001b[0m full_backward_hooks, non_full_backward_hooks \u001b[39m=\u001b[39m [], []\n",
      "File \u001b[0;32m~/miniconda3/envs/transformers/lib/python3.9/site-packages/transformers/pytorch_utils.py:102\u001b[0m, in \u001b[0;36mConv1D.forward\u001b[0;34m(self, x)\u001b[0m\n\u001b[1;32m    100\u001b[0m \u001b[39mdef\u001b[39;00m \u001b[39mforward\u001b[39m(\u001b[39mself\u001b[39m, x):\n\u001b[1;32m    101\u001b[0m     size_out \u001b[39m=\u001b[39m x\u001b[39m.\u001b[39msize()[:\u001b[39m-\u001b[39m\u001b[39m1\u001b[39m] \u001b[39m+\u001b[39m (\u001b[39mself\u001b[39m\u001b[39m.\u001b[39mnf,)\n\u001b[0;32m--> 102\u001b[0m     x \u001b[39m=\u001b[39m torch\u001b[39m.\u001b[39;49maddmm(\u001b[39mself\u001b[39;49m\u001b[39m.\u001b[39;49mbias, x\u001b[39m.\u001b[39;49mview(\u001b[39m-\u001b[39;49m\u001b[39m1\u001b[39;49m, x\u001b[39m.\u001b[39;49msize(\u001b[39m-\u001b[39;49m\u001b[39m1\u001b[39;49m)), \u001b[39mself\u001b[39;49m\u001b[39m.\u001b[39;49mweight)\n\u001b[1;32m    103\u001b[0m     x \u001b[39m=\u001b[39m x\u001b[39m.\u001b[39mview(size_out)\n\u001b[1;32m    104\u001b[0m     \u001b[39mreturn\u001b[39;00m x\n",
      "\u001b[0;31mKeyboardInterrupt\u001b[0m: "
     ]
    }
   ],
   "source": [
    "from transformers import pipeline\n",
    "model_name = 'gpt2'\n",
    "generator = pipeline('text-generation', model=model_name)\n",
    "\n",
    "output_dict = {}\n",
    "for topic_id, topic_query in topic_dict.items():\n",
    "    print(topic_id, topic_query)\n",
    "    topic_query = topic_query + '\\n'\n",
    "    output_dict[topic_id] = generator(topic_query, max_length=1000, num_return_sequences=1, do_sample=True, temperature=0.9, repetition_penalty=1.2)\n",
    "    out_text = output_dict[topic_id][0]['generated_text'].replace(topic_query, '').strip()\n",
    "    print(out_text)\n",
    "    output_dict[topic_id] = out_text"
   ]
  },
  {
   "cell_type": "code",
   "execution_count": 26,
   "metadata": {},
   "outputs": [
    {
     "data": {
      "application/vnd.jupyter.widget-view+json": {
       "model_id": "9023971260974d09b33c123117d2e591",
       "version_major": 2,
       "version_minor": 0
      },
      "text/plain": [
       "Downloading pytorch_model.bin:   0%|          | 0.00/730M [00:00<?, ?B/s]"
      ]
     },
     "metadata": {},
     "output_type": "display_data"
    },
    {
     "data": {
      "application/vnd.jupyter.widget-view+json": {
       "model_id": "057a1a6595b44deca3d1638188eab061",
       "version_major": 2,
       "version_minor": 0
      },
      "text/plain": [
       "Downloading (…)neration_config.json:   0%|          | 0.00/347 [00:00<?, ?B/s]"
      ]
     },
     "metadata": {},
     "output_type": "display_data"
    },
    {
     "data": {
      "application/vnd.jupyter.widget-view+json": {
       "model_id": "2d1cf4f7c96e4bbba0c999e9293e600e",
       "version_major": 2,
       "version_minor": 0
      },
      "text/plain": [
       "Downloading (…)okenizer_config.json:   0%|          | 0.00/1.15k [00:00<?, ?B/s]"
      ]
     },
     "metadata": {},
     "output_type": "display_data"
    },
    {
     "data": {
      "application/vnd.jupyter.widget-view+json": {
       "model_id": "bdaa9e56d7b044c0b9f2199a65725042",
       "version_major": 2,
       "version_minor": 0
      },
      "text/plain": [
       "Downloading (…)olve/main/vocab.json:   0%|          | 0.00/127k [00:00<?, ?B/s]"
      ]
     },
     "metadata": {},
     "output_type": "display_data"
    },
    {
     "data": {
      "application/vnd.jupyter.widget-view+json": {
       "model_id": "bc267a014ee64e7e85665952cb564288",
       "version_major": 2,
       "version_minor": 0
      },
      "text/plain": [
       "Downloading (…)olve/main/merges.txt:   0%|          | 0.00/62.9k [00:00<?, ?B/s]"
      ]
     },
     "metadata": {},
     "output_type": "display_data"
    },
    {
     "data": {
      "application/vnd.jupyter.widget-view+json": {
       "model_id": "ebbdd44f09fe4652bec01e32b9a94dd2",
       "version_major": 2,
       "version_minor": 0
      },
      "text/plain": [
       "Downloading (…)in/added_tokens.json:   0%|          | 0.00/16.0 [00:00<?, ?B/s]"
      ]
     },
     "metadata": {},
     "output_type": "display_data"
    },
    {
     "data": {
      "application/vnd.jupyter.widget-view+json": {
       "model_id": "c41d931e0951470e9a57f7679ad1822f",
       "version_major": 2,
       "version_minor": 0
      },
      "text/plain": [
       "Downloading (…)cial_tokens_map.json:   0%|          | 0.00/772 [00:00<?, ?B/s]"
      ]
     },
     "metadata": {},
     "output_type": "display_data"
    },
    {
     "name": "stdout",
     "output_type": "stream",
     "text": [
      "What are the most common chronic diseases? What effects do chronic diseases have for the society and the individual?\n",
      "Conversation id: e073e2f4-2ccc-43b9-8b04-32e4690a545a \n",
      "user >> What are the most common chronic diseases? What effects do chronic diseases have for the society and the individual? \n",
      "bot >>  Chronic disease is a disease that affects the brain, heart, liver, pancreas, and immune system. \n",
      "\n",
      "best apps daily activity exercise diabetes\n",
      "Conversation id: 185c5071-9328-4eeb-aff6-e33866122cb0 \n",
      "user >> best apps daily activity exercise diabetes \n",
      "bot >>  I use an app to help me control my blood sugar.  Do you have any suggestions? \n",
      "\n",
      "my risk for developing type 2 diabetes\n",
      "Conversation id: 48dea78b-907e-4bef-abc6-53803c7a1cf1 \n",
      "user >> my risk for developing type 2 diabetes \n",
      "bot >>  I'm sorry to hear that. Do you have to take insulin every day to control your blood sugar? \n",
      "\n",
      "Is a ketogenic / keto diet suitable for people with diabetes?\n",
      "Conversation id: fe61dc9a-1e02-46dd-8e67-293b22d05777 \n",
      "user >> Is a ketogenic / keto diet suitable for people with diabetes? \n",
      "bot >>  Yes, it's a high fat, adequate protein, and low carb diet. \n",
      "\n",
      "Can diabetes be cured?\n",
      "Conversation id: 20ea5ad3-3082-4cad-9d22-650b31612310 \n",
      "user >> Can diabetes be cured? \n",
      "bot >>  I'm not sure, but I do know that it is a chronic disease that affects the pancreas. \n",
      "\n",
      "What is holistic medicine and what does it include?\n",
      "Conversation id: 8f836c51-3098-419c-afd2-db2de941634e \n",
      "user >> What is holistic medicine and what does it include? \n",
      "bot >>  Holiday medicine is a type of medicine that is used to treat illnesses. \n",
      "\n",
      "What are the most common mental health problems? How can I prevent or manage the most common mental health problems?\n",
      "Conversation id: 5751a692-6c7f-440c-8a5e-7c01bcea4ef0 \n",
      "user >> What are the most common mental health problems? How can I prevent or manage the most common mental health problems? \n",
      "bot >>  I'm not sure, but I do know that there are a lot of different types of mental health disorders. \n",
      "\n",
      "what is psychotherapy?\n",
      "Conversation id: e7aa449c-fd21-4988-9515-187fac8c7034 \n",
      "user >> what is psychotherapy? \n",
      "bot >>  It is a treatment for mental disorders such as depression, anxiety, depression, and OCD. \n",
      "\n",
      "What does multiple sclerosis diagnosis include? What does it change?\n",
      "Conversation id: 030ed5c4-04fe-40d0-8b2d-ec117bef1c85 \n",
      "user >> What does multiple sclerosis diagnosis include? What does it change? \n",
      "bot >>  Sclerosis is a chronic disease of abnormal cell growth. It can affect the heart, liver, pancreas, and immune system. \n",
      "\n",
      "How to manage multiple sclerosis?\n",
      "Conversation id: b83d2373-f2c9-4c88-bddb-f099d50c9560 \n",
      "user >> How to manage multiple sclerosis? \n",
      "bot >>  I'm not sure how to manage it, but I do know that it is a chronic disease. \n",
      "\n",
      "multiple sclerosis stages phases\n",
      "Conversation id: c6c4a3fa-1342-4ed7-ad71-1da4f51bc1e9 \n",
      "user >> multiple sclerosis stages phases \n",
      "bot >>  Sclerosis is a chronic disease of abnormally high blood pressure. Have you ever had it? \n",
      "\n",
      "Risk to develop multiple sclerosis\n",
      "Conversation id: c0288960-7ba3-45f3-86fb-37b666cc76b3 \n",
      "user >> Risk to develop multiple sclerosis \n",
      "bot >>  Sclerosis of the lung is a serious medical condition that can result in death. \n",
      "\n",
      "long-term effects likelihood multiple sclerosis\n",
      "Conversation id: 519a434b-f619-415b-9430-a6a3c72d9405 \n",
      "user >> long-term effects likelihood multiple sclerosis \n",
      "bot >>  I have had a lot of scoloclasses in my life.  They are used to diagnose and treat many types of diseases. \n",
      "\n",
      "disclosing multiple sclerosis at work, how will colleagues react?\n",
      "Conversation id: 58e3b01b-68bc-4a41-9caf-fdf9f9d3cef0 \n",
      "user >> disclosing multiple sclerosis at work, how will colleagues react? \n",
      "bot >>  I'm not sure, but I'm sure they will understand.  It's not like it's a big deal. \n",
      "\n",
      "Will multiple sclerosis affect my career?\n",
      "Conversation id: 11e715f9-82a8-4d1c-a780-f5caf30b0c76 \n",
      "user >> Will multiple sclerosis affect my career? \n",
      "bot >>  I'm not sure, but I'm sure you'll be fine if you take care of it. \n",
      "\n",
      "List of multiple sclerosis symptoms\n",
      "Conversation id: 54352fd0-b036-4c30-92a2-10c733467d78 \n",
      "user >> List of multiple sclerosis symptoms \n",
      "bot >>  Sclerosis of the lung is a chronic disease characterized by abnormally high blood pressure \n",
      "\n",
      "Is the Covid-19 vaccine safe for people taking multiple sclerosis drugs?\n",
      "Conversation id: 5025baa6-2208-43fe-998c-b6a638996af2 \n",
      "user >> Is the Covid-19 vaccine safe for people taking multiple sclerosis drugs? \n",
      "bot >>  I'm not sure, but I do know that there is a lot of controversy surrounding the vaccine. \n",
      "\n",
      "How do menopause symptoms relate to multiple sclerosis symptoms?\n",
      "Conversation id: fec2338a-a410-4fbc-ae08-b2b2e3c14d14 \n",
      "user >> How do menopause symptoms relate to multiple sclerosis symptoms? \n",
      "bot >>  I'm not sure, but I do know that it can be caused by a number of things, including genetic and environmental factors. \n",
      "\n",
      "Can I pass multiple sclerosis to other family members?\n",
      "Conversation id: 0b9824db-e5cc-42dd-b339-d4c4c0018ecd \n",
      "user >> Can I pass multiple sclerosis to other family members? \n",
      "bot >>  I don't think so, unless you have a genetic disorder that can cause it. \n",
      "\n",
      "Can I work and study full-time with multiple sclerosis?\n",
      "Conversation id: 2437aacb-5e99-49c5-a87e-387d878d4176 \n",
      "user >> Can I work and study full-time with multiple sclerosis? \n",
      "bot >>  I don't think so, but I'm sure you can find a way to make it work. \n",
      "\n",
      "Why get episode diagnosed by a doctor as a relapse of multiple sclerosis?\n",
      "Conversation id: 384c0ddb-1637-4155-a035-45a8662bc0c6 \n",
      "user >> Why get episode diagnosed by a doctor as a relapse of multiple sclerosis? \n",
      "bot >>  I'm not sure, but I think it has something to do with the nerve damage. \n",
      "\n",
      "Relapsing remitting multiple sclerosis\n",
      "Conversation id: 0bf63695-bf52-4b65-a781-973d7aa29fff \n",
      "user >> Relapsing remitting multiple sclerosis \n",
      "bot >>  I'm sorry to hear that. Have you ever had scoleria? It's a chronic disease that affects the body. \n",
      "\n",
      "Secondary progressive multiple sclerosis\n",
      "Conversation id: 33c3dc04-312d-49aa-9035-1563a496bfc8 \n",
      "user >> Secondary progressive multiple sclerosis \n",
      "bot >>  Secondary Sclerosis is a condition in which a person has progressively increased the number of bones in their body. \n",
      "\n",
      "causes of fatigue in MS\n",
      "Conversation id: 6ec3a8bf-18c1-4622-a1d0-b8aead902e34 \n",
      "user >> causes of fatigue in MS \n",
      "bot >>  Do you know anything about the causes of MS? It is a chronic disease that affects the brain, heart, liver, pancreas, and immune system. \n",
      "\n",
      "Does multiple sclerosis relate to sleeping problems and forgetfulness in older people?\n",
      "Conversation id: fcd8d09d-fbf2-4c96-ab76-f8a1402fae5d \n",
      "user >> Does multiple sclerosis relate to sleeping problems and forgetfulness in older people? \n",
      "bot >>  I'm not sure, but I do know that it can be caused by genetic and environmental factors. \n",
      "\n",
      "When will I start to feel better with multiple sclerosis?\n",
      "Conversation id: f5e70296-0df8-4fad-914b-b8a96405f940 \n",
      "user >> When will I start to feel better with multiple sclerosis? \n",
      "bot >>  I'm not sure, but I hope you feel better soon! Sclerosis is no fun at all. \n",
      "\n",
      "Reading problems in MS\n",
      "Conversation id: a7ad7acb-adf2-417b-a0a0-04f59644cb93 \n",
      "user >> Reading problems in MS \n",
      "bot >>  Have you ever been to MS? It's a state in the southeastern region of the United States. \n",
      "\n",
      "most efficient and sustainable diets\n",
      "Conversation id: e9452273-0d91-42cc-ae21-85365b5bbea2 \n",
      "user >> most efficient and sustainable diets \n",
      "bot >>  Do you have a favorite type of diet? I'm on a ketogenic diet, which is a high-fat, adequate-protein, low-carbohydrate diet. \n",
      "\n",
      "benefits of physical activity\n",
      "Conversation id: d3ec8c06-ea4a-4466-a893-2c33b7a52e9c \n",
      "user >> benefits of physical activity \n",
      "bot >>  I love going to the gym. It's a great way to exercise and strengthen your muscles. \n",
      "\n",
      "most common complications in pregnancy\n",
      "Conversation id: da01cea6-3f1b-42b3-be89-e527c2434c41 \n",
      "user >> most common complications in pregnancy \n",
      "bot >>  Do you have any experience with pregnancy? I'm pregnant right now and I'm terrified. \n",
      "\n",
      "heavy flares swelling lymph nodes\n",
      "Conversation id: 356e161d-59ab-4e1f-b0ea-15965da5e0d0 \n",
      "user >> heavy flares swelling lymph nodes \n",
      "bot >>  Heavy flares can be caused by a lot of different things, such as weather, weather, and other factors. \n",
      "\n",
      "randomly gotten eczema\n",
      "Conversation id: 982e3bea-d11f-467a-a0f1-55bce0dbe2fc \n",
      "user >> randomly gotten eczema \n",
      "bot >>  Have you ever had it? It's an inflammatory disease of the upper respiratory tract. \n",
      "\n",
      "wisdom tooth cuts gum pain\n",
      "Conversation id: 9f1ecb5e-568e-4447-af28-0ce21859fc22 \n",
      "user >> wisdom tooth cuts gum pain \n",
      "bot >>  I had to go to the dentist last week to get my tooth pulled out. \n",
      "\n",
      "medication adhd anxiety\n",
      "Conversation id: 1c471c9a-95b7-449a-9ed5-efce5268dcc5 \n",
      "user >> medication adhd anxiety \n",
      "bot >>  Have you ever been diagnosed with ADHD? It's a mental disorder where people feel the need to check things repeatedly. \n",
      "\n",
      "chronic diarrhea short-term memory sweating inability to regulate body temperature heart palpitations dysautonomia\n",
      "Conversation id: f639807a-fb13-4257-b819-49808e3982fb \n",
      "user >> chronic diarrhea short-term memory sweating inability to regulate body temperature heart palpitations dysautonomia \n",
      "bot >>  I'm sorry to hear that. Have you ever had to go to the doctor for that? \n",
      "\n",
      "ehlers danlos syndrome POTS nausea stomach pain\n",
      "Conversation id: 19e94c91-a28a-4a47-ba9d-077d53ffa998 \n",
      "user >> ehlers danlos syndrome POTS nausea stomach pain \n",
      "bot >>  I'm sorry to hear that. Have you seen a doctor about it? It can be caused by a number of things. \n",
      "\n",
      "symptoms of asthma\n",
      "Conversation id: f50a254a-efc2-463b-a29d-b18a9bfb2a7d \n",
      "user >> symptoms of asthma \n",
      "bot >>  Asthma is a chronic inflammatory disease of the lungs. \n",
      "\n",
      "asthma and covid\n",
      "Conversation id: 9e63ce57-65df-4e69-848e-0cb3cd2ae6ea \n",
      "user >> asthma and covid \n",
      "bot >>  Asthma is a chronic inflammatory disease of the lungs. \n",
      "\n",
      "borderline personality disorder symptoms\n",
      "Conversation id: 2e3239ff-08d7-4046-a808-7e757ff4144b \n",
      "user >> borderline personality disorder symptoms \n",
      "bot >>  I have Borderline Personal Disorder. It is a mental disorder characterized by abnormal emotional and behavioral patterns. \n",
      "\n",
      "outcome prostate cancer\n",
      "Conversation id: 5aa87f8f-9a20-4f06-a94b-c673e2ab8a7a \n",
      "user >> outcome prostate cancer \n",
      "bot >>  I am so sorry to hear that. Cancer is a terrible disease that affects so many parts of the body. \n",
      "\n",
      "stage 4 metastatic lung cancer outcome\n",
      "Conversation id: 43118c11-55b1-4f74-8bfc-eff7ff9724f5 \n",
      "user >> stage 4 metastatic lung cancer outcome \n",
      "bot >>  I am so sorry to hear that. I hope that you are able to find a cure soon. \n",
      "\n",
      "stage 4 triple negative breast cancer treatment\n",
      "Conversation id: 67fc9bf4-18c9-4846-af8e-bbae5438dde4 \n",
      "user >> stage 4 triple negative breast cancer treatment \n",
      "bot >>  I am so sorry to hear that. Cancer is such a terrible disease. Do you know what type of cancer it is? \n",
      "\n",
      "best pillow neck pain\n",
      "Conversation id: a32a4f8b-ab64-4bcb-aa81-15fd90357d9d \n",
      "user >> best pillow neck pain \n",
      "bot >>  Have you ever had a bad back pain? I've had it since I was a child. \n",
      "\n",
      "numb fingers arthritis\n",
      "Conversation id: dd006108-233a-467c-a4bb-bbe205f5e644 \n",
      "user >> numb fingers arthritis \n",
      "bot >>  Have you ever had a problem with your fingers? I've had it since I was a child. \n",
      "\n",
      "hypothyroidism symptoms\n",
      "Conversation id: b4ebc95e-6334-4d34-b6c8-ea46418c4a02 \n",
      "user >> hypothyroidism symptoms \n",
      "bot >>  Have you ever been diagnosed with hypothryroidism? It's a condition in which people have high levels of hypochondria. \n",
      "\n",
      "birth control suppression antral follicle count\n",
      "Conversation id: b7661578-dd83-4eb8-a77b-49a37dda6336 \n",
      "user >> birth control suppression antral follicle count \n",
      "bot >>  Birth control is a great way to prevent or prevent infectious diseases. Do you use it? \n",
      "\n",
      "glasses for computer\n",
      "Conversation id: ed8e094e-e813-4750-91dc-6c55a18592a3 \n",
      "user >> glasses for computer \n",
      "bot >>  Have you ever worn glasses or contact lenses? I wear them for vision correction. \n",
      "\n",
      "neck and shoulder stretches\n",
      "Conversation id: a41cd974-ebdd-4d7a-aa82-e0d3bb8757eb \n",
      "user >> neck and shoulder stretches \n",
      "bot >>  I have a lot of back and shoulder pains. I think it's because I'm overweight. \n",
      "\n",
      "exercises for better posture\n",
      "Conversation id: a217faf0-8f18-4d67-baac-4d498cd5b47c \n",
      "user >> exercises for better posture \n",
      "bot >>  Exercise is a great way to relieve stress and improve quality of life. Do you exercise? \n",
      "\n",
      "headpats scalp psoriasis\n",
      "Conversation id: 45c3b41d-2622-457b-bf20-3711705028ce \n",
      "user >> headpats scalp psoriasis \n",
      "bot >>  Have you ever heard of a headpatter? It's a device used to protect the head from electromagnetic radiation. \n",
      "\n",
      "psoriasis psoariatic arthritis, lump in armpit\n",
      "Conversation id: 3cf08bba-660e-4f36-9307-3172989822ec \n",
      "user >> psoriasis psoariatic arthritis, lump in armpit \n",
      "bot >>  I am sorry to hear that. Psychotherapy is a great way to treat it. \n",
      "\n",
      "sores in mouth herpes\n",
      "Conversation id: 3a5069d1-b151-462b-bfd7-6aeff3a3565c \n",
      "user >> sores in mouth herpes \n",
      "bot >>  I have a sore throat right now. I think it's from eating too much sushi. \n",
      "\n",
      "canker sores syphilis\n",
      "Conversation id: f2a9f089-ad11-48c0-8918-ccdcb4279a6c \n",
      "user >> canker sores syphilis \n",
      "bot >>  Have you ever had canker syphillis? It's a type of cannabis. \n",
      "\n",
      "best supplements creatine\n",
      "Conversation id: c92bf1bc-dd23-45bf-a3f1-9e4ec4ae3050 \n",
      "user >> best supplements creatine \n",
      "bot >>  I take a lot of vitamins and minerals. Do you take any? \n",
      "\n",
      "fish oil supplement dosage\n",
      "Conversation id: 88b934a3-c4a0-44ab-8ea1-517dc034c163 \n",
      "user >> fish oil supplement dosage \n",
      "bot >>  I take fish oil every day.  It's a great way to prevent scurvy. \n",
      "\n"
     ]
    }
   ],
   "source": [
    "# from transformers import pipeline, Conversation\n",
    "# model_name = 'facebook/blenderbot-400M-distill'\n",
    "# pipe = pipeline(\"conversational\", model=model_name)\n",
    "\n",
    "# output_dict = {}\n",
    "# # add output to dict\n",
    "# for id, topic in topic_dict.items():\n",
    "#     print(topic)\n",
    "#     question = Conversation(topic)\n",
    "#     output = pipe(question)\n",
    "#     # remove question from output\n",
    "#     print(output)"
   ]
  },
  {
   "cell_type": "code",
   "execution_count": 36,
   "metadata": {},
   "outputs": [],
   "source": [
    "# save output to tsv file with modelname, containing topic id and answer\n",
    "import csv\n",
    "model_name = model_name.replace('/', '-')\n",
    "with open(f'answers/{model_name}.tsv', 'w') as f:\n",
    "    writer = csv.writer(f, delimiter='\\t')\n",
    "    writer.writerow(['topic_id', 'answer'])\n",
    "    for id, output in output_dict.items():\n",
    "        writer.writerow([id, output])"
   ]
  }
 ],
 "metadata": {
  "kernelspec": {
   "display_name": "bdlt",
   "language": "python",
   "name": "python3"
  },
  "language_info": {
   "codemirror_mode": {
    "name": "ipython",
    "version": 3
   },
   "file_extension": ".py",
   "mimetype": "text/x-python",
   "name": "python",
   "nbconvert_exporter": "python",
   "pygments_lexer": "ipython3",
   "version": "3.9.16"
  },
  "orig_nbformat": 4
 },
 "nbformat": 4,
 "nbformat_minor": 2
}
