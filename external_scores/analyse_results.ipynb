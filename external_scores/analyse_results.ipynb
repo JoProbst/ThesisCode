{
 "cells": [
  {
   "cell_type": "code",
   "execution_count": 2,
   "metadata": {},
   "outputs": [
    {
     "name": "stderr",
     "output_type": "stream",
     "text": [
      "PyTerrier 0.9.2 has loaded Terrier 5.8 (built by craigm on 2023-11-01 18:05) and terrier-helper 0.0.8\n",
      "\n",
      "No etc/terrier.properties, using terrier.default.properties for bootstrap configuration.\n"
     ]
    },
    {
     "data": {
      "text/html": [
       "<div>\n",
       "<style scoped>\n",
       "    .dataframe tbody tr th:only-of-type {\n",
       "        vertical-align: middle;\n",
       "    }\n",
       "\n",
       "    .dataframe tbody tr th {\n",
       "        vertical-align: top;\n",
       "    }\n",
       "\n",
       "    .dataframe thead th {\n",
       "        text-align: right;\n",
       "    }\n",
       "</style>\n",
       "<table border=\"1\" class=\"dataframe\">\n",
       "  <thead>\n",
       "    <tr style=\"text-align: right;\">\n",
       "      <th></th>\n",
       "      <th>qid</th>\n",
       "      <th>docno</th>\n",
       "      <th>label</th>\n",
       "    </tr>\n",
       "  </thead>\n",
       "  <tbody>\n",
       "    <tr>\n",
       "      <th>0</th>\n",
       "      <td>1</td>\n",
       "      <td>a6195d99-f7d7-43ec-907c-435cb7a62ee7</td>\n",
       "      <td>2</td>\n",
       "    </tr>\n",
       "    <tr>\n",
       "      <th>1</th>\n",
       "      <td>1</td>\n",
       "      <td>80fd9af1-c9b6-4d82-b62a-fe16d5b9d76f</td>\n",
       "      <td>1</td>\n",
       "    </tr>\n",
       "    <tr>\n",
       "      <th>2</th>\n",
       "      <td>1</td>\n",
       "      <td>4a8c5d85-b2d0-43bc-83f4-c1acfe0b3481</td>\n",
       "      <td>2</td>\n",
       "    </tr>\n",
       "    <tr>\n",
       "      <th>3</th>\n",
       "      <td>1</td>\n",
       "      <td>22990a4b-6a9f-4e00-9e72-aef0fbee202b</td>\n",
       "      <td>0</td>\n",
       "    </tr>\n",
       "    <tr>\n",
       "      <th>4</th>\n",
       "      <td>1</td>\n",
       "      <td>fd6ddab2-e4d9-4151-9972-256f5be6eb21</td>\n",
       "      <td>1</td>\n",
       "    </tr>\n",
       "  </tbody>\n",
       "</table>\n",
       "</div>"
      ],
      "text/plain": [
       "  qid                                 docno  label\n",
       "0   1  a6195d99-f7d7-43ec-907c-435cb7a62ee7      2\n",
       "1   1  80fd9af1-c9b6-4d82-b62a-fe16d5b9d76f      1\n",
       "2   1  4a8c5d85-b2d0-43bc-83f4-c1acfe0b3481      2\n",
       "3   1  22990a4b-6a9f-4e00-9e72-aef0fbee202b      0\n",
       "4   1  fd6ddab2-e4d9-4151-9972-256f5be6eb21      1"
      ]
     },
     "execution_count": 2,
     "metadata": {},
     "output_type": "execute_result"
    }
   ],
   "source": [
    "import pandas as pd\n",
    "import pyterrier as pt\n",
    "# read csvs without header, column names are qid, sep, uuid, score\n",
    "if not pt.started():\n",
    "    pt.init()\n",
    "qrels = pt.io.read_qrels(\"../dataset/assessments/qrels.txt\") # type: ignore\n",
    "qcred = pt.io.read_qrels(\"../dataset/assessments/qcredibility.txt\") # type: ignore\n",
    "qread = pt.io.read_qrels(\"../dataset/assessments/qreadability.txt\") # type: ignore\n",
    "\n",
    "# Read the credibility scores\n",
    "credibility_scores = pd.read_csv('all_passages_credibility_scores_bert.tsv', sep='\\t')\n",
    "qrels.head()"
   ]
  },
  {
   "cell_type": "code",
   "execution_count": 3,
   "metadata": {},
   "outputs": [],
   "source": [
    "# Merge the credibility scores with the qrels\n",
    "passages_with_qcred = pd.merge(credibility_scores, qcred, left_on=\"docid\", right_on=\"docno\")"
   ]
  },
  {
   "cell_type": "code",
   "execution_count": 4,
   "metadata": {},
   "outputs": [
    {
     "data": {
      "text/html": [
       "<div>\n",
       "<style scoped>\n",
       "    .dataframe tbody tr th:only-of-type {\n",
       "        vertical-align: middle;\n",
       "    }\n",
       "\n",
       "    .dataframe tbody tr th {\n",
       "        vertical-align: top;\n",
       "    }\n",
       "\n",
       "    .dataframe thead th {\n",
       "        text-align: right;\n",
       "    }\n",
       "</style>\n",
       "<table border=\"1\" class=\"dataframe\">\n",
       "  <thead>\n",
       "    <tr style=\"text-align: right;\">\n",
       "      <th></th>\n",
       "      <th>credibility_score_bert</th>\n",
       "      <th>label</th>\n",
       "    </tr>\n",
       "  </thead>\n",
       "  <tbody>\n",
       "    <tr>\n",
       "      <th>credibility_score_bert</th>\n",
       "      <td>1.000000</td>\n",
       "      <td>0.067204</td>\n",
       "    </tr>\n",
       "    <tr>\n",
       "      <th>label</th>\n",
       "      <td>0.067204</td>\n",
       "      <td>1.000000</td>\n",
       "    </tr>\n",
       "  </tbody>\n",
       "</table>\n",
       "</div>"
      ],
      "text/plain": [
       "                        credibility_score_bert     label\n",
       "credibility_score_bert                1.000000  0.067204\n",
       "label                                 0.067204  1.000000"
      ]
     },
     "execution_count": 4,
     "metadata": {},
     "output_type": "execute_result"
    }
   ],
   "source": [
    "# Correlation between credibility score and credibility label\n",
    "passages_with_qcred[['credibility_score_bert', 'label']].corr()"
   ]
  },
  {
   "cell_type": "code",
   "execution_count": 5,
   "metadata": {},
   "outputs": [
    {
     "data": {
      "text/html": [
       "<div>\n",
       "<style scoped>\n",
       "    .dataframe tbody tr th:only-of-type {\n",
       "        vertical-align: middle;\n",
       "    }\n",
       "\n",
       "    .dataframe tbody tr th {\n",
       "        vertical-align: top;\n",
       "    }\n",
       "\n",
       "    .dataframe thead th {\n",
       "        text-align: right;\n",
       "    }\n",
       "</style>\n",
       "<table border=\"1\" class=\"dataframe\">\n",
       "  <thead>\n",
       "    <tr style=\"text-align: right;\">\n",
       "      <th></th>\n",
       "      <th>flesch_reading_ease</th>\n",
       "      <th>text_standard</th>\n",
       "      <th>label</th>\n",
       "    </tr>\n",
       "  </thead>\n",
       "  <tbody>\n",
       "    <tr>\n",
       "      <th>flesch_reading_ease</th>\n",
       "      <td>1.000000</td>\n",
       "      <td>-0.731399</td>\n",
       "      <td>0.176506</td>\n",
       "    </tr>\n",
       "    <tr>\n",
       "      <th>text_standard</th>\n",
       "      <td>-0.731399</td>\n",
       "      <td>1.000000</td>\n",
       "      <td>-0.147296</td>\n",
       "    </tr>\n",
       "    <tr>\n",
       "      <th>label</th>\n",
       "      <td>0.176506</td>\n",
       "      <td>-0.147296</td>\n",
       "      <td>1.000000</td>\n",
       "    </tr>\n",
       "  </tbody>\n",
       "</table>\n",
       "</div>"
      ],
      "text/plain": [
       "                     flesch_reading_ease  text_standard     label\n",
       "flesch_reading_ease             1.000000      -0.731399  0.176506\n",
       "text_standard                  -0.731399       1.000000 -0.147296\n",
       "label                           0.176506      -0.147296  1.000000"
      ]
     },
     "execution_count": 5,
     "metadata": {},
     "output_type": "execute_result"
    }
   ],
   "source": [
    "# Read the readability scores\n",
    "readability_scores = pd.read_csv('all_passages_readability_scores.tsv', sep='\\t')\n",
    "# Merge the readability scores with the qrels\n",
    "passages_with_qread = pd.merge(readability_scores, qread, left_on=\"docid\", right_on=\"docno\")\n",
    "# Correlation between readability scores and readability label\n",
    "passages_with_qread[[\"flesch_reading_ease\", \"text_standard\",  \"label\"]].corr()"
   ]
  }
 ],
 "metadata": {
  "kernelspec": {
   "display_name": "base",
   "language": "python",
   "name": "python3"
  },
  "language_info": {
   "codemirror_mode": {
    "name": "ipython",
    "version": 3
   },
   "file_extension": ".py",
   "mimetype": "text/x-python",
   "name": "python",
   "nbconvert_exporter": "python",
   "pygments_lexer": "ipython3",
   "version": "3.8.18"
  }
 },
 "nbformat": 4,
 "nbformat_minor": 2
}
