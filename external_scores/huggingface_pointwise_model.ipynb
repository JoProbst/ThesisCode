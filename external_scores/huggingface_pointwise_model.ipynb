{
 "cells": [
  {
   "cell_type": "code",
   "execution_count": 1,
   "metadata": {},
   "outputs": [
    {
     "data": {
      "application/vnd.jupyter.widget-view+json": {
       "model_id": "7962eb978e734cc4b6c662a948836e40",
       "version_major": 2,
       "version_minor": 0
      },
      "text/plain": [
       "Downloading (…)okenizer_config.json:   0%|          | 0.00/333 [00:00<?, ?B/s]"
      ]
     },
     "metadata": {},
     "output_type": "display_data"
    },
    {
     "data": {
      "application/vnd.jupyter.widget-view+json": {
       "model_id": "5adda64038c640a1a06980b12a8b88cf",
       "version_major": 2,
       "version_minor": 0
      },
      "text/plain": [
       "Downloading (…)solve/main/vocab.txt:   0%|          | 0.00/232k [00:00<?, ?B/s]"
      ]
     },
     "metadata": {},
     "output_type": "display_data"
    },
    {
     "data": {
      "application/vnd.jupyter.widget-view+json": {
       "model_id": "4a7b9a640ec248bc8536cd0ee3dee342",
       "version_major": 2,
       "version_minor": 0
      },
      "text/plain": [
       "Downloading (…)/main/tokenizer.json:   0%|          | 0.00/466k [00:00<?, ?B/s]"
      ]
     },
     "metadata": {},
     "output_type": "display_data"
    },
    {
     "data": {
      "application/vnd.jupyter.widget-view+json": {
       "model_id": "3d362230fe2d43a984db4ced99480b46",
       "version_major": 2,
       "version_minor": 0
      },
      "text/plain": [
       "Downloading (…)cial_tokens_map.json:   0%|          | 0.00/112 [00:00<?, ?B/s]"
      ]
     },
     "metadata": {},
     "output_type": "display_data"
    },
    {
     "data": {
      "application/vnd.jupyter.widget-view+json": {
       "model_id": "6577aeb0c3de4215aba4a1da5f41feff",
       "version_major": 2,
       "version_minor": 0
      },
      "text/plain": [
       "Downloading (…)lve/main/config.json:   0%|          | 0.00/675 [00:00<?, ?B/s]"
      ]
     },
     "metadata": {},
     "output_type": "display_data"
    },
    {
     "data": {
      "application/vnd.jupyter.widget-view+json": {
       "model_id": "0bdb35986ab547eb89171005906e2a3a",
       "version_major": 2,
       "version_minor": 0
      },
      "text/plain": [
       "Downloading pytorch_model.bin:   0%|          | 0.00/268M [00:00<?, ?B/s]"
      ]
     },
     "metadata": {},
     "output_type": "display_data"
    }
   ],
   "source": [
    "from transformers import AutoTokenizer, AutoModelForSequenceClassification\n",
    "import torch\n",
    "from sentence_transformers import CrossEncoder\n",
    "\n",
    "\n",
    "# model = CrossEncoder(\"./huggingface_checkpoint_pointwise_crossencoder\", max_length=512) \n",
    "from transformers import AutoTokenizer, AutoModelForSequenceClassification\n",
    "\n",
    "tokenizer = AutoTokenizer.from_pretrained(\"Tymoteusz/distilbert-base-uncased-kaggle-readability\")\n",
    "\n",
    "model = AutoModelForSequenceClassification.from_pretrained(\"Tymoteusz/distilbert-base-uncased-kaggle-readability\")"
   ]
  },
  {
   "cell_type": "code",
   "execution_count": 16,
   "metadata": {},
   "outputs": [
    {
     "data": {
      "text/plain": [
       "['LABEL_0']"
      ]
     },
     "execution_count": 16,
     "metadata": {},
     "output_type": "execute_result"
    }
   ],
   "source": [
    "res = model(torch.tensor([tokenizer.encode(\"This is a test asdf asdf asdf asdf\", add_special_tokens=True)]))\n",
    "predicted_class_ids = torch.arange(0, logits.shape[-1])[torch.sigmoid(logits).squeeze(dim=0) > 0.5]\n",
    "predicted_labels = [model.config.id2label[id.item()] for id in predicted_class_ids]\n",
    "predicted_labels"
   ]
  },
  {
   "cell_type": "code",
   "execution_count": 2,
   "metadata": {},
   "outputs": [
    {
     "name": "stdout",
     "output_type": "stream",
     "text": [
      "/home/jonas/miniconda3/envs/transformers\n"
     ]
    }
   ],
   "source": [
    "\n",
    "# print os cuda_home\n",
    "import os\n",
    "print(os.environ['CUDA_HOME'])"
   ]
  },
  {
   "cell_type": "code",
   "execution_count": 3,
   "metadata": {},
   "outputs": [
    {
     "name": "stdout",
     "output_type": "stream",
     "text": [
      "False\n"
     ]
    }
   ],
   "source": [
    "# print cuda home\n",
    "print(torch.cuda.is_available())\n"
   ]
  },
  {
   "cell_type": "code",
   "execution_count": 4,
   "metadata": {},
   "outputs": [],
   "source": [
    "import xml.etree.ElementTree as ET\n",
    "import pandas as pd\n",
    "\n",
    "def load_topics(path):\n",
    "    with open(path) as f:\n",
    "        root = ET.fromstring(f.read())\n",
    "    topic_dict = {}\n",
    "    for topic in root.findall(\"topic\"):\n",
    "        topic_id = topic.findtext(\"id\")\n",
    "        topic_query = topic.findtext(\"query\")\n",
    "        if topic_id and topic_query:\n",
    "            topic_dict[topic_id] = topic_query.strip().lower()\n",
    "    topics = pd.DataFrame(topic_dict.items(), columns=[\"qid\", \"query\"]) \n",
    "    topics[\"query\"] = topics[\"query\"].str.replace(r'\\W+', ' ', regex=True)\n",
    "    return topics"
   ]
  },
  {
   "cell_type": "code",
   "execution_count": 10,
   "metadata": {},
   "outputs": [],
   "source": [
    "all_passages = pd.read_csv(\"data/Webdoc/txt.tsv\", sep=\"\\t\")\n"
   ]
  },
  {
   "cell_type": "code",
   "execution_count": 6,
   "metadata": {},
   "outputs": [],
   "source": [
    "topics = load_topics(\"data/topics/topics.txt\")"
   ]
  },
  {
   "cell_type": "code",
   "execution_count": 11,
   "metadata": {},
   "outputs": [],
   "source": [
    "# generate list of querie, passage pairs. Each query will be paired with each passage\n",
    "pairs = []\n",
    "for index, row in topics.iterrows():\n",
    "    if index > 0:\n",
    "        break\n",
    "    for index2, row2 in all_passages.iterrows():\n",
    "        pairs.append((row[\"query\"], row2[\"text\"]))"
   ]
  },
  {
   "cell_type": "code",
   "execution_count": 12,
   "metadata": {},
   "outputs": [
    {
     "data": {
      "text/plain": [
       "6692"
      ]
     },
     "execution_count": 12,
     "metadata": {},
     "output_type": "execute_result"
    }
   ],
   "source": [
    "len(pairs)"
   ]
  },
  {
   "cell_type": "code",
   "execution_count": 14,
   "metadata": {},
   "outputs": [
    {
     "data": {
      "application/vnd.jupyter.widget-view+json": {
       "model_id": "a1fcf3f9389e4c5488c1a29703951f4e",
       "version_major": 2,
       "version_minor": 0
      },
      "text/plain": [
       "Batches:   0%|          | 0/210 [00:00<?, ?it/s]"
      ]
     },
     "metadata": {},
     "output_type": "display_data"
    }
   ],
   "source": [
    "# move to GPU\n",
    "\n",
    "result = model.predict(pairs, show_progress_bar=True, batch_size=32)"
   ]
  },
  {
   "cell_type": "code",
   "execution_count": 9,
   "metadata": {},
   "outputs": [
    {
     "data": {
      "text/plain": [
       "array([0.48864564, 0.5322153 , 0.4919514 , 0.4919514 , 0.49434176,\n",
       "       0.5206046 , 0.5324732 , 0.529872  , 0.53022796, 0.53022796,\n",
       "       0.5323814 , 0.5323214 , 0.5314924 , 0.5314924 , 0.528139  ,\n",
       "       0.532533  , 0.52124846, 0.4583546 , 0.45850483, 0.45831004,\n",
       "       0.53253686, 0.53206015, 0.5305847 , 0.5305847 , 0.5325372 ,\n",
       "       0.4988671 , 0.45629552, 0.4665585 , 0.46510193, 0.46515056,\n",
       "       0.52865934, 0.53140956, 0.5298428 , 0.5298428 , 0.52377075,\n",
       "       0.52464134, 0.47937423, 0.52813023, 0.52801085, 0.52801085,\n",
       "       0.50798106, 0.5128198 , 0.5065715 , 0.5065715 , 0.45762488,\n",
       "       0.46619248, 0.46018952, 0.48184034, 0.48278084, 0.48162046,\n",
       "       0.48510206, 0.49877754, 0.48057094, 0.48057094, 0.51463455,\n",
       "       0.50622946, 0.5198705 , 0.5016975 , 0.5018771 , 0.5018771 ,\n",
       "       0.53232324, 0.5323286 , 0.5314715 , 0.5314715 , 0.5322843 ,\n",
       "       0.5320083 , 0.53246784, 0.52093726, 0.52153194, 0.52153194,\n",
       "       0.49671698, 0.48679492, 0.50634   , 0.50634   , 0.5048858 ,\n",
       "       0.5168967 , 0.5110291 , 0.48925257, 0.4885692 , 0.48518816,\n",
       "       0.47592217, 0.49638513, 0.45589826, 0.45589826, 0.50559473,\n",
       "       0.49157318, 0.524916  , 0.4906537 , 0.48967907, 0.48967907,\n",
       "       0.4567044 , 0.5230752 , 0.46725997, 0.46725997, 0.53116804,\n",
       "       0.5117587 , 0.5093373 , 0.51015645, 0.50970024, 0.50927407,\n",
       "       0.45660418, 0.5302082 , 0.5101726 , 0.5101726 , 0.53236234,\n",
       "       0.5295842 , 0.5291924 , 0.5085802 , 0.5088745 , 0.5075763 ,\n",
       "       0.45846292, 0.532241  , 0.5058319 , 0.5058319 , 0.5321095 ,\n",
       "       0.49872467, 0.5316877 , 0.503981  , 0.50312346, 0.5031746 ,\n",
       "       0.45589626, 0.5274797 , 0.48326352, 0.48326352, 0.5307026 ,\n",
       "       0.5159347 , 0.53139096, 0.5062146 , 0.507807  , 0.50591046,\n",
       "       0.45490894, 0.4842133 , 0.47100985, 0.47100985, 0.49000102,\n",
       "       0.5140855 , 0.51702756, 0.4899882 , 0.49116367, 0.49116367,\n",
       "       0.4597329 , 0.50914526, 0.45631132, 0.45631132, 0.49485728,\n",
       "       0.52472353, 0.49971774, 0.45527264, 0.4549347 , 0.45519072,\n",
       "       0.4597079 , 0.52479327, 0.4568897 , 0.4568897 , 0.5287111 ,\n",
       "       0.5326655 , 0.5324828 , 0.5225304 , 0.5213261 , 0.52147084,\n",
       "       0.47380728, 0.5158944 , 0.4802601 , 0.4802601 , 0.51111174,\n",
       "       0.49651706, 0.5029095 , 0.5280094 , 0.5283679 , 0.5283679 ,\n",
       "       0.46799928, 0.48220783, 0.46747756, 0.46747756, 0.49838784,\n",
       "       0.49835852, 0.5235451 , 0.517415  , 0.5174699 , 0.5174699 ,\n",
       "       0.4587064 , 0.5209598 , 0.4560663 , 0.4560663 , 0.52140975,\n",
       "       0.5250696 , 0.52058727, 0.4848144 , 0.48492336, 0.48492336,\n",
       "       0.45768744, 0.5163277 , 0.4601882 , 0.4601882 , 0.5018926 ,\n",
       "       0.51552474, 0.5218529 , 0.513168  , 0.5132891 , 0.5132891 ,\n",
       "       0.45596862, 0.5309563 , 0.45553055, 0.45553055, 0.47739252,\n",
       "       0.5302257 , 0.5149506 , 0.52290845, 0.5221978 , 0.5221978 ,\n",
       "       0.4911693 , 0.53222096, 0.5311566 , 0.5311566 , 0.53213906,\n",
       "       0.5326632 , 0.5322798 , 0.50677276, 0.5071841 , 0.5064984 ,\n",
       "       0.46982747, 0.53226215, 0.5169179 , 0.5169179 , 0.5318572 ,\n",
       "       0.53226393, 0.53189445, 0.516557  , 0.51626754, 0.5151198 ,\n",
       "       0.46332815, 0.47793937, 0.5056947 , 0.5056947 , 0.5297013 ,\n",
       "       0.5278067 , 0.5264818 , 0.4885893 , 0.48866755, 0.48861268,\n",
       "       0.45521381, 0.497333  , 0.45670995, 0.45670995, 0.5201412 ,\n",
       "       0.49328294, 0.5240359 , 0.47686833, 0.47599024, 0.47599024,\n",
       "       0.4557827 , 0.5009918 , 0.4851583 , 0.4851583 , 0.51884   ,\n",
       "       0.49340424, 0.4715353 , 0.4878244 , 0.47573453, 0.47573453,\n",
       "       0.46654868, 0.50785786, 0.4586084 , 0.4586084 , 0.52620494,\n",
       "       0.52698046, 0.5229749 , 0.50278157, 0.5028404 , 0.500094  ,\n",
       "       0.5200364 , 0.5311253 , 0.5235277 , 0.5235277 , 0.52403694,\n",
       "       0.5238925 , 0.49021867, 0.52055484, 0.52008504, 0.5196652 ,\n",
       "       0.53250885, 0.53243357, 0.5324492 , 0.5324492 , 0.51295596,\n",
       "       0.5323139 , 0.5010388 , 0.52579474, 0.52719945, 0.52626973,\n",
       "       0.50995594, 0.5289254 , 0.5235017 , 0.5235017 , 0.51563704,\n",
       "       0.52968377, 0.5318634 , 0.46200916, 0.465084  , 0.4651625 ,\n",
       "       0.48583344, 0.50321037, 0.51723623, 0.51723623, 0.45781043,\n",
       "       0.51113665, 0.51731217, 0.47708172, 0.47879165, 0.476168  ,\n",
       "       0.46789122, 0.46932006, 0.46524838, 0.46524838, 0.50433123,\n",
       "       0.47471505, 0.47564173, 0.46499735, 0.4634376 , 0.4632658 ,\n",
       "       0.48820308, 0.509187  , 0.50601524, 0.50601524, 0.5156881 ,\n",
       "       0.5196681 , 0.5099295 , 0.49948615, 0.4999619 , 0.4987035 ,\n",
       "       0.5202508 , 0.5163855 , 0.52799505, 0.52799505, 0.52469635,\n",
       "       0.51354676, 0.52081096, 0.5094564 , 0.5048214 , 0.5021817 ,\n",
       "       0.49575138, 0.47637546, 0.45934087, 0.45934087, 0.4721768 ,\n",
       "       0.501272  , 0.49392036, 0.50248665, 0.5034744 , 0.5034744 ,\n",
       "       0.49363267, 0.50660694, 0.50055224, 0.50055224, 0.5145546 ,\n",
       "       0.5165759 , 0.51728934, 0.49767956, 0.49912545, 0.49912545,\n",
       "       0.5014757 , 0.5171574 , 0.5172241 , 0.5172241 , 0.45758334,\n",
       "       0.53259873, 0.531672  , 0.5208904 , 0.5220474 , 0.5174687 ,\n",
       "       0.50165635, 0.51066023, 0.49994564, 0.49994564, 0.52800345,\n",
       "       0.50261235, 0.49891126, 0.5008891 , 0.5014294 , 0.4999962 ,\n",
       "       0.48917216, 0.52649   , 0.50999236, 0.50999236, 0.52857953,\n",
       "       0.53003156, 0.52539265, 0.5225371 , 0.5208874 , 0.51740015,\n",
       "       0.5313937 , 0.5209939 , 0.5324314 , 0.5324314 , 0.5324599 ,\n",
       "       0.5274131 , 0.5267318 , 0.49855584, 0.50121456, 0.49832514,\n",
       "       0.53154635, 0.53041905, 0.52927965, 0.52927965, 0.53108984,\n",
       "       0.5320039 , 0.53234226, 0.5326018 , 0.53264076, 0.5325621 ,\n",
       "       0.53171504, 0.53240985, 0.5319757 , 0.5319757 , 0.5304997 ,\n",
       "       0.5319282 , 0.5316772 , 0.5168627 , 0.51675576, 0.51647586,\n",
       "       0.46067312, 0.51292187, 0.46305183, 0.46305183, 0.514389  ,\n",
       "       0.5161814 , 0.51595145, 0.47953323, 0.4787276 , 0.47967127,\n",
       "       0.46389952, 0.46883848, 0.5085998 , 0.5085998 , 0.5115715 ,\n",
       "       0.5051237 , 0.5078541 , 0.48811758, 0.49228388, 0.48698878,\n",
       "       0.50147736, 0.48107734, 0.5182064 , 0.5182064 , 0.508898  ,\n",
       "       0.52607906, 0.5241044 , 0.51316977, 0.5155097 , 0.51056904,\n",
       "       0.5303339 , 0.52122647, 0.530913  , 0.530913  , 0.5294448 ,\n",
       "       0.5235104 , 0.5258807 , 0.4651291 , 0.46561748, 0.46484235,\n",
       "       0.49906144, 0.49242103, 0.5089322 , 0.5089322 , 0.51066726,\n",
       "       0.5049384 , 0.50267607, 0.48722187, 0.48918638, 0.48724848,\n",
       "       0.47977978, 0.5029806 , 0.49816024, 0.49816024, 0.5167074 ,\n",
       "       0.51680946, 0.5160248 , 0.49595216, 0.49626878, 0.49562046,\n",
       "       0.52368575, 0.5208123 , 0.5275907 , 0.5275907 , 0.5207133 ,\n",
       "       0.5150143 , 0.5026162 , 0.50705594, 0.50598717, 0.50447035,\n",
       "       0.50461656, 0.5095573 , 0.5022876 , 0.5022876 , 0.51146764,\n",
       "       0.51376855, 0.51278913, 0.45561603, 0.45506555, 0.45523995,\n",
       "       0.4895124 , 0.50260675, 0.50367117, 0.50367117, 0.50877047,\n",
       "       0.51781404, 0.5161383 , 0.5002504 , 0.5003401 , 0.5003401 ,\n",
       "       0.52213293, 0.526389  , 0.53020644, 0.53020644, 0.53205645,\n",
       "       0.52692163, 0.5263226 , 0.5187641 , 0.51926684, 0.51882523,\n",
       "       0.48294067, 0.49003664, 0.49399137, 0.49399137, 0.4799669 ,\n",
       "       0.47382402, 0.49044096, 0.45948508, 0.45890912, 0.45920706,\n",
       "       0.51037   , 0.50318074, 0.51238054, 0.51238054, 0.5160702 ,\n",
       "       0.5076349 , 0.50117606, 0.48158976, 0.4818561 , 0.4792775 ,\n",
       "       0.5321948 , 0.5324045 , 0.5320333 , 0.5320333 , 0.53245175,\n",
       "       0.53248996, 0.51349556, 0.52709496, 0.5272385 , 0.5252962 ],\n",
       "      dtype=float32)"
      ]
     },
     "execution_count": 9,
     "metadata": {},
     "output_type": "execute_result"
    }
   ],
   "source": [
    "result"
   ]
  }
 ],
 "metadata": {
  "kernelspec": {
   "display_name": "faiss",
   "language": "python",
   "name": "python3"
  },
  "language_info": {
   "codemirror_mode": {
    "name": "ipython",
    "version": 3
   },
   "file_extension": ".py",
   "mimetype": "text/x-python",
   "name": "python",
   "nbconvert_exporter": "python",
   "pygments_lexer": "ipython3",
   "version": "3.9.16"
  },
  "orig_nbformat": 4
 },
 "nbformat": 4,
 "nbformat_minor": 2
}
