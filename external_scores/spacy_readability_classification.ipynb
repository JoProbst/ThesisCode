{
 "cells": [
  {
   "cell_type": "code",
   "execution_count": 1,
   "metadata": {},
   "outputs": [
    {
     "name": "stdout",
     "output_type": "stream",
     "text": [
      "Collecting en-readability==any\n",
      "  Downloading https://huggingface.co/valurank/en_readability/resolve/main/en_readability-any-py3-none-any.whl (6.3 MB)\n",
      "\u001b[2K     \u001b[90m━━━━━━━━━━━━━━━━━━━━━━━━━━━━━━━━━━━━━━━━\u001b[0m \u001b[32m6.3/6.3 MB\u001b[0m \u001b[31m4.7 MB/s\u001b[0m eta \u001b[36m0:00:00\u001b[0m00:01\u001b[0m00:01\u001b[0m0m\n",
      "\u001b[?25hCollecting spacy<3.5.0,>=3.4.0 (from en-readability==any)\n",
      "  Downloading spacy-3.4.4-cp311-cp311-manylinux_2_17_x86_64.manylinux2014_x86_64.whl (6.4 MB)\n",
      "\u001b[2K     \u001b[90m━━━━━━━━━━━━━━━━━━━━━━━━━━━━━━━━━━━━━━━━\u001b[0m \u001b[32m6.4/6.4 MB\u001b[0m \u001b[31m6.4 MB/s\u001b[0m eta \u001b[36m0:00:00\u001b[0m00:01\u001b[0m00:01\u001b[0m\n",
      "\u001b[?25hRequirement already satisfied: spacy-legacy<3.1.0,>=3.0.10 in /home/jonas/miniconda3/envs/spacy/lib/python3.11/site-packages (from spacy<3.5.0,>=3.4.0->en-readability==any) (3.0.12)\n",
      "Requirement already satisfied: spacy-loggers<2.0.0,>=1.0.0 in /home/jonas/miniconda3/envs/spacy/lib/python3.11/site-packages (from spacy<3.5.0,>=3.4.0->en-readability==any) (1.0.4)\n",
      "Requirement already satisfied: murmurhash<1.1.0,>=0.28.0 in /home/jonas/miniconda3/envs/spacy/lib/python3.11/site-packages (from spacy<3.5.0,>=3.4.0->en-readability==any) (1.0.7)\n",
      "Requirement already satisfied: cymem<2.1.0,>=2.0.2 in /home/jonas/miniconda3/envs/spacy/lib/python3.11/site-packages (from spacy<3.5.0,>=3.4.0->en-readability==any) (2.0.6)\n",
      "Requirement already satisfied: preshed<3.1.0,>=3.0.2 in /home/jonas/miniconda3/envs/spacy/lib/python3.11/site-packages (from spacy<3.5.0,>=3.4.0->en-readability==any) (3.0.6)\n",
      "Requirement already satisfied: thinc<8.2.0,>=8.1.0 in /home/jonas/miniconda3/envs/spacy/lib/python3.11/site-packages (from spacy<3.5.0,>=3.4.0->en-readability==any) (8.1.10)\n",
      "Requirement already satisfied: wasabi<1.1.0,>=0.9.1 in /home/jonas/miniconda3/envs/spacy/lib/python3.11/site-packages (from spacy<3.5.0,>=3.4.0->en-readability==any) (0.9.1)\n",
      "Requirement already satisfied: srsly<3.0.0,>=2.4.3 in /home/jonas/miniconda3/envs/spacy/lib/python3.11/site-packages (from spacy<3.5.0,>=3.4.0->en-readability==any) (2.4.6)\n",
      "Requirement already satisfied: catalogue<2.1.0,>=2.0.6 in /home/jonas/miniconda3/envs/spacy/lib/python3.11/site-packages (from spacy<3.5.0,>=3.4.0->en-readability==any) (2.0.7)\n",
      "Requirement already satisfied: typer<0.8.0,>=0.3.0 in /home/jonas/miniconda3/envs/spacy/lib/python3.11/site-packages (from spacy<3.5.0,>=3.4.0->en-readability==any) (0.4.1)\n",
      "Requirement already satisfied: pathy>=0.3.5 in /home/jonas/miniconda3/envs/spacy/lib/python3.11/site-packages (from spacy<3.5.0,>=3.4.0->en-readability==any) (0.10.1)\n",
      "Requirement already satisfied: smart-open<7.0.0,>=5.2.1 in /home/jonas/miniconda3/envs/spacy/lib/python3.11/site-packages (from spacy<3.5.0,>=3.4.0->en-readability==any) (5.2.1)\n",
      "Requirement already satisfied: tqdm<5.0.0,>=4.38.0 in /home/jonas/miniconda3/envs/spacy/lib/python3.11/site-packages (from spacy<3.5.0,>=3.4.0->en-readability==any) (4.65.0)\n",
      "Requirement already satisfied: numpy>=1.15.0 in /home/jonas/miniconda3/envs/spacy/lib/python3.11/site-packages (from spacy<3.5.0,>=3.4.0->en-readability==any) (1.24.3)\n",
      "Requirement already satisfied: requests<3.0.0,>=2.13.0 in /home/jonas/miniconda3/envs/spacy/lib/python3.11/site-packages (from spacy<3.5.0,>=3.4.0->en-readability==any) (2.29.0)\n",
      "Requirement already satisfied: pydantic!=1.8,!=1.8.1,<1.11.0,>=1.7.4 in /home/jonas/miniconda3/envs/spacy/lib/python3.11/site-packages (from spacy<3.5.0,>=3.4.0->en-readability==any) (1.10.8)\n",
      "Requirement already satisfied: jinja2 in /home/jonas/miniconda3/envs/spacy/lib/python3.11/site-packages (from spacy<3.5.0,>=3.4.0->en-readability==any) (3.1.2)\n",
      "Requirement already satisfied: setuptools in /home/jonas/miniconda3/envs/spacy/lib/python3.11/site-packages (from spacy<3.5.0,>=3.4.0->en-readability==any) (67.8.0)\n",
      "Requirement already satisfied: packaging>=20.0 in /home/jonas/miniconda3/envs/spacy/lib/python3.11/site-packages (from spacy<3.5.0,>=3.4.0->en-readability==any) (23.0)\n",
      "Requirement already satisfied: langcodes<4.0.0,>=3.2.0 in /home/jonas/miniconda3/envs/spacy/lib/python3.11/site-packages (from spacy<3.5.0,>=3.4.0->en-readability==any) (3.3.0)\n",
      "Requirement already satisfied: typing-extensions>=4.2.0 in /home/jonas/miniconda3/envs/spacy/lib/python3.11/site-packages (from pydantic!=1.8,!=1.8.1,<1.11.0,>=1.7.4->spacy<3.5.0,>=3.4.0->en-readability==any) (4.6.3)\n",
      "Requirement already satisfied: charset-normalizer<4,>=2 in /home/jonas/miniconda3/envs/spacy/lib/python3.11/site-packages (from requests<3.0.0,>=2.13.0->spacy<3.5.0,>=3.4.0->en-readability==any) (2.0.4)\n",
      "Requirement already satisfied: idna<4,>=2.5 in /home/jonas/miniconda3/envs/spacy/lib/python3.11/site-packages (from requests<3.0.0,>=2.13.0->spacy<3.5.0,>=3.4.0->en-readability==any) (3.4)\n",
      "Requirement already satisfied: urllib3<1.27,>=1.21.1 in /home/jonas/miniconda3/envs/spacy/lib/python3.11/site-packages (from requests<3.0.0,>=2.13.0->spacy<3.5.0,>=3.4.0->en-readability==any) (1.26.16)\n",
      "Requirement already satisfied: certifi>=2017.4.17 in /home/jonas/miniconda3/envs/spacy/lib/python3.11/site-packages (from requests<3.0.0,>=2.13.0->spacy<3.5.0,>=3.4.0->en-readability==any) (2023.5.7)\n",
      "Requirement already satisfied: blis<0.8.0,>=0.7.8 in /home/jonas/miniconda3/envs/spacy/lib/python3.11/site-packages (from thinc<8.2.0,>=8.1.0->spacy<3.5.0,>=3.4.0->en-readability==any) (0.7.9)\n",
      "Requirement already satisfied: confection<1.0.0,>=0.0.1 in /home/jonas/miniconda3/envs/spacy/lib/python3.11/site-packages (from thinc<8.2.0,>=8.1.0->spacy<3.5.0,>=3.4.0->en-readability==any) (0.0.4)\n",
      "Requirement already satisfied: click<9.0.0,>=7.1.1 in /home/jonas/miniconda3/envs/spacy/lib/python3.11/site-packages (from typer<0.8.0,>=0.3.0->spacy<3.5.0,>=3.4.0->en-readability==any) (8.0.4)\n",
      "Requirement already satisfied: MarkupSafe>=2.0 in /home/jonas/miniconda3/envs/spacy/lib/python3.11/site-packages (from jinja2->spacy<3.5.0,>=3.4.0->en-readability==any) (2.1.1)\n",
      "Installing collected packages: spacy, en-readability\n",
      "  Attempting uninstall: spacy\n",
      "    Found existing installation: spacy 3.5.3\n",
      "    Uninstalling spacy-3.5.3:\n",
      "      Successfully uninstalled spacy-3.5.3\n",
      "Successfully installed en-readability-0.1 spacy-3.4.4\n"
     ]
    }
   ],
   "source": [
    "!pip install https://huggingface.co/valurank/en_readability/resolve/main/en_readability-any-py3-none-any.whl\n"
   ]
  },
  {
   "cell_type": "code",
   "execution_count": 1,
   "metadata": {},
   "outputs": [],
   "source": [
    "\n",
    "# Using spacy.load().\n",
    "# import spacy\n",
    "# nlp = spacy.load(\"en_readability\")\n",
    "\n",
    "# Importing as module.\n",
    "import en_readability\n",
    "nlp = en_readability.load()"
   ]
  },
  {
   "cell_type": "code",
   "execution_count": 3,
   "metadata": {},
   "outputs": [
    {
     "data": {
      "text/plain": [
       "3.7181818181818187"
      ]
     },
     "execution_count": 3,
     "metadata": {},
     "output_type": "execute_result"
    }
   ],
   "source": [
    "sent2 = \"The dog and the cat got together to a nice dinner.\"\n",
    "doc = nlp(sent2)\n",
    "#print all the scores\n",
    "doc.cats['flesch_kincaid_grade_level']"
   ]
  }
 ],
 "metadata": {
  "kernelspec": {
   "display_name": "spacy",
   "language": "python",
   "name": "python3"
  },
  "language_info": {
   "codemirror_mode": {
    "name": "ipython",
    "version": 3
   },
   "file_extension": ".py",
   "mimetype": "text/x-python",
   "name": "python",
   "nbconvert_exporter": "python",
   "pygments_lexer": "ipython3",
   "version": "3.11.3"
  },
  "orig_nbformat": 4
 },
 "nbformat": 4,
 "nbformat_minor": 2
}
