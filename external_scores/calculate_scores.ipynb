{
 "cells": [
  {
   "cell_type": "code",
   "execution_count": 1,
   "metadata": {},
   "outputs": [
    {
     "name": "stderr",
     "output_type": "stream",
     "text": [
      "PyTerrier 0.9.2 has loaded Terrier 5.7 (built by craigm on 2022-11-10 18:30) and terrier-helper 0.0.7\n",
      "\n",
      "No etc/terrier.properties, using terrier.default.properties for bootstrap configuration.\n"
     ]
    }
   ],
   "source": [
    "import pandas as pd\n",
    "import pyterrier as pt\n",
    "# read csvs without header, column names are qid, sep, uuid, score\n",
    "if not pt.started():\n",
    "    pt.init()\n",
    "qrels = pt.io.read_qrels(\"../data/assessments/qrels.txt\") # type: ignore\n",
    "qcred = pt.io.read_qrels(\"../data/assessments/qcredibility.txt\") # type: ignore\n",
    "qread = pt.io.read_qrels(\"../data/assessments/qreadability.txt\") # type: ignore\n"
   ]
  },
  {
   "cell_type": "code",
   "execution_count": 2,
   "metadata": {},
   "outputs": [],
   "source": [
    "import xml.etree.ElementTree as ET\n",
    "import pandas as pd\n",
    "\n",
    "def load_topics(path):\n",
    "    with open(path) as f:\n",
    "        root = ET.fromstring(f.read())\n",
    "    topic_dict = {}\n",
    "    for topic in root.findall(\"topic\"):\n",
    "        topic_id = topic.findtext(\"id\")\n",
    "        topic_query = topic.findtext(\"query\")\n",
    "        if topic_id and topic_query:\n",
    "            topic_dict[topic_id] = topic_query.strip().lower()\n",
    "    topics = pd.DataFrame(topic_dict.items(), columns=[\"qid\", \"query\"]) \n",
    "    topics[\"query\"] = topics[\"query\"].str.replace(r'\\W+', ' ', regex=True)\n",
    "    return topics"
   ]
  },
  {
   "cell_type": "code",
   "execution_count": 3,
   "metadata": {},
   "outputs": [],
   "source": [
    "queries = load_topics(\"./topics/topics.txt\")"
   ]
  },
  {
   "cell_type": "code",
   "execution_count": 4,
   "metadata": {},
   "outputs": [
    {
     "data": {
      "text/html": [
       "<div>\n",
       "<style scoped>\n",
       "    .dataframe tbody tr th:only-of-type {\n",
       "        vertical-align: middle;\n",
       "    }\n",
       "\n",
       "    .dataframe tbody tr th {\n",
       "        vertical-align: top;\n",
       "    }\n",
       "\n",
       "    .dataframe thead th {\n",
       "        text-align: right;\n",
       "    }\n",
       "</style>\n",
       "<table border=\"1\" class=\"dataframe\">\n",
       "  <thead>\n",
       "    <tr style=\"text-align: right;\">\n",
       "      <th></th>\n",
       "      <th>qid</th>\n",
       "      <th>query</th>\n",
       "    </tr>\n",
       "  </thead>\n",
       "  <tbody>\n",
       "    <tr>\n",
       "      <th>0</th>\n",
       "      <td>1</td>\n",
       "      <td>what are the most common chronic diseases what...</td>\n",
       "    </tr>\n",
       "    <tr>\n",
       "      <th>1</th>\n",
       "      <td>8</td>\n",
       "      <td>best apps daily activity exercise diabetes</td>\n",
       "    </tr>\n",
       "    <tr>\n",
       "      <th>2</th>\n",
       "      <td>22</td>\n",
       "      <td>my risk for developing type 2 diabetes</td>\n",
       "    </tr>\n",
       "    <tr>\n",
       "      <th>3</th>\n",
       "      <td>35</td>\n",
       "      <td>is a ketogenic keto diet suitable for people w...</td>\n",
       "    </tr>\n",
       "    <tr>\n",
       "      <th>4</th>\n",
       "      <td>45</td>\n",
       "      <td>can diabetes be cured</td>\n",
       "    </tr>\n",
       "  </tbody>\n",
       "</table>\n",
       "</div>"
      ],
      "text/plain": [
       "  qid                                              query\n",
       "0   1  what are the most common chronic diseases what...\n",
       "1   8         best apps daily activity exercise diabetes\n",
       "2  22             my risk for developing type 2 diabetes\n",
       "3  35  is a ketogenic keto diet suitable for people w...\n",
       "4  45                             can diabetes be cured "
      ]
     },
     "execution_count": 4,
     "metadata": {},
     "output_type": "execute_result"
    }
   ],
   "source": [
    "queries.head()"
   ]
  },
  {
   "cell_type": "code",
   "execution_count": 20,
   "metadata": {},
   "outputs": [],
   "source": [
    "all_passages = pd.read_csv(\"../CHS-2021/documents/Webdoc/crawl/txt_over_50.tsv\", sep=\"\\t\")"
   ]
  },
  {
   "cell_type": "code",
   "execution_count": 22,
   "metadata": {},
   "outputs": [],
   "source": [
    "import textstat\n",
    "# rank documents with custom function that evaluates readability of the document\n",
    "def readability_score(text):\n",
    "    score = textstat.flesch_reading_ease(text)\n",
    "    return score \n",
    "\n",
    "def text_standard(text):\n",
    "    score = textstat.text_standard(text, float_output=True)\n",
    "    return score"
   ]
  },
  {
   "cell_type": "code",
   "execution_count": 23,
   "metadata": {},
   "outputs": [
    {
     "name": "stdout",
     "output_type": "stream",
     "text": [
      "3.09\n",
      "20.0\n",
      "45.66\n",
      "14.0\n",
      "Thank you for visiting nature.com. You are using a browser version with limited support for CSS. To obtain the best experience, we recommend you use a more up to date browser (or turn off compatibility mode in Internet Explorer). In the meantime, to ensure continued support, we are displaying the site without styles and JavaScript. GM-CSF and CXCR4 define a T helper cell signature in multiple sclerosis   ,   ,   ,   ,     , –() Cytokine dysregulation is a central driver of chronic inflammatory diseases such as multiple sclerosis (MS). Here, we sought to determine the characteristic cellular and cytokine polarization profile in patients with relapsing–remitting multiple sclerosis (RRMS) by high-dimensional single-cell mass cytometry (CyTOF). Using a combination of neural network-based representation learning algorithms, we identified an expanded T helper cell subset in patients with MS, characterized by the expression of granulocyte–macrophage colony-stimulating factor and the C-X-C chemokine receptor type 4. This cellular signature, which includes expression of very late antigen 4 in peripheral blood, was also enriched in the central nervous system of patients with relapsing–remitting multiple sclerosis. In independent validation cohorts, we confirmed that this cell population is increased in patients with MS compared with other inflammatory and non-inflammatory conditions. Lastly, we also found the population to be reduced under effective disease-modifying therapy, suggesting that the identified T cell profile represents a specific therapeutic target in MS. All prices are NET prices. VAT will be added later in the checkout. Get time limited or full article access on ReadCube. Mass cytometry and flow cytometry data analyzed in the manuscript (Figs. –) are available in a public repository at . Patient-related data not included in the manuscript may be subject to patient confidentiality. The R-based custom workflow and source codes are available at . Dendrou, C. A., Fugger, L. & Friese, M. A. Immunopathology of multiple sclerosis. , 545–558 (2015).       Krumbholz, M., Derfuss, T., Hohlfeld, R. & Meinl, E. B cells and antibodies in multiple sclerosis pathogenesis and therapy. , 613–623 (2012).       Chanvillard, C., Jacolik, R. F., Infante-Duarte, C. & Nayak, R. C. The role of natural killer cells in multiple sclerosis and their therapeutic implications. , 63 (2013).     Mishra, M. K. & Yong, V. W. Myeloid cells—targets of medication in multiple sclerosis. , 539–551 (2016).       Kleinewietfeld, M. & Hafler, D. A. Regulatory T cells in autoimmune neuroinflammation. , 231–244 (2014).       Panitch, H. S., Hirsch, R. L., Haley, A. S. & Johnson, K. P. Exacerbations of multiple sclerosis in patients treated with gamma interferon. , 893–895 (1987).       Olsson, T. et al. Autoreactive T lymphocytes in multiple sclerosis determined by antigen-induced secretion of interferon-gamma. , 981–985 (1990).       Tzartos, J. S. et al. Interleukin-17 production in central nervous system-infiltrating T cells and glial cells is associated with active disease in multiple sclerosis. , 146–155 (2008).       Noster, R. et al. IL-17 and GM-CSF expression are antagonistically regulated by human T helper cells. , 241ra80 (2014).     Hartmann, F. J. et al. Multiple sclerosis-associated IL2RA polymorphism controls GM-CSF production in human T cells. , 5056 (2014).       Ornatsky, O. et al. Highly multiparametric analysis by mass cytometry. , 1–20 (2010).       Bendall, S. C., Nolan, G. P., Roederer, M. & Chattopadhyay, P. K. A deep profiler’s guide to cytometry. , 323–332 (2012).       Galli, E. et al. The end of omics? High dimensional single cell analysis in precision medicine. , 212–220 (2019).       Qiu, P. et al. Extracting a cellular hierarchy from high-dimensional cytometry data with SPADE. , 886–891 (2011).       Levine, J. H. et al. Data-driven phenotypic dissection of AML reveals progenitor-like cells that correlate with prognosis. , 184–197 (2015).       Van Gassen, S. et al. FlowSOM: using self-organizing maps for visualization and interpretation of cytometry data. , 636–645 (2015).     Bruggner, R. V., Bodenmiller, B., Dill, D. L., Tibshirani, R. J. & Nolan, G. P. Automated identification of stratifying signatures in cellular subpopulations. , E2770–E2777 (2014).       Arvaniti, E. & Claassen, M. Sensitive detection of rare disease-associated cell subsets via representation learning. , 14825 (2017).       Hartmann, F. J. et al. High-dimensional single-cell analysis reveals the immune signature of narcolepsy. , 2621–2633 (2016).       Rao, D. A. et al. Pathologically expanded peripheral T helper cell subset drives B cells in rheumatoid arthritis. , 110–114 (2017).       Weber, L. M. & Robinson, M. D. Comparison of clustering methods for high-dimensional single-cell flow and mass cytometry data. , 1084–1096 (2016).       Pietschmann, P. et al. The effect of age and gender on cytokine production by human peripheral blood mononuclear cells and markers of bone metabolism. , 1119–1127 (2003).       Andreakos, E. T., Foxwell, B. M., Brennan, F. M., Maini, R. N. & Feldmann, M. Cytokines and anti-cytokine biologicals in autoimmunity: present and future. , 299–313 (2002).       Rasouli, J. et al. Expression of GM-CSF in T cells is increased in multiple sclerosis and suppressed by IFN-β therapy. , 5085–5093 (2015).       Herndler-Brandstetter, D. & Flavell, R. A. Producing GM-CSF: a unique T helper subset? , 1379–1380 (2014).       Cheng, Y., Wong, M. T., van der Maaten, L. & Newell, E. W. Categorical analysis of human T cell heterogeneity with one-dimensional soli-expression by nonlinear stochastic embedding. , 924–932 (2016).       O’Gorman, W. E. et al. Single-cell systems-level analysis of human Toll-like receptor activation defines a chemokine signature in patients with systemic lupus erythematosus. , 1326–1336 (2015).     Hauser, S. L. et al. Ocrelizumab versus interferon beta-1a in relapsing multiple sclerosis. , 221–234 (2017).       Hauser, S. L. et al. B-cell depletion with rituximab in relapsing–remitting multiple sclerosis. , 676–688 (2008).       Rice, G. P., Hartung, H. P. & Calabresi, P. A. Anti-α4 integrin therapy for multiple sclerosis: mechanisms and rationale. , 1336–1342 (2005).       Gold, R. et al. Placebo-controlled phase 3 study of oral BG-12 for relapsing multiple sclerosis. , 1098–1107 (2012).       Fox, R. J. et al. Placebo-controlled phase 3 study of oral BG-12 or glatiramer in multiple sclerosis. , 1087–1097 (2012).       Spencer, C. M., Crabtree-Hartman, E. C., Lehmann-Horn, K., Cree, B. A. & Zamvil, S. S. Reduction of CD8 T lymphocytes in multiple sclerosis patients treated with dimethyl fumarate. , e76 (2015).     Gross, C. C. et al. Dimethyl fumarate treatment alters circulating T helper cell subsets in multiple sclerosis. , e183 (2016).     Wu, Q. et al. Dimethyl fumarate selectively reduces memory T cells and shifts the balance between T1/T17 and T2 in multiple sclerosis patients. , 3069–3080 (2017).       Li, R. et al. Dimethyl fumarate treatment mediates an anti-inflammatory shift in B cell subsets of patients with multiple sclerosis. , 691–698 (2017).       Diebold, M. et al. Dimethyl fumarate influences innate and adaptive immunity in multiple sclerosis. , 39–50 (2018).       McCandless, E. E. et al. Pathological expression of CXCL12 at the blood–brain barrier correlates with severity of multiple sclerosis. , 799–808 (2008).     Holman, D. W., Klein, R. S. & Ransohoff, R. M. The blood–brain barrier, chemokines and multiple sclerosis. , 220–230 (2011).       Kowarik, M. C. et al. Differential effects of fingolimod (FTY720) on immune cells in the CSF and blood of patients with MS. , 1214–1221 (2011).       Kowarik, M. C. et al. Immune cell subtyping in the cerebrospinal fluid of patients with neurological diseases. , 130–143 (2014).       Spitzer, M. H. et al. Immunology. An interactive reference framework for modeling a dynamic immune system. , 1259425 (2015).     Croxford, A. L. et al. The cytokine GM-CSF drives the inflammatory signature of CCR2 monocytes and licenses autoimmunity. , 502–514 (2015).       Croxford, A. L., Spath, S. & Becher, B. GM-CSF in neuroinflammation: licensing myeloid cells for tissue damage. , 651–662 (2015).       Komuczki, J. et al. Fate-mapping of GM-CSF expression identifies a discrete subset of inflammation-driving T helper cells regulated by cytokines IL-23 and IL-1β. , 1289–1304.e6 (2019).       Spath, S. et al. Dysregulation of the cytokine GM-CSF induces spontaneous phagocyte invasion and immunopathology in the central nervous system. , 245–260 (2017).       Codarri, L. et al. RORγt drives production of the cytokine GM-CSF in helper T cells, which is essential for the effector phase of autoimmune neuroinflammation. , 560–567 (2011).       Imitola, J. et al. Elevated expression of granulocyte–macrophage colony-stimulating factor receptor in multiple sclerosis lesions. , 45–54 (2018).       Sheng, W. et al. STAT5 programs a distinct subset of GM-CSF-producing T helper cells that is essential for autoimmune neuroinflammation. , 1387–1402 (2014).       Constantinescu, C. S. et al. Randomized phase 1b trial of MOR103, a human antibody to GM-CSF, in multiple sclerosis. , e117 (2015).     Barr, T. A. et al. B cell depletion therapy ameliorates autoimmune disease through ablation of IL-6-producing B cells. , 1001–1010 (2012).       Duddy, M. et al. Distinct effector cytokine profiles of memory and naive human B cell subsets and implication in multiple sclerosis. , 6092–6099 (2007).       Jelcic, I. et al. Memory B cells activate brain-homing, autoreactive CD4 T cells in multiple sclerosis. , 85–100.e23 (2018).       Krumbholz, M. et al. Chemokines in multiple sclerosis: CXCL12 and CXCL13 up-regulation is differentially linked to CNS immune cell recruitment. , 200–211 (2006).     Giunti, D. et al. Phenotypic and functional analysis of T cells homing into the CSF of subjects with inflammatory diseases of the CNS. , 584–590 (2003).       Calderon, T. M. et al. A role for CXCL12 (SDF-1α) in the pathogenesis of multiple sclerosis: regulation of CXCL12 expression in astrocytes by soluble myelin basic protein. , 27–39 (2006).       Restorick, S. M. et al. CCR6 T cells in the cerebrospinal fluid of persons with multiple sclerosis are dominated by pathogenic non-classic T1 cells and GM-CSF-only-secreting T cells. , 71–79 (2017).       Brucklacher-Waldert, V., Stuerner, K., Kolster, M., Wolthausen, J. & Tolosa, E. Phenotypical and functional characterization of T helper 17 cells in multiple sclerosis. , 3329–3341 (2009).     Kornberg, M. D. et al. Dimethyl fumarate targets GAPDH and aerobic glycolysis to modulate immunity. , 449–453 (2018).       Polman, C. H. et al. Diagnostic criteria for multiple sclerosis: 2010 revisions to the McDonald criteria. , 292–302 (2011).     Teunissen, C. et al. Consensus definitions and application guidelines for control groups in cerebrospinal fluid biomarker studies in multiple sclerosis. , 1802–1809 (2013).     Thompson, A. J. et al. Diagnosis of multiple sclerosis: 2017 revisions of the McDonald criteria. , 162–173 (2018).     Mei, H. E., Leipold, M. D., Schulz, A. R., Chester, C. & Maecker, H. T. Barcoding of live human peripheral blood mononuclear cells for multiplexed mass cytometry. , 2022–2031 (2015).       Zunder, E. R. et al. Palladium-based mass tag cell barcoding with a doublet-filtering scheme and single-cell deconvolution algorithm. , 316–333 (2015).       Finck, R. et al. Normalization of mass cytometry data with bead standards. , 483–494 (2013).     R Development Core Team R: A language and Environment for Statistical Computing (R Foundation for Statistical Computing, 2010). Spitzer, M. H. et al. Systemic immunity is required for effective cancer immunotherapy. , 487–502.e15 (2017).       Poznansky, M. C. et al. Active movement of T cells away from a chemokine. , 543–548 (2000).       Noble, W. S. How does multiple testing correction work? , 1135–1137 (2009).       McDonald, J. 3rd edn (Sparky House Publishing, 2014). Youden, W. J. Index for rating diagnostic tests. , 32–35 (1950).       This work was supported by grants from the Swiss National Science Foundation (310030_170320, 316030_150768 and CRSII5_183478; all to B.B.), European Union FP7 projects NeuroKine (to B.B.) and the Swiss Multiple Sclerosis Society (to B.B.). F.J.H. received a Van Riemsdijk PhD fellowship. Lymph node cryosections for establishing histological staining conditions were provided by the tissue bank of the Institute of Pathology and Molecular Pathology of the University Hospital Zurich. Present address: Department of Dermatology, Hollings Cancer Center, Medical University of South Carolina, Charleston, SC, USA Present address: Department of Microbiology and Immunology, Hollings Cancer Center, Medical University of South Carolina, Charleston, SC, USA These authors contributed equally: Edoardo Galli, Felix J. Hartmann. Institute of Experimental Immunology, University of Zurich, Zurich, Switzerland Edoardo Galli, Felix J. Hartmann, Bettina Schreiner, Florian Ingelfinger, Dunja Mrdjen, Carsten Krieg & Burkhard Becher Department of Neurology, University Hospital Zurich, Zurich, Switzerland Institute for Molecular Systems Biology, Department of Biology, ETH Zurich, Zurich, Switzerland Department of Biomedicine, University Hospital Basel, Basel, Switzerland Martin Diebold, Nicholas Sanderson & Tobias Derfuss Institut für Neuropathologie, Klinik für Neurologie, Universitätsmedizin Göttingen, Gottingen, Germany Neuroimmunology Unit, Department of Clinical Neuroscience, Karolinska Institutet, Stockholm, Sweden Faiez Al Nimer, Mohsen Khademi, Fredrik Piehl & Tomas Olsson Department of Pathology, School of Medicine, Stanford University, Palo Alto, CA, USA You can also search for this author in You can also search for this author in You can also search for this author in You can also search for this author in You can also search for this author in You can also search for this author in You can also search for this author in You can also search for this author in You can also search for this author in You can also search for this author in You can also search for this author in You can also search for this author in You can also search for this author in You can also search for this author in You can also search for this author in You can also search for this author in You can also search for this author in You can also search for this author in E.G. designed and performed all of the cytometry experiments, and analyzed the data of the validation cohort, DMF cohort and CSF samples. E.G. and F.J.H. designed and performed the cytometry experiments and analyzed the data of the discovery cohort and wrote the manuscript. B.S. and F.I. equally contribuited to the manuscript. B.S. and C.S. performed all of the histological analysis. F.I. performed the cytometry experiments in the DMF cohort. D.M. and C.K. helped with performing the experiments. E.A. and M.C. performed the CellCNN analysis. T.D., N.S., M.D., C.S., F.v.d.M., M.K., F.A.N., F.P. and T.O. selected and characterized the patient cohorts. B.B. supervised and funded the study and wrote the manuscript. Correspondence to . T.O. has received unrestricted MS research grants, in addition to lecture and or advisory board honoraria, from Biogen, Novartis, Sanofi, Merck and Roche. M.D. received speaker honoraria from Biogen Switzerland, which were used exclusively for research purposes. F.P. has received research grants from Biogen, Genzyme, Merck and Novartis, and fees for serving as Data Monitoring Committee Chair in clinical trials with Parexel. T.D. received financial compensation for participation in advisory boards, steering committees and data safety monitoring boards, and for consultation for Novartis Pharmaceuticals, Merck, Biogen, Celgene, GeNeuro, Mitsubishi Tanabe Pharma, MedDay, Roche and Sanofi Genzyme. T.D. also received research support from Novartis, Biogen, the National Swiss Science Foundation, the European Union and the Swiss MS Society. : Saheli Sadanand was the primary editor on this article and managed its editorial process and peer review in collaboration with the rest of the editorial team. Springer Nature remains neutral with regard to jurisdictional claims in published maps and institutional affiliations. Extended Data Fig. 1 Single-cell t-SNE profiling of immune cells. PBMCs from all sample groups were restimulated with phorbol 12-myristate 13-acetate (PMA)/ionomycin and analyzed by mass cytometry. The t-SNE algorithm (30,000 cells, equally selected from healthy donors (HDs;  = 29), NINDCs ( = 31) and patients with MS ( = 31) and from all samples) was used to depict different populations therein. , The expression of each indicated marker is overlaid. , FlowSOM-based immune cell populations are overlaid as a color dimension. Extended Data Fig. 2 FlowSOM-guided clustering of peripheral blood immune cell lineages. , PBMCs from HDs ( = 29), NINDCs ( = 31) and patients with MS ( = 31) were restimulated with PMA/ionomycin and analyzed by mass cytometry. Heat maps of FlowSOM-identified initial nodes and their mean surface marker expression levels are shown, together with their lineage assignment (color coded). , Biaxial plots showing the expression of the main lineage markers of FlowSOM-based populations (colored). The total samples from HDs ( = 29), NINDCs ( = 31) and patients with MS ( = 31) are shown in gray. , Data as in were manually gated to define the same populations. Samples from three independent runs were analyzed. , Correlation of frequencies for the immune populations (color coded), as defined by FlowSOM and manual gating. Each dot represents the frequency of a leukocyte population of one donor ( = 91). The  value was calculated using linear regression. , Frequencies of immune cell lineages in peripheral leukocytes of NINDCs ( = 31), patients with RRMS during remission ( = 18) or during relapse ( = 12), patients with secondary progressive MS (SPMS) ( = 5) or PPMS ( = 3), and HDs ( = 29). , Frequencies of cytokine cells within PBMCs of NINDCs ( = 31), patients with RRMS during remission ( = 18) or during relapse ( = 12), patients with SPMS ( = 5) or PPMS ( = 3), and HDs ( = 29). Box plots depict the IQR, with a horizontal line representing the median. Whiskers extend to the farthest data point within a maximum of 1.5× the IQR. Points represent individuals. Extended Data Fig. 3 Age analysis of patients with MS and control groups. , Box plots depict the age of HDs ( = 29), NINDCs ( = 31) and patients with MS ( = 39). Age distribution among HDs ( = 29), NINDCs ( = 31) and patients with MS ( = 39). , Correlation between frequencies of cytokine-producing PBMCs and age. Regression curves with confidence intervals are depicted for HDs ( = 29), NINDCs ( = 31) and patients with MS ( = 39). Box plots depict the IQR, with a white horizontal line representing the median. Whiskers extend to the farthest data point within a maximum of 1.5× the IQR.  values are based on two-tailed Mann–Whitney–Wilcoxon tests between groups. Controlling for multiple comparisons was accomplished via the Benjamini–Hochberg approach. Every point represents one individual. Extended Data Fig. 4 Leukocyte and cytokine production characterization in subgroups of patients with MS. , Exemplary GM-CSF production by total leukocytes with (right) or without (left) previous PMA/ionomycin stimulation (three independent experiments). , Frequencies of immune cell lineages within GM-CSF cells in NINDCs ( = 21), patients with RRMS during remission ( = 17) or during relapse ( = 10), patients with SPMS ( = 3) or PPMS ( = 2), and HDs ( = 24). , Frequency of GM-CSF-positive cells in major immune lineages in NINDCs ( = 31), patients with RRMS during remission ( = 18) or during relapse ( = 12), patients with SPMS ( = 5) or PPMS ( = 3), and HDs ( = 29). , Frequencies of FlowSOM-based T memory subpopulations in total T cells in NINDCs ( = 31), patients with RRMS during remission ( = 18) or during relapse ( = 12), patients with SPMS ( = 5) or PPMS ( = 3), and HDs ( = 29). , Frequencies of GM-CSF T cells in NINDCs ( = 23), patients with RRMS during remission ( = 18) or during relapse ( = 11), patients with SPMS ( = 4) or PPMS ( = 3), and HDs ( = 27). , Co-production of other cytokines by GM-CSF T cells in NINDCs ( = 23), patients with RRMS during remission ( = 18) or during relapse ( = 11), patients with SPMS ( = 4) or PPMS ( = 3), and HDs ( = 27). , Frequencies of GM-CSF production by cytokine T cells in NINDCs ( = 13), patients with RRMS during remission ( = 14) or during relapse ( = 8), patients with SPMS ( = 4) or PPMS ( = 2), and HDs ( = 22). , FlowSOM was used to identify total T cell subsets based on their cytokine production profile ( = 17; elbow criterion). Clusters were manually annotated based on this profile. The mean expressions of surface and cytokine markers by the respective T cell subsets are shown. , Frequencies of FlowSOM-defined GM-CSF T cell subsets in NINDCs ( = 31), patients with RRMS during remission ( = 19) or during relapse ( = 12), patients with SPMS ( = 5) or PPMS ( = 3), and HDs ( = 29). , The t-SNE algorithm (30,000 cytokine-expressing T cells, equally selected from different clinical groups and from all samples) was used to depict different populations therein. FlowSOM-based T subsets (left) and the expression of each indicated marker (right) are overlaid. Representation plots from randomly selected cells from three independent experiments are shown. Box plots depict the IQR, with a white horizontal line representing the median. Whiskers extend to the farthest data point within a maximum of 1.5× the IQR. Every point represents one individual. Extended Data Fig. 5 GM-CSF-producing CD8 T cells display cytokine production profiles largely analogous to CD4 T cells. CD8 T cells were subdivided into naive, effector, effector memory and central memory cells based on FlowSOM-defined clusters. , Left, mean expression levels of the indicated surface markers in the respective subpopulation. Right, frequencies of these subpopulations in total CD8 T cells in NINDCs ( = 31), patients with RRMS during remission ( = 18) or during relapse ( = 12), patients with SPMS ( = 5) or PPMS ( = 3), and HDs ( = 29). , Frequency of these subpopulations in GM-CSF CD8 T cells in NINDCs ( = 16), patients with RRMS during remission ( = 16) or during relapse ( = 10), patients with SPMS ( = 3) or PPMS ( = 1), and HDs ( = 21). , Frequency of cytokine in GM-CSF CD8 T cells. , Production of GM-CSF by CD8 T cells positive for the indicated cytokine cells in NINDCs ( = 11), patients with RRMS during remission ( = 5) or during relapse ( = 3), patients with SPMS ( = 2) or PPMS ( = 1), and HDs ( = 14). , FlowSOM was used to identify GM-CSF CD8 T cell subsets based on their cytokine production profile ( = 10; elbow criterion). Clusters were manually annotated based on this production profile. Top, mean expression of surface and cytokine markers by the respective subsets. Bottom, relative fractions (left) and absolute frequencies (right) of FlowSOM-defined GM-CSF CD8 T cell subsets in NINDCs ( = 11), patients with RRMS during remission ( = 12) or during relapse ( = 6), patients with SPMS ( = 1) or PPMS ( = 1), and HDs ( = 14). , Categorical t-SNE analysis, with heat maps depicting mean expression levels in each bin. Box plots depict the IQR, with a white horizontal line representing the median. Whiskers extend to the farthest data point within a maximum of 1.5× the IQR. Every point represents one individual. Extended Data Fig. 6 Co-production profiles of GM-CSF-expressing NK and B cells. , Total NK cells were selected, and the expression level of all relevant surface markers was correlated (Pearson’s ) with GM-CSF expression on a single-cell level. The heat map depicts Spearman correlation coefficients. , Frequencies (left) and an example (right) of cytokine co-expression by GM-CSF NK cells in NINDCs ( = 31), patients with RRMS during remission ( = 19) or during relapse ( = 12), patients with SPMS ( = 5) or PPMS ( = 3), and HDs ( = 29). , B cells were selected, and the expression level of all relevant surface markers was correlated (Pearson’s ) with GM-CSF expression on a single-cell level. , Frequencies (left) and an example (right) of cytokine expression by GM-CSF B cells in patients, as in . Box plots depict the IQR, with a white horizontal line representing the median. Whiskers extend to the farthest data point within a maximum of 1.5× the IQR. Every point represents one individual. Extended Data Fig. 7 Clinical correlations in the validation cohort. , Age distribution among patients with RRMS ( = 12), HCs ( = 15), NINDCs ( = 14), IDCs ( = 9) and patients with CIS ( = 8). , Box plots depict the age in patients with RRMS ( = 12), HCs ( = 15), NINDCs ( = 14), IDCs ( = 9) and patients with CIS ( = 8). , Correlation between frequencies of the CellCNN-defined immune signature and age in patients with RRMS ( = 12), HCs ( = 15), NINDCs ( = 14), IDCs ( = 9) and patients with CIS ( = 8). Regression curves with confidence intervals are depicted for each group. , Correlation of the frequency of the signature population in T cells and age among patients with RRMS ( = 12), HCs ( = 15), NINDCs ( = 14), IDCs ( = 9) and patients with CIS ( = 8). Each symbol identifies an individual patient among patients with CIS ( = 8), or with RRMS in remission ( = 8) or relapsing ( = 4). The regression lines with confidence intervals are based on the frequency of the signature population among the other control groups. , Correlation between frequencies of the CellCNN-defined immune signature and clinical parameters in patients with RRMS in remission ( = 8) or relapsing ( = 3) and patients with CIS ( = 8). Regression curves with confidence intervals are depicted for each parameter. Box plots depict the IQR, with a white horizontal line representing the median. Whiskers extend to the farthest data point within a maximum of 1.5× the IQR.  values are based on two-tailed Mann–Whitney–Wilcoxon tests between groups. The linear correlation equation was calculated on the pool of all analysed samples. Every point represents one individual. Extended Data Fig. 8 Immune profiling of validation cohort. , PBMCs from patients with RRMS ( = 12), HCs ( = 15), NINDCs ( = 14), IDCs ( = 9) and patients with CIS ( = 8) were restimulated with PMA/ionomycin and analyzed by mass cytometry. The t-SNE algorithm (20,000 cells randomly selected from all samples) was used to depict different populations therein. FlowSOM-based immune cell populations are overlaid as a color dimension. , Mean population expression levels of all markers used for t-SNE visualization and FlowSOM clustering. ,, Sample-specific () and frequencies of () immune cell lineages in peripheral leukocytes in patients with RRMS ( = 12), HCs ( = 15), NINDCs ( = 14), IDCs ( = 9) and patients with CIS ( = 8). , Representative plot of cytokine staining in the unstimulated control (upper) and stimulated samples (lower). Cells randomly selected from the experimental run are shown. The positivity threshold was set on the residual staining, as described in the Methods. –, Frequencies of cytokine production by T (), T (), NK () and B cells () among patients with RRMS ( = 12), HCs ( = 15), NINDCs ( = 14), IDCs ( = 9) and patients with CIS ( = 8). Box plots depict the IQR, with a white horizontal line representing the median. Whiskers extend to the farthest data point within a maximum of 1.5× the IQR. Every point represents one individual. Extended Data Fig. 9 SDF1α induces signature cells’ migration towards a chemokine gradient. , Representative plots of the gating strategy of immune cell populations ( = 7). , Frequency of migrating cells when SDF1α was added to the lower, upper or both chambers ( = 7). , Frequency of migrating cells in the lower chamber towards an SDF1α gradient, calculated as the frequency of population-specific input cells ( = 7). ,, Representative plots () and quantification () of different cytokine-producing T cells, calculated as the frequency of input cells ( = 7). Representative plots of two independent experiments.  values are based on two-tailed Mann–Whitney–Wilcoxon tests between groups. Box plots depict the IQR, with a horizontal line representing the median. Column plots represent means. Whiskers extend to the farthest data point within a maximum of 1.5× the IQR. Every point represents one individual. Extended Data Fig. 10 CNS immune features of patients with MS. , Quantification of cell viability in paired PBMC–CSF samples ( = 9). , Frequencies of immune cell lineages in CSF between fresh ( = 3) and cryopreserved CSF samples ( = 9). , Scaffold reference map of the T cell compartment, constructed from mass cytometry data. Gray bubbles represent the 100 FlowSOM nodes, and colored landmarks are based on FlowSOM-defined T cell subsets. , Expression of CellCNN signature-defining cytokines and chemokine receptors within mapped FlowSOM nodes. , Immunohistochemistry of MS brain lesions depicting a demyelinated lesion (top left; myelin immunohistochemistry) with KiM1P-positive macrophages/activated microglial cells (top right; scale bar: 200 µm), and CD3-positive perivenular T cell infiltration within the demyelinated lesion (bottom left) as well as in the meninges (bottom right; scale bar: 30 µm). , Immunofluorescence control for the staining of secondary antibodies (left) and MS brain lesion (right). The experiment was repeated from the brain biopsies of three individual patients with MS as for Fig. . Scale bars: 30 μm.  values are based on two-tailed Mann–Whitney–Wilcoxon tests between groups.  values were calculated from the -statistic of the Mann–-Whitney–-Wilcoxon test. Box plots depict the IQR, with a white horizontal line representing the median. Whiskers extend to the farthest data point within a maximum of 1.5× the IQR. Every point represents one individual. Galli, E., Hartmann, F.J., Schreiner, B. GM-CSF and CXCR4 define a T helper cell signature in multiple sclerosis. 1290–1300 (2019). https://doi.org/10.1038/s41591-019-0521-4 NOD-like receptor signaling pathway activation: A potential mechanism underlying negative effects of benzo(α)pyrene on zebrafish Comparative Biochemistry and Physiology Part C: Toxicology & Pharmacology (2021) Stem cell-like memory T cells: A perspective from the dark side (2021) An “Outside-In” and “Inside-Out” Consideration of Complement in the Multiple Sclerosis Brain: Lessons From Development and Neurodegenerative Diseases (2021) Identification of ALP+/CD73+ defining markers for enhanced osteogenic potential in human adipose-derived mesenchymal stromal cells by mass cytometry (2021) Increased IL-2 and Reduced TGF-β Upon T-Cell Stimulation are Associated with GM-CSF Upregulation in Multiple Immune Cell Types in Multiple Sclerosis (2020) Research articles News & Comment Podcasts Current Issue Collections Follow us on Facebook About the Journal Web Feeds Nature Medicine Classic Collection Posters For Reviewers For Authors Advanced search Nature Medicine Sign up for the newsletter — what matters in science, free to your inbox daily. Get the most important science stories of the day, free in your inbox.\n"
     ]
    }
   ],
   "source": [
    "sample = \"Cytokine dysregulation is a central driver of chronic inflammatory diseases such as multiple sclerosis (MS). Here, we sought to determine the characteristic cellular and cytokine polarization profile in patients with relapsing–remitting multiple sclerosis (RRMS) by high-dimensional single-cell mass cytometry (CyTOF). Using a combination of neural network-based representation learning algorithms, we identified an expanded T helper cell subset in patients with MS, characterized by the expression of granulocyte–macrophage colony-stimulating factor and the C-X-C chemokine receptor type 4. This cellular signature, which includes expression of very late antigen 4 in peripheral blood, was also enriched in the central nervous system of patients with relapsing–remitting multiple sclerosis. In independent validation cohorts, we confirmed that this cell population is increased in patients with MS compared with other inflammatory and non-inflammatory conditions. Lastly, we also found the population to be reduced under effective disease-modifying therapy, suggesting that the identified T cell profile represents a specific therapeutic target in MS.\"\n",
    "print(readability_score(sample))\n",
    "print(text_standard(sample))\n",
    "docid = \"00bd4ea6-90d6-40ac-93ab-d0be20d6c8e5\"\n",
    "print(readability_score(all_passages[all_passages.docid == docid].text.values[0]))\n",
    "print(text_standard(all_passages[all_passages.docid == docid].text.values[0]))\n",
    "print(all_passages[all_passages.docid == docid].text.values[0])"
   ]
  },
  {
   "cell_type": "code",
   "execution_count": 14,
   "metadata": {},
   "outputs": [],
   "source": [
    "from transformers import AutoTokenizer, AutoModelForSequenceClassification\n",
    "\n",
    "tokenizer = AutoTokenizer.from_pretrained(\"Tymoteusz/distilbert-base-uncased-kaggle-readability\", truncation=True)\n",
    "\n",
    "model = AutoModelForSequenceClassification.from_pretrained(\"Tymoteusz/distilbert-base-uncased-kaggle-readability\")"
   ]
  },
  {
   "cell_type": "code",
   "execution_count": 25,
   "metadata": {},
   "outputs": [],
   "source": [
    "# get the transformer score \n",
    "def readability_score_transformer(text):\n",
    "    inputs = tokenizer(text, return_tensors=\"pt\", truncation=True, max_length=512)\n",
    "    outputs = model(**inputs)\n",
    "    logits = outputs.logits\n",
    "    return logits[0][0].item() "
   ]
  },
  {
   "cell_type": "code",
   "execution_count": 16,
   "metadata": {},
   "outputs": [
    {
     "data": {
      "text/plain": [
       "-2.660423755645752"
      ]
     },
     "execution_count": 16,
     "metadata": {},
     "output_type": "execute_result"
    }
   ],
   "source": [
    "readability_score_transformer(sample)"
   ]
  },
  {
   "cell_type": "code",
   "execution_count": 26,
   "metadata": {},
   "outputs": [
    {
     "data": {
      "text/html": [
       "<div>\n",
       "<style scoped>\n",
       "    .dataframe tbody tr th:only-of-type {\n",
       "        vertical-align: middle;\n",
       "    }\n",
       "\n",
       "    .dataframe tbody tr th {\n",
       "        vertical-align: top;\n",
       "    }\n",
       "\n",
       "    .dataframe thead th {\n",
       "        text-align: right;\n",
       "    }\n",
       "</style>\n",
       "<table border=\"1\" class=\"dataframe\">\n",
       "  <thead>\n",
       "    <tr style=\"text-align: right;\">\n",
       "      <th></th>\n",
       "      <th>docid</th>\n",
       "      <th>text</th>\n",
       "      <th>readability_score_transformer</th>\n",
       "    </tr>\n",
       "  </thead>\n",
       "  <tbody>\n",
       "    <tr>\n",
       "      <th>0</th>\n",
       "      <td>44f906a1-f818-4d48-a3fb-1673ebdeff13</td>\n",
       "      <td>Billing &amp; Financial Services Patients &amp; Visito...</td>\n",
       "      <td>-1.882378</td>\n",
       "    </tr>\n",
       "    <tr>\n",
       "      <th>1</th>\n",
       "      <td>334ed241-6337-41ce-884c-2755648e14ea</td>\n",
       "      <td>Billing &amp; Financial Services Patients &amp; Visito...</td>\n",
       "      <td>-1.881258</td>\n",
       "    </tr>\n",
       "    <tr>\n",
       "      <th>2</th>\n",
       "      <td>391b9de2-26dc-4187-b7ea-461153352e12</td>\n",
       "      <td>Billing &amp; Financial Services Patients &amp; Visito...</td>\n",
       "      <td>-1.762164</td>\n",
       "    </tr>\n",
       "    <tr>\n",
       "      <th>3</th>\n",
       "      <td>461b6eb2-2b79-4fec-bf6b-63e302a093d9</td>\n",
       "      <td>Billing &amp; Financial Services Patients &amp; Visito...</td>\n",
       "      <td>-1.762164</td>\n",
       "    </tr>\n",
       "    <tr>\n",
       "      <th>4</th>\n",
       "      <td>4e151d9e-a3fc-4e21-b5db-7b8ad4ea9d23</td>\n",
       "      <td>Billing &amp; Financial Services Patients &amp; Visito...</td>\n",
       "      <td>-1.610850</td>\n",
       "    </tr>\n",
       "  </tbody>\n",
       "</table>\n",
       "</div>"
      ],
      "text/plain": [
       "                                  docid  \\\n",
       "0  44f906a1-f818-4d48-a3fb-1673ebdeff13   \n",
       "1  334ed241-6337-41ce-884c-2755648e14ea   \n",
       "2  391b9de2-26dc-4187-b7ea-461153352e12   \n",
       "3  461b6eb2-2b79-4fec-bf6b-63e302a093d9   \n",
       "4  4e151d9e-a3fc-4e21-b5db-7b8ad4ea9d23   \n",
       "\n",
       "                                                text  \\\n",
       "0  Billing & Financial Services Patients & Visito...   \n",
       "1  Billing & Financial Services Patients & Visito...   \n",
       "2  Billing & Financial Services Patients & Visito...   \n",
       "3  Billing & Financial Services Patients & Visito...   \n",
       "4  Billing & Financial Services Patients & Visito...   \n",
       "\n",
       "   readability_score_transformer  \n",
       "0                      -1.882378  \n",
       "1                      -1.881258  \n",
       "2                      -1.762164  \n",
       "3                      -1.762164  \n",
       "4                      -1.610850  "
      ]
     },
     "execution_count": 26,
     "metadata": {},
     "output_type": "execute_result"
    }
   ],
   "source": [
    "read_scores_transformer = []\n",
    "for index, row in all_passages.iterrows():\n",
    "    read_scores_transformer.append(readability_score_transformer(row[\"text\"]))\n",
    "all_passages[\"readability_score_transformer\"] = read_scores_transformer\n",
    "\n",
    "all_passages.head()"
   ]
  },
  {
   "cell_type": "code",
   "execution_count": 27,
   "metadata": {},
   "outputs": [],
   "source": [
    "all_passages[\"flesch_reading_ease\"] = all_passages[\"text\"].apply(readability_score)\n",
    "all_passages[\"text_standard\"] = all_passages[\"text\"].apply(text_standard)\n"
   ]
  },
  {
   "cell_type": "code",
   "execution_count": 28,
   "metadata": {},
   "outputs": [],
   "source": [
    "all_passages[['docid', 'readability_score_transformer', 'flesch_reading_ease', 'text_standard']].to_csv('all_passages_over_50_readability_scores.tsv', sep='\\t', index=False)"
   ]
  },
  {
   "cell_type": "code",
   "execution_count": 10,
   "metadata": {},
   "outputs": [],
   "source": [
    "from transformers import pipeline\n",
    "import torch\n",
    "MODEL = \"jy46604790/Fake-News-Bert-Detect\"\n",
    "device = torch.device(\"cuda:0\" if torch.cuda.is_available() else \"cpu\")\n",
    "clf = pipeline(\"text-classification\", model=MODEL, tokenizer=MODEL, max_length=512, device=device)\n",
    "\n",
    "truth_label = \"LABEL_1\"\n",
    "def credibility_score(text, model=clf, truth_label=truth_label):\n",
    "    score = model(text)\n",
    "    if score[0][\"label\"] == truth_label:\n",
    "        return score[0][\"score\"]\n",
    "    else:\n",
    "        return 1 - score[0][\"score\"]\n"
   ]
  },
  {
   "cell_type": "code",
   "execution_count": 13,
   "metadata": {},
   "outputs": [],
   "source": [
    "# all_passages[\"credibility_score_bert\"] = all_passages[\"text\"].apply(credibility_score)\n",
    "# get texts as list from all_passages\n",
    "texts = all_passages[\"text\"].tolist()\n",
    "# get credibility scores for all texts\n",
    "credibility_scores = clf(texts, truncation=True, max_length=512, verbose=True, batch_size=32)"
   ]
  },
  {
   "cell_type": "code",
   "execution_count": 15,
   "metadata": {},
   "outputs": [
    {
     "ename": "TypeError",
     "evalue": "'float' object is not subscriptable",
     "output_type": "error",
     "traceback": [
      "\u001b[0;31m---------------------------------------------------------------------------\u001b[0m",
      "\u001b[0;31mTypeError\u001b[0m                                 Traceback (most recent call last)",
      "Cell \u001b[0;32mIn[15], line 2\u001b[0m\n\u001b[1;32m      1\u001b[0m \u001b[39m# get credibility scores from the list of dictionaries\u001b[39;00m\n\u001b[0;32m----> 2\u001b[0m credibility_scores \u001b[39m=\u001b[39m [score[\u001b[39m\"\u001b[39m\u001b[39mscore\u001b[39m\u001b[39m\"\u001b[39m] \u001b[39mif\u001b[39;00m score[\u001b[39m\"\u001b[39m\u001b[39mlabel\u001b[39m\u001b[39m\"\u001b[39m] \u001b[39m==\u001b[39m truth_label \u001b[39melse\u001b[39;00m \u001b[39m1\u001b[39m \u001b[39m-\u001b[39m score[\u001b[39m\"\u001b[39m\u001b[39mscore\u001b[39m\u001b[39m\"\u001b[39m] \u001b[39mfor\u001b[39;00m score \u001b[39min\u001b[39;00m credibility_scores]\n\u001b[1;32m      3\u001b[0m credibility_scores\n",
      "Cell \u001b[0;32mIn[15], line 2\u001b[0m, in \u001b[0;36m<listcomp>\u001b[0;34m(.0)\u001b[0m\n\u001b[1;32m      1\u001b[0m \u001b[39m# get credibility scores from the list of dictionaries\u001b[39;00m\n\u001b[0;32m----> 2\u001b[0m credibility_scores \u001b[39m=\u001b[39m [score[\u001b[39m\"\u001b[39m\u001b[39mscore\u001b[39m\u001b[39m\"\u001b[39m] \u001b[39mif\u001b[39;00m score[\u001b[39m\"\u001b[39;49m\u001b[39mlabel\u001b[39;49m\u001b[39m\"\u001b[39;49m] \u001b[39m==\u001b[39m truth_label \u001b[39melse\u001b[39;00m \u001b[39m1\u001b[39m \u001b[39m-\u001b[39m score[\u001b[39m\"\u001b[39m\u001b[39mscore\u001b[39m\u001b[39m\"\u001b[39m] \u001b[39mfor\u001b[39;00m score \u001b[39min\u001b[39;00m credibility_scores]\n\u001b[1;32m      3\u001b[0m credibility_scores\n",
      "\u001b[0;31mTypeError\u001b[0m: 'float' object is not subscriptable"
     ]
    }
   ],
   "source": [
    "# get credibility scores from the list of dictionaries\n",
    "credibility_scores_float = [score[\"score\"] if score[\"label\"] == truth_label else 1 - score[\"score\"] for score in credibility_scores]\n"
   ]
  },
  {
   "cell_type": "code",
   "execution_count": 18,
   "metadata": {},
   "outputs": [],
   "source": [
    "# add credibility scores to the dataframe\n",
    "all_passages[\"credibility_score_bert\"] = credibility_scores_float"
   ]
  },
  {
   "cell_type": "code",
   "execution_count": 23,
   "metadata": {},
   "outputs": [],
   "source": [
    "all_passages.head()\n",
    "# save docid and credibility score to tsv\n",
    "all_passages[[\"docid\", \"credibility_score_bert\"]].to_csv(\"all_passages_credibility_scores_bert.tsv\", sep=\"\\t\", index=False)"
   ]
  },
  {
   "cell_type": "code",
   "execution_count": 60,
   "metadata": {},
   "outputs": [],
   "source": [
    "passages_with_qrels = pd.merge(all_passages, qrels, left_on=\"docid\", right_on=\"docno\")"
   ]
  },
  {
   "cell_type": "code",
   "execution_count": 29,
   "metadata": {},
   "outputs": [],
   "source": [
    "passages_with_qread = pd.merge(all_passages, qread, left_on=\"docid\", right_on=\"docno\")"
   ]
  },
  {
   "cell_type": "code",
   "execution_count": 19,
   "metadata": {},
   "outputs": [],
   "source": [
    "passages_with_qcred = pd.merge(all_passages, qcred, left_on=\"docid\", right_on=\"docno\")"
   ]
  },
  {
   "cell_type": "code",
   "execution_count": 21,
   "metadata": {},
   "outputs": [
    {
     "data": {
      "text/html": [
       "<div>\n",
       "<style scoped>\n",
       "    .dataframe tbody tr th:only-of-type {\n",
       "        vertical-align: middle;\n",
       "    }\n",
       "\n",
       "    .dataframe tbody tr th {\n",
       "        vertical-align: top;\n",
       "    }\n",
       "\n",
       "    .dataframe thead th {\n",
       "        text-align: right;\n",
       "    }\n",
       "</style>\n",
       "<table border=\"1\" class=\"dataframe\">\n",
       "  <thead>\n",
       "    <tr style=\"text-align: right;\">\n",
       "      <th></th>\n",
       "      <th>credibility_score_bert</th>\n",
       "      <th>label</th>\n",
       "    </tr>\n",
       "  </thead>\n",
       "  <tbody>\n",
       "    <tr>\n",
       "      <th>credibility_score_bert</th>\n",
       "      <td>1.000000</td>\n",
       "      <td>0.067204</td>\n",
       "    </tr>\n",
       "    <tr>\n",
       "      <th>label</th>\n",
       "      <td>0.067204</td>\n",
       "      <td>1.000000</td>\n",
       "    </tr>\n",
       "  </tbody>\n",
       "</table>\n",
       "</div>"
      ],
      "text/plain": [
       "                        credibility_score_bert     label\n",
       "credibility_score_bert                1.000000  0.067204\n",
       "label                                 0.067204  1.000000"
      ]
     },
     "execution_count": 21,
     "metadata": {},
     "output_type": "execute_result"
    }
   ],
   "source": [
    "passages_with_qcred[[\"credibility_score_bert\", \"label\"]].corr()"
   ]
  },
  {
   "cell_type": "code",
   "execution_count": 33,
   "metadata": {},
   "outputs": [],
   "source": [
    "# remove duplicates in passages_with_qread by docid and keep the one with the highest label\n",
    "passages_with_qread = passages_with_qread.sort_values(\"label\", ascending=False).drop_duplicates(\"docid\", keep=\"first\")"
   ]
  },
  {
   "cell_type": "code",
   "execution_count": 34,
   "metadata": {},
   "outputs": [
    {
     "data": {
      "text/html": [
       "<div>\n",
       "<style scoped>\n",
       "    .dataframe tbody tr th:only-of-type {\n",
       "        vertical-align: middle;\n",
       "    }\n",
       "\n",
       "    .dataframe tbody tr th {\n",
       "        vertical-align: top;\n",
       "    }\n",
       "\n",
       "    .dataframe thead th {\n",
       "        text-align: right;\n",
       "    }\n",
       "</style>\n",
       "<table border=\"1\" class=\"dataframe\">\n",
       "  <thead>\n",
       "    <tr style=\"text-align: right;\">\n",
       "      <th></th>\n",
       "      <th>flesch_reading_ease</th>\n",
       "      <th>text_standard</th>\n",
       "      <th>readability_score_transformer</th>\n",
       "      <th>label</th>\n",
       "    </tr>\n",
       "  </thead>\n",
       "  <tbody>\n",
       "    <tr>\n",
       "      <th>flesch_reading_ease</th>\n",
       "      <td>1.000000</td>\n",
       "      <td>-0.725921</td>\n",
       "      <td>0.290964</td>\n",
       "      <td>0.181301</td>\n",
       "    </tr>\n",
       "    <tr>\n",
       "      <th>text_standard</th>\n",
       "      <td>-0.725921</td>\n",
       "      <td>1.000000</td>\n",
       "      <td>-0.222037</td>\n",
       "      <td>-0.149064</td>\n",
       "    </tr>\n",
       "    <tr>\n",
       "      <th>readability_score_transformer</th>\n",
       "      <td>0.290964</td>\n",
       "      <td>-0.222037</td>\n",
       "      <td>1.000000</td>\n",
       "      <td>0.261095</td>\n",
       "    </tr>\n",
       "    <tr>\n",
       "      <th>label</th>\n",
       "      <td>0.181301</td>\n",
       "      <td>-0.149064</td>\n",
       "      <td>0.261095</td>\n",
       "      <td>1.000000</td>\n",
       "    </tr>\n",
       "  </tbody>\n",
       "</table>\n",
       "</div>"
      ],
      "text/plain": [
       "                               flesch_reading_ease  text_standard  \\\n",
       "flesch_reading_ease                       1.000000      -0.725921   \n",
       "text_standard                            -0.725921       1.000000   \n",
       "readability_score_transformer             0.290964      -0.222037   \n",
       "label                                     0.181301      -0.149064   \n",
       "\n",
       "                               readability_score_transformer     label  \n",
       "flesch_reading_ease                                 0.290964  0.181301  \n",
       "text_standard                                      -0.222037 -0.149064  \n",
       "readability_score_transformer                       1.000000  0.261095  \n",
       "label                                               0.261095  1.000000  "
      ]
     },
     "execution_count": 34,
     "metadata": {},
     "output_type": "execute_result"
    }
   ],
   "source": [
    "\n",
    "passages_with_qread[[\"flesch_reading_ease\", \"text_standard\", \"readability_score_transformer\", \"label\"]].corr()"
   ]
  },
  {
   "cell_type": "code",
   "execution_count": 31,
   "metadata": {},
   "outputs": [
    {
     "data": {
      "text/html": [
       "<div>\n",
       "<style scoped>\n",
       "    .dataframe tbody tr th:only-of-type {\n",
       "        vertical-align: middle;\n",
       "    }\n",
       "\n",
       "    .dataframe tbody tr th {\n",
       "        vertical-align: top;\n",
       "    }\n",
       "\n",
       "    .dataframe thead th {\n",
       "        text-align: right;\n",
       "    }\n",
       "</style>\n",
       "<table border=\"1\" class=\"dataframe\">\n",
       "  <thead>\n",
       "    <tr style=\"text-align: right;\">\n",
       "      <th></th>\n",
       "      <th>flesch_reading_ease</th>\n",
       "      <th>text_standard</th>\n",
       "      <th>readability_score_transformer</th>\n",
       "      <th>label</th>\n",
       "    </tr>\n",
       "  </thead>\n",
       "  <tbody>\n",
       "    <tr>\n",
       "      <th>flesch_reading_ease</th>\n",
       "      <td>1.000000</td>\n",
       "      <td>-0.731399</td>\n",
       "      <td>0.296111</td>\n",
       "      <td>0.176506</td>\n",
       "    </tr>\n",
       "    <tr>\n",
       "      <th>text_standard</th>\n",
       "      <td>-0.731399</td>\n",
       "      <td>1.000000</td>\n",
       "      <td>-0.228651</td>\n",
       "      <td>-0.147296</td>\n",
       "    </tr>\n",
       "    <tr>\n",
       "      <th>readability_score_transformer</th>\n",
       "      <td>0.296111</td>\n",
       "      <td>-0.228651</td>\n",
       "      <td>1.000000</td>\n",
       "      <td>0.261609</td>\n",
       "    </tr>\n",
       "    <tr>\n",
       "      <th>label</th>\n",
       "      <td>0.176506</td>\n",
       "      <td>-0.147296</td>\n",
       "      <td>0.261609</td>\n",
       "      <td>1.000000</td>\n",
       "    </tr>\n",
       "  </tbody>\n",
       "</table>\n",
       "</div>"
      ],
      "text/plain": [
       "                               flesch_reading_ease  text_standard  \\\n",
       "flesch_reading_ease                       1.000000      -0.731399   \n",
       "text_standard                            -0.731399       1.000000   \n",
       "readability_score_transformer             0.296111      -0.228651   \n",
       "label                                     0.176506      -0.147296   \n",
       "\n",
       "                               readability_score_transformer     label  \n",
       "flesch_reading_ease                                 0.296111  0.176506  \n",
       "text_standard                                      -0.228651 -0.147296  \n",
       "readability_score_transformer                       1.000000  0.261609  \n",
       "label                                               0.261609  1.000000  "
      ]
     },
     "execution_count": 31,
     "metadata": {},
     "output_type": "execute_result"
    }
   ],
   "source": [
    "# get correlation between readability score and and qread label\n",
    "passages_with_qread[[\"flesch_reading_ease\", \"text_standard\", \"readability_score_transformer\", \"label\"]].corr()"
   ]
  }
 ],
 "metadata": {
  "kernelspec": {
   "display_name": "faiss",
   "language": "python",
   "name": "python3"
  },
  "language_info": {
   "codemirror_mode": {
    "name": "ipython",
    "version": 3
   },
   "file_extension": ".py",
   "mimetype": "text/x-python",
   "name": "python",
   "nbconvert_exporter": "python",
   "pygments_lexer": "ipython3",
   "version": "3.11.3"
  },
  "orig_nbformat": 4
 },
 "nbformat": 4,
 "nbformat_minor": 2
}
