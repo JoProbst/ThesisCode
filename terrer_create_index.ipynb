{
 "cells": [
  {
   "cell_type": "code",
   "execution_count": 1,
   "metadata": {},
   "outputs": [],
   "source": [
    "import os\n",
    "import shutil\n",
    "import pandas as pd\n",
    "pd.set_option('display.max_colwidth', 100)\n"
   ]
  },
  {
   "cell_type": "code",
   "execution_count": 2,
   "metadata": {},
   "outputs": [],
   "source": [
    "import faiss\n",
    "assert faiss.get_num_gpus() > 0"
   ]
  },
  {
   "cell_type": "code",
   "execution_count": 3,
   "metadata": {},
   "outputs": [],
   "source": [
    "# load topics from topics.txt with format\n",
    "# <topics>\n",
    "# \t<topic>\n",
    "# \t\t<id>1</id>\n",
    "# \t\t<query> What are the most common chronic diseases? What effects do chronic diseases have for the society and the individual?\n",
    "# \t\t</query>\n",
    "# \t</topic>\n",
    "# \t<topic>\n",
    "# \t\t<id>8</id>\n",
    "# \t\t<query> best apps daily activity exercise diabetes\n",
    "# \t\t</query>\n",
    "# \t</topic>\n",
    "# \t<topic>\n",
    "# \t\t<id>22</id>\n",
    "# \t\t<query> my risk for developing type 2 diabetes\n",
    "# \t\t</query>\n",
    "# \t</topic>\n",
    "# </topics>\n",
    "\n",
    "file_path = 'data/topics/topics.txt'\n",
    "\n",
    "with open(file_path, 'r') as f:\n",
    "    topics = f.read()\n",
    "\n",
    "topics = topics.split('<topic>')\n",
    "topics = topics[1:]\n",
    "\n",
    "topic_dict = {}\n",
    "for topic in topics:\n",
    "    topic_id = topic.split('<id>')[1].split('</id>')[0]\n",
    "    topic_query = topic.split('<query>')[1].split('</query>')[0]\n",
    "    topic_dict[topic_id] = topic_query"
   ]
  },
  {
   "cell_type": "code",
   "execution_count": 4,
   "metadata": {},
   "outputs": [
    {
     "name": "stderr",
     "output_type": "stream",
     "text": [
      "PyTerrier 0.9.2 has loaded Terrier 5.7 (built by craigm on 2022-11-10 18:30) and terrier-helper 0.0.7\n",
      "\n",
      "No etc/terrier.properties, using terrier.default.properties for bootstrap configuration.\n"
     ]
    }
   ],
   "source": [
    "\n",
    "import pyterrier as pt\n",
    "if not pt.started():\n",
    "    pt.init()\n"
   ]
  },
  {
   "cell_type": "code",
   "execution_count": 5,
   "metadata": {},
   "outputs": [],
   "source": [
    "docno_to_text = pd.read_csv('CHS-2021/documents/Webdoc/crawl/txt.tsv', sep='\\t')"
   ]
  },
  {
   "cell_type": "code",
   "execution_count": 6,
   "metadata": {},
   "outputs": [],
   "source": [
    "def get_text_from_docno(docno):\n",
    "    print(docno)\n",
    "    if docno_to_text[docno_to_text['docid'] == docno].empty:\n",
    "        return ''\n",
    "    return docno_to_text[docno_to_text['docid'] == docno]['text'].values[0]"
   ]
  },
  {
   "cell_type": "code",
   "execution_count": 23,
   "metadata": {},
   "outputs": [
    {
     "name": "stdout",
     "output_type": "stream",
     "text": [
      "[May 29, 18:08:14] [0] \t\t #> Local args.bsize = 128\n",
      "[May 29, 18:08:14] [0] \t\t #> args.index_root = ./colbert_index\n",
      "[May 29, 18:08:14] [0] \t\t #> self.possible_subset_sizes = [69905]\n"
     ]
    },
    {
     "name": "stderr",
     "output_type": "stream",
     "text": [
      "Some weights of the model checkpoint at bert-base-uncased were not used when initializing ColBERT: ['cls.predictions.transform.dense.bias', 'cls.seq_relationship.bias', 'cls.predictions.transform.LayerNorm.weight', 'cls.predictions.transform.dense.weight', 'cls.seq_relationship.weight', 'cls.predictions.decoder.weight', 'cls.predictions.bias', 'cls.predictions.transform.LayerNorm.bias']\n",
      "- This IS expected if you are initializing ColBERT from the checkpoint of a model trained on another task or with another architecture (e.g. initializing a BertForSequenceClassification model from a BertForPreTraining model).\n",
      "- This IS NOT expected if you are initializing ColBERT from the checkpoint of a model that you expect to be exactly identical (initializing a BertForSequenceClassification model from a BertForSequenceClassification model).\n",
      "Some weights of ColBERT were not initialized from the model checkpoint at bert-base-uncased and are newly initialized: ['linear.weight']\n",
      "You should probably TRAIN this model on a down-stream task to be able to use it for predictions and inference.\n"
     ]
    },
    {
     "name": "stdout",
     "output_type": "stream",
     "text": [
      "[May 29, 18:08:15] #> Loading model checkpoint.\n",
      "[May 29, 18:08:15] #> Loading checkpoint ./colbertv2.0/pytorch_model.bin\n"
     ]
    },
    {
     "ename": "KeyError",
     "evalue": "'model_state_dict'",
     "output_type": "error",
     "traceback": [
      "\u001b[0;31m---------------------------------------------------------------------------\u001b[0m",
      "\u001b[0;31mKeyError\u001b[0m                                  Traceback (most recent call last)",
      "Cell \u001b[0;32mIn[23], line 33\u001b[0m\n\u001b[1;32m     30\u001b[0m     checkpoint\u001b[39m=\u001b[39m\u001b[39m\"\u001b[39m\u001b[39m./colbertv2.0/pytorch_model.bin\u001b[39m\u001b[39m\"\u001b[39m\n\u001b[1;32m     32\u001b[0m     indexer \u001b[39m=\u001b[39m ColBERTIndexer(checkpoint, index_path, \u001b[39m\"\u001b[39m\u001b[39mcolbertindex\u001b[39m\u001b[39m\"\u001b[39m, chunksize\u001b[39m=\u001b[39m\u001b[39m3\u001b[39m)\n\u001b[0;32m---> 33\u001b[0m     indexref \u001b[39m=\u001b[39m indexer\u001b[39m.\u001b[39;49mindex(ds_generate(use_chatgpt))\n\u001b[1;32m     34\u001b[0m \u001b[39melse\u001b[39;00m:\n\u001b[1;32m     35\u001b[0m     index_path \u001b[39m=\u001b[39m \u001b[39m'\u001b[39m\u001b[39m./IterDict_index\u001b[39m\u001b[39m'\u001b[39m\n",
      "File \u001b[0;32m~/miniconda3/envs/faiss/lib/python3.8/site-packages/pyterrier_colbert/indexing.py:330\u001b[0m, in \u001b[0;36mColBERTIndexer.index\u001b[0;34m(self, iterator)\u001b[0m\n\u001b[1;32m    328\u001b[0m         \u001b[39myield\u001b[39;00m l              \n\u001b[1;32m    329\u001b[0m \u001b[39mself\u001b[39m\u001b[39m.\u001b[39margs\u001b[39m.\u001b[39mgenerator \u001b[39m=\u001b[39m convert_gen(iterator)\n\u001b[0;32m--> 330\u001b[0m ceg \u001b[39m=\u001b[39m CollectionEncoderIds(\u001b[39mself\u001b[39;49m\u001b[39m.\u001b[39;49margs,\u001b[39m0\u001b[39;49m,\u001b[39m1\u001b[39;49m) \u001b[39mif\u001b[39;00m \u001b[39mself\u001b[39m\u001b[39m.\u001b[39mids \u001b[39melse\u001b[39;00m CollectionEncoder_Generator(\u001b[39mself\u001b[39m\u001b[39m.\u001b[39margs,\u001b[39m0\u001b[39m,\u001b[39m1\u001b[39m)\n\u001b[1;32m    332\u001b[0m create_directory(\u001b[39mself\u001b[39m\u001b[39m.\u001b[39margs\u001b[39m.\u001b[39mindex_root)\n\u001b[1;32m    333\u001b[0m create_directory(\u001b[39mself\u001b[39m\u001b[39m.\u001b[39margs\u001b[39m.\u001b[39mindex_path)\n",
      "File \u001b[0;32m~/miniconda3/envs/faiss/lib/python3.8/site-packages/pyterrier_colbert/indexing.py:234\u001b[0m, in \u001b[0;36mCollectionEncoder_Generator.__init__\u001b[0;34m(self, prepend_title, *args)\u001b[0m\n\u001b[1;32m    233\u001b[0m \u001b[39mdef\u001b[39;00m \u001b[39m__init__\u001b[39m(\u001b[39mself\u001b[39m, \u001b[39m*\u001b[39margs, prepend_title\u001b[39m=\u001b[39m\u001b[39mFalse\u001b[39;00m):\n\u001b[0;32m--> 234\u001b[0m     \u001b[39msuper\u001b[39;49m()\u001b[39m.\u001b[39;49m\u001b[39m__init__\u001b[39;49m(\u001b[39m*\u001b[39;49margs)\n\u001b[1;32m    235\u001b[0m     \u001b[39mself\u001b[39m\u001b[39m.\u001b[39mprepend_title \u001b[39m=\u001b[39m prepend_title\n",
      "File \u001b[0;32m~/miniconda3/envs/faiss/lib/python3.8/site-packages/pyterrier_colbert/indexing.py:68\u001b[0m, in \u001b[0;36mCollectionEncoder.__init__\u001b[0;34m(self, args, process_idx, num_processes)\u001b[0m\n\u001b[1;32m     65\u001b[0m \u001b[39mself\u001b[39m\u001b[39m.\u001b[39mprint_main(\u001b[39m\"\u001b[39m\u001b[39m#> args.index_root =\u001b[39m\u001b[39m\"\u001b[39m, args\u001b[39m.\u001b[39mindex_root)\n\u001b[1;32m     66\u001b[0m \u001b[39mself\u001b[39m\u001b[39m.\u001b[39mprint_main(\u001b[39mf\u001b[39m\u001b[39m\"\u001b[39m\u001b[39m#> self.possible_subset_sizes = \u001b[39m\u001b[39m{\u001b[39;00m\u001b[39mself\u001b[39m\u001b[39m.\u001b[39mpossible_subset_sizes\u001b[39m}\u001b[39;00m\u001b[39m\"\u001b[39m)\n\u001b[0;32m---> 68\u001b[0m \u001b[39mself\u001b[39;49m\u001b[39m.\u001b[39;49m_load_model()\n\u001b[1;32m     69\u001b[0m \u001b[39mself\u001b[39m\u001b[39m.\u001b[39mindexmgr \u001b[39m=\u001b[39m IndexManager(args\u001b[39m.\u001b[39mdim)\n",
      "File \u001b[0;32m~/miniconda3/envs/faiss/lib/python3.8/site-packages/pyterrier_colbert/indexing.py:84\u001b[0m, in \u001b[0;36mCollectionEncoder._load_model\u001b[0;34m(self)\u001b[0m\n\u001b[1;32m     82\u001b[0m \u001b[39melse\u001b[39;00m:\n\u001b[1;32m     83\u001b[0m     \u001b[39massert\u001b[39;00m \u001b[39misinstance\u001b[39m(\u001b[39mself\u001b[39m\u001b[39m.\u001b[39margs\u001b[39m.\u001b[39mcheckpoint, \u001b[39mstr\u001b[39m)\n\u001b[0;32m---> 84\u001b[0m     \u001b[39mself\u001b[39m\u001b[39m.\u001b[39mcolbert, \u001b[39mself\u001b[39m\u001b[39m.\u001b[39mcheckpoint \u001b[39m=\u001b[39m load_colbert(\u001b[39mself\u001b[39;49m\u001b[39m.\u001b[39;49margs, do_print\u001b[39m=\u001b[39;49m(\u001b[39mself\u001b[39;49m\u001b[39m.\u001b[39;49mprocess_idx \u001b[39m==\u001b[39;49m \u001b[39m0\u001b[39;49m))\n\u001b[1;32m     86\u001b[0m \u001b[39mif\u001b[39;00m \u001b[39mnot\u001b[39;00m colbert\u001b[39m.\u001b[39mparameters\u001b[39m.\u001b[39mDEVICE \u001b[39m==\u001b[39m torch\u001b[39m.\u001b[39mdevice(\u001b[39m\"\u001b[39m\u001b[39mcpu\u001b[39m\u001b[39m\"\u001b[39m):\n\u001b[1;32m     87\u001b[0m     \u001b[39mself\u001b[39m\u001b[39m.\u001b[39mcolbert \u001b[39m=\u001b[39m \u001b[39mself\u001b[39m\u001b[39m.\u001b[39mcolbert\u001b[39m.\u001b[39mcuda()\n",
      "File \u001b[0;32m~/miniconda3/envs/faiss/lib/python3.8/site-packages/colbert/evaluation/loaders.py:178\u001b[0m, in \u001b[0;36mload_colbert\u001b[0;34m(args, do_print)\u001b[0m\n\u001b[1;32m    177\u001b[0m \u001b[39mdef\u001b[39;00m \u001b[39mload_colbert\u001b[39m(args, do_print\u001b[39m=\u001b[39m\u001b[39mTrue\u001b[39;00m):\n\u001b[0;32m--> 178\u001b[0m     colbert, checkpoint \u001b[39m=\u001b[39m load_model(args, do_print)\n\u001b[1;32m    180\u001b[0m     \u001b[39m# TODO: If the parameters below were not specified on the command line, their *checkpoint* values should be used.\u001b[39;00m\n\u001b[1;32m    181\u001b[0m     \u001b[39m# I.e., not their purely (i.e., training) default values.\u001b[39;00m\n\u001b[1;32m    183\u001b[0m     \u001b[39mfor\u001b[39;00m k \u001b[39min\u001b[39;00m [\u001b[39m'\u001b[39m\u001b[39mquery_maxlen\u001b[39m\u001b[39m'\u001b[39m, \u001b[39m'\u001b[39m\u001b[39mdoc_maxlen\u001b[39m\u001b[39m'\u001b[39m, \u001b[39m'\u001b[39m\u001b[39mdim\u001b[39m\u001b[39m'\u001b[39m, \u001b[39m'\u001b[39m\u001b[39msimilarity\u001b[39m\u001b[39m'\u001b[39m, \u001b[39m'\u001b[39m\u001b[39mamp\u001b[39m\u001b[39m'\u001b[39m]:\n",
      "File \u001b[0;32m~/miniconda3/envs/faiss/lib/python3.8/site-packages/colbert/evaluation/load_model.py:24\u001b[0m, in \u001b[0;36mload_model\u001b[0;34m(args, do_print)\u001b[0m\n\u001b[1;32m     20\u001b[0m colbert \u001b[39m=\u001b[39m colbert\u001b[39m.\u001b[39mto(DEVICE)\n\u001b[1;32m     22\u001b[0m print_message(\u001b[39m\"\u001b[39m\u001b[39m#> Loading model checkpoint.\u001b[39m\u001b[39m\"\u001b[39m, condition\u001b[39m=\u001b[39mdo_print)\n\u001b[0;32m---> 24\u001b[0m checkpoint \u001b[39m=\u001b[39m load_checkpoint(args\u001b[39m.\u001b[39;49mcheckpoint, colbert, do_print\u001b[39m=\u001b[39;49mdo_print)\n\u001b[1;32m     26\u001b[0m colbert\u001b[39m.\u001b[39meval()\n\u001b[1;32m     28\u001b[0m \u001b[39mreturn\u001b[39;00m colbert, checkpoint\n",
      "File \u001b[0;32m~/miniconda3/envs/faiss/lib/python3.8/site-packages/pyterrier_colbert/__init__.py:20\u001b[0m, in \u001b[0;36mload_checkpoint\u001b[0;34m(path, model, optimizer, do_print)\u001b[0m\n\u001b[1;32m     17\u001b[0m \u001b[39melse\u001b[39;00m:\n\u001b[1;32m     18\u001b[0m     checkpoint \u001b[39m=\u001b[39m torch\u001b[39m.\u001b[39mload(path, map_location\u001b[39m=\u001b[39m\u001b[39m'\u001b[39m\u001b[39mcpu\u001b[39m\u001b[39m'\u001b[39m)\n\u001b[0;32m---> 20\u001b[0m state_dict \u001b[39m=\u001b[39m checkpoint[\u001b[39m'\u001b[39;49m\u001b[39mmodel_state_dict\u001b[39;49m\u001b[39m'\u001b[39;49m]\n\u001b[1;32m     21\u001b[0m new_state_dict \u001b[39m=\u001b[39m OrderedDict()\n\u001b[1;32m     22\u001b[0m \u001b[39mfor\u001b[39;00m k, v \u001b[39min\u001b[39;00m state_dict\u001b[39m.\u001b[39mitems():\n",
      "\u001b[0;31mKeyError\u001b[0m: 'model_state_dict'"
     ]
    }
   ],
   "source": [
    "def ds_generate(use_chatgpt=True):\n",
    "    with open('CHS-2021/documents/Webdoc/crawl/txt.tsv', 'r') as corpusfile:\n",
    "        for l in corpusfile:\n",
    "            docno, passage = l.split(\"\\t\")\n",
    "            yield {'docno' : docno, 'text' : passage}\n",
    "    if use_chatgpt:\n",
    "        for idx, row in chat_gpt_results.iterrows():\n",
    "            docno = 'chatgpt' + str(row['topic_id'])\n",
    "            yield {'docno' : docno, 'text' : row['answer']}\n",
    "\n",
    "use_colbert = True\n",
    "use_chatgpt = False\n",
    "\n",
    "if use_chatgpt:\n",
    "    chat_gpt_results_infile = 'answers/chatgpt-16052023.csv'\n",
    "    chat_gpt_results = pd.read_csv(chat_gpt_results_infile, header=None)\n",
    "    chat_gpt_results.columns = ['topic_id', 'query', 'answer']\n",
    "    chat_gpt_results['topic_id'] = chat_gpt_results['topic_id'].astype(str)\n",
    "    chat_gpt_results['answer'] = chat_gpt_results['answer'].str.replace('\\n', ' ').str.replace(',', ' ').str.replace('\"', '')\n",
    "    chat_gpt_results = chat_gpt_results[chat_gpt_results['answer'].notna()]\n",
    "\n",
    "if use_colbert:\n",
    "    index_path = './colbert_index'\n",
    "    if use_chatgpt:\n",
    "        index_path += '_chatgpt'\n",
    "    if os.path.exists(index_path):  \n",
    "        shutil.rmtree(index_path)\n",
    "    from pyterrier_colbert.indexing import ColBERTIndexer\n",
    "    # checkpoint=\"http://www.dcs.gla.ac.uk/~craigm/ecir2021-tutorial/colbert_model_checkpoint.zip\"\n",
    "    checkpoint=\"./colbertv2.0/pytorch_model.bin\"\n",
    "\n",
    "    indexer = ColBERTIndexer(checkpoint, index_path, \"colbertindex\", chunksize=3)\n",
    "    indexref = indexer.index(ds_generate(use_chatgpt))\n",
    "else:\n",
    "    index_path = './IterDict_index'\n",
    "    if use_chatgpt:\n",
    "        index_path += '_chatgpt'\n",
    "    if os.path.exists(index_path):  \n",
    "        shutil.rmtree(index_path)\n",
    "    iter_indexer = pt.IterDictIndexer(index_path)\n",
    "    indexref = iter_indexer.index(ds_generate(use_chatgpt), meta={'docno' : 36, 'text': 2000})"
   ]
  },
  {
   "cell_type": "code",
   "execution_count": 8,
   "metadata": {},
   "outputs": [
    {
     "name": "stderr",
     "output_type": "stream",
     "text": [
      "Some weights of the model checkpoint at bert-base-uncased were not used when initializing ColBERT: ['cls.predictions.transform.dense.bias', 'cls.seq_relationship.bias', 'cls.predictions.transform.LayerNorm.weight', 'cls.predictions.transform.dense.weight', 'cls.seq_relationship.weight', 'cls.predictions.decoder.weight', 'cls.predictions.bias', 'cls.predictions.transform.LayerNorm.bias']\n",
      "- This IS expected if you are initializing ColBERT from the checkpoint of a model trained on another task or with another architecture (e.g. initializing a BertForSequenceClassification model from a BertForPreTraining model).\n",
      "- This IS NOT expected if you are initializing ColBERT from the checkpoint of a model that you expect to be exactly identical (initializing a BertForSequenceClassification model from a BertForSequenceClassification model).\n",
      "Some weights of ColBERT were not initialized from the model checkpoint at bert-base-uncased and are newly initialized: ['linear.weight']\n",
      "You should probably TRAIN this model on a down-stream task to be able to use it for predictions and inference.\n"
     ]
    },
    {
     "name": "stdout",
     "output_type": "stream",
     "text": [
      "[May 29, 17:50:54] #> Loading model checkpoint.\n",
      "[May 29, 17:50:54] #> Loading checkpoint http://www.dcs.gla.ac.uk/~craigm/ecir2021-tutorial/colbert_model_checkpoint.zip\n",
      "[May 29, 17:51:05] #> checkpoint['epoch'] = 0\n",
      "[May 29, 17:51:05] #> checkpoint['batch'] = 44500\n",
      "[May 29, 17:51:06] #> Loading the FAISS index from ./colbert_index/colbertindex/ivfpq.faiss ..\n",
      "[May 29, 17:51:06] #> Building the emb2pid mapping..\n",
      "[May 29, 17:51:06] len(self.emb2pid) = 1204520\n",
      "Loading reranking index, memtype=mem\n"
     ]
    },
    {
     "name": "stderr",
     "output_type": "stream",
     "text": [
      "Loading index shards to memory: 100%|██████████| 1/1 [00:00<00:00,  1.79shard/s]\n"
     ]
    }
   ],
   "source": [
    "if use_colbert:\n",
    "    from pyterrier_colbert.ranking import ColBERTFactory\n",
    "    index=(index_path, \"colbertindex\")\n",
    "    pytcolbert = ColBERTFactory(checkpoint, *index)\n",
    "    # rename the ivfpq file\n",
    "    os.rename(index_path + '/colbertindex/ivfpq.100.faiss', index_path + '/colbertindex/ivfpq.faiss')\n",
    "    dense_e2e = pytcolbert.end_to_end()"
   ]
  },
  {
   "cell_type": "code",
   "execution_count": 9,
   "metadata": {},
   "outputs": [],
   "source": [
    "import xml.etree.ElementTree as ET\n",
    "import pandas as pd\n",
    "\n",
    "def load_topics(path):\n",
    "    with open(path) as f:\n",
    "        root = ET.fromstring(f.read())\n",
    "    topic_dict = {}\n",
    "    for topic in root.findall(\"topic\"):\n",
    "        topic_id = topic.findtext(\"id\")\n",
    "        topic_query = topic.findtext(\"query\")\n",
    "        if topic_id and topic_query:\n",
    "            topic_dict[topic_id] = topic_query.strip().lower()\n",
    "    topics = pd.DataFrame(topic_dict.items(), columns=[\"qid\", \"query\"]) \n",
    "    topics[\"query\"] = topics[\"query\"].str.replace(r'\\W+', ' ', regex=True)\n",
    "    return topics"
   ]
  },
  {
   "cell_type": "code",
   "execution_count": 10,
   "metadata": {},
   "outputs": [],
   "source": [
    "\n",
    "topics = load_topics(\"data/topics/topics.txt\")\n",
    "qrels = pt.io.read_qrels(\"data/assessments/qrels.txt\") # type: ignore\n",
    "qcred = pt.io.read_qrels(\"data/assessments/qcredibility.txt\") # type: ignore\n",
    "qread = pt.io.read_qrels(\"data/assessments/qreadability.txt\") # type: ignore\n",
    "\n",
    "all_qs = [(\"qrels\", qrels), (\"qcred\", qcred), (\"qread\", qread)]\n",
    "\n",
    "# remove non alphanumeric characters from queries"
   ]
  },
  {
   "cell_type": "code",
   "execution_count": 11,
   "metadata": {},
   "outputs": [],
   "source": [
    "import pyterrier as pt\n",
    "\n",
    "def run_experiment(pipeline, simple_name, topics, qrels, eval_metrics=[\"map\", \"bpref\", \"ndcg_cut_10\"]):\n",
    "    experiments = []\n",
    "    for name, q in qrels:\n",
    "        # change pipeline name to include the name of the query\n",
    "\n",
    "        exp = pt.Experiment([pipeline], topics, q, eval_metrics, names=[name + '_' + simple_name])\n",
    "        experiments.append(exp)\n",
    "    return pd.concat(experiments, axis=0)"
   ]
  },
  {
   "cell_type": "code",
   "execution_count": 12,
   "metadata": {},
   "outputs": [],
   "source": [
    "if use_colbert:\n",
    "    retrieval = dense_e2e\n",
    "    simple_name = 'colbert_msmarco'\n",
    "else:\n",
    "    dph = pt.BatchRetrieve(indexref, wmodel=\"DPH\", metadata=[\"docno\", \"text\"])\n",
    "    bo1 = pt.rewrite.Bo1QueryExpansion(indexref)\n",
    "    pipelineQE_dph = dph >> bo1 >> dph\n",
    "    simple_name = 'QE_dph'\n",
    "    retrieval = pipelineQE_dph\n",
    "results = run_experiment(retrieval,simple_name, topics, all_qs, [\"map\", \"bpref\", \"ndcg_cut_10\"])"
   ]
  },
  {
   "cell_type": "code",
   "execution_count": 21,
   "metadata": {},
   "outputs": [],
   "source": [
    "append_to_file = ''\n",
    "if use_chatgpt:\n",
    "    append_to_file = '_chatgpt'\n",
    "else:\n",
    "    append_to_file = '_without_chatgpt'\n",
    "\n",
    "results.to_csv('data/results/results_' + simple_name + append_to_file + '.csv', index=False)"
   ]
  },
  {
   "cell_type": "code",
   "execution_count": 14,
   "metadata": {},
   "outputs": [
    {
     "ename": "NameError",
     "evalue": "name 'chat_gpt_results' is not defined",
     "output_type": "error",
     "traceback": [
      "\u001b[0;31m---------------------------------------------------------------------------\u001b[0m",
      "\u001b[0;31mNameError\u001b[0m                                 Traceback (most recent call last)",
      "Cell \u001b[0;32mIn[14], line 8\u001b[0m\n\u001b[1;32m      6\u001b[0m out_df \u001b[39m=\u001b[39m []\n\u001b[1;32m      7\u001b[0m \u001b[39mfor\u001b[39;00m idx, row \u001b[39min\u001b[39;00m topics\u001b[39m.\u001b[39miterrows():\n\u001b[0;32m----> 8\u001b[0m     \u001b[39mif\u001b[39;00m \u001b[39mstr\u001b[39m(row[\u001b[39m'\u001b[39m\u001b[39mqid\u001b[39m\u001b[39m'\u001b[39m]) \u001b[39mnot\u001b[39;00m \u001b[39min\u001b[39;00m chat_gpt_results[\u001b[39m'\u001b[39m\u001b[39mtopic_id\u001b[39m\u001b[39m'\u001b[39m]\u001b[39m.\u001b[39mvalues:\n\u001b[1;32m      9\u001b[0m         \u001b[39mcontinue\u001b[39;00m\n\u001b[1;32m     10\u001b[0m     res \u001b[39m=\u001b[39m retrieval_model\u001b[39m.\u001b[39msearch(row[\u001b[39m\"\u001b[39m\u001b[39mquery\u001b[39m\u001b[39m\"\u001b[39m])\n",
      "\u001b[0;31mNameError\u001b[0m: name 'chat_gpt_results' is not defined"
     ]
    }
   ],
   "source": [
    "# iterate over topics and save the positions of chatgpt answers\n",
    "if use_colbert:\n",
    "    retrieval_model = dense_e2e\n",
    "else:\n",
    "    retrieval_model = pipelineQE_dph\n",
    "out_df = []\n",
    "for idx, row in topics.iterrows():\n",
    "    if str(row['qid']) not in chat_gpt_results['topic_id'].values:\n",
    "        continue\n",
    "    res = retrieval_model.search(row[\"query\"])\n",
    "    best_answer_text = get_text_from_docno(res['docno'].tolist()[0])\n",
    "    docno = 'chatgpt' + str(row['qid'])\n",
    "    if docno not in res['docno'].values:\n",
    "        out_df.append({'qid': row['qid'], 'query': row['query'], 'docno': docno, 'position': -1, 'chatgpt_answer': chat_gpt_results[chat_gpt_results['topic_id'] == str(row['qid'])]['answer'].values[0][:2000], 'best_answer': best_answer_text})\n",
    "        continue\n",
    "    position = res['docno'].tolist().index(docno)\n",
    "    out_df.append({'qid': row['qid'], 'query': row['query'], 'docno': docno, 'position': position, 'chatgpt_answer': chat_gpt_results[chat_gpt_results['topic_id'] == str(row['qid'])]['answer'].values[0][:2000], 'best_answer': best_answer_text})\n",
    "    \n",
    "out_df = pd.DataFrame(out_df)"
   ]
  },
  {
   "cell_type": "code",
   "execution_count": null,
   "metadata": {},
   "outputs": [],
   "source": [
    "if use_colbert:\n",
    "    out_file = 'answers/chatgpt-16052023-positions-colbert.csv'\n",
    "else:\n",
    "    out_file = 'answers/chatgpt-16052023-positions-IterDict.csv'\n",
    "out_df.to_csv(out_file, index=False)"
   ]
  }
 ],
 "metadata": {
  "kernelspec": {
   "display_name": "terrier",
   "language": "python",
   "name": "python3"
  },
  "language_info": {
   "codemirror_mode": {
    "name": "ipython",
    "version": 3
   },
   "file_extension": ".py",
   "mimetype": "text/x-python",
   "name": "python",
   "nbconvert_exporter": "python",
   "pygments_lexer": "ipython3",
   "version": "3.8.16"
  },
  "orig_nbformat": 4
 },
 "nbformat": 4,
 "nbformat_minor": 2
}
