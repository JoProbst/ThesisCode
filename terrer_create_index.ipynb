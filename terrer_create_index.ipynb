{
 "cells": [
  {
   "cell_type": "code",
   "execution_count": 1,
   "metadata": {},
   "outputs": [],
   "source": [
    "import os\n",
    "import shutil\n",
    "import pandas as pd\n",
    "pd.set_option('display.max_colwidth', 100)\n"
   ]
  },
  {
   "cell_type": "code",
   "execution_count": 2,
   "metadata": {},
   "outputs": [],
   "source": [
    "import faiss\n",
    "assert faiss.get_num_gpus() > 0"
   ]
  },
  {
   "cell_type": "code",
   "execution_count": 3,
   "metadata": {},
   "outputs": [
    {
     "name": "stderr",
     "output_type": "stream",
     "text": [
      "PyTerrier 0.9.2 has loaded Terrier 5.7 (built by craigm on 2022-11-10 18:30) and terrier-helper 0.0.7\n",
      "\n",
      "No etc/terrier.properties, using terrier.default.properties for bootstrap configuration.\n"
     ]
    }
   ],
   "source": [
    "\n",
    "import pyterrier as pt\n",
    "if not pt.started():\n",
    "    pt.init()\n"
   ]
  },
  {
   "cell_type": "code",
   "execution_count": 4,
   "metadata": {},
   "outputs": [],
   "source": [
    "docno_to_text = pd.read_csv('CHS-2021/documents/Webdoc/crawl/txt_over_50.tsv', sep='\\t')"
   ]
  },
  {
   "cell_type": "code",
   "execution_count": 5,
   "metadata": {},
   "outputs": [],
   "source": [
    "def get_text_from_docno(docno):\n",
    "    print(docno)\n",
    "    if docno_to_text[docno_to_text['docid'] == docno].empty:\n",
    "        return ''\n",
    "    return docno_to_text[docno_to_text['docid'] == docno]['text'].values[0]"
   ]
  },
  {
   "cell_type": "code",
   "execution_count": 6,
   "metadata": {},
   "outputs": [
    {
     "name": "stderr",
     "output_type": "stream",
     "text": [
      "/home/jonas/miniconda3/envs/faiss/lib/python3.8/site-packages/scipy/__init__.py:143: UserWarning: A NumPy version >=1.19.5 and <1.27.0 is required for this version of SciPy (detected version 1.19.2)\n",
      "  warnings.warn(f\"A NumPy version >={np_minversion} and <{np_maxversion}\"\n"
     ]
    },
    {
     "name": "stdout",
     "output_type": "stream",
     "text": [
      "[Jun 22, 13:31:01] [0] \t\t #> Local args.bsize = 128\n",
      "[Jun 22, 13:31:01] [0] \t\t #> args.index_root = ./colbert_index\n",
      "[Jun 22, 13:31:01] [0] \t\t #> self.possible_subset_sizes = [69905]\n"
     ]
    },
    {
     "name": "stderr",
     "output_type": "stream",
     "text": [
      "Some weights of the model checkpoint at bert-base-uncased were not used when initializing ColBERT: ['cls.predictions.transform.LayerNorm.weight', 'cls.predictions.bias', 'cls.predictions.transform.dense.bias', 'cls.predictions.transform.LayerNorm.bias', 'cls.predictions.decoder.weight', 'cls.seq_relationship.bias', 'cls.seq_relationship.weight', 'cls.predictions.transform.dense.weight']\n",
      "- This IS expected if you are initializing ColBERT from the checkpoint of a model trained on another task or with another architecture (e.g. initializing a BertForSequenceClassification model from a BertForPreTraining model).\n",
      "- This IS NOT expected if you are initializing ColBERT from the checkpoint of a model that you expect to be exactly identical (initializing a BertForSequenceClassification model from a BertForSequenceClassification model).\n",
      "Some weights of ColBERT were not initialized from the model checkpoint at bert-base-uncased and are newly initialized: ['linear.weight']\n",
      "You should probably TRAIN this model on a down-stream task to be able to use it for predictions and inference.\n"
     ]
    },
    {
     "name": "stdout",
     "output_type": "stream",
     "text": [
      "[Jun 22, 13:31:04] #> Loading model checkpoint.\n",
      "[Jun 22, 13:31:04] #> Loading checkpoint ./colbert_model_checkpoint/colbert.dnn\n",
      "[Jun 22, 13:31:06] #> checkpoint['epoch'] = 0\n",
      "[Jun 22, 13:31:06] #> checkpoint['batch'] = 44500\n",
      "\n",
      "\n",
      "\n",
      "\n",
      "[Jun 22, 13:31:06] #> Creating directory ./colbert_index \n",
      "\n",
      "\n",
      "\n",
      "\n",
      "[Jun 22, 13:31:06] #> Creating directory ./colbert_index/colbertindex \n",
      "\n",
      "\n",
      "[Jun 22, 13:33:46] [0] \t\t #> Completed batch #0 (starting at passage #0) \t\tPassages/min: 2.5k (overall),  2.5k (this encoding),  18111.3M (this saving)\n",
      "[Jun 22, 13:33:47] [0] \t\t [NOTE] Done with local share.\n",
      "[Jun 22, 13:33:47] [0] \t\t #> Joining saver thread.\n",
      "[Jun 22, 13:33:47] [0] \t\t #> Saved batch #0 to ./colbert_index/colbertindex/0.pt \t\t Saving Throughput = 613.6k passages per minute.\n",
      "\n",
      "#> num_embeddings = 1202218\n",
      "[Jun 22, 13:33:47] #> Starting..\n",
      "[Jun 22, 13:33:47] #> Processing slice #1 of 1 (range 0..1).\n",
      "[Jun 22, 13:33:47] #> Will write to ./colbert_index/colbertindex/ivfpq.100.faiss.\n",
      "[Jun 22, 13:33:47] #> Loading ./colbert_index/colbertindex/0.sample ...\n",
      "#> Sample has shape (60110, 128)\n",
      "[Jun 22, 13:33:47] Preparing resources for 1 GPUs.\n",
      "[Jun 22, 13:33:47] #> Training with the vectors...\n",
      "[Jun 22, 13:33:47] #> Training now (using 1 GPUs)...\n",
      "0.6738197803497314\n",
      "9.094167947769165\n",
      "7.581710815429688e-05\n",
      "[Jun 22, 13:33:57] Done training!\n",
      "\n",
      "[Jun 22, 13:33:57] #> Indexing the vectors...\n",
      "[Jun 22, 13:33:57] #> Loading ('./colbert_index/colbertindex/0.pt', None, None) (from queue)...\n",
      "[Jun 22, 13:33:57] #> Processing a sub_collection with shape (1202218, 128)\n",
      "[Jun 22, 13:33:57] Add data with shape (1202218, 128) (offset = 0)..\n",
      "  IndexIVFPQ size 0 -> GpuIndexIVFPQ indicesOptions=0 usePrecomputed=0 useFloat16=1 reserveVecs=33554432\n",
      "1179648/1202218 (10.312 s)   Flush indexes to CPU\n",
      "add(.) time: 10.466 s \t\t--\t\t index.ntotal = 1202218\n",
      "[Jun 22, 13:34:08] Done indexing!\n",
      "[Jun 22, 13:34:08] Writing index to ./colbert_index/colbertindex/ivfpq.100.faiss ...\n",
      "[Jun 22, 13:34:08] \n",
      "\n",
      "Done! All complete (for slice #1 of 1)!\n",
      "#> Faiss encoding complete\n",
      "#> Indexing complete, Time elapsed 186.93 seconds\n"
     ]
    }
   ],
   "source": [
    "def ds_generate(use_chatgpt=True):\n",
    "    with open('CHS-2021/documents/Webdoc/crawl/txt_over_50.tsv', 'r') as corpusfile:\n",
    "        for l in corpusfile:\n",
    "            docno, passage = l.split(\"\\t\")\n",
    "            yield {'docno' : docno, 'text' : passage}\n",
    "    if use_chatgpt:\n",
    "        for idx, row in chat_gpt_results.iterrows():\n",
    "            docno = 'chatgpt' + str(row['topic_id'])\n",
    "            yield {'docno' : docno, 'text' : row['answer']}\n",
    "\n",
    "use_colbert = True\n",
    "use_chatgpt = False\n",
    "\n",
    "if use_chatgpt:\n",
    "    chat_gpt_results_infile = 'answers/chatgpt-16052023.csv'\n",
    "    chat_gpt_results = pd.read_csv(chat_gpt_results_infile, header=None)\n",
    "    chat_gpt_results.columns = ['topic_id', 'query', 'answer']\n",
    "    chat_gpt_results['topic_id'] = chat_gpt_results['topic_id'].astype(str)\n",
    "    chat_gpt_results['answer'] = chat_gpt_results['answer'].str.replace('\\n', ' ').str.replace(',', ' ').str.replace('\"', '')\n",
    "    chat_gpt_results = chat_gpt_results[chat_gpt_results['answer'].notna()]\n",
    "\n",
    "if use_colbert:\n",
    "    index_path = './colbert_index'\n",
    "    if use_chatgpt:\n",
    "        index_path += '_chatgpt'\n",
    "    if os.path.exists(index_path):  \n",
    "        shutil.rmtree(index_path)\n",
    "    from pyterrier_colbert.indexing import ColBERTIndexer\n",
    "    # checkpoint=\"http://www.dcs.gla.ac.uk/~craigm/ecir2021-tutorial/colbert_model_checkpoint.zip\"\n",
    "    checkpoint=\"./colbert_model_checkpoint/colbert.dnn\"\n",
    "\n",
    "    indexer = ColBERTIndexer(checkpoint, index_path, \"colbertindex\", chunksize=3)\n",
    "    indexref = indexer.index(ds_generate(use_chatgpt))\n",
    "else:\n",
    "    index_path = './IterDict_index_over_50'\n",
    "    if use_chatgpt:\n",
    "        index_path += '_chatgpt'\n",
    "    if os.path.exists(index_path):  \n",
    "        shutil.rmtree(index_path)\n",
    "    iter_indexer = pt.IterDictIndexer(index_path)\n",
    "    indexref = iter_indexer.index(ds_generate(use_chatgpt), meta={'docno' : 36, 'text': 2000})"
   ]
  },
  {
   "cell_type": "code",
   "execution_count": 7,
   "metadata": {},
   "outputs": [
    {
     "name": "stderr",
     "output_type": "stream",
     "text": [
      "Some weights of the model checkpoint at bert-base-uncased were not used when initializing ColBERT: ['cls.predictions.transform.LayerNorm.weight', 'cls.predictions.bias', 'cls.predictions.transform.dense.bias', 'cls.predictions.transform.LayerNorm.bias', 'cls.predictions.decoder.weight', 'cls.seq_relationship.bias', 'cls.seq_relationship.weight', 'cls.predictions.transform.dense.weight']\n",
      "- This IS expected if you are initializing ColBERT from the checkpoint of a model trained on another task or with another architecture (e.g. initializing a BertForSequenceClassification model from a BertForPreTraining model).\n",
      "- This IS NOT expected if you are initializing ColBERT from the checkpoint of a model that you expect to be exactly identical (initializing a BertForSequenceClassification model from a BertForSequenceClassification model).\n",
      "Some weights of ColBERT were not initialized from the model checkpoint at bert-base-uncased and are newly initialized: ['linear.weight']\n",
      "You should probably TRAIN this model on a down-stream task to be able to use it for predictions and inference.\n"
     ]
    },
    {
     "name": "stdout",
     "output_type": "stream",
     "text": [
      "[Jun 22, 13:34:10] #> Loading model checkpoint.\n",
      "[Jun 22, 13:34:10] #> Loading checkpoint ./colbert_model_checkpoint/colbert.dnn\n",
      "[Jun 22, 13:34:12] #> checkpoint['epoch'] = 0\n",
      "[Jun 22, 13:34:12] #> checkpoint['batch'] = 44500\n",
      "[Jun 22, 13:34:12] #> Loading the FAISS index from ./colbert_index/colbertindex/ivfpq.faiss ..\n",
      "[Jun 22, 13:34:12] #> Building the emb2pid mapping..\n",
      "[Jun 22, 13:34:12] len(self.emb2pid) = 1202218\n",
      "Loading reranking index, memtype=mem\n"
     ]
    },
    {
     "name": "stderr",
     "output_type": "stream",
     "text": [
      "Loading index shards to memory: 100%|██████████| 1/1 [00:00<00:00,  1.79shard/s]\n"
     ]
    }
   ],
   "source": [
    "if use_colbert:\n",
    "    from pyterrier_colbert.ranking import ColBERTFactory\n",
    "    index=(index_path, \"colbertindex\")\n",
    "    pytcolbert = ColBERTFactory(checkpoint, *index)\n",
    "    # rename the ivfpq file\n",
    "    os.rename(index_path + '/colbertindex/ivfpq.100.faiss', index_path + '/colbertindex/ivfpq.faiss')\n",
    "    dense_e2e = pytcolbert.end_to_end()"
   ]
  },
  {
   "cell_type": "code",
   "execution_count": 8,
   "metadata": {},
   "outputs": [],
   "source": [
    "import xml.etree.ElementTree as ET\n",
    "import pandas as pd\n",
    "\n",
    "def load_topics(path, clean_queries=False):\n",
    "    with open(path) as f:\n",
    "        root = ET.fromstring(f.read())\n",
    "    topic_dict = {}\n",
    "    for topic in root.findall(\"topic\"):\n",
    "        topic_id = topic.findtext(\"id\")\n",
    "        topic_query = topic.findtext(\"query\")\n",
    "        if topic_id and topic_query:\n",
    "            topic_dict[topic_id] = topic_query.strip()\n",
    "    topics = pd.DataFrame(topic_dict.items(), columns=[\"qid\", \"query\"]) \n",
    "    if clean_queries:\n",
    "        topics[\"query\"] = topics[\"query\"].str.lower().replace(r'\\W+', ' ', regex=True)\n",
    "    return topics"
   ]
  },
  {
   "cell_type": "code",
   "execution_count": 9,
   "metadata": {},
   "outputs": [],
   "source": [
    "if use_colbert:\n",
    "    clean_queries = False\n",
    "else:\n",
    "    clean_queries = True\n",
    "topics = load_topics(\"data/topics/topics.txt\", clean_queries=True)\n",
    "qrels = pt.io.read_qrels(\"data/assessments/qrels.txt\") # type: ignore\n",
    "qcred = pt.io.read_qrels(\"data/assessments/qcredibility.txt\") # type: ignore\n",
    "qread = pt.io.read_qrels(\"data/assessments/qreadability.txt\") # type: ignore\n",
    "\n",
    "all_qs = [(\"qrels\", qrels), (\"qcred\", qcred), (\"qread\", qread)]\n",
    "\n",
    "# remove non alphanumeric characters from queries"
   ]
  },
  {
   "cell_type": "code",
   "execution_count": 10,
   "metadata": {},
   "outputs": [],
   "source": [
    "import pyterrier as pt\n",
    "\n",
    "def run_experiment(pipeline, simple_name, topics, qrels, eval_metrics=[\"map\", \"bpref\", \"ndcg_cut_10\"]):\n",
    "    experiments = []\n",
    "    for name, q in qrels:\n",
    "        # change pipeline name to include the name of the query\n",
    "\n",
    "        exp = pt.Experiment([pipeline], topics, q, eval_metrics, names=[name + '_' + simple_name])\n",
    "        experiments.append(exp)\n",
    "    return pd.concat(experiments, axis=0)"
   ]
  },
  {
   "cell_type": "code",
   "execution_count": 11,
   "metadata": {},
   "outputs": [],
   "source": [
    "credibility_scores = pd.read_csv('data/all_passages_credibility_scores_bert.tsv', sep='\\t')"
   ]
  },
  {
   "cell_type": "code",
   "execution_count": 12,
   "metadata": {},
   "outputs": [],
   "source": [
    "#get the credibility score for a given docid\n",
    "def get_credibility_score(docid):\n",
    "    if credibility_scores[credibility_scores['docid'] == docid].empty:\n",
    "        return 0\n",
    "    return credibility_scores[credibility_scores['docid'] == docid]['credibility_score'].values[0]\n"
   ]
  },
  {
   "cell_type": "code",
   "execution_count": 13,
   "metadata": {},
   "outputs": [],
   "source": [
    "import textstat\n",
    "# rank documents with custom function that evaluates readability of the document\n",
    "def readability_score(text):\n",
    "    score = textstat.flesch_reading_ease(text)\n",
    "    print(score)\n",
    "    return score "
   ]
  },
  {
   "cell_type": "code",
   "execution_count": 14,
   "metadata": {},
   "outputs": [],
   "source": [
    "if use_colbert:\n",
    "    retrieval = dense_e2e\n",
    "    simple_name = 'colbert_msmarco_over_50'\n",
    "else:\n",
    "    dph = pt.BatchRetrieve(indexref, wmodel=\"DPH\", metadata=[\"docno\", \"text\"])\n",
    "    # tfidf = pt.BatchRetrieve(indexref, wmodel=\"TF_IDF\", metadata=[\"docno\", \"text\"])\n",
    "    bo1 = pt.rewrite.Bo1QueryExpansion(indexref)\n",
    "    # readability_rerank = pt.apply.doc_score(lambda row: get_credibility_score(row['docid']))\n",
    "    pipelineQE_dph = dph >> bo1 >> dph # >> readability_rerank\n",
    "    simple_name = 'QE_dph_over_50'\n",
    "    retrieval = pipelineQE_dph\n",
    "results = run_experiment(retrieval,simple_name, topics, all_qs, [\"map\", \"bpref\", \"ndcg_cut_10\"])"
   ]
  },
  {
   "cell_type": "code",
   "execution_count": 15,
   "metadata": {},
   "outputs": [],
   "source": [
    "append_to_file = ''\n",
    "if use_chatgpt:\n",
    "    append_to_file = '_chatgpt'\n",
    "else:\n",
    "    append_to_file = '_without_chatgpt'\n",
    "\n",
    "results.to_csv('data/results/results_' + simple_name + append_to_file + '_clean_queries.csv', index=False)"
   ]
  },
  {
   "cell_type": "code",
   "execution_count": 16,
   "metadata": {},
   "outputs": [
    {
     "data": {
      "text/html": [
       "<div>\n",
       "<style scoped>\n",
       "    .dataframe tbody tr th:only-of-type {\n",
       "        vertical-align: middle;\n",
       "    }\n",
       "\n",
       "    .dataframe tbody tr th {\n",
       "        vertical-align: top;\n",
       "    }\n",
       "\n",
       "    .dataframe thead th {\n",
       "        text-align: right;\n",
       "    }\n",
       "</style>\n",
       "<table border=\"1\" class=\"dataframe\">\n",
       "  <thead>\n",
       "    <tr style=\"text-align: right;\">\n",
       "      <th></th>\n",
       "      <th>name</th>\n",
       "      <th>map</th>\n",
       "      <th>bpref</th>\n",
       "      <th>ndcg_cut_10</th>\n",
       "    </tr>\n",
       "  </thead>\n",
       "  <tbody>\n",
       "    <tr>\n",
       "      <th>0</th>\n",
       "      <td>qrels_colbert_msmarco_over_50</td>\n",
       "      <td>0.219678</td>\n",
       "      <td>0.424791</td>\n",
       "      <td>0.483103</td>\n",
       "    </tr>\n",
       "    <tr>\n",
       "      <th>0</th>\n",
       "      <td>qcred_colbert_msmarco_over_50</td>\n",
       "      <td>0.306242</td>\n",
       "      <td>0.646405</td>\n",
       "      <td>0.446899</td>\n",
       "    </tr>\n",
       "    <tr>\n",
       "      <th>0</th>\n",
       "      <td>qread_colbert_msmarco_over_50</td>\n",
       "      <td>0.248804</td>\n",
       "      <td>0.477628</td>\n",
       "      <td>0.559790</td>\n",
       "    </tr>\n",
       "  </tbody>\n",
       "</table>\n",
       "</div>"
      ],
      "text/plain": [
       "                            name       map     bpref  ndcg_cut_10\n",
       "0  qrels_colbert_msmarco_over_50  0.219678  0.424791     0.483103\n",
       "0  qcred_colbert_msmarco_over_50  0.306242  0.646405     0.446899\n",
       "0  qread_colbert_msmarco_over_50  0.248804  0.477628     0.559790"
      ]
     },
     "execution_count": 16,
     "metadata": {},
     "output_type": "execute_result"
    }
   ],
   "source": [
    "results"
   ]
  },
  {
   "cell_type": "code",
   "execution_count": 17,
   "metadata": {},
   "outputs": [
    {
     "ename": "NameError",
     "evalue": "name 'chat_gpt_results' is not defined",
     "output_type": "error",
     "traceback": [
      "\u001b[0;31m---------------------------------------------------------------------------\u001b[0m",
      "\u001b[0;31mNameError\u001b[0m                                 Traceback (most recent call last)",
      "Cell \u001b[0;32mIn[17], line 8\u001b[0m\n\u001b[1;32m      6\u001b[0m out_df \u001b[39m=\u001b[39m []\n\u001b[1;32m      7\u001b[0m \u001b[39mfor\u001b[39;00m idx, row \u001b[39min\u001b[39;00m topics\u001b[39m.\u001b[39miterrows():\n\u001b[0;32m----> 8\u001b[0m     \u001b[39mif\u001b[39;00m \u001b[39mstr\u001b[39m(row[\u001b[39m'\u001b[39m\u001b[39mqid\u001b[39m\u001b[39m'\u001b[39m]) \u001b[39mnot\u001b[39;00m \u001b[39min\u001b[39;00m chat_gpt_results[\u001b[39m'\u001b[39m\u001b[39mtopic_id\u001b[39m\u001b[39m'\u001b[39m]\u001b[39m.\u001b[39mvalues:\n\u001b[1;32m      9\u001b[0m         \u001b[39mcontinue\u001b[39;00m\n\u001b[1;32m     10\u001b[0m     res \u001b[39m=\u001b[39m retrieval_model\u001b[39m.\u001b[39msearch(row[\u001b[39m\"\u001b[39m\u001b[39mquery\u001b[39m\u001b[39m\"\u001b[39m])\n",
      "\u001b[0;31mNameError\u001b[0m: name 'chat_gpt_results' is not defined"
     ]
    }
   ],
   "source": [
    "# iterate over topics and save the positions of chatgpt answers\n",
    "if use_colbert:\n",
    "    retrieval_model = dense_e2e\n",
    "else:\n",
    "    retrieval_model = pipelineQE_dph\n",
    "out_df = []\n",
    "for idx, row in topics.iterrows():\n",
    "    if str(row['qid']) not in chat_gpt_results['topic_id'].values:\n",
    "        continue\n",
    "    res = retrieval_model.search(row[\"query\"])\n",
    "    best_answer_text = get_text_from_docno(res['docno'].tolist()[0])\n",
    "    docno = 'chatgpt' + str(row['qid'])\n",
    "    if docno not in res['docno'].values:\n",
    "        out_df.append({'qid': row['qid'], 'query': row['query'], 'docno': docno, 'position': -1, 'chatgpt_answer': chat_gpt_results[chat_gpt_results['topic_id'] == str(row['qid'])]['answer'].values[0][:2000], 'best_answer': best_answer_text})\n",
    "        continue\n",
    "    position = res['docno'].tolist().index(docno)\n",
    "    out_df.append({'qid': row['qid'], 'query': row['query'], 'docno': docno, 'position': position, 'chatgpt_answer': chat_gpt_results[chat_gpt_results['topic_id'] == str(row['qid'])]['answer'].values[0][:2000], 'best_answer': best_answer_text})\n",
    "    \n",
    "out_df = pd.DataFrame(out_df)"
   ]
  },
  {
   "cell_type": "code",
   "execution_count": null,
   "metadata": {},
   "outputs": [],
   "source": [
    "if use_colbert:\n",
    "    out_file = 'answers/chatgpt-16052023-positions-colbert.csv'\n",
    "else:\n",
    "    out_file = 'answers/chatgpt-16052023-positions-IterDict.csv'\n",
    "out_df.to_csv(out_file, index=False)"
   ]
  }
 ],
 "metadata": {
  "kernelspec": {
   "display_name": "terrier",
   "language": "python",
   "name": "python3"
  },
  "language_info": {
   "codemirror_mode": {
    "name": "ipython",
    "version": 3
   },
   "file_extension": ".py",
   "mimetype": "text/x-python",
   "name": "python",
   "nbconvert_exporter": "python",
   "pygments_lexer": "ipython3",
   "version": "3.8.16"
  },
  "orig_nbformat": 4
 },
 "nbformat": 4,
 "nbformat_minor": 2
}
