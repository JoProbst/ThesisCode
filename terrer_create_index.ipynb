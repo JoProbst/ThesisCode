{
 "cells": [
  {
   "cell_type": "code",
   "execution_count": 1,
   "metadata": {},
   "outputs": [],
   "source": [
    "import os\n",
    "import shutil\n",
    "import pandas as pd\n",
    "from glob import glob\n",
    "pd.set_option('display.max_colwidth', 100)\n"
   ]
  },
  {
   "cell_type": "code",
   "execution_count": 2,
   "metadata": {},
   "outputs": [],
   "source": [
    "import faiss\n",
    "assert faiss.get_num_gpus() > 0"
   ]
  },
  {
   "cell_type": "code",
   "execution_count": 3,
   "metadata": {},
   "outputs": [
    {
     "name": "stdout",
     "output_type": "stream",
     "text": [
      "/home/jonas/miniconda3/envs/faiss\n"
     ]
    }
   ],
   "source": [
    "print(os.environ['CUDA_HOME'])"
   ]
  },
  {
   "cell_type": "code",
   "execution_count": 4,
   "metadata": {},
   "outputs": [
    {
     "name": "stderr",
     "output_type": "stream",
     "text": [
      "PyTerrier 0.9.2 has loaded Terrier 5.7 (built by craigm on 2022-11-10 18:30) and terrier-helper 0.0.7\n",
      "\n",
      "No etc/terrier.properties, using terrier.default.properties for bootstrap configuration.\n"
     ]
    }
   ],
   "source": [
    "\n",
    "import pyterrier as pt\n",
    "if not pt.started():\n",
    "    pt.init()\n"
   ]
  },
  {
   "cell_type": "code",
   "execution_count": 5,
   "metadata": {},
   "outputs": [],
   "source": [
    "docno_to_text = pd.read_csv('CHS-2021/documents/Webdoc/crawl/txt_over_50.tsv', sep='\\t')"
   ]
  },
  {
   "cell_type": "code",
   "execution_count": 6,
   "metadata": {},
   "outputs": [],
   "source": [
    "def get_text_from_docno(docno):\n",
    "    print(docno)\n",
    "    if docno_to_text[docno_to_text['docid'] == docno].empty:\n",
    "        return ''\n",
    "    return docno_to_text[docno_to_text['docid'] == docno]['text'].values[0]"
   ]
  },
  {
   "cell_type": "code",
   "execution_count": 7,
   "metadata": {},
   "outputs": [
    {
     "name": "stderr",
     "output_type": "stream",
     "text": [
      "/tmp/ipykernel_25190/2412544894.py:49: DeprecationWarning: specifying meta and meta_lengths in IterDictIndexer.index() is deprecated, use constructor instead\n",
      "  indexref = iter_indexer.index(ds_generate(use_chatgpt), meta={'docno' : 36, 'text': 2000})\n"
     ]
    }
   ],
   "source": [
    "def ds_generate(use_chatgpt=True):\n",
    "    with open('CHS-2021/documents/Webdoc/crawl/txt_over_50.tsv', 'r') as corpusfile:\n",
    "        for l in corpusfile:\n",
    "            docno, passage = l.split(\"\\t\")\n",
    "            yield {'docno' : docno, 'text' : passage}\n",
    "    if use_chatgpt:\n",
    "        for llm, results in all_llm_answers.items():\n",
    "            for idx, row in results.iterrows():\n",
    "                docno = llm + str(row['topic_id'])\n",
    "                yield {'docno' : docno, 'text' : row['answer']}\n",
    "\n",
    "use_colbert = False\n",
    "use_chatgpt = False\n",
    "\n",
    "if use_chatgpt:\n",
    "    all_llm_answers = {}\n",
    "    for file in glob('data/all_answers*.csv'):\n",
    "        chat_gpt_results_infile = file\n",
    "        print(chat_gpt_results_infile)\n",
    "        chat_gpt_results = pd.read_csv(chat_gpt_results_infile, header=None, quotechar='\"', skipinitialspace=True)\n",
    "        chat_gpt_results.columns = ['topic_id', 'query', 'answer']\n",
    "        chat_gpt_results['topic_id'] = chat_gpt_results['topic_id'].astype(str)\n",
    "        chat_gpt_results['answer'] = chat_gpt_results['answer'].str.replace('\\n', ' ').str.replace(',', ' ').str.replace('\"', '')\n",
    "        chat_gpt_results = chat_gpt_results[chat_gpt_results['answer'].notna()]\n",
    "        print(chat_gpt_results.head())\n",
    "        llm_identifier = '_'.join(file.split('_')[2:]).split('.')[0]\n",
    "        print(llm_identifier)\n",
    "        all_llm_answers[llm_identifier] = chat_gpt_results\n",
    "\n",
    "if use_colbert:\n",
    "    index_path = './colbert_index'\n",
    "    if use_chatgpt:\n",
    "        index_path += '_chatgpt'\n",
    "    if os.path.exists(index_path):  \n",
    "        shutil.rmtree(index_path)\n",
    "    from pyterrier_colbert.indexing import ColBERTIndexer\n",
    "    # checkpoint=\"http://www.dcs.gla.ac.uk/~craigm/ecir2021-tutorial/colbert_model_checkpoint.zip\"\n",
    "    checkpoint=\"./colbert_model_checkpoint/colbert.dnn\"\n",
    "\n",
    "    indexer = ColBERTIndexer(checkpoint, index_path, \"colbertindex\", chunksize=3)\n",
    "    indexref = indexer.index(ds_generate(use_chatgpt))\n",
    "else:\n",
    "    index_path = './IterDict_index_over_50'\n",
    "    if use_chatgpt:\n",
    "        index_path += '_chatgpt'\n",
    "    if os.path.exists(index_path):  \n",
    "        shutil.rmtree(index_path)\n",
    "    iter_indexer = pt.IterDictIndexer(index_path)\n",
    "    indexref = iter_indexer.index(ds_generate(use_chatgpt), meta={'docno' : 36, 'text': 2000})"
   ]
  },
  {
   "cell_type": "code",
   "execution_count": 8,
   "metadata": {},
   "outputs": [],
   "source": [
    "if use_colbert:\n",
    "    from pyterrier_colbert.ranking import ColBERTFactory\n",
    "    index=(index_path, \"colbertindex\")\n",
    "    pytcolbert = ColBERTFactory(checkpoint, *index)\n",
    "    # rename the ivfpq file\n",
    "    os.rename(index_path + '/colbertindex/ivfpq.100.faiss', index_path + '/colbertindex/ivfpq.faiss')\n",
    "    dense_e2e = pytcolbert.end_to_end()"
   ]
  },
  {
   "cell_type": "code",
   "execution_count": 9,
   "metadata": {},
   "outputs": [],
   "source": [
    "import xml.etree.ElementTree as ET\n",
    "import pandas as pd\n",
    "\n",
    "def load_topics(path, clean_queries=False):\n",
    "    with open(path) as f:\n",
    "        root = ET.fromstring(f.read())\n",
    "    topic_dict = {}\n",
    "    for topic in root.findall(\"topic\"):\n",
    "        topic_id = topic.findtext(\"id\")\n",
    "        topic_query = topic.findtext(\"query\")\n",
    "        if topic_id and topic_query:\n",
    "            topic_dict[topic_id] = topic_query.strip()\n",
    "    topics = pd.DataFrame(topic_dict.items(), columns=[\"qid\", \"query\"]) \n",
    "    if clean_queries:\n",
    "        topics[\"query\"] = topics[\"query\"].str.lower().replace(r'\\W+', ' ', regex=True)\n",
    "    return topics"
   ]
  },
  {
   "cell_type": "code",
   "execution_count": 10,
   "metadata": {},
   "outputs": [],
   "source": [
    "if use_colbert:\n",
    "    clean_queries = False\n",
    "else:\n",
    "    clean_queries = True\n",
    "topics = load_topics(\"data/topics/topics.txt\", clean_queries=clean_queries)\n",
    "qrels = pt.io.read_qrels(\"data/assessments/qrels.txt\") # type: ignore\n",
    "qcred = pt.io.read_qrels(\"data/assessments/qcredibility.txt\") # type: ignore\n",
    "qread = pt.io.read_qrels(\"data/assessments/qreadability.txt\") # type: ignore\n",
    "\n",
    "all_qs = [(\"qrels\", qrels), (\"qcred\", qcred), (\"qread\", qread)]\n",
    "\n",
    "# remove non alphanumeric characters from queries"
   ]
  },
  {
   "cell_type": "code",
   "execution_count": 11,
   "metadata": {},
   "outputs": [],
   "source": [
    "import pyterrier as pt\n",
    "\n",
    "def run_experiment(pipeline, simple_name, topics, qrels, eval_metrics=[\"map\", \"bpref\", \"ndcg_cut_10\"]):\n",
    "    experiments = []\n",
    "    for name, q in qrels:\n",
    "        # change pipeline name to include the name of the query\n",
    "\n",
    "        exp = pt.Experiment([pipeline], topics, q, eval_metrics, names=[name + '_' + simple_name])\n",
    "        experiments.append(exp)\n",
    "    return pd.concat(experiments, axis=0)"
   ]
  },
  {
   "cell_type": "code",
   "execution_count": 12,
   "metadata": {},
   "outputs": [],
   "source": [
    "credibility_scores = pd.read_csv('data/all_passages_credibility_scores_bert.tsv', sep='\\t')"
   ]
  },
  {
   "cell_type": "code",
   "execution_count": 13,
   "metadata": {},
   "outputs": [],
   "source": [
    "#get the credibility score for a given docid\n",
    "def get_credibility_score(docid):\n",
    "    if credibility_scores[credibility_scores['docid'] == docid].empty:\n",
    "        return 0\n",
    "    return credibility_scores[credibility_scores['docid'] == docid]['credibility_score'].values[0]\n"
   ]
  },
  {
   "cell_type": "code",
   "execution_count": 14,
   "metadata": {},
   "outputs": [],
   "source": [
    "import textstat\n",
    "# rank documents with custom function that evaluates readability of the document\n",
    "def readability_score(text):\n",
    "    score = textstat.flesch_reading_ease(text)\n",
    "    print(score)\n",
    "    return score "
   ]
  },
  {
   "cell_type": "code",
   "execution_count": 15,
   "metadata": {},
   "outputs": [
    {
     "name": "stderr",
     "output_type": "stream",
     "text": [
      "/home/jonas/miniconda3/envs/faiss/lib/python3.8/site-packages/scipy/__init__.py:143: UserWarning: A NumPy version >=1.19.5 and <1.27.0 is required for this version of SciPy (detected version 1.19.2)\n",
      "  warnings.warn(f\"A NumPy version >={np_minversion} and <{np_maxversion}\"\n"
     ]
    }
   ],
   "source": [
    "if use_colbert:\n",
    "    retrieval = dense_e2e\n",
    "    simple_name = 'colbert_msmarco_over_50'\n",
    "else:\n",
    "    dph = pt.BatchRetrieve(indexref, wmodel=\"DPH\", metadata=[\"docno\", \"text\"])\n",
    "    tfidf = pt.BatchRetrieve(indexref, wmodel=\"TF_IDF\", metadata=[\"docno\", \"text\"])\n",
    "    bo1 = pt.rewrite.Bo1QueryExpansion(indexref)\n",
    "    # readability_rerank = pt.apply.doc_score(lambda row: get_credibility_score(row['docid']))\n",
    "    pipelineQE_dph = tfidf >> bo1 >> tfidf # >> readability_rerank\n",
    "    simple_name = 'QE_tfidf_over_50'\n",
    "    retrieval = pipelineQE_dph\n",
    "results = run_experiment(retrieval,simple_name, topics, all_qs, [\"map\", \"bpref\", \"ndcg_cut_10\"])"
   ]
  },
  {
   "cell_type": "code",
   "execution_count": 16,
   "metadata": {},
   "outputs": [],
   "source": [
    "append_to_file = ''\n",
    "if use_chatgpt:\n",
    "    append_to_file = '_chatgpt'\n",
    "else:\n",
    "    append_to_file = '_without_chatgpt'\n",
    "\n",
    "results.to_csv('data/results/results_' + simple_name + append_to_file + '_clean_queries.csv', index=False)"
   ]
  },
  {
   "cell_type": "code",
   "execution_count": 17,
   "metadata": {},
   "outputs": [
    {
     "data": {
      "text/html": [
       "<div>\n",
       "<style scoped>\n",
       "    .dataframe tbody tr th:only-of-type {\n",
       "        vertical-align: middle;\n",
       "    }\n",
       "\n",
       "    .dataframe tbody tr th {\n",
       "        vertical-align: top;\n",
       "    }\n",
       "\n",
       "    .dataframe thead th {\n",
       "        text-align: right;\n",
       "    }\n",
       "</style>\n",
       "<table border=\"1\" class=\"dataframe\">\n",
       "  <thead>\n",
       "    <tr style=\"text-align: right;\">\n",
       "      <th></th>\n",
       "      <th>name</th>\n",
       "      <th>map</th>\n",
       "      <th>bpref</th>\n",
       "      <th>ndcg_cut_10</th>\n",
       "    </tr>\n",
       "  </thead>\n",
       "  <tbody>\n",
       "    <tr>\n",
       "      <th>0</th>\n",
       "      <td>qrels_QE_tfidf_over_50</td>\n",
       "      <td>0.328905</td>\n",
       "      <td>0.430822</td>\n",
       "      <td>0.528759</td>\n",
       "    </tr>\n",
       "    <tr>\n",
       "      <th>0</th>\n",
       "      <td>qcred_QE_tfidf_over_50</td>\n",
       "      <td>0.492266</td>\n",
       "      <td>0.676894</td>\n",
       "      <td>0.605469</td>\n",
       "    </tr>\n",
       "    <tr>\n",
       "      <th>0</th>\n",
       "      <td>qread_QE_tfidf_over_50</td>\n",
       "      <td>0.394445</td>\n",
       "      <td>0.452956</td>\n",
       "      <td>0.691979</td>\n",
       "    </tr>\n",
       "  </tbody>\n",
       "</table>\n",
       "</div>"
      ],
      "text/plain": [
       "                     name       map     bpref  ndcg_cut_10\n",
       "0  qrels_QE_tfidf_over_50  0.328905  0.430822     0.528759\n",
       "0  qcred_QE_tfidf_over_50  0.492266  0.676894     0.605469\n",
       "0  qread_QE_tfidf_over_50  0.394445  0.452956     0.691979"
      ]
     },
     "execution_count": 17,
     "metadata": {},
     "output_type": "execute_result"
    }
   ],
   "source": [
    "results"
   ]
  },
  {
   "cell_type": "code",
   "execution_count": null,
   "metadata": {},
   "outputs": [],
   "source": []
  },
  {
   "cell_type": "code",
   "execution_count": 18,
   "metadata": {},
   "outputs": [
    {
     "ename": "NameError",
     "evalue": "name 'all_llm_answers' is not defined",
     "output_type": "error",
     "traceback": [
      "\u001b[0;31m---------------------------------------------------------------------------\u001b[0m",
      "\u001b[0;31mNameError\u001b[0m                                 Traceback (most recent call last)",
      "Cell \u001b[0;32mIn[18], line 8\u001b[0m\n\u001b[1;32m      6\u001b[0m out_df \u001b[39m=\u001b[39m []\n\u001b[1;32m      7\u001b[0m \u001b[39mfor\u001b[39;00m idx, row \u001b[39min\u001b[39;00m topics\u001b[39m.\u001b[39miterrows():\n\u001b[0;32m----> 8\u001b[0m     \u001b[39mfor\u001b[39;00m llm, chat_gpt_results \u001b[39min\u001b[39;00m all_llm_answers\u001b[39m.\u001b[39mitems():\n\u001b[1;32m      9\u001b[0m         \u001b[39mif\u001b[39;00m \u001b[39mstr\u001b[39m(row[\u001b[39m'\u001b[39m\u001b[39mqid\u001b[39m\u001b[39m'\u001b[39m]) \u001b[39mnot\u001b[39;00m \u001b[39min\u001b[39;00m chat_gpt_results[\u001b[39m'\u001b[39m\u001b[39mtopic_id\u001b[39m\u001b[39m'\u001b[39m]\u001b[39m.\u001b[39mvalues:\n\u001b[1;32m     10\u001b[0m             \u001b[39mcontinue\u001b[39;00m\n",
      "\u001b[0;31mNameError\u001b[0m: name 'all_llm_answers' is not defined"
     ]
    }
   ],
   "source": [
    "# iterate over topics and save the positions of chatgpt answers\n",
    "if use_colbert:\n",
    "    retrieval_model = dense_e2e\n",
    "else:\n",
    "    retrieval_model = pipelineQE_dph\n",
    "out_df = []\n",
    "for idx, row in topics.iterrows():\n",
    "    for llm, chat_gpt_results in all_llm_answers.items():\n",
    "        if str(row['qid']) not in chat_gpt_results['topic_id'].values:\n",
    "            continue\n",
    "        res = retrieval_model.search(row[\"query\"])\n",
    "        best_answer_text = get_text_from_docno(res['docno'].tolist()[0])\n",
    "        docno = llm + str(row['qid'])\n",
    "        if docno not in res['docno'].values:\n",
    "            out_df.append({'qid': row['qid'], 'query': row['query'], 'llm': llm, 'docno': docno, 'position': -1, 'chatgpt_answer': chat_gpt_results[chat_gpt_results['topic_id'] == str(row['qid'])]['answer'].values[0][:2000], 'best_answer_if_not_llm': best_answer_text})\n",
    "            continue\n",
    "        position = res['docno'].tolist().index(docno)\n",
    "        out_df.append({'qid': row['qid'], 'query': row['query'], 'llm': llm, 'docno': docno, 'position': position, 'chatgpt_answer': chat_gpt_results[chat_gpt_results['topic_id'] == str(row['qid'])]['answer'].values[0][:2000], 'best_answer_if_not_llm': best_answer_text})\n",
    "    \n",
    "out_df = pd.DataFrame(out_df)"
   ]
  },
  {
   "cell_type": "code",
   "execution_count": null,
   "metadata": {},
   "outputs": [],
   "source": [
    "from datetime import datetime\n",
    "date = datetime.now().strftime(\"%d%m%Y\")\n",
    "if use_colbert:\n",
    "    out_file = f'data/chatgpt-{date}-positions-{simple_name}.csv'\n",
    "else:\n",
    "    out_file = f'data/chatgpt-{date}-positions-{simple_name}.csv'\n",
    "out_df.to_csv(out_file, index=False)"
   ]
  },
  {
   "cell_type": "code",
   "execution_count": null,
   "metadata": {},
   "outputs": [
    {
     "data": {
      "text/html": [
       "<div>\n",
       "<style scoped>\n",
       "    .dataframe tbody tr th:only-of-type {\n",
       "        vertical-align: middle;\n",
       "    }\n",
       "\n",
       "    .dataframe tbody tr th {\n",
       "        vertical-align: top;\n",
       "    }\n",
       "\n",
       "    .dataframe thead th {\n",
       "        text-align: right;\n",
       "    }\n",
       "</style>\n",
       "<table border=\"1\" class=\"dataframe\">\n",
       "  <thead>\n",
       "    <tr style=\"text-align: right;\">\n",
       "      <th></th>\n",
       "      <th>qid</th>\n",
       "      <th>query</th>\n",
       "      <th>llm</th>\n",
       "      <th>docno</th>\n",
       "      <th>position</th>\n",
       "      <th>chatgpt_answer</th>\n",
       "      <th>best_answer_if_not_llm</th>\n",
       "    </tr>\n",
       "  </thead>\n",
       "  <tbody>\n",
       "    <tr>\n",
       "      <th>0</th>\n",
       "      <td>1</td>\n",
       "      <td>what are the most common chronic diseases what effects do chronic diseases have for the society ...</td>\n",
       "      <td>Falcon-7b-instruct_long</td>\n",
       "      <td>Falcon-7b-instruct_long1</td>\n",
       "      <td>35</td>\n",
       "      <td>Diabetes  heart disease  cancer  and Alzheimer's disease are some of the most common chronic di...</td>\n",
       "      <td></td>\n",
       "    </tr>\n",
       "    <tr>\n",
       "      <th>1</th>\n",
       "      <td>1</td>\n",
       "      <td>what are the most common chronic diseases what effects do chronic diseases have for the society ...</td>\n",
       "      <td>OA_SFT_Llama_30B_7_clean_queries</td>\n",
       "      <td>OA_SFT_Llama_30B_7_clean_queries1</td>\n",
       "      <td>0</td>\n",
       "      <td>Chronic diseases  also known as non-communicable diseases (NCDs)  are long-lasting conditions th...</td>\n",
       "      <td></td>\n",
       "    </tr>\n",
       "    <tr>\n",
       "      <th>2</th>\n",
       "      <td>1</td>\n",
       "      <td>what are the most common chronic diseases what effects do chronic diseases have for the society ...</td>\n",
       "      <td>falcon40b_prompt</td>\n",
       "      <td>falcon40b_prompt1</td>\n",
       "      <td>161</td>\n",
       "      <td>Some of the most common chronic diseases include heart disease  cancer  diabetes  and chronic r...</td>\n",
       "      <td></td>\n",
       "    </tr>\n",
       "    <tr>\n",
       "      <th>3</th>\n",
       "      <td>1</td>\n",
       "      <td>what are the most common chronic diseases what effects do chronic diseases have for the society ...</td>\n",
       "      <td>falcon7b_prompt</td>\n",
       "      <td>falcon7b_prompt1</td>\n",
       "      <td>10</td>\n",
       "      <td>The most common chronic diseases are heart disease  diabetes  stroke  cancer  and respiratory d...</td>\n",
       "      <td></td>\n",
       "    </tr>\n",
       "    <tr>\n",
       "      <th>4</th>\n",
       "      <td>1</td>\n",
       "      <td>what are the most common chronic diseases what effects do chronic diseases have for the society ...</td>\n",
       "      <td>falcon40b_instruct</td>\n",
       "      <td>falcon40b_instruct1</td>\n",
       "      <td>57</td>\n",
       "      <td>Chronic diseases are long-term illnesses that require ongoing medical attention and management. ...</td>\n",
       "      <td></td>\n",
       "    </tr>\n",
       "    <tr>\n",
       "      <th>...</th>\n",
       "      <td>...</td>\n",
       "      <td>...</td>\n",
       "      <td>...</td>\n",
       "      <td>...</td>\n",
       "      <td>...</td>\n",
       "      <td>...</td>\n",
       "      <td>...</td>\n",
       "    </tr>\n",
       "    <tr>\n",
       "      <th>485</th>\n",
       "      <td>150</td>\n",
       "      <td>fish oil supplement dosage</td>\n",
       "      <td>falcon40b_instruct</td>\n",
       "      <td>falcon40b_instruct150</td>\n",
       "      <td>40</td>\n",
       "      <td>A typical dosage of fish oil is 1-2 grams per day. However  it's important to consult with a hea...</td>\n",
       "      <td>Contact Us Additional Product(s) in Your Cart. Order By Item# Find My Order View My Cart Check O...</td>\n",
       "    </tr>\n",
       "    <tr>\n",
       "      <th>486</th>\n",
       "      <td>150</td>\n",
       "      <td>fish oil supplement dosage</td>\n",
       "      <td>open-llama-13b</td>\n",
       "      <td>open-llama-13b150</td>\n",
       "      <td>83</td>\n",
       "      <td>The answer depends on the fish oil supplement  the person taking it  his or her weight  and the ...</td>\n",
       "      <td>Contact Us Additional Product(s) in Your Cart. Order By Item# Find My Order View My Cart Check O...</td>\n",
       "    </tr>\n",
       "    <tr>\n",
       "      <th>487</th>\n",
       "      <td>150</td>\n",
       "      <td>fish oil supplement dosage</td>\n",
       "      <td>open-llama-13b_k50</td>\n",
       "      <td>open-llama-13b_k50150</td>\n",
       "      <td>24</td>\n",
       "      <td>My doctor told me that I can get enough omega-3 from a diet that contains a little fish. So  I d...</td>\n",
       "      <td>Contact Us Additional Product(s) in Your Cart. Order By Item# Find My Order View My Cart Check O...</td>\n",
       "    </tr>\n",
       "    <tr>\n",
       "      <th>488</th>\n",
       "      <td>150</td>\n",
       "      <td>fish oil supplement dosage</td>\n",
       "      <td>chatgpt_clean_queries</td>\n",
       "      <td>chatgpt_clean_queries150</td>\n",
       "      <td>2</td>\n",
       "      <td>The dosage of fish oil supplements can vary depending on the specific product and the intended u...</td>\n",
       "      <td>Contact Us Additional Product(s) in Your Cart. Order By Item# Find My Order View My Cart Check O...</td>\n",
       "    </tr>\n",
       "    <tr>\n",
       "      <th>489</th>\n",
       "      <td>150</td>\n",
       "      <td>fish oil supplement dosage</td>\n",
       "      <td>chatgpt</td>\n",
       "      <td>chatgpt150</td>\n",
       "      <td>30</td>\n",
       "      <td>The recommended dosage of fish oil supplements depends on the individual and their health needs....</td>\n",
       "      <td>Contact Us Additional Product(s) in Your Cart. Order By Item# Find My Order View My Cart Check O...</td>\n",
       "    </tr>\n",
       "  </tbody>\n",
       "</table>\n",
       "<p>490 rows × 7 columns</p>\n",
       "</div>"
      ],
      "text/plain": [
       "     qid  \\\n",
       "0      1   \n",
       "1      1   \n",
       "2      1   \n",
       "3      1   \n",
       "4      1   \n",
       "..   ...   \n",
       "485  150   \n",
       "486  150   \n",
       "487  150   \n",
       "488  150   \n",
       "489  150   \n",
       "\n",
       "                                                                                                   query  \\\n",
       "0    what are the most common chronic diseases what effects do chronic diseases have for the society ...   \n",
       "1    what are the most common chronic diseases what effects do chronic diseases have for the society ...   \n",
       "2    what are the most common chronic diseases what effects do chronic diseases have for the society ...   \n",
       "3    what are the most common chronic diseases what effects do chronic diseases have for the society ...   \n",
       "4    what are the most common chronic diseases what effects do chronic diseases have for the society ...   \n",
       "..                                                                                                   ...   \n",
       "485                                                                           fish oil supplement dosage   \n",
       "486                                                                           fish oil supplement dosage   \n",
       "487                                                                           fish oil supplement dosage   \n",
       "488                                                                           fish oil supplement dosage   \n",
       "489                                                                           fish oil supplement dosage   \n",
       "\n",
       "                                  llm                              docno  \\\n",
       "0             Falcon-7b-instruct_long           Falcon-7b-instruct_long1   \n",
       "1    OA_SFT_Llama_30B_7_clean_queries  OA_SFT_Llama_30B_7_clean_queries1   \n",
       "2                    falcon40b_prompt                  falcon40b_prompt1   \n",
       "3                     falcon7b_prompt                   falcon7b_prompt1   \n",
       "4                  falcon40b_instruct                falcon40b_instruct1   \n",
       "..                                ...                                ...   \n",
       "485                falcon40b_instruct              falcon40b_instruct150   \n",
       "486                    open-llama-13b                  open-llama-13b150   \n",
       "487                open-llama-13b_k50              open-llama-13b_k50150   \n",
       "488             chatgpt_clean_queries           chatgpt_clean_queries150   \n",
       "489                           chatgpt                         chatgpt150   \n",
       "\n",
       "     position  \\\n",
       "0          35   \n",
       "1           0   \n",
       "2         161   \n",
       "3          10   \n",
       "4          57   \n",
       "..        ...   \n",
       "485        40   \n",
       "486        83   \n",
       "487        24   \n",
       "488         2   \n",
       "489        30   \n",
       "\n",
       "                                                                                          chatgpt_answer  \\\n",
       "0     Diabetes  heart disease  cancer  and Alzheimer's disease are some of the most common chronic di...   \n",
       "1    Chronic diseases  also known as non-communicable diseases (NCDs)  are long-lasting conditions th...   \n",
       "2     Some of the most common chronic diseases include heart disease  cancer  diabetes  and chronic r...   \n",
       "3     The most common chronic diseases are heart disease  diabetes  stroke  cancer  and respiratory d...   \n",
       "4    Chronic diseases are long-term illnesses that require ongoing medical attention and management. ...   \n",
       "..                                                                                                   ...   \n",
       "485  A typical dosage of fish oil is 1-2 grams per day. However  it's important to consult with a hea...   \n",
       "486  The answer depends on the fish oil supplement  the person taking it  his or her weight  and the ...   \n",
       "487  My doctor told me that I can get enough omega-3 from a diet that contains a little fish. So  I d...   \n",
       "488  The dosage of fish oil supplements can vary depending on the specific product and the intended u...   \n",
       "489  The recommended dosage of fish oil supplements depends on the individual and their health needs....   \n",
       "\n",
       "                                                                                  best_answer_if_not_llm  \n",
       "0                                                                                                         \n",
       "1                                                                                                         \n",
       "2                                                                                                         \n",
       "3                                                                                                         \n",
       "4                                                                                                         \n",
       "..                                                                                                   ...  \n",
       "485  Contact Us Additional Product(s) in Your Cart. Order By Item# Find My Order View My Cart Check O...  \n",
       "486  Contact Us Additional Product(s) in Your Cart. Order By Item# Find My Order View My Cart Check O...  \n",
       "487  Contact Us Additional Product(s) in Your Cart. Order By Item# Find My Order View My Cart Check O...  \n",
       "488  Contact Us Additional Product(s) in Your Cart. Order By Item# Find My Order View My Cart Check O...  \n",
       "489  Contact Us Additional Product(s) in Your Cart. Order By Item# Find My Order View My Cart Check O...  \n",
       "\n",
       "[490 rows x 7 columns]"
      ]
     },
     "execution_count": 20,
     "metadata": {},
     "output_type": "execute_result"
    }
   ],
   "source": [
    "out_df"
   ]
  }
 ],
 "metadata": {
  "kernelspec": {
   "display_name": "terrier",
   "language": "python",
   "name": "python3"
  },
  "language_info": {
   "codemirror_mode": {
    "name": "ipython",
    "version": 3
   },
   "file_extension": ".py",
   "mimetype": "text/x-python",
   "name": "python",
   "nbconvert_exporter": "python",
   "pygments_lexer": "ipython3",
   "version": "3.8.16"
  },
  "orig_nbformat": 4
 },
 "nbformat": 4,
 "nbformat_minor": 2
}
