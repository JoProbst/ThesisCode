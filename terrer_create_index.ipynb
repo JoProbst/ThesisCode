{
 "cells": [
  {
   "cell_type": "code",
   "execution_count": 2,
   "metadata": {},
   "outputs": [],
   "source": [
    "import os\n",
    "import shutil\n",
    "import pandas as pd\n",
    "pd.set_option('display.max_colwidth', 100)\n"
   ]
  },
  {
   "cell_type": "code",
   "execution_count": 3,
   "metadata": {},
   "outputs": [],
   "source": [
    "import faiss\n",
    "assert faiss.get_num_gpus() > 0"
   ]
  },
  {
   "cell_type": "code",
   "execution_count": 4,
   "metadata": {},
   "outputs": [],
   "source": [
    "# load topics from topics.txt with format\n",
    "# <topics>\n",
    "# \t<topic>\n",
    "# \t\t<id>1</id>\n",
    "# \t\t<query> What are the most common chronic diseases? What effects do chronic diseases have for the society and the individual?\n",
    "# \t\t</query>\n",
    "# \t</topic>\n",
    "# \t<topic>\n",
    "# \t\t<id>8</id>\n",
    "# \t\t<query> best apps daily activity exercise diabetes\n",
    "# \t\t</query>\n",
    "# \t</topic>\n",
    "# \t<topic>\n",
    "# \t\t<id>22</id>\n",
    "# \t\t<query> my risk for developing type 2 diabetes\n",
    "# \t\t</query>\n",
    "# \t</topic>\n",
    "# </topics>\n",
    "\n",
    "file_path = 'data/topics/topics.txt'\n",
    "\n",
    "with open(file_path, 'r') as f:\n",
    "    topics = f.read()\n",
    "\n",
    "topics = topics.split('<topic>')\n",
    "topics = topics[1:]\n",
    "\n",
    "topic_dict = {}\n",
    "for topic in topics:\n",
    "    topic_id = topic.split('<id>')[1].split('</id>')[0]\n",
    "    topic_query = topic.split('<query>')[1].split('</query>')[0]\n",
    "    topic_dict[topic_id] = topic_query"
   ]
  },
  {
   "cell_type": "code",
   "execution_count": 5,
   "metadata": {},
   "outputs": [
    {
     "name": "stderr",
     "output_type": "stream",
     "text": [
      "PyTerrier 0.9.2 has loaded Terrier 5.7 (built by craigm on 2022-11-10 18:30) and terrier-helper 0.0.7\n",
      "\n",
      "No etc/terrier.properties, using terrier.default.properties for bootstrap configuration.\n"
     ]
    }
   ],
   "source": [
    "\n",
    "import pyterrier as pt\n",
    "if not pt.started():\n",
    "    pt.init()\n"
   ]
  },
  {
   "cell_type": "code",
   "execution_count": 6,
   "metadata": {},
   "outputs": [],
   "source": [
    "docno_to_text = pd.read_csv('CHS-2021/documents/Webdoc/crawl/txt.tsv', sep='\\t')"
   ]
  },
  {
   "cell_type": "code",
   "execution_count": 7,
   "metadata": {},
   "outputs": [],
   "source": [
    "def get_text_from_docno(docno):\n",
    "    print(docno)\n",
    "    if docno_to_text[docno_to_text['docid'] == docno].empty:\n",
    "        return ''\n",
    "    return docno_to_text[docno_to_text['docid'] == docno]['text'].values[0]"
   ]
  },
  {
   "cell_type": "code",
   "execution_count": 8,
   "metadata": {},
   "outputs": [
    {
     "name": "stderr",
     "output_type": "stream",
     "text": [
      "/tmp/ipykernel_14079/4154116688.py:41: DeprecationWarning: specifying meta and meta_lengths in IterDictIndexer.index() is deprecated, use constructor instead\n",
      "  indexref = iter_indexer.index(ds_generate(use_chatgpt), meta={'docno' : 36, 'text': 2000})\n"
     ]
    }
   ],
   "source": [
    "def ds_generate(use_chatgpt=True):\n",
    "    with open('CHS-2021/documents/Webdoc/crawl/txt.tsv', 'r') as corpusfile:\n",
    "        for l in corpusfile:\n",
    "            docno, passage = l.split(\"\\t\")\n",
    "            yield {'docno' : docno, 'text' : passage}\n",
    "    if use_chatgpt:\n",
    "        for idx, row in chat_gpt_results.iterrows():\n",
    "            docno = 'chatgpt' + str(row['topic_id'])\n",
    "            yield {'docno' : docno, 'text' : row['answer']}\n",
    "\n",
    "use_colbert = False\n",
    "use_chatgpt = False\n",
    "\n",
    "if use_chatgpt:\n",
    "    chat_gpt_results_infile = 'answers/chatgpt-16052023.csv'\n",
    "    chat_gpt_results = pd.read_csv(chat_gpt_results_infile, header=None)\n",
    "    chat_gpt_results.columns = ['topic_id', 'query', 'answer']\n",
    "    chat_gpt_results['topic_id'] = chat_gpt_results['topic_id'].astype(str)\n",
    "    chat_gpt_results['answer'] = chat_gpt_results['answer'].str.replace('\\n', ' ').str.replace(',', ' ').str.replace('\"', '')\n",
    "    chat_gpt_results = chat_gpt_results[chat_gpt_results['answer'].notna()]\n",
    "\n",
    "if use_colbert:\n",
    "    index_path = './colbert_index'\n",
    "    if use_chatgpt:\n",
    "        index_path += '_chatgpt'\n",
    "    if os.path.exists(index_path):  \n",
    "        shutil.rmtree(index_path)\n",
    "    from pyterrier_colbert.indexing import ColBERTIndexer\n",
    "    # checkpoint=\"http://www.dcs.gla.ac.uk/~craigm/ecir2021-tutorial/colbert_model_checkpoint.zip\"\n",
    "    checkpoint=\"./colbertv2.0/pytorch_model.bin\"\n",
    "\n",
    "    indexer = ColBERTIndexer(checkpoint, index_path, \"colbertindex\", chunksize=3)\n",
    "    indexref = indexer.index(ds_generate(use_chatgpt))\n",
    "else:\n",
    "    index_path = './IterDict_index'\n",
    "    if use_chatgpt:\n",
    "        index_path += '_chatgpt'\n",
    "    if os.path.exists(index_path):  \n",
    "        shutil.rmtree(index_path)\n",
    "    iter_indexer = pt.IterDictIndexer(index_path)\n",
    "    indexref = iter_indexer.index(ds_generate(use_chatgpt), meta={'docno' : 36, 'text': 2000})"
   ]
  },
  {
   "cell_type": "code",
   "execution_count": 9,
   "metadata": {},
   "outputs": [],
   "source": [
    "if use_colbert:\n",
    "    from pyterrier_colbert.ranking import ColBERTFactory\n",
    "    index=(index_path, \"colbertindex\")\n",
    "    pytcolbert = ColBERTFactory(checkpoint, *index)\n",
    "    # rename the ivfpq file\n",
    "    os.rename(index_path + '/colbertindex/ivfpq.100.faiss', index_path + '/colbertindex/ivfpq.faiss')\n",
    "    dense_e2e = pytcolbert.end_to_end()"
   ]
  },
  {
   "cell_type": "code",
   "execution_count": 10,
   "metadata": {},
   "outputs": [],
   "source": [
    "import xml.etree.ElementTree as ET\n",
    "import pandas as pd\n",
    "\n",
    "def load_topics(path):\n",
    "    with open(path) as f:\n",
    "        root = ET.fromstring(f.read())\n",
    "    topic_dict = {}\n",
    "    for topic in root.findall(\"topic\"):\n",
    "        topic_id = topic.findtext(\"id\")\n",
    "        topic_query = topic.findtext(\"query\")\n",
    "        if topic_id and topic_query:\n",
    "            topic_dict[topic_id] = topic_query.strip().lower()\n",
    "    topics = pd.DataFrame(topic_dict.items(), columns=[\"qid\", \"query\"]) \n",
    "    topics[\"query\"] = topics[\"query\"].str.replace(r'\\W+', ' ', regex=True)\n",
    "    return topics"
   ]
  },
  {
   "cell_type": "code",
   "execution_count": 11,
   "metadata": {},
   "outputs": [],
   "source": [
    "\n",
    "topics = load_topics(\"data/topics/topics.txt\")\n",
    "qrels = pt.io.read_qrels(\"data/assessments/qrels.txt\") # type: ignore\n",
    "qcred = pt.io.read_qrels(\"data/assessments/qcredibility.txt\") # type: ignore\n",
    "qread = pt.io.read_qrels(\"data/assessments/qreadability.txt\") # type: ignore\n",
    "\n",
    "all_qs = [(\"qrels\", qrels), (\"qcred\", qcred), (\"qread\", qread)]\n",
    "\n",
    "# remove non alphanumeric characters from queries"
   ]
  },
  {
   "cell_type": "code",
   "execution_count": 12,
   "metadata": {},
   "outputs": [],
   "source": [
    "import pyterrier as pt\n",
    "\n",
    "def run_experiment(pipeline, simple_name, topics, qrels, eval_metrics=[\"map\", \"bpref\", \"ndcg_cut_10\"]):\n",
    "    experiments = []\n",
    "    for name, q in qrels:\n",
    "        # change pipeline name to include the name of the query\n",
    "\n",
    "        exp = pt.Experiment([pipeline], topics, q, eval_metrics, names=[name + '_' + simple_name])\n",
    "        experiments.append(exp)\n",
    "    return pd.concat(experiments, axis=0)"
   ]
  },
  {
   "cell_type": "code",
   "execution_count": 13,
   "metadata": {},
   "outputs": [],
   "source": [
    "credibility_scores = pd.read_csv('data/all_passages_credibility_scores_bert.tsv', sep='\\t')"
   ]
  },
  {
   "cell_type": "code",
   "execution_count": 18,
   "metadata": {},
   "outputs": [
    {
     "data": {
      "text/html": [
       "<div>\n",
       "<style scoped>\n",
       "    .dataframe tbody tr th:only-of-type {\n",
       "        vertical-align: middle;\n",
       "    }\n",
       "\n",
       "    .dataframe tbody tr th {\n",
       "        vertical-align: top;\n",
       "    }\n",
       "\n",
       "    .dataframe thead th {\n",
       "        text-align: right;\n",
       "    }\n",
       "</style>\n",
       "<table border=\"1\" class=\"dataframe\">\n",
       "  <thead>\n",
       "    <tr style=\"text-align: right;\">\n",
       "      <th></th>\n",
       "      <th>docid</th>\n",
       "      <th>credibility_score_bert</th>\n",
       "    </tr>\n",
       "  </thead>\n",
       "  <tbody>\n",
       "    <tr>\n",
       "      <th>0</th>\n",
       "      <td>44f906a1-f818-4d48-a3fb-1673ebdeff13</td>\n",
       "      <td>0.004992</td>\n",
       "    </tr>\n",
       "    <tr>\n",
       "      <th>1</th>\n",
       "      <td>334ed241-6337-41ce-884c-2755648e14ea</td>\n",
       "      <td>0.004397</td>\n",
       "    </tr>\n",
       "    <tr>\n",
       "      <th>2</th>\n",
       "      <td>391b9de2-26dc-4187-b7ea-461153352e12</td>\n",
       "      <td>0.007133</td>\n",
       "    </tr>\n",
       "    <tr>\n",
       "      <th>3</th>\n",
       "      <td>461b6eb2-2b79-4fec-bf6b-63e302a093d9</td>\n",
       "      <td>0.007133</td>\n",
       "    </tr>\n",
       "    <tr>\n",
       "      <th>4</th>\n",
       "      <td>4e151d9e-a3fc-4e21-b5db-7b8ad4ea9d23</td>\n",
       "      <td>0.004555</td>\n",
       "    </tr>\n",
       "  </tbody>\n",
       "</table>\n",
       "</div>"
      ],
      "text/plain": [
       "                                  docid  credibility_score_bert\n",
       "0  44f906a1-f818-4d48-a3fb-1673ebdeff13                0.004992\n",
       "1  334ed241-6337-41ce-884c-2755648e14ea                0.004397\n",
       "2  391b9de2-26dc-4187-b7ea-461153352e12                0.007133\n",
       "3  461b6eb2-2b79-4fec-bf6b-63e302a093d9                0.007133\n",
       "4  4e151d9e-a3fc-4e21-b5db-7b8ad4ea9d23                0.004555"
      ]
     },
     "execution_count": 18,
     "metadata": {},
     "output_type": "execute_result"
    }
   ],
   "source": [
    "credibility_scores.head()"
   ]
  },
  {
   "cell_type": "code",
   "execution_count": 19,
   "metadata": {},
   "outputs": [],
   "source": [
    "#get the credibility score for a given docid\n",
    "def get_credibility_score(docid):\n",
    "    if credibility_scores[credibility_scores['docid'] == docid].empty:\n",
    "        return 0\n",
    "    return credibility_scores[credibility_scores['docid'] == docid]['credibility_score'].values[0]\n"
   ]
  },
  {
   "cell_type": "code",
   "execution_count": 52,
   "metadata": {},
   "outputs": [],
   "source": [
    "import textstat\n",
    "# rank documents with custom function that evaluates readability of the document\n",
    "def readability_score(text):\n",
    "    score = textstat.flesch_reading_ease(text)\n",
    "    print(score)\n",
    "    return score "
   ]
  },
  {
   "cell_type": "code",
   "execution_count": 20,
   "metadata": {},
   "outputs": [],
   "source": [
    "if use_colbert:\n",
    "    retrieval = dense_e2e\n",
    "    simple_name = 'colbert_msmarco'\n",
    "else:\n",
    "    dph = pt.BatchRetrieve(indexref, wmodel=\"DPH\", metadata=[\"docno\", \"text\"])\n",
    "    # tfidf = pt.BatchRetrieve(indexref, wmodel=\"TF_IDF\", metadata=[\"docno\", \"text\"])\n",
    "    bo1 = pt.rewrite.Bo1QueryExpansion(indexref)\n",
    "    readability_rerank = pt.apply.doc_score(lambda row: get_credibility_score(row['docid']))\n",
    "    pipelineQE_dph = dph >> bo1 >> dph >> readability_rerank\n",
    "    simple_name = 'QE_dph_credibility'\n",
    "    retrieval = pipelineQE_dph\n",
    "results = run_experiment(retrieval,simple_name, topics, all_qs, [\"map\", \"bpref\", \"ndcg_cut_10\"])"
   ]
  },
  {
   "cell_type": "code",
   "execution_count": 50,
   "metadata": {},
   "outputs": [],
   "source": [
    "append_to_file = ''\n",
    "if use_chatgpt:\n",
    "    append_to_file = '_chatgpt'\n",
    "else:\n",
    "    append_to_file = '_without_chatgpt'\n",
    "\n",
    "results.to_csv('data/results/results_' + simple_name + append_to_file + '_credibility_bert.csv', index=False)"
   ]
  },
  {
   "cell_type": "code",
   "execution_count": 51,
   "metadata": {},
   "outputs": [
    {
     "data": {
      "text/html": [
       "<div>\n",
       "<style scoped>\n",
       "    .dataframe tbody tr th:only-of-type {\n",
       "        vertical-align: middle;\n",
       "    }\n",
       "\n",
       "    .dataframe tbody tr th {\n",
       "        vertical-align: top;\n",
       "    }\n",
       "\n",
       "    .dataframe thead th {\n",
       "        text-align: right;\n",
       "    }\n",
       "</style>\n",
       "<table border=\"1\" class=\"dataframe\">\n",
       "  <thead>\n",
       "    <tr style=\"text-align: right;\">\n",
       "      <th></th>\n",
       "      <th>name</th>\n",
       "      <th>map</th>\n",
       "      <th>bpref</th>\n",
       "      <th>ndcg_cut_10</th>\n",
       "    </tr>\n",
       "  </thead>\n",
       "  <tbody>\n",
       "    <tr>\n",
       "      <th>0</th>\n",
       "      <td>qrels_QE_dph_readability</td>\n",
       "      <td>0.234132</td>\n",
       "      <td>0.425070</td>\n",
       "      <td>0.480908</td>\n",
       "    </tr>\n",
       "    <tr>\n",
       "      <th>0</th>\n",
       "      <td>qcred_QE_dph_readability</td>\n",
       "      <td>0.328263</td>\n",
       "      <td>0.653579</td>\n",
       "      <td>0.490473</td>\n",
       "    </tr>\n",
       "    <tr>\n",
       "      <th>0</th>\n",
       "      <td>qread_QE_dph_readability</td>\n",
       "      <td>0.276747</td>\n",
       "      <td>0.479719</td>\n",
       "      <td>0.651485</td>\n",
       "    </tr>\n",
       "  </tbody>\n",
       "</table>\n",
       "</div>"
      ],
      "text/plain": [
       "                       name       map     bpref  ndcg_cut_10\n",
       "0  qrels_QE_dph_readability  0.234132  0.425070     0.480908\n",
       "0  qcred_QE_dph_readability  0.328263  0.653579     0.490473\n",
       "0  qread_QE_dph_readability  0.276747  0.479719     0.651485"
      ]
     },
     "execution_count": 51,
     "metadata": {},
     "output_type": "execute_result"
    }
   ],
   "source": [
    "results"
   ]
  },
  {
   "cell_type": "code",
   "execution_count": 14,
   "metadata": {},
   "outputs": [
    {
     "ename": "NameError",
     "evalue": "name 'chat_gpt_results' is not defined",
     "output_type": "error",
     "traceback": [
      "\u001b[0;31m---------------------------------------------------------------------------\u001b[0m",
      "\u001b[0;31mNameError\u001b[0m                                 Traceback (most recent call last)",
      "Cell \u001b[0;32mIn[14], line 8\u001b[0m\n\u001b[1;32m      6\u001b[0m out_df \u001b[39m=\u001b[39m []\n\u001b[1;32m      7\u001b[0m \u001b[39mfor\u001b[39;00m idx, row \u001b[39min\u001b[39;00m topics\u001b[39m.\u001b[39miterrows():\n\u001b[0;32m----> 8\u001b[0m     \u001b[39mif\u001b[39;00m \u001b[39mstr\u001b[39m(row[\u001b[39m'\u001b[39m\u001b[39mqid\u001b[39m\u001b[39m'\u001b[39m]) \u001b[39mnot\u001b[39;00m \u001b[39min\u001b[39;00m chat_gpt_results[\u001b[39m'\u001b[39m\u001b[39mtopic_id\u001b[39m\u001b[39m'\u001b[39m]\u001b[39m.\u001b[39mvalues:\n\u001b[1;32m      9\u001b[0m         \u001b[39mcontinue\u001b[39;00m\n\u001b[1;32m     10\u001b[0m     res \u001b[39m=\u001b[39m retrieval_model\u001b[39m.\u001b[39msearch(row[\u001b[39m\"\u001b[39m\u001b[39mquery\u001b[39m\u001b[39m\"\u001b[39m])\n",
      "\u001b[0;31mNameError\u001b[0m: name 'chat_gpt_results' is not defined"
     ]
    }
   ],
   "source": [
    "# iterate over topics and save the positions of chatgpt answers\n",
    "if use_colbert:\n",
    "    retrieval_model = dense_e2e\n",
    "else:\n",
    "    retrieval_model = pipelineQE_dph\n",
    "out_df = []\n",
    "for idx, row in topics.iterrows():\n",
    "    if str(row['qid']) not in chat_gpt_results['topic_id'].values:\n",
    "        continue\n",
    "    res = retrieval_model.search(row[\"query\"])\n",
    "    best_answer_text = get_text_from_docno(res['docno'].tolist()[0])\n",
    "    docno = 'chatgpt' + str(row['qid'])\n",
    "    if docno not in res['docno'].values:\n",
    "        out_df.append({'qid': row['qid'], 'query': row['query'], 'docno': docno, 'position': -1, 'chatgpt_answer': chat_gpt_results[chat_gpt_results['topic_id'] == str(row['qid'])]['answer'].values[0][:2000], 'best_answer': best_answer_text})\n",
    "        continue\n",
    "    position = res['docno'].tolist().index(docno)\n",
    "    out_df.append({'qid': row['qid'], 'query': row['query'], 'docno': docno, 'position': position, 'chatgpt_answer': chat_gpt_results[chat_gpt_results['topic_id'] == str(row['qid'])]['answer'].values[0][:2000], 'best_answer': best_answer_text})\n",
    "    \n",
    "out_df = pd.DataFrame(out_df)"
   ]
  },
  {
   "cell_type": "code",
   "execution_count": null,
   "metadata": {},
   "outputs": [],
   "source": [
    "if use_colbert:\n",
    "    out_file = 'answers/chatgpt-16052023-positions-colbert.csv'\n",
    "else:\n",
    "    out_file = 'answers/chatgpt-16052023-positions-IterDict.csv'\n",
    "out_df.to_csv(out_file, index=False)"
   ]
  }
 ],
 "metadata": {
  "kernelspec": {
   "display_name": "terrier",
   "language": "python",
   "name": "python3"
  },
  "language_info": {
   "codemirror_mode": {
    "name": "ipython",
    "version": 3
   },
   "file_extension": ".py",
   "mimetype": "text/x-python",
   "name": "python",
   "nbconvert_exporter": "python",
   "pygments_lexer": "ipython3",
   "version": "3.8.16"
  },
  "orig_nbformat": 4
 },
 "nbformat": 4,
 "nbformat_minor": 2
}
